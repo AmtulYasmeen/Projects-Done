{
  "nbformat": 4,
  "nbformat_minor": 0,
  "metadata": {
    "colab": {
      "name": "AV_jobathon.ipynb",
      "provenance": [],
      "collapsed_sections": [],
      "authorship_tag": "ABX9TyNMjaYXTd48x1xdHjwAtnLY",
      "include_colab_link": true
    },
    "kernelspec": {
      "name": "python3",
      "display_name": "Python 3"
    }
  },
  "cells": [
    {
      "cell_type": "markdown",
      "metadata": {
        "id": "view-in-github",
        "colab_type": "text"
      },
      "source": [
        "<a href=\"https://colab.research.google.com/github/AmtulYasmeen/Projects-Done/blob/main/AV_jobathon.ipynb\" target=\"_parent\"><img src=\"https://colab.research.google.com/assets/colab-badge.svg\" alt=\"Open In Colab\"/></a>"
      ]
    },
    {
      "cell_type": "code",
      "metadata": {
        "colab": {
          "base_uri": "https://localhost:8080/"
        },
        "id": "e27AA39JXNty",
        "outputId": "8e364615-2715-4254-9e9d-9afd2c8cfad1"
      },
      "source": [
        "pip install catboost"
      ],
      "execution_count": 1,
      "outputs": [
        {
          "output_type": "stream",
          "text": [
            "Collecting catboost\n",
            "\u001b[?25l  Downloading https://files.pythonhosted.org/packages/96/3b/bb419654adcf7efff42ed8a3f84e50c8f236424b7ed1cc8ccd290852e003/catboost-0.24.4-cp37-none-manylinux1_x86_64.whl (65.7MB)\n",
            "\u001b[K     |████████████████████████████████| 65.7MB 63kB/s \n",
            "\u001b[?25hRequirement already satisfied: graphviz in /usr/local/lib/python3.7/dist-packages (from catboost) (0.10.1)\n",
            "Requirement already satisfied: matplotlib in /usr/local/lib/python3.7/dist-packages (from catboost) (3.2.2)\n",
            "Requirement already satisfied: scipy in /usr/local/lib/python3.7/dist-packages (from catboost) (1.4.1)\n",
            "Requirement already satisfied: six in /usr/local/lib/python3.7/dist-packages (from catboost) (1.15.0)\n",
            "Requirement already satisfied: plotly in /usr/local/lib/python3.7/dist-packages (from catboost) (4.4.1)\n",
            "Requirement already satisfied: numpy>=1.16.0 in /usr/local/lib/python3.7/dist-packages (from catboost) (1.19.5)\n",
            "Requirement already satisfied: pandas>=0.24.0 in /usr/local/lib/python3.7/dist-packages (from catboost) (1.1.5)\n",
            "Requirement already satisfied: cycler>=0.10 in /usr/local/lib/python3.7/dist-packages (from matplotlib->catboost) (0.10.0)\n",
            "Requirement already satisfied: kiwisolver>=1.0.1 in /usr/local/lib/python3.7/dist-packages (from matplotlib->catboost) (1.3.1)\n",
            "Requirement already satisfied: pyparsing!=2.0.4,!=2.1.2,!=2.1.6,>=2.0.1 in /usr/local/lib/python3.7/dist-packages (from matplotlib->catboost) (2.4.7)\n",
            "Requirement already satisfied: python-dateutil>=2.1 in /usr/local/lib/python3.7/dist-packages (from matplotlib->catboost) (2.8.1)\n",
            "Requirement already satisfied: retrying>=1.3.3 in /usr/local/lib/python3.7/dist-packages (from plotly->catboost) (1.3.3)\n",
            "Requirement already satisfied: pytz>=2017.2 in /usr/local/lib/python3.7/dist-packages (from pandas>=0.24.0->catboost) (2018.9)\n",
            "Installing collected packages: catboost\n",
            "Successfully installed catboost-0.24.4\n"
          ],
          "name": "stdout"
        }
      ]
    },
    {
      "cell_type": "code",
      "metadata": {
        "id": "3QETv7U8bYm2"
      },
      "source": [
        "import pandas as pd\n",
        "import numpy as np\n",
        "import missingno as msno\n",
        "import matplotlib.pyplot as plt\n",
        "import seaborn as sns\n",
        "from xgboost import XGBClassifier\n",
        "from catboost import CatBoostClassifier\n",
        "from lightgbm import LGBMClassifier\n",
        "from sklearn.experimental import enable_hist_gradient_boosting\n",
        "from sklearn.ensemble import GradientBoostingClassifier,RandomForestClassifier,BaggingClassifier,AdaBoostClassifier,ExtraTreesClassifier,StackingClassifier, HistGradientBoostingClassifier\n",
        "from sklearn.tree import DecisionTreeClassifier\n",
        "from sklearn.linear_model import LogisticRegression\n",
        "from sklearn.metrics import f1_score,classification_report, roc_auc_score\n",
        "from sklearn.preprocessing import LabelEncoder, KBinsDiscretizer, RobustScaler\n",
        "from sklearn.model_selection import KFold,StratifiedKFold, GroupKFold,train_test_split\n",
        "import gc\n",
        "import datetime\n",
        "from tqdm.notebook import tqdm ,tnrange\n",
        "import warnings\n",
        "warnings.filterwarnings(\"ignore\")\n",
        "np.random.seed(0)\n",
        "pd.set_option('display.max_columns', 500)"
      ],
      "execution_count": 2,
      "outputs": []
    },
    {
      "cell_type": "code",
      "metadata": {
        "colab": {
          "base_uri": "https://localhost:8080/"
        },
        "id": "57cWRUa5qYLk",
        "outputId": "452b62f0-fc5a-42ea-eec9-1543767ea778"
      },
      "source": [
        "from google.colab import drive\n",
        "drive.mount('/content/gdrive')"
      ],
      "execution_count": 3,
      "outputs": [
        {
          "output_type": "stream",
          "text": [
            "Mounted at /content/gdrive\n"
          ],
          "name": "stdout"
        }
      ]
    },
    {
      "cell_type": "code",
      "metadata": {
        "id": "jQ9n1iBUyMDB"
      },
      "source": [
        "# loading train data\n",
        "df_train =pd.read_csv('/content/gdrive/My Drive/AV jobathon/train_AV.csv')\n",
        "# loading test data\n",
        "df_test =pd.read_csv('/content/gdrive/My Drive/AV jobathon/test_AV.csv')\n",
        "df_sub = pd.read_csv('/content/gdrive/My Drive/AV jobathon/sub_df.csv')"
      ],
      "execution_count": 12,
      "outputs": []
    },
    {
      "cell_type": "code",
      "metadata": {
        "id": "5h481IMpvt2l"
      },
      "source": [
        "def clean_data(df_train, df_test):\n",
        "  df_train = df_train.drop_duplicates()\n",
        "  df_train = df_train[~df_train.Region_Code.isin(list(set(df_train.Region_Code)-set(df_test.Region_Code)))]\n",
        "  df_all = pd.concat([df_train,df_test],ignore_index=True, sort=False)\n",
        "  print(\"Shape of datasets: \", df_train.shape, df_test.shape, df_all.shape)\n",
        "  df_all['holds_insurance_policy'] = np.where(df_all['Holding_Policy_Duration'].isnull(), 0,1)\n",
        "  df_all['Holding_Policy_Duration'].fillna(0,inplace=True) \n",
        "  df_all['Holding_Policy_Duration'].replace('14+',15,inplace=True) \n",
        "  df_all['Holding_Policy_Duration'] = df_all['Holding_Policy_Duration'].astype(float).astype(int)\n",
        "  df_all['Holding_Policy_Type'].fillna(0,inplace=True)\n",
        "  df_all['Health Indicator'].fillna('X0',inplace=True)\n",
        "  df_all['Age_difference'] = df_all['Upper_Age'] - df_all['Lower_Age']\n",
        "  df_all['Average_age'] = (df_all['Upper_Age'] + df_all['Lower_Age'])/2\n",
        "  return df_all\n",
        "  \n"
      ],
      "execution_count": 13,
      "outputs": []
    },
    {
      "cell_type": "code",
      "metadata": {
        "colab": {
          "base_uri": "https://localhost:8080/"
        },
        "id": "Zo-aClO594WI",
        "outputId": "d57b0e11-3ec5-41a9-c42a-9698896ce293"
      },
      "source": [
        "df_all = clean_data(df_train, df_test)"
      ],
      "execution_count": 14,
      "outputs": [
        {
          "output_type": "stream",
          "text": [
            "Shape of datasets:  (48752, 14) (21805, 13) (70557, 14)\n"
          ],
          "name": "stdout"
        }
      ]
    },
    {
      "cell_type": "code",
      "metadata": {
        "id": "ME_Vxk8QgNaV"
      },
      "source": [
        "# combining 2 features and to label encode them later\n",
        "for col in ['Health Indicator','Holding_Policy_Duration','Holding_Policy_Type',\n",
        "            'Reco_Insurance_Type','Reco_Policy_Cat','holds_insurance_policy',\n",
        "           'Accomodation_Type','Is_Spouse'\n",
        "           ]:\n",
        "    df_all['City_'+str(col)] = df_all['City_Code'].astype(str)+'_'+df_all[col].astype(str) \n",
        "    df_all['Region_'+str(col)] = df_all['Region_Code'].astype(str)+'_'+df_all[col].astype(str)\n",
        "    if col != 'Reco_Insurance_Type':\n",
        "      df_all['Reco_Insurance_Type_'+ str(col)] = df_all['Reco_Insurance_Type'].astype(str) + '_' + df_all[col].astype(str)\n",
        "    if col != 'Reco_Policy_Cat':\n",
        "      df_all['Reco_Policy_Cat_' + str(col)] = df_all['Reco_Policy_Cat'].astype(str) + '_' + df_all[col].astype(str)\n",
        "df_all['Holding_Policy_Duration_Type'] = df_all['Holding_Policy_Duration'].astype(str)+'_'+df_all['Holding_Policy_Type'].astype(str)\n",
        "\n",
        "df_all['Reco_Insurance_Type_Cat'] = df_all['Reco_Insurance_Type'].astype(str)+'_'+df_all['Reco_Policy_Cat'].astype(str)"
      ],
      "execution_count": 15,
      "outputs": []
    },
    {
      "cell_type": "code",
      "metadata": {
        "id": "kRjob-1r2IdF"
      },
      "source": [
        "# to_be_added_df = pd.DataFrame()\n",
        "# to_be_added_df['Accomodation_Type'] = df_all['Accomodation_Type']\n",
        "# to_be_added_df['Reco_Insurance_Type'] = df_all['Reco_Insurance_Type']\n",
        "# to_be_added_df['Is_Spouse'] = df_all['Is_Spouse']"
      ],
      "execution_count": 16,
      "outputs": []
    },
    {
      "cell_type": "code",
      "metadata": {
        "id": "LIgIiDSnmi3s"
      },
      "source": [
        "# removing anything other than number from city_code and health indicator and converting it into int type\n",
        "df_all['City_Code'] = df_all['City_Code'].str.replace(\"[^0-9]\",\"\")\n",
        "df_all['City_Code'] = df_all['City_Code'].astype(float).astype(int)\n",
        "\n",
        "df_all['Health Indicator'] = df_all['Health Indicator'].str.replace(\"[^0-9]\",\"\")\n",
        "df_all['Health Indicator'] = df_all['Health Indicator'].astype(float).astype(int)\n",
        "\n",
        "# creating dummy variable based on value_count of the variables\n",
        "df_all = pd.get_dummies(df_all,columns=['Accomodation_Type','Reco_Insurance_Type','Is_Spouse'])\n"
      ],
      "execution_count": 17,
      "outputs": []
    },
    {
      "cell_type": "code",
      "metadata": {
        "id": "C-O_yyM1sVqz"
      },
      "source": [
        "# label encoding the categorical variable\n",
        "le = LabelEncoder()\n",
        "for col in df_all.columns:\n",
        "    if (df_all[col].dtypes == \"object\"):\n",
        "#         df_all[col].fillna(\"not_available\", inplace = True)\n",
        "        df_all[col] = df_all[col].astype(str)\n",
        "        df_all[col] = le.fit_transform(df_all[col])\n",
        "#         df_all[col] = df_all[col].astype('category')"
      ],
      "execution_count": 18,
      "outputs": []
    },
    {
      "cell_type": "code",
      "metadata": {
        "id": "iB-BIk3gsdLn"
      },
      "source": [
        "# transforming continous variables into 8 to 10 buckets \n",
        "num_feature_list = ['Reco_Policy_Premium', 'Upper_Age' ,'Lower_Age' ,'Age_difference', 'Average_age']\n",
        "\n",
        "for feature in num_feature_list:\n",
        "  if feature != 'Reco_Policy_Premium':\n",
        "    age_discretizer = KBinsDiscretizer(n_bins=10, encode='ordinal', strategy='quantile')\n",
        "    df_all[feature + '_Bins'] = age_discretizer.fit_transform(df_all[feature].values.reshape(-1,1)).astype(int)\n",
        "  else:\n",
        "    premium_discretizer = KBinsDiscretizer(n_bins=8, encode='ordinal', strategy='quantile')\n",
        "    df_all[feature + '_Bins'] = premium_discretizer.fit_transform(df_all[feature].values.reshape(-1,1)).astype(int)\n"
      ],
      "execution_count": 19,
      "outputs": []
    },
    {
      "cell_type": "code",
      "metadata": {
        "id": "F3Kr8_0psV1E"
      },
      "source": [
        " for col in ['City_Code','Region_Code','Upper_Age','Lower_Age','Health Indicator','Holding_Policy_Duration','Holding_Policy_Type',\n",
        "           'Reco_Policy_Cat','holds_insurance_policy']:\n",
        "    \n",
        "    val_counts = df_all[col].value_counts().to_dict()\n",
        "    df_all[str(col)+\"_counts\"] = df_all[col].map(val_counts)"
      ],
      "execution_count": 20,
      "outputs": []
    },
    {
      "cell_type": "code",
      "metadata": {
        "id": "frYJNf_eHU3Y"
      },
      "source": [
        "def frequency_encoding(column_name,output_column_name,df):\n",
        "    fe_pol = (df.groupby(column_name).size()) / len(df)\n",
        "    df[output_column_name] = df[column_name].apply(lambda x : fe_pol[x])"
      ],
      "execution_count": 21,
      "outputs": []
    },
    {
      "cell_type": "code",
      "metadata": {
        "id": "SKKyi2m66Num"
      },
      "source": [
        "def agg_1_feature(df, col):\n",
        "  col_dict = {'Lower_Age': ['mean', 'max', 'min','std'],\n",
        "              'holds_insurance_policy': ['mean', 'max', 'min','std','sum'],\n",
        "              'Holding_Policy_Duration': ['mean', 'max', 'min','std','sum'],\n",
        "              'Average_age': ['mean', 'max', 'min','std','sum'],\n",
        "              'Reco_Policy_Premium': ['mean', 'max', 'min','std','sum'], \n",
        "              'City_Code' : ['nunique','count'],\n",
        "              'Region_Code': ['nunique','count'], \n",
        "              'Health Indicator': ['nunique','count'] ,\n",
        "              'Holding_Policy_Type': ['nunique','count'] ,\n",
        "              'Reco_Policy_Cat': ['nunique','count']}\n",
        "  rem_list = [col]\n",
        "  for key in rem_list:\n",
        "    col_dict.pop(key, None) \n",
        "  \n",
        "  col_name = df.groupby([col]).agg(col_dict)\n",
        "  col_name.columns = [f'{col}_' + '_'.join(c) for c in col_name.columns]\n",
        "  df = pd.merge(df, col_name, on = [col], how='left')\n",
        "  return col_name.columns"
      ],
      "execution_count": 22,
      "outputs": []
    },
    {
      "cell_type": "code",
      "metadata": {
        "id": "EBZ_O7zAzoLM"
      },
      "source": [
        "def agg_2_feature(df, col1, col2): \n",
        "  col_dict = {'Upper_Age': ['mean', 'max', 'min','std'],\n",
        "              'Lower_Age': ['mean', 'max', 'min','std'],\n",
        "              'holds_insurance_policy': ['mean', 'max', 'min','std','sum'],\n",
        "              'Holding_Policy_Duration': ['mean', 'max', 'min','std','sum'],\n",
        "              'Average_age': ['mean', 'max', 'min','std','sum'],\n",
        "              'Reco_Policy_Premium': ['mean', 'max', 'min','std','sum'], \n",
        "              'City_Code' : ['nunique','count'],\n",
        "              'Region_Code': ['nunique','count'],\n",
        "              'Health Indicator': ['nunique','count'] ,\n",
        "              'Holding_Policy_Type': ['nunique','count'] ,\n",
        "              'Reco_Policy_Cat': ['nunique','count']}\n",
        "  rem_list = [col1,col2]\n",
        "  for key in rem_list:\n",
        "    col_dict.pop(key, None) \n",
        "  # col_name = f'{col1}_{col2}_aggregate_features'\n",
        "  col_name = df.groupby([col1, col2]).agg(col_dict)\n",
        "  col_name.columns = [f'{col1}_{col2}_' + '_'.join(c) for c in col_name.columns]\n",
        "  df = pd.merge(df, col_name, on = [col1, col2], how='left')\n",
        "  return col_name.columns\n"
      ],
      "execution_count": 23,
      "outputs": []
    },
    {
      "cell_type": "code",
      "metadata": {
        "id": "OM7IJonGIdpl"
      },
      "source": [
        "def num_feature_agg(df,grpby_feature, num_feature ):\n",
        "      featured = df.groupby([grpby_feature]).agg({ num_feature : ['mean', 'max', 'min', 'std']})\n",
        "      featured.columns = [f'{grpby_feature}_{num_feature}' + '_'.join(c).strip('_') for c in featured.columns]\n",
        "      df = pd.merge(df, featured, on = [grpby_feature], how='left')"
      ],
      "execution_count": 24,
      "outputs": []
    },
    {
      "cell_type": "code",
      "metadata": {
        "id": "pmW3rSIdKugi"
      },
      "source": [
        "# agg_1_feature(df,col)  agg_2_feature(df, col1, col2) num_feature_agg(df, grpby_feature, num_feature)"
      ],
      "execution_count": 25,
      "outputs": []
    },
    {
      "cell_type": "code",
      "metadata": {
        "id": "utufX5qpqCjV"
      },
      "source": [
        "from itertools import combinations"
      ],
      "execution_count": 26,
      "outputs": []
    },
    {
      "cell_type": "code",
      "metadata": {
        "id": "OcgxGfbHJ41U"
      },
      "source": [
        "def feature_engineering(df):\n",
        "    cat_features=[]\n",
        "    \n",
        "    #Interaction Feature (Combining 2 categorical features and performing frequency encoding)\n",
        "    columns=['City_Code','Health Indicator'\n",
        "            ,'Region_Code','Holding_Policy_Type','Reco_Policy_Cat']\n",
        "  \n",
        "    comb = combinations(columns, 2) \n",
        "\n",
        "    for i in list(comb):  \n",
        "        df[f'{i[0]}_{i[1]}']=df[i[0]].astype(str)+'_'+df[i[1]].astype(str)\n",
        "        frequency_encoding(f'{i[0]}_{i[1]}',f'{i[0]}_{i[1]}',df)\n",
        "        cat_features.append(f'{i[0]}_{i[1]}')\n",
        "        frequency_encoding('City_Code','City_Code_fe',df)\n",
        "        frequency_encoding('Region_Code','Region_Code_fe',df)\n",
        "        frequency_encoding('Holding_Policy_Duration','Holding_Policy_Duration',df)\n",
        "        frequency_encoding('Holding_Policy_Type','Holding_Policy_Type_fe',df)\n",
        "        #Deriving characteristics of each city by creating aggregate features\n",
        "\n",
        "    for i in cat_features:\n",
        "      for j in ['max', 'min','mean','std']:\n",
        "        df[f'city_{i}_{j}']=df.groupby('City_Code')[i].transform(j)\n",
        "        df[f'city_region_{i}_{j}']=df.groupby(['City_Code','Region_Code'])[i].transform(j)\n",
        "        df[f'city_reco_policycat_{i}_{j}']=df.groupby(['City_Code','Reco_Policy_Cat'])[i].transform(j)\n",
        "\n",
        "    #creating aggregate features\n",
        "    col1_list = ['City_Code','Lower_Age','Lower_Age_Bins', 'Holding_Policy_Type', 'Health Indicator', 'Region_Code_Reco_Policy_Cat','City_Code_Region_Code',\n",
        "     'Holding_Policy_Type_Reco_Policy_Cat', 'City_Code_Reco_Policy_Cat']\n",
        "    for col in col1_list:\n",
        "      agg_1_feature(df,col)\n",
        "\n",
        "    col2_list = [('City_Code','Region_Code'), ('City_Code','Reco_Policy_Cat'), ('City_Code','Region_Code_Reco_Policy_Cat')]\n",
        "    for i, j in col2_list:\n",
        "      agg_2_feature(df, f'{i}', f'{j}')\n",
        "\n",
        "    for i in ['Holding_Policy_Type_Reco_Policy_Cat', 'City_Code_Reco_Policy_Cat', 'Region_Code_Reco_Policy_Cat']:\n",
        "      num_feature_agg(df, f'{i}', 'Reco_Policy_Premium')\n",
        "\n",
        "    return df,cat_features\n",
        "    \n",
        "\n",
        "\n",
        "    "
      ],
      "execution_count": 27,
      "outputs": []
    },
    {
      "cell_type": "code",
      "metadata": {
        "id": "A1pKWccyplNl"
      },
      "source": [
        "df_all, cat_features = feature_engineering(df_all)"
      ],
      "execution_count": 28,
      "outputs": []
    },
    {
      "cell_type": "code",
      "metadata": {
        "colab": {
          "base_uri": "https://localhost:8080/"
        },
        "id": "E6XcBOyPxrkF",
        "outputId": "f7217b6c-7bfd-4736-9319-65475de25033"
      },
      "source": [
        "df_all.shape"
      ],
      "execution_count": 29,
      "outputs": [
        {
          "output_type": "execute_result",
          "data": {
            "text/plain": [
              "(70557, 199)"
            ]
          },
          "metadata": {
            "tags": []
          },
          "execution_count": 29
        }
      ]
    },
    {
      "cell_type": "code",
      "metadata": {
        "colab": {
          "base_uri": "https://localhost:8080/"
        },
        "id": "lZo43O6gzgvu",
        "outputId": "ceaafa38-7bda-4578-a270-4e1a3a0376f5"
      },
      "source": [
        "train_x_full = df_all[df_all['Response'].notnull()]\n",
        "\n",
        "cols = ['City_Code', 'Region_Code',\n",
        "       'Reco_Insurance_Type', 'Upper_Age', 'Lower_Age',\n",
        "       'Health Indicator', 'Holding_Policy_Duration', 'Holding_Policy_Type',\n",
        "       'Reco_Policy_Cat', 'Reco_Policy_Premium']\n",
        "\n",
        "train_x_full = train_x_full[~train_x_full.loc[:,:].duplicated(keep = 'first')].reset_index(drop=True)\n",
        "\n",
        "test_x_full = df_all[df_all['Response'].isnull()]\n",
        "train_y_full = train_x_full['Response']\n",
        "test_id=test_x_full['ID']\n",
        "del test_x_full['Response']\n",
        "del train_x_full['Response']\n",
        "del test_x_full['ID']\n",
        "del train_x_full['ID']\n",
        "print(train_x_full.shape, train_y_full.shape, test_x_full.shape)"
      ],
      "execution_count": 30,
      "outputs": [
        {
          "output_type": "stream",
          "text": [
            "(48752, 197) (48752,) (21805, 197)\n"
          ],
          "name": "stdout"
        }
      ]
    },
    {
      "cell_type": "code",
      "metadata": {
        "id": "eGIyp9gE3b6g"
      },
      "source": [
        "for col in ['City_Code', 'Region_Code', \n",
        "               'Health Indicator', 'Holding_Policy_Type',\n",
        "               'Reco_Policy_Cat','holds_insurance_policy', \n",
        "               'City_Health Indicator', 'Region_Health Indicator',\n",
        "               'City_Holding_Policy_Type', 'Region_Holding_Policy_Type',\n",
        "               'City_Reco_Insurance_Type', 'Region_Reco_Insurance_Type',\n",
        "               'City_Reco_Policy_Cat', 'Region_Reco_Policy_Cat',\n",
        "               'City_holds_insurance_policy', 'Region_holds_insurance_policy',\n",
        "               'City_Accomodation_Type', 'Region_Accomodation_Type', 'City_Is_Spouse',\n",
        "               'Region_Is_Spouse', 'Holding_Policy_Duration_Type',\n",
        "               'Reco_Insurance_Type_Cat', 'Accomodation_Type_Rented',\n",
        "               'Reco_Insurance_Type_Joint', 'Is_Spouse_Yes',\n",
        "               'City_Holding_Policy_Duration', 'Region_Holding_Policy_Duration',\n",
        "               'Holding_Policy_Duration','Reco_Policy_Premium',\n",
        "               'Upper_Age', 'Lower_Age','Age_difference',\n",
        "               'Accomodation_Type_Rented','Reco_Insurance_Type_Joint', 'Is_Spouse_Yes'\n",
        "              ]:\n",
        "    train_x_full[col] = train_x_full[col].astype(int)\n",
        "    test_x_full[col] = test_x_full[col].astype(int)\n",
        "cat_features = ['City_Code', 'Region_Code', \n",
        "               'Health Indicator', 'Holding_Policy_Type',\n",
        "               'Reco_Policy_Cat','holds_insurance_policy', \n",
        "               'City_Health Indicator', 'Region_Health Indicator',\n",
        "               'City_Holding_Policy_Type', 'Region_Holding_Policy_Type',\n",
        "               'City_Reco_Insurance_Type', 'Region_Reco_Insurance_Type',\n",
        "               'City_Reco_Policy_Cat', 'Region_Reco_Policy_Cat',\n",
        "               'City_holds_insurance_policy', 'Region_holds_insurance_policy',\n",
        "               'City_Accomodation_Type', 'Region_Accomodation_Type', 'City_Is_Spouse',\n",
        "               'Region_Is_Spouse', 'Holding_Policy_Duration_Type',\n",
        "               'Reco_Insurance_Type_Cat', 'Accomodation_Type_Rented',\n",
        "               'Reco_Insurance_Type_Joint', 'Is_Spouse_Yes',\n",
        "               'City_Holding_Policy_Duration', 'Region_Holding_Policy_Duration',\n",
        "               'Holding_Policy_Duration','Reco_Policy_Premium',\n",
        "               'Accomodation_Type_Rented','Reco_Insurance_Type_Joint', 'Is_Spouse_Yes'\n",
        "              ]"
      ],
      "execution_count": 31,
      "outputs": []
    },
    {
      "cell_type": "code",
      "metadata": {
        "id": "mV0-9k9K0yQt"
      },
      "source": [
        "train_pred_all = pd.DataFrame()"
      ],
      "execution_count": 32,
      "outputs": []
    },
    {
      "cell_type": "code",
      "metadata": {
        "id": "4dSkLPdC39GJ",
        "colab": {
          "base_uri": "https://localhost:8080/",
          "height": 646
        },
        "outputId": "20831904-780b-4e9d-fae5-64d8d5ca7475"
      },
      "source": [
        "# training\n",
        "train_x = train_x_full.copy()\n",
        "train_y = train_y_full.copy()\n",
        "test_x = test_x_full.copy()\n",
        "feature_importance_df = pd.DataFrame()\n",
        "\n",
        "NFOLDS = 2\n",
        "folds = StratifiedKFold(n_splits=NFOLDS, shuffle=True, random_state=18121995)\n",
        "pred_test = []\n",
        "pred_x = []\n",
        "pred_y = []\n",
        "j=1\n",
        "for fold, (train_ids, test_ids) in enumerate(folds.split(train_x, train_y)):\n",
        "    print('***Fold*** :', fold+1)\n",
        "    model = CatBoostClassifier(n_estimators=20000,random_state=1812195,learning_rate=0.03,eval_metric='AUC',\n",
        "                              cat_features =cat_features)\n",
        "    model.fit(train_x.loc[train_ids], train_y.loc[train_ids], \n",
        "              eval_set=[(train_x.loc[train_ids], train_y.loc[train_ids]), (train_x.loc[test_ids], train_y.loc[test_ids])],\n",
        "              verbose=500,\n",
        "              early_stopping_rounds=200)\n",
        "    pred_fold = model.predict_proba(train_x.loc[test_ids])[:,-1]\n",
        "    pred_x.extend([float(i) for i  in pred_fold])\n",
        "    pred_y.extend(list(train_y.loc[test_ids].values))\n",
        "    pred_fold_test = model.predict_proba(test_x)[:,-1]\n",
        "    pred_test.append([float(i) for i  in pred_fold_test])\n",
        "    print('\\n')\n",
        "    fold_importance_df = pd.DataFrame()\n",
        "    fold_importance_df[\"feature\"] = train_x.loc[train_ids].columns\n",
        "    fold_importance_df[\"importance\"] = model.feature_importances_\n",
        "    fold_importance_df[\"fold\"] = j + 1\n",
        "    feature_importance_df = pd.concat([feature_importance_df, fold_importance_df], axis=0)\n",
        "    j=j+1\n",
        "\n",
        "print(\"Final ROC-AUC Score:\", roc_auc_score(pred_y, pred_x))\n",
        "\n",
        "final_prediction = pd.DataFrame(pred_test).T\n",
        "final_prediction.columns = [(\"FOLD_\"+str(i)) for i in range(final_prediction.shape[1])]\n",
        "\n",
        "vote = final_prediction.mean(axis=1)\n",
        "final_prediction['Response'] = vote\n",
        "final_prediction['ID'] = test_id.values\n",
        "print(final_prediction.shape)\n",
        "\n",
        "train_pred_all['cb_pred'] = pred_x\n",
        "final_prediction_cb = final_prediction.copy()\n",
        "\n",
        "final_prediction.head()"
      ],
      "execution_count": 33,
      "outputs": [
        {
          "output_type": "stream",
          "text": [
            "***Fold*** : 1\n",
            "0:\ttest: 0.7371368\ttest1: 0.7293266\tbest: 0.7293266 (0)\ttotal: 471ms\tremaining: 2h 37m 9s\n",
            "500:\ttest: 0.9016572\ttest1: 0.8088011\tbest: 0.8088011 (500)\ttotal: 2m 47s\tremaining: 1h 48m 49s\n",
            "1000:\ttest: 0.9146768\ttest1: 0.8098326\tbest: 0.8100812 (832)\ttotal: 5m 44s\tremaining: 1h 49m 3s\n",
            "Stopped by overfitting detector  (200 iterations wait)\n",
            "\n",
            "bestTest = 0.8100812332\n",
            "bestIteration = 832\n",
            "\n",
            "Shrink model to first 833 iterations.\n",
            "\n",
            "\n",
            "***Fold*** : 2\n",
            "0:\ttest: 0.7566583\ttest1: 0.7556131\tbest: 0.7556131 (0)\ttotal: 426ms\tremaining: 2h 21m 54s\n",
            "500:\ttest: 0.8735780\ttest1: 0.8116399\tbest: 0.8116399 (500)\ttotal: 2m 50s\tremaining: 1h 50m 47s\n",
            "1000:\ttest: 0.8882574\ttest1: 0.8125767\tbest: 0.8125938 (970)\ttotal: 5m 38s\tremaining: 1h 47m 12s\n",
            "Stopped by overfitting detector  (200 iterations wait)\n",
            "\n",
            "bestTest = 0.8126081754\n",
            "bestIteration = 1081\n",
            "\n",
            "Shrink model to first 1082 iterations.\n",
            "\n",
            "\n",
            "Final ROC-AUC Score: 0.8112137101322873\n",
            "(21805, 4)\n"
          ],
          "name": "stdout"
        },
        {
          "output_type": "execute_result",
          "data": {
            "text/html": [
              "<div>\n",
              "<style scoped>\n",
              "    .dataframe tbody tr th:only-of-type {\n",
              "        vertical-align: middle;\n",
              "    }\n",
              "\n",
              "    .dataframe tbody tr th {\n",
              "        vertical-align: top;\n",
              "    }\n",
              "\n",
              "    .dataframe thead th {\n",
              "        text-align: right;\n",
              "    }\n",
              "</style>\n",
              "<table border=\"1\" class=\"dataframe\">\n",
              "  <thead>\n",
              "    <tr style=\"text-align: right;\">\n",
              "      <th></th>\n",
              "      <th>FOLD_0</th>\n",
              "      <th>FOLD_1</th>\n",
              "      <th>Response</th>\n",
              "      <th>ID</th>\n",
              "    </tr>\n",
              "  </thead>\n",
              "  <tbody>\n",
              "    <tr>\n",
              "      <th>0</th>\n",
              "      <td>0.087655</td>\n",
              "      <td>0.041801</td>\n",
              "      <td>0.064728</td>\n",
              "      <td>50883</td>\n",
              "    </tr>\n",
              "    <tr>\n",
              "      <th>1</th>\n",
              "      <td>0.076361</td>\n",
              "      <td>0.098373</td>\n",
              "      <td>0.087367</td>\n",
              "      <td>50884</td>\n",
              "    </tr>\n",
              "    <tr>\n",
              "      <th>2</th>\n",
              "      <td>0.449231</td>\n",
              "      <td>0.571707</td>\n",
              "      <td>0.510469</td>\n",
              "      <td>50885</td>\n",
              "    </tr>\n",
              "    <tr>\n",
              "      <th>3</th>\n",
              "      <td>0.091489</td>\n",
              "      <td>0.108810</td>\n",
              "      <td>0.100150</td>\n",
              "      <td>50886</td>\n",
              "    </tr>\n",
              "    <tr>\n",
              "      <th>4</th>\n",
              "      <td>0.039401</td>\n",
              "      <td>0.021286</td>\n",
              "      <td>0.030344</td>\n",
              "      <td>50887</td>\n",
              "    </tr>\n",
              "  </tbody>\n",
              "</table>\n",
              "</div>"
            ],
            "text/plain": [
              "     FOLD_0    FOLD_1  Response     ID\n",
              "0  0.087655  0.041801  0.064728  50883\n",
              "1  0.076361  0.098373  0.087367  50884\n",
              "2  0.449231  0.571707  0.510469  50885\n",
              "3  0.091489  0.108810  0.100150  50886\n",
              "4  0.039401  0.021286  0.030344  50887"
            ]
          },
          "metadata": {
            "tags": []
          },
          "execution_count": 33
        }
      ]
    },
    {
      "cell_type": "code",
      "metadata": {
        "colab": {
          "base_uri": "https://localhost:8080/",
          "height": 204
        },
        "id": "lJe9t54y0z-J",
        "outputId": "4c0ddf57-1f94-4831-9c44-15b3b394677a"
      },
      "source": [
        "train_pred_all['cb_pred'] = pred_x\n",
        "final_prediction_cb = final_prediction.copy()\n",
        "\n",
        "final_prediction.head()"
      ],
      "execution_count": 34,
      "outputs": [
        {
          "output_type": "execute_result",
          "data": {
            "text/html": [
              "<div>\n",
              "<style scoped>\n",
              "    .dataframe tbody tr th:only-of-type {\n",
              "        vertical-align: middle;\n",
              "    }\n",
              "\n",
              "    .dataframe tbody tr th {\n",
              "        vertical-align: top;\n",
              "    }\n",
              "\n",
              "    .dataframe thead th {\n",
              "        text-align: right;\n",
              "    }\n",
              "</style>\n",
              "<table border=\"1\" class=\"dataframe\">\n",
              "  <thead>\n",
              "    <tr style=\"text-align: right;\">\n",
              "      <th></th>\n",
              "      <th>FOLD_0</th>\n",
              "      <th>FOLD_1</th>\n",
              "      <th>Response</th>\n",
              "      <th>ID</th>\n",
              "    </tr>\n",
              "  </thead>\n",
              "  <tbody>\n",
              "    <tr>\n",
              "      <th>0</th>\n",
              "      <td>0.087655</td>\n",
              "      <td>0.041801</td>\n",
              "      <td>0.064728</td>\n",
              "      <td>50883</td>\n",
              "    </tr>\n",
              "    <tr>\n",
              "      <th>1</th>\n",
              "      <td>0.076361</td>\n",
              "      <td>0.098373</td>\n",
              "      <td>0.087367</td>\n",
              "      <td>50884</td>\n",
              "    </tr>\n",
              "    <tr>\n",
              "      <th>2</th>\n",
              "      <td>0.449231</td>\n",
              "      <td>0.571707</td>\n",
              "      <td>0.510469</td>\n",
              "      <td>50885</td>\n",
              "    </tr>\n",
              "    <tr>\n",
              "      <th>3</th>\n",
              "      <td>0.091489</td>\n",
              "      <td>0.108810</td>\n",
              "      <td>0.100150</td>\n",
              "      <td>50886</td>\n",
              "    </tr>\n",
              "    <tr>\n",
              "      <th>4</th>\n",
              "      <td>0.039401</td>\n",
              "      <td>0.021286</td>\n",
              "      <td>0.030344</td>\n",
              "      <td>50887</td>\n",
              "    </tr>\n",
              "  </tbody>\n",
              "</table>\n",
              "</div>"
            ],
            "text/plain": [
              "     FOLD_0    FOLD_1  Response     ID\n",
              "0  0.087655  0.041801  0.064728  50883\n",
              "1  0.076361  0.098373  0.087367  50884\n",
              "2  0.449231  0.571707  0.510469  50885\n",
              "3  0.091489  0.108810  0.100150  50886\n",
              "4  0.039401  0.021286  0.030344  50887"
            ]
          },
          "metadata": {
            "tags": []
          },
          "execution_count": 34
        }
      ]
    },
    {
      "cell_type": "code",
      "metadata": {
        "id": "_4Pp6fMa4Hji",
        "colab": {
          "base_uri": "https://localhost:8080/",
          "height": 204
        },
        "outputId": "29d0934d-a438-49d8-8b86-055884a77459"
      },
      "source": [
        "\n",
        "df_submission = final_prediction[['ID', 'Response']]\n",
        "df_submission.to_csv(\"submission.csv\", index = False)\n",
        "df_submission.head()"
      ],
      "execution_count": 35,
      "outputs": [
        {
          "output_type": "execute_result",
          "data": {
            "text/html": [
              "<div>\n",
              "<style scoped>\n",
              "    .dataframe tbody tr th:only-of-type {\n",
              "        vertical-align: middle;\n",
              "    }\n",
              "\n",
              "    .dataframe tbody tr th {\n",
              "        vertical-align: top;\n",
              "    }\n",
              "\n",
              "    .dataframe thead th {\n",
              "        text-align: right;\n",
              "    }\n",
              "</style>\n",
              "<table border=\"1\" class=\"dataframe\">\n",
              "  <thead>\n",
              "    <tr style=\"text-align: right;\">\n",
              "      <th></th>\n",
              "      <th>ID</th>\n",
              "      <th>Response</th>\n",
              "    </tr>\n",
              "  </thead>\n",
              "  <tbody>\n",
              "    <tr>\n",
              "      <th>0</th>\n",
              "      <td>50883</td>\n",
              "      <td>0.064728</td>\n",
              "    </tr>\n",
              "    <tr>\n",
              "      <th>1</th>\n",
              "      <td>50884</td>\n",
              "      <td>0.087367</td>\n",
              "    </tr>\n",
              "    <tr>\n",
              "      <th>2</th>\n",
              "      <td>50885</td>\n",
              "      <td>0.510469</td>\n",
              "    </tr>\n",
              "    <tr>\n",
              "      <th>3</th>\n",
              "      <td>50886</td>\n",
              "      <td>0.100150</td>\n",
              "    </tr>\n",
              "    <tr>\n",
              "      <th>4</th>\n",
              "      <td>50887</td>\n",
              "      <td>0.030344</td>\n",
              "    </tr>\n",
              "  </tbody>\n",
              "</table>\n",
              "</div>"
            ],
            "text/plain": [
              "      ID  Response\n",
              "0  50883  0.064728\n",
              "1  50884  0.087367\n",
              "2  50885  0.510469\n",
              "3  50886  0.100150\n",
              "4  50887  0.030344"
            ]
          },
          "metadata": {
            "tags": []
          },
          "execution_count": 35
        }
      ]
    },
    {
      "cell_type": "code",
      "metadata": {
        "colab": {
          "base_uri": "https://localhost:8080/",
          "height": 359
        },
        "id": "68LxhFGY1TyF",
        "outputId": "bd8d3b53-356c-4924-b018-373ce7d5dce4"
      },
      "source": [
        "df_submission.tail(10)"
      ],
      "execution_count": 36,
      "outputs": [
        {
          "output_type": "execute_result",
          "data": {
            "text/html": [
              "<div>\n",
              "<style scoped>\n",
              "    .dataframe tbody tr th:only-of-type {\n",
              "        vertical-align: middle;\n",
              "    }\n",
              "\n",
              "    .dataframe tbody tr th {\n",
              "        vertical-align: top;\n",
              "    }\n",
              "\n",
              "    .dataframe thead th {\n",
              "        text-align: right;\n",
              "    }\n",
              "</style>\n",
              "<table border=\"1\" class=\"dataframe\">\n",
              "  <thead>\n",
              "    <tr style=\"text-align: right;\">\n",
              "      <th></th>\n",
              "      <th>ID</th>\n",
              "      <th>Response</th>\n",
              "    </tr>\n",
              "  </thead>\n",
              "  <tbody>\n",
              "    <tr>\n",
              "      <th>21795</th>\n",
              "      <td>72678</td>\n",
              "      <td>0.089273</td>\n",
              "    </tr>\n",
              "    <tr>\n",
              "      <th>21796</th>\n",
              "      <td>72679</td>\n",
              "      <td>0.658521</td>\n",
              "    </tr>\n",
              "    <tr>\n",
              "      <th>21797</th>\n",
              "      <td>72680</td>\n",
              "      <td>0.480276</td>\n",
              "    </tr>\n",
              "    <tr>\n",
              "      <th>21798</th>\n",
              "      <td>72681</td>\n",
              "      <td>0.127538</td>\n",
              "    </tr>\n",
              "    <tr>\n",
              "      <th>21799</th>\n",
              "      <td>72682</td>\n",
              "      <td>0.020111</td>\n",
              "    </tr>\n",
              "    <tr>\n",
              "      <th>21800</th>\n",
              "      <td>72683</td>\n",
              "      <td>0.043738</td>\n",
              "    </tr>\n",
              "    <tr>\n",
              "      <th>21801</th>\n",
              "      <td>72684</td>\n",
              "      <td>0.067546</td>\n",
              "    </tr>\n",
              "    <tr>\n",
              "      <th>21802</th>\n",
              "      <td>72685</td>\n",
              "      <td>0.027322</td>\n",
              "    </tr>\n",
              "    <tr>\n",
              "      <th>21803</th>\n",
              "      <td>72686</td>\n",
              "      <td>0.561753</td>\n",
              "    </tr>\n",
              "    <tr>\n",
              "      <th>21804</th>\n",
              "      <td>72687</td>\n",
              "      <td>0.150558</td>\n",
              "    </tr>\n",
              "  </tbody>\n",
              "</table>\n",
              "</div>"
            ],
            "text/plain": [
              "          ID  Response\n",
              "21795  72678  0.089273\n",
              "21796  72679  0.658521\n",
              "21797  72680  0.480276\n",
              "21798  72681  0.127538\n",
              "21799  72682  0.020111\n",
              "21800  72683  0.043738\n",
              "21801  72684  0.067546\n",
              "21802  72685  0.027322\n",
              "21803  72686  0.561753\n",
              "21804  72687  0.150558"
            ]
          },
          "metadata": {
            "tags": []
          },
          "execution_count": 36
        }
      ]
    },
    {
      "cell_type": "markdown",
      "metadata": {
        "id": "F-33nfoTDbHg"
      },
      "source": [
        "NOTE: referenced from anil betta and krishna priya notebooks"
      ]
    }
  ]
}