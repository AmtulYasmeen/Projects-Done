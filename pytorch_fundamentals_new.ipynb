{
  "nbformat": 4,
  "nbformat_minor": 0,
  "metadata": {
    "colab": {
      "name": "pytorch-fundamentals-new.ipynb",
      "provenance": [],
      "collapsed_sections": [],
      "include_colab_link": true
    },
    "kernelspec": {
      "display_name": "Python 3",
      "language": "python",
      "name": "python3"
    },
    "language_info": {
      "codemirror_mode": {
        "name": "ipython",
        "version": 3
      },
      "file_extension": ".py",
      "mimetype": "text/x-python",
      "name": "python",
      "nbconvert_exporter": "python",
      "pygments_lexer": "ipython3",
      "version": "3.7.3"
    },
    "accelerator": "GPU"
  },
  "cells": [
    {
      "cell_type": "markdown",
      "metadata": {
        "id": "view-in-github",
        "colab_type": "text"
      },
      "source": [
        "<a href=\"https://colab.research.google.com/github/AmtulYasmeen/Projects-Done/blob/Pytorch/pytorch_fundamentals_new.ipynb\" target=\"_parent\"><img src=\"https://colab.research.google.com/assets/colab-badge.svg\" alt=\"Open In Colab\"/></a>"
      ]
    },
    {
      "cell_type": "code",
      "metadata": {
        "id": "sqNdz5pj3u2x"
      },
      "source": [
        "# Jovian Commit Essentials\n",
        "# Please retain and execute this cell without modifying the contents for `jovian.commit` to work\n",
        "!pip install jovian --upgrade -q\n",
        "import jovian\n",
        "jovian.set_project('pytorch-fundamentals-new')\n",
        "jovian.set_colab_id('1GIRXyqVwd--RgaAIYuooP5VRZETMcCGn')"
      ],
      "execution_count": null,
      "outputs": []
    },
    {
      "cell_type": "code",
      "metadata": {
        "id": "Oub7xc903zdF"
      },
      "source": [
        "!pip install jovian --upgrade --quiet"
      ],
      "execution_count": null,
      "outputs": []
    },
    {
      "cell_type": "markdown",
      "metadata": {
        "id": "GmAF0qsEUyvU"
      },
      "source": [
        "#Pytorch tensors operations"
      ]
    },
    {
      "cell_type": "code",
      "metadata": {
        "id": "S-C7NUncLGP_",
        "colab": {
          "base_uri": "https://localhost:8080/"
        },
        "outputId": "01706c71-1305-42eb-cb02-f49005d21059"
      },
      "source": [
        "import torch\n",
        "print(torch.__version__)"
      ],
      "execution_count": null,
      "outputs": [
        {
          "output_type": "stream",
          "text": [
            "1.9.0+cu102\n"
          ],
          "name": "stdout"
        }
      ]
    },
    {
      "cell_type": "code",
      "metadata": {
        "colab": {
          "base_uri": "https://localhost:8080/"
        },
        "id": "CDYODsA_F_Ml",
        "outputId": "68c393cc-ca10-4390-a4e8-e0c71222bc57"
      },
      "source": [
        "torch.get_default_dtype()"
      ],
      "execution_count": null,
      "outputs": [
        {
          "output_type": "execute_result",
          "data": {
            "text/plain": [
              "torch.float32"
            ]
          },
          "metadata": {
            "tags": []
          },
          "execution_count": 4
        }
      ]
    },
    {
      "cell_type": "code",
      "metadata": {
        "id": "UvwFLdjCWrCf"
      },
      "source": [
        "torch.set_default_dtype(torch.float64)"
      ],
      "execution_count": null,
      "outputs": []
    },
    {
      "cell_type": "code",
      "metadata": {
        "colab": {
          "base_uri": "https://localhost:8080/"
        },
        "id": "onOQV62sXxRU",
        "outputId": "45062597-ae98-42a2-f895-3a6c07337790"
      },
      "source": [
        "torch.get_default_dtype()"
      ],
      "execution_count": null,
      "outputs": [
        {
          "output_type": "execute_result",
          "data": {
            "text/plain": [
              "torch.float64"
            ]
          },
          "metadata": {
            "tags": []
          },
          "execution_count": 6
        }
      ]
    },
    {
      "cell_type": "markdown",
      "metadata": {
        "id": "aINHKtX7ZRGn"
      },
      "source": [
        "#diff ways of creating pytorch tensors"
      ]
    },
    {
      "cell_type": "code",
      "metadata": {
        "colab": {
          "base_uri": "https://localhost:8080/"
        },
        "id": "XrlPsr2cXxbX",
        "outputId": "75813d00-8853-494f-ced8-fccdd10d2497"
      },
      "source": [
        "# instantiate torch.Tensor object = torch.FloatTensor() default tensor type\n",
        "tensor_arr = torch.Tensor([[1,2,3], [4,5,6]])\n",
        "tensor_arr"
      ],
      "execution_count": null,
      "outputs": [
        {
          "output_type": "execute_result",
          "data": {
            "text/plain": [
              "tensor([[1., 2., 3.],\n",
              "        [4., 5., 6.]])"
            ]
          },
          "metadata": {
            "tags": []
          },
          "execution_count": 7
        }
      ]
    },
    {
      "cell_type": "code",
      "metadata": {
        "colab": {
          "base_uri": "https://localhost:8080/"
        },
        "id": "sqRe8OfdYNcJ",
        "outputId": "53ae2366-1cdc-4538-d7b3-8435fdd0a506"
      },
      "source": [
        "torch.is_tensor(tensor_arr)"
      ],
      "execution_count": null,
      "outputs": [
        {
          "output_type": "execute_result",
          "data": {
            "text/plain": [
              "True"
            ]
          },
          "metadata": {
            "tags": []
          },
          "execution_count": 8
        }
      ]
    },
    {
      "cell_type": "code",
      "metadata": {
        "colab": {
          "base_uri": "https://localhost:8080/"
        },
        "id": "s37wM0vfYNjt",
        "outputId": "25bb9342-82a3-4a1b-c824-0c214dbaebda"
      },
      "source": [
        "# no of elements in a particular tensor, irrespective of size and shape\n",
        "torch.numel(tensor_arr)"
      ],
      "execution_count": null,
      "outputs": [
        {
          "output_type": "execute_result",
          "data": {
            "text/plain": [
              "6"
            ]
          },
          "metadata": {
            "tags": []
          },
          "execution_count": 9
        }
      ]
    },
    {
      "cell_type": "code",
      "metadata": {
        "id": "3s660JYeZpLF"
      },
      "source": [
        "# initialise a tensor by indicating only shape and not providing anh elements \n",
        "# resulting tensor object is uninitialised\n",
        "# memory is allocated but random elements will be given\n",
        "tensor_unintialised = torch.Tensor(2,2)"
      ],
      "execution_count": null,
      "outputs": []
    },
    {
      "cell_type": "code",
      "metadata": {
        "colab": {
          "base_uri": "https://localhost:8080/"
        },
        "id": "eYIwN7qOaDjb",
        "outputId": "6e9091d6-90e9-4ac5-d399-28e726aecf90"
      },
      "source": [
        "# create a tensor of particular type, not default type\n",
        "tensor_int = torch.Tensor([5,3]).type(torch.IntTensor)\n",
        "tensor_int\n",
        "\n",
        "# cpu and gpu\n",
        "# torch.IntTensor and torch.cuda.IntTensor\n"
      ],
      "execution_count": null,
      "outputs": [
        {
          "output_type": "execute_result",
          "data": {
            "text/plain": [
              "tensor([5, 3], dtype=torch.int32)"
            ]
          },
          "metadata": {
            "tags": []
          },
          "execution_count": 11
        }
      ]
    },
    {
      "cell_type": "code",
      "metadata": {
        "colab": {
          "base_uri": "https://localhost:8080/"
        },
        "id": "nvUcB2D8aDp4",
        "outputId": "97ea042b-40f5-487c-8ec5-fe00ccae1b18"
      },
      "source": [
        "# other way to instantiate a tensor\n",
        "# use type object directly\n",
        "tensor_short = torch.ShortTensor([[1.0, 2.0, 3.0]])\n",
        "tensor_short"
      ],
      "execution_count": null,
      "outputs": [
        {
          "output_type": "execute_result",
          "data": {
            "text/plain": [
              "tensor([[1, 2, 3]], dtype=torch.int16)"
            ]
          },
          "metadata": {
            "tags": []
          },
          "execution_count": 12
        }
      ]
    },
    {
      "cell_type": "code",
      "metadata": {
        "colab": {
          "base_uri": "https://localhost:8080/"
        },
        "id": "wUAgKt52bPEJ",
        "outputId": "29e156c5-b043-4674-ba77-384a7b48ffaa"
      },
      "source": [
        "# floating type tensor which occupies half  memory of each element as of float32\n",
        "tensor_float = torch.tensor([1.0,2.0,3.0]).type(torch.half)\n",
        "tensor_float"
      ],
      "execution_count": null,
      "outputs": [
        {
          "output_type": "execute_result",
          "data": {
            "text/plain": [
              "tensor([1., 2., 3.], dtype=torch.float16)"
            ]
          },
          "metadata": {
            "tags": []
          },
          "execution_count": 13
        }
      ]
    },
    {
      "cell_type": "code",
      "metadata": {
        "colab": {
          "base_uri": "https://localhost:8080/"
        },
        "id": "nSTIlikmbPMM",
        "outputId": "1ee86857-1b03-4e69-e01f-090eba51e584"
      },
      "source": [
        "# create a torch tensor and fill it with specific value and provide a shape\n",
        "tensor_fill = torch.full((2,4), fill_value=10)\n",
        "tensor_fill"
      ],
      "execution_count": null,
      "outputs": [
        {
          "output_type": "execute_result",
          "data": {
            "text/plain": [
              "tensor([[10, 10, 10, 10],\n",
              "        [10, 10, 10, 10]])"
            ]
          },
          "metadata": {
            "tags": []
          },
          "execution_count": 14
        }
      ]
    },
    {
      "cell_type": "code",
      "metadata": {
        "colab": {
          "base_uri": "https://localhost:8080/"
        },
        "id": "7qA7Q4A-bPQu",
        "outputId": "5e7e0bcd-44c7-496e-eeff-5b1eebcf41f3"
      },
      "source": [
        "type(tensor_fill)"
      ],
      "execution_count": null,
      "outputs": [
        {
          "output_type": "execute_result",
          "data": {
            "text/plain": [
              "torch.Tensor"
            ]
          },
          "metadata": {
            "tags": []
          },
          "execution_count": 15
        }
      ]
    },
    {
      "cell_type": "code",
      "metadata": {
        "colab": {
          "base_uri": "https://localhost:8080/"
        },
        "id": "taQGyBTrbPW9",
        "outputId": "2b24df84-c55e-48fc-e9fb-81bc9ddd3bc8"
      },
      "source": [
        "tensor_of_ones = torch.ones([2,4], dtype= torch.int32)\n",
        "tensor_of_ones"
      ],
      "execution_count": null,
      "outputs": [
        {
          "output_type": "execute_result",
          "data": {
            "text/plain": [
              "tensor([[1, 1, 1, 1],\n",
              "        [1, 1, 1, 1]], dtype=torch.int32)"
            ]
          },
          "metadata": {
            "tags": []
          },
          "execution_count": 16
        }
      ]
    },
    {
      "cell_type": "code",
      "metadata": {
        "colab": {
          "base_uri": "https://localhost:8080/"
        },
        "id": "eNCzowc6aDu5",
        "outputId": "9553b2d4-a6bc-4a32-fd67-7e1fdfc1fb8c"
      },
      "source": [
        "# create another tensor of same shape as already existing tensor\n",
        "tensor_of_zeroes = torch.zeros_like(tensor_of_ones)\n",
        "tensor_of_zeroes"
      ],
      "execution_count": null,
      "outputs": [
        {
          "output_type": "execute_result",
          "data": {
            "text/plain": [
              "tensor([[0, 0, 0, 0],\n",
              "        [0, 0, 0, 0]], dtype=torch.int32)"
            ]
          },
          "metadata": {
            "tags": []
          },
          "execution_count": 17
        }
      ]
    },
    {
      "cell_type": "code",
      "metadata": {
        "colab": {
          "base_uri": "https://localhost:8080/"
        },
        "id": "OR9iFpeYaDzp",
        "outputId": "ba1fcdd2-9609-4214-aaf3-104a9f304684"
      },
      "source": [
        "# 2d square matrix\n",
        "tensor_eye = torch.eye(5)\n",
        "tensor_eye"
      ],
      "execution_count": null,
      "outputs": [
        {
          "output_type": "execute_result",
          "data": {
            "text/plain": [
              "tensor([[1., 0., 0., 0., 0.],\n",
              "        [0., 1., 0., 0., 0.],\n",
              "        [0., 0., 1., 0., 0.],\n",
              "        [0., 0., 0., 1., 0.],\n",
              "        [0., 0., 0., 0., 1.]])"
            ]
          },
          "metadata": {
            "tags": []
          },
          "execution_count": 18
        }
      ]
    },
    {
      "cell_type": "code",
      "metadata": {
        "colab": {
          "base_uri": "https://localhost:8080/"
        },
        "id": "U_0NfTD_aD2N",
        "outputId": "0cca0f3b-755a-4a5f-fec8-ab80150908fe"
      },
      "source": [
        "# to know at what indices \n",
        "# the non-zero elements lie in an already instatiated tensor\n",
        "\n",
        "non_zero = torch.nonzero(tensor_eye)\n",
        "non_zero"
      ],
      "execution_count": null,
      "outputs": [
        {
          "output_type": "execute_result",
          "data": {
            "text/plain": [
              "tensor([[0, 0],\n",
              "        [1, 1],\n",
              "        [2, 2],\n",
              "        [3, 3],\n",
              "        [4, 4]])"
            ]
          },
          "metadata": {
            "tags": []
          },
          "execution_count": 19
        }
      ]
    },
    {
      "cell_type": "code",
      "metadata": {
        "id": "DhMTU3t_aD6H"
      },
      "source": [
        "# make a copy of an existing tensor or numpy array or list in order to create a tensor\n",
        "# small case t in tensor\n",
        "i = torch.tensor([[0,1,1],[2,2,0]])\n",
        "\n",
        "v = torch.tensor([3,4,5], dtype= torch.float32)"
      ],
      "execution_count": null,
      "outputs": []
    },
    {
      "cell_type": "code",
      "metadata": {
        "id": "ubIk0P00eMt3",
        "colab": {
          "base_uri": "https://localhost:8080/"
        },
        "outputId": "dc50c2dd-2227-4158-a6e5-a280fa6d7005"
      },
      "source": [
        "# sparse tensors ar constructed in coordinate format\n",
        "# with non-zero elements at indices with the values provided \n",
        "# tensor i specifies indices and tensor v specifies values contain in sparse tensor\n",
        "\n",
        "# every pytorch tensor has .data variable .data variable which can b used to access the underlying matrix\n",
        "sparse_tensor = torch.sparse_coo_tensor(i,v,[2,5])\n",
        "sparse_tensor.data\n",
        "\n"
      ],
      "execution_count": null,
      "outputs": [
        {
          "output_type": "execute_result",
          "data": {
            "text/plain": [
              "tensor(indices=tensor([[0, 1, 1],\n",
              "                       [2, 2, 0]]),\n",
              "       values=tensor([3., 4., 5.]),\n",
              "       size=(2, 5), nnz=3, dtype=torch.float32, layout=torch.sparse_coo)"
            ]
          },
          "metadata": {
            "tags": []
          },
          "execution_count": 21
        }
      ]
    },
    {
      "cell_type": "code",
      "metadata": {
        "id": "fcRIM4aWX1KL"
      },
      "source": [
        "# index 0--> value 3, index 1--> value 4, index 2--> value 5, "
      ],
      "execution_count": null,
      "outputs": []
    },
    {
      "cell_type": "markdown",
      "metadata": {
        "id": "IL98jumLZlxE"
      },
      "source": [
        "#Tensor operations"
      ]
    },
    {
      "cell_type": "code",
      "metadata": {
        "colab": {
          "base_uri": "https://localhost:8080/"
        },
        "id": "RSPlycNfX1NH",
        "outputId": "38dd8c71-6918-41be-825f-7a707d8d07d0"
      },
      "source": [
        "# tensor with random nums\n",
        "initial_tensor = torch.rand(2,3)\n",
        "initial_tensor"
      ],
      "execution_count": null,
      "outputs": [
        {
          "output_type": "execute_result",
          "data": {
            "text/plain": [
              "tensor([[0.8603, 0.8784, 0.9117],\n",
              "        [0.4960, 0.6187, 0.7070]])"
            ]
          },
          "metadata": {
            "tags": []
          },
          "execution_count": 23
        }
      ]
    },
    {
      "cell_type": "code",
      "metadata": {
        "colab": {
          "base_uri": "https://localhost:8080/"
        },
        "id": "XqKFVAk4ZE6M",
        "outputId": "dc16a685-89af-4910-b079-d35c48f273cc"
      },
      "source": [
        "# any tensor func which performs an operation and have an _ suffix\n",
        "# it modifies the tensor in-place\n",
        "initial_tensor.fill_(10)"
      ],
      "execution_count": null,
      "outputs": [
        {
          "output_type": "execute_result",
          "data": {
            "text/plain": [
              "tensor([[10., 10., 10.],\n",
              "        [10., 10., 10.]])"
            ]
          },
          "metadata": {
            "tags": []
          },
          "execution_count": 24
        }
      ]
    },
    {
      "cell_type": "code",
      "metadata": {
        "id": "ps1qXynaZFEF"
      },
      "source": [
        "# there is no corresponding outplace func for fill \n",
        "# initial_tensor.fill(10) #--> throws an error"
      ],
      "execution_count": null,
      "outputs": []
    },
    {
      "cell_type": "code",
      "metadata": {
        "colab": {
          "base_uri": "https://localhost:8080/"
        },
        "id": "N439QfO7ZFRq",
        "outputId": "ffbdf51f-6b06-4013-ce54-2c3ac84c15b0"
      },
      "source": [
        "# addition ... out of place operation\n",
        "new_tensor = initial_tensor.add(5)\n",
        "new_tensor"
      ],
      "execution_count": null,
      "outputs": [
        {
          "output_type": "execute_result",
          "data": {
            "text/plain": [
              "tensor([[15., 15., 15.],\n",
              "        [15., 15., 15.]])"
            ]
          },
          "metadata": {
            "tags": []
          },
          "execution_count": 28
        }
      ]
    },
    {
      "cell_type": "code",
      "metadata": {
        "colab": {
          "base_uri": "https://localhost:8080/"
        },
        "id": "N5IFT2gXZFgL",
        "outputId": "41275aef-26d4-4b19-9244-ec8683a749c4"
      },
      "source": [
        "# addition -- in-place\n",
        "initial_tensor.add_(5)\n",
        "initial_tensor"
      ],
      "execution_count": null,
      "outputs": [
        {
          "output_type": "execute_result",
          "data": {
            "text/plain": [
              "tensor([[15., 15., 15.],\n",
              "        [15., 15., 15.]])"
            ]
          },
          "metadata": {
            "tags": []
          },
          "execution_count": 29
        }
      ]
    },
    {
      "cell_type": "code",
      "metadata": {
        "colab": {
          "base_uri": "https://localhost:8080/"
        },
        "id": "RmuzjiUzX1T4",
        "outputId": "62fc55a2-65d0-44cc-bfbb-8800ec7ecc14"
      },
      "source": [
        "# sqrt in-place\n",
        "new_tensor.sqrt_()\n",
        "new_tensor"
      ],
      "execution_count": null,
      "outputs": [
        {
          "output_type": "execute_result",
          "data": {
            "text/plain": [
              "tensor([[3.8730, 3.8730, 3.8730],\n",
              "        [3.8730, 3.8730, 3.8730]])"
            ]
          },
          "metadata": {
            "tags": []
          },
          "execution_count": 30
        }
      ]
    },
    {
      "cell_type": "markdown",
      "metadata": {
        "id": "bbNOMcIbi55A"
      },
      "source": [
        "# chunking and concatenating"
      ]
    },
    {
      "cell_type": "code",
      "metadata": {
        "id": "hmUNSvqLeMxz",
        "colab": {
          "base_uri": "https://localhost:8080/"
        },
        "outputId": "c69f55c6-604b-4064-ad66-30a206278d96"
      },
      "source": [
        "# generate evenly spaced nums btw 2 given nums (lower and upper bound) with steps given\n",
        "x = torch.linspace(start=0.1, end=10.0, steps=15)\n",
        "x  #1d tensor with 15 elements"
      ],
      "execution_count": null,
      "outputs": [
        {
          "output_type": "execute_result",
          "data": {
            "text/plain": [
              "tensor([ 0.1000,  0.8071,  1.5143,  2.2214,  2.9286,  3.6357,  4.3429,  5.0500,\n",
              "         5.7571,  6.4643,  7.1714,  7.8786,  8.5857,  9.2929, 10.0000])"
            ]
          },
          "metadata": {
            "tags": []
          },
          "execution_count": 31
        }
      ]
    },
    {
      "cell_type": "code",
      "metadata": {
        "id": "7LwxrH3heM1H",
        "colab": {
          "base_uri": "https://localhost:8080/"
        },
        "outputId": "69401d2e-6606-4d7b-9820-bd4310ac8c9a"
      },
      "source": [
        "# dividing the ele into chunks \n",
        "# 3-- num of chunks\n",
        "# 0-- dim along which the seperation occurs\n",
        "tensor_chunk = torch.chunk(x,3,0)\n",
        "tensor_chunk #contain tuple of chunks"
      ],
      "execution_count": null,
      "outputs": [
        {
          "output_type": "execute_result",
          "data": {
            "text/plain": [
              "(tensor([0.1000, 0.8071, 1.5143, 2.2214, 2.9286]),\n",
              " tensor([3.6357, 4.3429, 5.0500, 5.7571, 6.4643]),\n",
              " tensor([ 7.1714,  7.8786,  8.5857,  9.2929, 10.0000]))"
            ]
          },
          "metadata": {
            "tags": []
          },
          "execution_count": 34
        }
      ]
    },
    {
      "cell_type": "code",
      "metadata": {
        "id": "t88p_SWIeM4N",
        "colab": {
          "base_uri": "https://localhost:8080/"
        },
        "outputId": "939b72fa-e067-4f07-cbc9-3da1e031213e"
      },
      "source": [
        "# concat tensors\n",
        "tensor1 = tensor_chunk[0]\n",
        "tensor2 = tensor_chunk[1]\n",
        "tensor3 = torch.tensor([3.0,4.0,5.0])\n",
        "# tuple of tensors to be concatenated and dim along which conct occurs\n",
        "concat_tensor = torch.cat((tensor1,tensor2, tensor3), 0)\n",
        "concat_tensor"
      ],
      "execution_count": null,
      "outputs": [
        {
          "output_type": "execute_result",
          "data": {
            "text/plain": [
              "tensor([0.1000, 0.8071, 1.5143, 2.2214, 2.9286, 3.6357, 4.3429, 5.0500, 5.7571,\n",
              "        6.4643, 3.0000, 4.0000, 5.0000])"
            ]
          },
          "metadata": {
            "tags": []
          },
          "execution_count": 35
        }
      ]
    },
    {
      "cell_type": "markdown",
      "metadata": {
        "id": "g4_Fs1kDd8Gy"
      },
      "source": [
        "#slicing operations"
      ]
    },
    {
      "cell_type": "code",
      "metadata": {
        "id": "V9-QZJ8seM7Z",
        "colab": {
          "base_uri": "https://localhost:8080/"
        },
        "outputId": "3117fec2-ee7c-4544-935e-61a34f55572d"
      },
      "source": [
        "random_tensor = torch.Tensor([[10,8,30], [40,5,6], [12,2,21]])\n",
        "random_tensor"
      ],
      "execution_count": null,
      "outputs": [
        {
          "output_type": "execute_result",
          "data": {
            "text/plain": [
              "tensor([[10.,  8., 30.],\n",
              "        [40.,  5.,  6.],\n",
              "        [12.,  2., 21.]])"
            ]
          },
          "metadata": {
            "tags": []
          },
          "execution_count": 36
        }
      ]
    },
    {
      "cell_type": "code",
      "metadata": {
        "id": "vPJXXZe_eM-s",
        "colab": {
          "base_uri": "https://localhost:8080/"
        },
        "outputId": "eb1f1226-69f8-4263-eb6c-b55ba304210a"
      },
      "source": [
        "# indexing into a pytorch tensor gives us a tensor as result\n",
        "random_tensor[0,1]"
      ],
      "execution_count": null,
      "outputs": [
        {
          "output_type": "execute_result",
          "data": {
            "text/plain": [
              "tensor(8.)"
            ]
          },
          "metadata": {
            "tags": []
          },
          "execution_count": 37
        }
      ]
    },
    {
      "cell_type": "code",
      "metadata": {
        "colab": {
          "base_uri": "https://localhost:8080/"
        },
        "id": "NU2r4r-Betzi",
        "outputId": "2eed9873-edf3-4113-9efe-83515bfc31b9"
      },
      "source": [
        "random_tensor[1:,1:]"
      ],
      "execution_count": null,
      "outputs": [
        {
          "output_type": "execute_result",
          "data": {
            "text/plain": [
              "tensor([[ 5.,  6.],\n",
              "        [ 2., 21.]])"
            ]
          },
          "metadata": {
            "tags": []
          },
          "execution_count": 38
        }
      ]
    },
    {
      "cell_type": "code",
      "metadata": {
        "colab": {
          "base_uri": "https://localhost:8080/"
        },
        "id": "I_GztC0det49",
        "outputId": "c9b4bf38-616d-431b-aa2b-6a9bf1337f6f"
      },
      "source": [
        "# Size func\n",
        "random_tensor.size()"
      ],
      "execution_count": null,
      "outputs": [
        {
          "output_type": "execute_result",
          "data": {
            "text/plain": [
              "torch.Size([3, 3])"
            ]
          },
          "metadata": {
            "tags": []
          },
          "execution_count": 39
        }
      ]
    },
    {
      "cell_type": "markdown",
      "metadata": {
        "id": "JIVomUh_iukD"
      },
      "source": [
        "#view of tensor"
      ]
    },
    {
      "cell_type": "code",
      "metadata": {
        "colab": {
          "base_uri": "https://localhost:8080/"
        },
        "id": "32ig2cAcfFIE",
        "outputId": "4a3989f8-1b7a-4562-e99d-f8020872888a"
      },
      "source": [
        "# to view a tensor in a diff shape : use view func\n",
        "# view func doesnt create new tensor,it uses the same memory as original\n",
        "# any change in originl causes change in view\n",
        "# diff shape must be compalible with the original shape\n",
        "resize_tensor =random_tensor.view(9)\n",
        "resize_tensor"
      ],
      "execution_count": null,
      "outputs": [
        {
          "output_type": "execute_result",
          "data": {
            "text/plain": [
              "tensor([10.,  8., 30., 40.,  5.,  6., 12.,  2., 21.])"
            ]
          },
          "metadata": {
            "tags": []
          },
          "execution_count": 40
        }
      ]
    },
    {
      "cell_type": "code",
      "metadata": {
        "id": "lNOxJBE7fFQK"
      },
      "source": [
        "# resize_tensor =random_tensor.view(-1, 6)\n",
        "# resize_tensor\n",
        "# throws n error as not compatible"
      ],
      "execution_count": null,
      "outputs": []
    },
    {
      "cell_type": "code",
      "metadata": {
        "colab": {
          "base_uri": "https://localhost:8080/"
        },
        "id": "OteN-4vlfv79",
        "outputId": "55def683-001e-48c5-a58f-552e27a06592"
      },
      "source": [
        "resize_tensor.size()"
      ],
      "execution_count": null,
      "outputs": [
        {
          "output_type": "execute_result",
          "data": {
            "text/plain": [
              "torch.Size([9])"
            ]
          },
          "metadata": {
            "tags": []
          },
          "execution_count": 43
        }
      ]
    },
    {
      "cell_type": "code",
      "metadata": {
        "colab": {
          "base_uri": "https://localhost:8080/"
        },
        "id": "1Y74HaOofwDN",
        "outputId": "7a950946-bcd3-431c-e7fc-1f488ba87751"
      },
      "source": [
        "# observing the original tensor n view share same memory\n",
        "random_tensor[2,2] = 100.0\n",
        "resize_tensor"
      ],
      "execution_count": null,
      "outputs": [
        {
          "output_type": "execute_result",
          "data": {
            "text/plain": [
              "tensor([ 10.,   8.,  30.,  40.,   5.,   6.,  12.,   2., 100.])"
            ]
          },
          "metadata": {
            "tags": []
          },
          "execution_count": 44
        }
      ]
    },
    {
      "cell_type": "code",
      "metadata": {
        "colab": {
          "base_uri": "https://localhost:8080/"
        },
        "id": "zaxp_X3CfwGN",
        "outputId": "80a9207d-efda-4d54-d278-6ee62c7fcfc8"
      },
      "source": [
        "random_tensor"
      ],
      "execution_count": null,
      "outputs": [
        {
          "output_type": "execute_result",
          "data": {
            "text/plain": [
              "tensor([[ 10.,   8.,  30.],\n",
              "        [ 40.,   5.,   6.],\n",
              "        [ 12.,   2., 100.]])"
            ]
          },
          "metadata": {
            "tags": []
          },
          "execution_count": 45
        }
      ]
    },
    {
      "cell_type": "markdown",
      "metadata": {
        "id": "kLYmcWqwgxrN"
      },
      "source": [
        "# shape of tensor"
      ]
    },
    {
      "cell_type": "code",
      "metadata": {
        "colab": {
          "base_uri": "https://localhost:8080/"
        },
        "id": "ebdpxIRufwSr",
        "outputId": "1bc36586-8efc-4982-97a6-2713a7bc7eeb"
      },
      "source": [
        "# shape of tensor\n",
        "random_tensor.shape"
      ],
      "execution_count": null,
      "outputs": [
        {
          "output_type": "execute_result",
          "data": {
            "text/plain": [
              "torch.Size([3, 3])"
            ]
          },
          "metadata": {
            "tags": []
          },
          "execution_count": 46
        }
      ]
    },
    {
      "cell_type": "markdown",
      "metadata": {
        "id": "0mJeSY_xipj0"
      },
      "source": [
        "#unsqueeze"
      ]
    },
    {
      "cell_type": "code",
      "metadata": {
        "colab": {
          "base_uri": "https://localhost:8080/"
        },
        "id": "9mPWTMESfwUX",
        "outputId": "eaf7f9d2-8f1d-4586-c42d-0436f1ffe0e0"
      },
      "source": [
        "# change the shape of a tensor by removing or adding dimension\n",
        "# using squeeze and unsqueeze func\n",
        "\n",
        "# adding additional dimension using unsqueeze func\n",
        "# adding new dim at index 2 ths inner most dim\n",
        "tensor_unsqueeze = torch.unsqueeze(random_tensor, 2)\n",
        "tensor_unsqueeze"
      ],
      "execution_count": null,
      "outputs": [
        {
          "output_type": "execute_result",
          "data": {
            "text/plain": [
              "tensor([[[ 10.],\n",
              "         [  8.],\n",
              "         [ 30.]],\n",
              "\n",
              "        [[ 40.],\n",
              "         [  5.],\n",
              "         [  6.]],\n",
              "\n",
              "        [[ 12.],\n",
              "         [  2.],\n",
              "         [100.]]])"
            ]
          },
          "metadata": {
            "tags": []
          },
          "execution_count": 47
        }
      ]
    },
    {
      "cell_type": "code",
      "metadata": {
        "colab": {
          "base_uri": "https://localhost:8080/"
        },
        "id": "ZUJlhcwphqBW",
        "outputId": "056e12e6-9bbb-4f3c-aba3-e2065ae4e90c"
      },
      "source": [
        "tensor_unsqueeze.shape\n",
        "# 1 is the extra dim which we unsqueezed"
      ],
      "execution_count": null,
      "outputs": [
        {
          "output_type": "execute_result",
          "data": {
            "text/plain": [
              "torch.Size([3, 3, 1])"
            ]
          },
          "metadata": {
            "tags": []
          },
          "execution_count": 48
        }
      ]
    },
    {
      "cell_type": "markdown",
      "metadata": {
        "id": "qaAi6vW_iGsA"
      },
      "source": [
        "#transpose"
      ]
    },
    {
      "cell_type": "code",
      "metadata": {
        "colab": {
          "base_uri": "https://localhost:8080/"
        },
        "id": "4zI5X6R7hqTM",
        "outputId": "ae4c3f35-3f2c-4dee-ea78-74449d766419"
      },
      "source": [
        "# swapping rows to cols and vice versa\n",
        "initial_tensor"
      ],
      "execution_count": null,
      "outputs": [
        {
          "output_type": "execute_result",
          "data": {
            "text/plain": [
              "tensor([[15., 15., 15.],\n",
              "        [15., 15., 15.]])"
            ]
          },
          "metadata": {
            "tags": []
          },
          "execution_count": 49
        }
      ]
    },
    {
      "cell_type": "code",
      "metadata": {
        "colab": {
          "base_uri": "https://localhost:8080/"
        },
        "id": "9mqn3EtGiSus",
        "outputId": "032a5819-2a46-4f63-89c5-90c9ee5d8ed2"
      },
      "source": [
        "tensor_transpose = torch.transpose(initial_tensor, 0,1)\n",
        "tensor_transpose"
      ],
      "execution_count": null,
      "outputs": [
        {
          "output_type": "execute_result",
          "data": {
            "text/plain": [
              "tensor([[15., 15.],\n",
              "        [15., 15.],\n",
              "        [15., 15.]])"
            ]
          },
          "metadata": {
            "tags": []
          },
          "execution_count": 50
        }
      ]
    },
    {
      "cell_type": "code",
      "metadata": {
        "colab": {
          "base_uri": "https://localhost:8080/"
        },
        "id": "NYv4LiVjiS1l",
        "outputId": "d2e0211d-8086-49ab-d8ec-8488546d5b34"
      },
      "source": [
        "tensor_transpose.shape"
      ],
      "execution_count": null,
      "outputs": [
        {
          "output_type": "execute_result",
          "data": {
            "text/plain": [
              "torch.Size([3, 2])"
            ]
          },
          "metadata": {
            "tags": []
          },
          "execution_count": 51
        }
      ]
    },
    {
      "cell_type": "markdown",
      "metadata": {
        "id": "_d396TxYjLCi"
      },
      "source": [
        "#sorting tensor"
      ]
    },
    {
      "cell_type": "code",
      "metadata": {
        "colab": {
          "base_uri": "https://localhost:8080/"
        },
        "id": "4JNNcYPdimTU",
        "outputId": "4d0962c5-88aa-4ffa-952d-626782cd0ff2"
      },
      "source": [
        "random_tensor "
      ],
      "execution_count": null,
      "outputs": [
        {
          "output_type": "execute_result",
          "data": {
            "text/plain": [
              "tensor([[ 10.,   8.,  30.],\n",
              "        [ 40.,   5.,   6.],\n",
              "        [ 12.,   2., 100.]])"
            ]
          },
          "metadata": {
            "tags": []
          },
          "execution_count": 52
        }
      ]
    },
    {
      "cell_type": "code",
      "metadata": {
        "id": "5Y1D2kwrimff"
      },
      "source": [
        "# can provide the dim along which elements need to b sorted \n",
        "# by default it chooses the last dim of the tensor\n",
        "# it returns sorted tensor and sorted index values\n",
        "sorted_tensor, sorted_indices = torch.sort(random_tensor)\n"
      ],
      "execution_count": null,
      "outputs": []
    },
    {
      "cell_type": "code",
      "metadata": {
        "colab": {
          "base_uri": "https://localhost:8080/"
        },
        "id": "E7QHLaOSiS9M",
        "outputId": "f4f55b9f-9bd0-450d-f234-29aa7b22b3c6"
      },
      "source": [
        "sorted_tensor"
      ],
      "execution_count": null,
      "outputs": [
        {
          "output_type": "execute_result",
          "data": {
            "text/plain": [
              "tensor([[  8.,  10.,  30.],\n",
              "        [  5.,   6.,  40.],\n",
              "        [  2.,  12., 100.]])"
            ]
          },
          "metadata": {
            "tags": []
          },
          "execution_count": 54
        }
      ]
    },
    {
      "cell_type": "code",
      "metadata": {
        "colab": {
          "base_uri": "https://localhost:8080/"
        },
        "id": "xo2To85KZ-Qv",
        "outputId": "fd38508f-e10e-4032-f6fc-dc7d05bff1e7"
      },
      "source": [
        "# it gives original index positions in sorted order\n",
        "sorted_indices"
      ],
      "execution_count": null,
      "outputs": [
        {
          "output_type": "execute_result",
          "data": {
            "text/plain": [
              "tensor([[1, 0, 2],\n",
              "        [1, 2, 0],\n",
              "        [1, 0, 2]])"
            ]
          },
          "metadata": {
            "tags": []
          },
          "execution_count": 55
        }
      ]
    },
    {
      "cell_type": "markdown",
      "metadata": {
        "id": "E3ulq6fCbW1n"
      },
      "source": [
        "#matrix operations"
      ]
    },
    {
      "cell_type": "code",
      "metadata": {
        "colab": {
          "base_uri": "https://localhost:8080/"
        },
        "id": "jkwSg9RgaScu",
        "outputId": "75ab307e-f4e4-4a01-8ff9-ab58dc5486cc"
      },
      "source": [
        "tensor_float = torch.FloatTensor((-1.1,-2.2, 3.3))\n",
        "tensor_float "
      ],
      "execution_count": null,
      "outputs": [
        {
          "output_type": "execute_result",
          "data": {
            "text/plain": [
              "tensor([-1.1000, -2.2000,  3.3000], dtype=torch.float32)"
            ]
          },
          "metadata": {
            "tags": []
          },
          "execution_count": 56
        }
      ]
    },
    {
      "cell_type": "code",
      "metadata": {
        "colab": {
          "base_uri": "https://localhost:8080/"
        },
        "id": "3HPDmNfWaSzT",
        "outputId": "99e72ae8-c562-4b00-aa5d-3f96dbc90902"
      },
      "source": [
        "# abs value\n",
        "tensor_abs = torch.abs(tensor_float)\n",
        "tensor_abs"
      ],
      "execution_count": null,
      "outputs": [
        {
          "output_type": "execute_result",
          "data": {
            "text/plain": [
              "tensor([1.1000, 2.2000, 3.3000], dtype=torch.float32)"
            ]
          },
          "metadata": {
            "tags": []
          },
          "execution_count": 57
        }
      ]
    },
    {
      "cell_type": "code",
      "metadata": {
        "id": "InF79xj4az1p"
      },
      "source": [
        "rand1 = torch.abs(torch.randn(2,3))\n",
        "rand2 = torch.abs(torch.randn(2,3))"
      ],
      "execution_count": null,
      "outputs": []
    },
    {
      "cell_type": "code",
      "metadata": {
        "colab": {
          "base_uri": "https://localhost:8080/"
        },
        "id": "GUEUoyHmbTJ5",
        "outputId": "06ba64a3-0ccd-422e-a580-c20981a51cf5"
      },
      "source": [
        "add1 = rand1 +rand2\n",
        "add1"
      ],
      "execution_count": null,
      "outputs": [
        {
          "output_type": "execute_result",
          "data": {
            "text/plain": [
              "tensor([[2.7424, 0.4985, 3.3578],\n",
              "        [3.5512, 0.5360, 2.5355]])"
            ]
          },
          "metadata": {
            "tags": []
          },
          "execution_count": 59
        }
      ]
    },
    {
      "cell_type": "code",
      "metadata": {
        "colab": {
          "base_uri": "https://localhost:8080/"
        },
        "id": "g8agRBl4bTNA",
        "outputId": "170c2f6e-3953-4635-fc1f-ce4c9a9b2e17"
      },
      "source": [
        "add2 = torch.add(rand1,rand2)\n",
        "add2"
      ],
      "execution_count": null,
      "outputs": [
        {
          "output_type": "execute_result",
          "data": {
            "text/plain": [
              "tensor([[2.7424, 0.4985, 3.3578],\n",
              "        [3.5512, 0.5360, 2.5355]])"
            ]
          },
          "metadata": {
            "tags": []
          },
          "execution_count": 60
        }
      ]
    },
    {
      "cell_type": "code",
      "metadata": {
        "colab": {
          "base_uri": "https://localhost:8080/"
        },
        "id": "fPOgi0r-btSd",
        "outputId": "c67801fb-491a-4fde-b518-0a8148527699"
      },
      "source": [
        "tensor = torch.Tensor([[-1,-2,-3], [1,2,3]])\n",
        "tensor"
      ],
      "execution_count": null,
      "outputs": [
        {
          "output_type": "execute_result",
          "data": {
            "text/plain": [
              "tensor([[-1., -2., -3.],\n",
              "        [ 1.,  2.,  3.]])"
            ]
          },
          "metadata": {
            "tags": []
          },
          "execution_count": 61
        }
      ]
    },
    {
      "cell_type": "code",
      "metadata": {
        "colab": {
          "base_uri": "https://localhost:8080/"
        },
        "id": "vA7FyEPjbtcU",
        "outputId": "4c1da8f1-eddb-42ef-ecdb-35fff84cea7e"
      },
      "source": [
        "# element-wise div of 1st parameter with 2nd parameter \n",
        "tensor_div = torch.div(tensor, tensor + 0.3)\n",
        "tensor_div"
      ],
      "execution_count": null,
      "outputs": [
        {
          "output_type": "execute_result",
          "data": {
            "text/plain": [
              "tensor([[1.4286, 1.1765, 1.1111],\n",
              "        [0.7692, 0.8696, 0.9091]])"
            ]
          },
          "metadata": {
            "tags": []
          },
          "execution_count": 62
        }
      ]
    },
    {
      "cell_type": "code",
      "metadata": {
        "colab": {
          "base_uri": "https://localhost:8080/"
        },
        "id": "WMUdkB5ncULL",
        "outputId": "86e80254-9ce5-45bc-f70d-570604d55273"
      },
      "source": [
        "# elem wise mul\n",
        "tensor_mul = torch.mul(tensor, tensor)\n",
        "tensor_mul"
      ],
      "execution_count": null,
      "outputs": [
        {
          "output_type": "execute_result",
          "data": {
            "text/plain": [
              "tensor([[1., 4., 9.],\n",
              "        [1., 4., 9.]])"
            ]
          },
          "metadata": {
            "tags": []
          },
          "execution_count": 63
        }
      ]
    },
    {
      "cell_type": "code",
      "metadata": {
        "colab": {
          "base_uri": "https://localhost:8080/"
        },
        "id": "l1oBFScucURM",
        "outputId": "220f2a16-3b9a-4210-969f-9e1bd08a1b80"
      },
      "source": [
        "# clamping tensor values within in min and max range\n",
        "tensor_clamp = torch.clamp(tensor,  min= -0.2, max = 2)\n",
        "tensor_clamp"
      ],
      "execution_count": null,
      "outputs": [
        {
          "output_type": "execute_result",
          "data": {
            "text/plain": [
              "tensor([[-0.2000, -0.2000, -0.2000],\n",
              "        [ 1.0000,  2.0000,  2.0000]])"
            ]
          },
          "metadata": {
            "tags": []
          },
          "execution_count": 64
        }
      ]
    },
    {
      "cell_type": "markdown",
      "metadata": {
        "id": "EenKbP2bdJd8"
      },
      "source": [
        "#matrix operations"
      ]
    },
    {
      "cell_type": "code",
      "metadata": {
        "id": "o-C491sddEsB"
      },
      "source": [
        "t1 = torch.Tensor([1,2])\n",
        "t2 = torch.Tensor([10,20])\n"
      ],
      "execution_count": null,
      "outputs": []
    },
    {
      "cell_type": "code",
      "metadata": {
        "colab": {
          "base_uri": "https://localhost:8080/"
        },
        "id": "jwAxj2-0dVax",
        "outputId": "037680a9-8e30-4ef0-ebf9-2f58d34e7a7d"
      },
      "source": [
        "# dot product\n",
        "dot_product = torch.dot(t1,t2)\n",
        "dot_product # a scalar"
      ],
      "execution_count": null,
      "outputs": [
        {
          "output_type": "execute_result",
          "data": {
            "text/plain": [
              "tensor(50.)"
            ]
          },
          "metadata": {
            "tags": []
          },
          "execution_count": 66
        }
      ]
    },
    {
      "cell_type": "code",
      "metadata": {
        "id": "TgO8qWe4d85R"
      },
      "source": [
        "matrix = torch.Tensor([[1,2,3], [4,5,6]])\n",
        "vector = torch.Tensor([0,1,2])"
      ],
      "execution_count": null,
      "outputs": []
    },
    {
      "cell_type": "code",
      "metadata": {
        "colab": {
          "base_uri": "https://localhost:8080/"
        },
        "id": "Q44ywzXsdVm9",
        "outputId": "bb4b5c10-5a19-42b7-f486-3edb3cece2f5"
      },
      "source": [
        "# working with multi dim tensor and a vector\n",
        "matrix_vector = torch.mv(matrix, vector)\n",
        "matrix_vector"
      ],
      "execution_count": null,
      "outputs": [
        {
          "output_type": "execute_result",
          "data": {
            "text/plain": [
              "tensor([ 8., 17.])"
            ]
          },
          "metadata": {
            "tags": []
          },
          "execution_count": 68
        }
      ]
    },
    {
      "cell_type": "code",
      "metadata": {
        "id": "Df7ut_-ieaz4"
      },
      "source": [
        "another_matrix = torch.Tensor([[10,30],[20,0], [0,50]])\n"
      ],
      "execution_count": null,
      "outputs": []
    },
    {
      "cell_type": "code",
      "metadata": {
        "colab": {
          "base_uri": "https://localhost:8080/"
        },
        "id": "dR3Kl_RHeJEd",
        "outputId": "455c054c-49fb-44a1-e192-c78a627924a5"
      },
      "source": [
        "# matrix multiplication\n",
        "matrix_mul = torch.mm(matrix, another_matrix)\n",
        "matrix_mul"
      ],
      "execution_count": null,
      "outputs": [
        {
          "output_type": "execute_result",
          "data": {
            "text/plain": [
              "tensor([[ 50., 180.],\n",
              "        [140., 420.]])"
            ]
          },
          "metadata": {
            "tags": []
          },
          "execution_count": 70
        }
      ]
    },
    {
      "cell_type": "code",
      "metadata": {
        "colab": {
          "base_uri": "https://localhost:8080/"
        },
        "id": "YCK3nZUgeJQl",
        "outputId": "84c24da0-c671-48ac-8fd7-fae1064e794d"
      },
      "source": [
        "# argmax .. finds the largest element index along a particular dim\n",
        "torch.argmax(matrix_mul, dim = 1)"
      ],
      "execution_count": null,
      "outputs": [
        {
          "output_type": "execute_result",
          "data": {
            "text/plain": [
              "tensor([1, 1])"
            ]
          },
          "metadata": {
            "tags": []
          },
          "execution_count": 71
        }
      ]
    },
    {
      "cell_type": "code",
      "metadata": {
        "colab": {
          "base_uri": "https://localhost:8080/"
        },
        "id": "cO6cY1HPeJZB",
        "outputId": "a3c2d622-9f1f-47d2-d0b8-49a67a7038cc"
      },
      "source": [
        "# argmix\n",
        "torch.argmin(matrix_mul, dim =1)"
      ],
      "execution_count": null,
      "outputs": [
        {
          "output_type": "execute_result",
          "data": {
            "text/plain": [
              "tensor([0, 0])"
            ]
          },
          "metadata": {
            "tags": []
          },
          "execution_count": 72
        }
      ]
    },
    {
      "cell_type": "markdown",
      "metadata": {
        "id": "yzdbW1OafVAT"
      },
      "source": [
        "# Conversion btw pytorch and numpy"
      ]
    },
    {
      "cell_type": "code",
      "metadata": {
        "id": "IBDZaTZwfRjd"
      },
      "source": [
        "import numpy as np\n",
        "import torch"
      ],
      "execution_count": null,
      "outputs": []
    },
    {
      "cell_type": "code",
      "metadata": {
        "colab": {
          "base_uri": "https://localhost:8080/"
        },
        "id": "edoCODMbfS3R",
        "outputId": "7ca17c57-542a-4019-8ed7-f0aed191b032"
      },
      "source": [
        "tensor = torch.rand(4,3)\n",
        "tensor"
      ],
      "execution_count": null,
      "outputs": [
        {
          "output_type": "execute_result",
          "data": {
            "text/plain": [
              "tensor([[0.7431, 0.5955, 0.4478],\n",
              "        [0.6964, 0.8372, 0.5812],\n",
              "        [0.8693, 0.2454, 0.1612],\n",
              "        [0.4285, 0.4238, 0.3469]])"
            ]
          },
          "metadata": {
            "tags": []
          },
          "execution_count": 74
        }
      ]
    },
    {
      "cell_type": "code",
      "metadata": {
        "colab": {
          "base_uri": "https://localhost:8080/"
        },
        "id": "Gd6a7cETfS9t",
        "outputId": "1927a38c-7c26-4cb0-8b0f-761a7ed6a5a4"
      },
      "source": [
        "type(tensor)"
      ],
      "execution_count": null,
      "outputs": [
        {
          "output_type": "execute_result",
          "data": {
            "text/plain": [
              "torch.Tensor"
            ]
          },
          "metadata": {
            "tags": []
          },
          "execution_count": 75
        }
      ]
    },
    {
      "cell_type": "code",
      "metadata": {
        "colab": {
          "base_uri": "https://localhost:8080/"
        },
        "id": "omoU5hmQfTED",
        "outputId": "91fb81b8-ca96-462f-9236-b84b8aba5c1d"
      },
      "source": [
        "# torch tensors are numpy arrays with the ability to work on gpu\n",
        "numpy_from_tensor = tensor.numpy()\n",
        "numpy_from_tensor"
      ],
      "execution_count": null,
      "outputs": [
        {
          "output_type": "execute_result",
          "data": {
            "text/plain": [
              "array([[0.74314198, 0.59546132, 0.4477522 ],\n",
              "       [0.69643879, 0.83716432, 0.58120935],\n",
              "       [0.86929629, 0.24541388, 0.16115797],\n",
              "       [0.42854747, 0.42375822, 0.34692959]])"
            ]
          },
          "metadata": {
            "tags": []
          },
          "execution_count": 76
        }
      ]
    },
    {
      "cell_type": "code",
      "metadata": {
        "colab": {
          "base_uri": "https://localhost:8080/"
        },
        "id": "6gDl5yhQfTIe",
        "outputId": "fbd4c7bd-d0f1-4899-9c8b-ad1eb37af6a4"
      },
      "source": [
        "type(numpy_from_tensor)"
      ],
      "execution_count": null,
      "outputs": [
        {
          "output_type": "execute_result",
          "data": {
            "text/plain": [
              "numpy.ndarray"
            ]
          },
          "metadata": {
            "tags": []
          },
          "execution_count": 77
        }
      ]
    },
    {
      "cell_type": "code",
      "metadata": {
        "colab": {
          "base_uri": "https://localhost:8080/"
        },
        "id": "o4Pm6IXBfTMo",
        "outputId": "95d5c9e6-717b-46a9-d843-1c2b67e3f42b"
      },
      "source": [
        "torch.is_tensor(tensor)"
      ],
      "execution_count": null,
      "outputs": [
        {
          "output_type": "execute_result",
          "data": {
            "text/plain": [
              "True"
            ]
          },
          "metadata": {
            "tags": []
          },
          "execution_count": 78
        }
      ]
    },
    {
      "cell_type": "code",
      "metadata": {
        "colab": {
          "base_uri": "https://localhost:8080/"
        },
        "id": "CyDZXdR2TgCd",
        "outputId": "8dee99db-551a-4f0b-9314-9b89644917b1"
      },
      "source": [
        "torch.is_tensor(numpy_from_tensor)"
      ],
      "execution_count": null,
      "outputs": [
        {
          "output_type": "execute_result",
          "data": {
            "text/plain": [
              "False"
            ]
          },
          "metadata": {
            "tags": []
          },
          "execution_count": 79
        }
      ]
    },
    {
      "cell_type": "code",
      "metadata": {
        "id": "9OhDERTVTgIT"
      },
      "source": [
        "# original pytorch tensor and the numpy array created from it share \n",
        "# the same memory\n",
        "# change in tensor is reflected in numpy array\n",
        "# its the same data in diff objects"
      ],
      "execution_count": null,
      "outputs": []
    },
    {
      "cell_type": "code",
      "metadata": {
        "colab": {
          "base_uri": "https://localhost:8080/"
        },
        "id": "yxUJMMDsTgK1",
        "outputId": "e867ae4a-82bd-4259-eacb-5b374d169c7c"
      },
      "source": [
        "# doing vice versa\n",
        "numpy_arr = np.array([[1.0,2.0,3.0], [10.0,20.0,30.0],[100.0, 200.0,300.0]])\n",
        "numpy_arr\n"
      ],
      "execution_count": null,
      "outputs": [
        {
          "output_type": "execute_result",
          "data": {
            "text/plain": [
              "array([[  1.,   2.,   3.],\n",
              "       [ 10.,  20.,  30.],\n",
              "       [100., 200., 300.]])"
            ]
          },
          "metadata": {
            "tags": []
          },
          "execution_count": 81
        }
      ]
    },
    {
      "cell_type": "code",
      "metadata": {
        "colab": {
          "base_uri": "https://localhost:8080/"
        },
        "id": "o8hRDGbAUUCC",
        "outputId": "70aae539-36c1-4e6d-991c-ed564f20d185"
      },
      "source": [
        "tensor_from_numpy = torch.from_numpy(numpy_arr)\n",
        "tensor_from_numpy"
      ],
      "execution_count": null,
      "outputs": [
        {
          "output_type": "execute_result",
          "data": {
            "text/plain": [
              "tensor([[  1.,   2.,   3.],\n",
              "        [ 10.,  20.,  30.],\n",
              "        [100., 200., 300.]])"
            ]
          },
          "metadata": {
            "tags": []
          },
          "execution_count": 82
        }
      ]
    },
    {
      "cell_type": "code",
      "metadata": {
        "colab": {
          "base_uri": "https://localhost:8080/"
        },
        "id": "pHIZ32tLUUFG",
        "outputId": "9c41506d-3cf5-4071-d904-f950daa3405c"
      },
      "source": [
        "# again the torch tensor and the original numpy array share the same memory\n",
        "tensor_from_numpy[0]= 1\n",
        "tensor_from_numpy"
      ],
      "execution_count": null,
      "outputs": [
        {
          "output_type": "execute_result",
          "data": {
            "text/plain": [
              "tensor([[  1.,   1.,   1.],\n",
              "        [ 10.,  20.,  30.],\n",
              "        [100., 200., 300.]])"
            ]
          },
          "metadata": {
            "tags": []
          },
          "execution_count": 83
        }
      ]
    },
    {
      "cell_type": "code",
      "metadata": {
        "colab": {
          "base_uri": "https://localhost:8080/"
        },
        "id": "IIuo0vwBUUPp",
        "outputId": "d1837095-df25-4be8-ac5a-7492c997f359"
      },
      "source": [
        "numpy_arr"
      ],
      "execution_count": null,
      "outputs": [
        {
          "output_type": "execute_result",
          "data": {
            "text/plain": [
              "array([[  1.,   1.,   1.],\n",
              "       [ 10.,  20.,  30.],\n",
              "       [100., 200., 300.]])"
            ]
          },
          "metadata": {
            "tags": []
          },
          "execution_count": 84
        }
      ]
    },
    {
      "cell_type": "markdown",
      "metadata": {
        "id": "XtvUM3NMVkKU"
      },
      "source": [
        "#other ways to convert numpy array to tensors"
      ]
    },
    {
      "cell_type": "code",
      "metadata": {
        "colab": {
          "base_uri": "https://localhost:8080/"
        },
        "id": "HeRJ6x9hUUW8",
        "outputId": "46119f17-9fa3-4e19-f07f-16420ecd3935"
      },
      "source": [
        "np_array_one = np.array([4,8])\n",
        "np_array_one"
      ],
      "execution_count": null,
      "outputs": [
        {
          "output_type": "execute_result",
          "data": {
            "text/plain": [
              "array([4, 8])"
            ]
          },
          "metadata": {
            "tags": []
          },
          "execution_count": 85
        }
      ]
    },
    {
      "cell_type": "code",
      "metadata": {
        "colab": {
          "base_uri": "https://localhost:8080/"
        },
        "id": "mI6JOUIxUU1y",
        "outputId": "4c5a4cbc-7e35-4b5e-d9d8-c7bb5de96bbf"
      },
      "source": [
        "# creating a tensor from numpy array using .as_tensor \n",
        "# it performs a copy if the data is not already a tensor or else copy is avoided\n",
        "# if data is already a tensor with same dtype n device then no copy is performed\n",
        "# and a new tensor is returned with same computational graph\n",
        "tensor_from_array_one = torch.as_tensor(np_array_one)\n",
        "tensor_from_array_one"
      ],
      "execution_count": null,
      "outputs": [
        {
          "output_type": "execute_result",
          "data": {
            "text/plain": [
              "tensor([4, 8])"
            ]
          },
          "metadata": {
            "tags": []
          },
          "execution_count": 86
        }
      ]
    },
    {
      "cell_type": "code",
      "metadata": {
        "colab": {
          "base_uri": "https://localhost:8080/"
        },
        "id": "wXuNylhnW5e0",
        "outputId": "c2053efd-c100-4cd3-f12c-f44af0b9cdf7"
      },
      "source": [
        "np_array_one[1] = 5\n",
        "np_array_one"
      ],
      "execution_count": null,
      "outputs": [
        {
          "output_type": "execute_result",
          "data": {
            "text/plain": [
              "array([4, 5])"
            ]
          },
          "metadata": {
            "tags": []
          },
          "execution_count": 87
        }
      ]
    },
    {
      "cell_type": "code",
      "metadata": {
        "colab": {
          "base_uri": "https://localhost:8080/"
        },
        "id": "AitWpSLUW5pj",
        "outputId": "51a76f26-7f3b-4f40-d73c-f73513e18236"
      },
      "source": [
        "tensor_from_array_one"
      ],
      "execution_count": null,
      "outputs": [
        {
          "output_type": "execute_result",
          "data": {
            "text/plain": [
              "tensor([4, 5])"
            ]
          },
          "metadata": {
            "tags": []
          },
          "execution_count": 88
        }
      ]
    },
    {
      "cell_type": "code",
      "metadata": {
        "colab": {
          "base_uri": "https://localhost:8080/"
        },
        "id": "qIb7-XwIXbxG",
        "outputId": "25673541-b7a7-49ab-d01b-3e54986445be"
      },
      "source": [
        "# to make the copy of data while creating a tensor from numpy array\n",
        "np_array_2 = np.array([2,2])\n",
        "np_array_2"
      ],
      "execution_count": null,
      "outputs": [
        {
          "output_type": "execute_result",
          "data": {
            "text/plain": [
              "array([2, 2])"
            ]
          },
          "metadata": {
            "tags": []
          },
          "execution_count": 89
        }
      ]
    },
    {
      "cell_type": "code",
      "metadata": {
        "colab": {
          "base_uri": "https://localhost:8080/"
        },
        "id": "JwXdqznZXvqV",
        "outputId": "a6d3adc5-726b-41a5-fae0-85103021e8bc"
      },
      "source": [
        "tensor_from_array_2 = torch.tensor(np_array_2)\n",
        "tensor_from_array_2"
      ],
      "execution_count": null,
      "outputs": [
        {
          "output_type": "execute_result",
          "data": {
            "text/plain": [
              "tensor([2, 2])"
            ]
          },
          "metadata": {
            "tags": []
          },
          "execution_count": 90
        }
      ]
    },
    {
      "cell_type": "code",
      "metadata": {
        "colab": {
          "base_uri": "https://localhost:8080/"
        },
        "id": "9o0HYIc4XvxF",
        "outputId": "fa35769f-1926-4867-d8bb-dbc47fc721f5"
      },
      "source": [
        "# make a change to original numpy array\n",
        "np_array_2[1] = 4\n",
        "np_array_2"
      ],
      "execution_count": null,
      "outputs": [
        {
          "output_type": "execute_result",
          "data": {
            "text/plain": [
              "array([2, 4])"
            ]
          },
          "metadata": {
            "tags": []
          },
          "execution_count": 91
        }
      ]
    },
    {
      "cell_type": "code",
      "metadata": {
        "colab": {
          "base_uri": "https://localhost:8080/"
        },
        "id": "iH7HVYYwXv4M",
        "outputId": "4d12ee16-dd94-4be8-f5c4-b4320e91cdc5"
      },
      "source": [
        "# no change in the torch tensor as copy is made \n",
        "tensor_from_array_2"
      ],
      "execution_count": null,
      "outputs": [
        {
          "output_type": "execute_result",
          "data": {
            "text/plain": [
              "tensor([2, 2])"
            ]
          },
          "metadata": {
            "tags": []
          },
          "execution_count": 92
        }
      ]
    },
    {
      "cell_type": "markdown",
      "metadata": {
        "id": "jOnnzCs-Ygmb"
      },
      "source": [
        "#Pytorch , Cuda, and GPU"
      ]
    },
    {
      "cell_type": "code",
      "metadata": {
        "id": "R9O7l07hbNtX"
      },
      "source": [
        "import torch"
      ],
      "execution_count": null,
      "outputs": []
    },
    {
      "cell_type": "code",
      "metadata": {
        "colab": {
          "base_uri": "https://localhost:8080/"
        },
        "id": "uygtKJwoXZY1",
        "outputId": "871f77cf-3118-4e9f-fa86-82dadcfebdd1"
      },
      "source": [
        "torch.cuda.is_available()"
      ],
      "execution_count": null,
      "outputs": [
        {
          "output_type": "execute_result",
          "data": {
            "text/plain": [
              "True"
            ]
          },
          "metadata": {
            "tags": []
          },
          "execution_count": 94
        }
      ]
    },
    {
      "cell_type": "code",
      "metadata": {
        "id": "nMA_YYqGbSPP"
      },
      "source": [
        "# to initialise the pytorchs cuda state : required when interating with its C api\n",
        "torch.cuda.init()"
      ],
      "execution_count": null,
      "outputs": []
    },
    {
      "cell_type": "code",
      "metadata": {
        "colab": {
          "base_uri": "https://localhost:8080/"
        },
        "id": "RFB4qvOhbSXy",
        "outputId": "8c109dca-0962-4bac-cc8b-6f863f6592ff"
      },
      "source": [
        "# keeps track of currently selected GPU device and \n",
        "# all cuda tensors will be  created on that device \n",
        "torch.cuda.current_device()\n",
        "# returns index of device"
      ],
      "execution_count": null,
      "outputs": [
        {
          "output_type": "execute_result",
          "data": {
            "text/plain": [
              "0"
            ]
          },
          "metadata": {
            "tags": []
          },
          "execution_count": 96
        }
      ]
    },
    {
      "cell_type": "code",
      "metadata": {
        "colab": {
          "base_uri": "https://localhost:8080/"
        },
        "id": "FC5cl-7BbSk4",
        "outputId": "844740dd-7513-447f-81b9-3a7466b6976a"
      },
      "source": [
        "# count num of cuda enabled devices available for pytorch\n",
        "torch.cuda.device_count()"
      ],
      "execution_count": null,
      "outputs": [
        {
          "output_type": "execute_result",
          "data": {
            "text/plain": [
              "1"
            ]
          },
          "metadata": {
            "tags": []
          },
          "execution_count": 97
        }
      ]
    },
    {
      "cell_type": "code",
      "metadata": {
        "id": "8dqsod7dXv8q"
      },
      "source": [
        "# to change which device to use , pytorch uses device context manager"
      ],
      "execution_count": null,
      "outputs": []
    },
    {
      "cell_type": "code",
      "metadata": {
        "colab": {
          "base_uri": "https://localhost:8080/"
        },
        "id": "H8cVwhMNXwAu",
        "outputId": "3dd67983-ae14-442a-d41a-b30003f821e8"
      },
      "source": [
        "# func to monitor cuda memory occupied by tensor you we allocate\n",
        "torch.cuda.memory_allocated()"
      ],
      "execution_count": null,
      "outputs": [
        {
          "output_type": "execute_result",
          "data": {
            "text/plain": [
              "0"
            ]
          },
          "metadata": {
            "tags": []
          },
          "execution_count": 99
        }
      ]
    },
    {
      "cell_type": "code",
      "metadata": {
        "colab": {
          "base_uri": "https://localhost:8080/"
        },
        "id": "E30o6DsHXwG_",
        "outputId": "323cf1f1-b0c8-46d8-b39a-055d12c9b0ff"
      },
      "source": [
        "# to speed up thing and memory allocations,  pytorch uses caching memory allocator\n",
        "# it allows fast memory deallocation without device synchonization\n",
        "torch.cuda.memory_cached()\n"
      ],
      "execution_count": null,
      "outputs": [
        {
          "output_type": "stream",
          "text": [
            "/usr/local/lib/python3.7/dist-packages/torch/cuda/memory.py:375: FutureWarning: torch.cuda.memory_cached has been renamed to torch.cuda.memory_reserved\n",
            "  FutureWarning)\n"
          ],
          "name": "stderr"
        },
        {
          "output_type": "execute_result",
          "data": {
            "text/plain": [
              "0"
            ]
          },
          "metadata": {
            "tags": []
          },
          "execution_count": 100
        }
      ]
    },
    {
      "cell_type": "code",
      "metadata": {
        "colab": {
          "base_uri": "https://localhost:8080/"
        },
        "id": "b-j9FJbQXZkO",
        "outputId": "18f83056-2764-4a23-93ff-ada4fdc68991"
      },
      "source": [
        "cuda = torch.device('cuda')\n",
        "cuda\n",
        "# 'cuda' refers to default cuda device used by pytorch\n",
        "# this can b changed using DCM"
      ],
      "execution_count": null,
      "outputs": [
        {
          "output_type": "execute_result",
          "data": {
            "text/plain": [
              "device(type='cuda')"
            ]
          },
          "metadata": {
            "tags": []
          },
          "execution_count": 101
        }
      ]
    },
    {
      "cell_type": "code",
      "metadata": {
        "id": "apXoOUhjXZsE"
      },
      "source": [
        "# indexing of devices\n",
        "cuda0 = torch.device('cuda')"
      ],
      "execution_count": null,
      "outputs": []
    },
    {
      "cell_type": "code",
      "metadata": {
        "id": "JhObGKJRXZz9"
      },
      "source": [
        "# when a tensor is created with specifing cuda device, \n",
        "# its by default created on cpu"
      ],
      "execution_count": null,
      "outputs": []
    },
    {
      "cell_type": "code",
      "metadata": {
        "colab": {
          "base_uri": "https://localhost:8080/"
        },
        "id": "JE5WWMCPXZ8S",
        "outputId": "e85d8225-b83d-4bc9-ef08-273f7a0c7be4"
      },
      "source": [
        "x = torch.tensor([10.0, 20.0])\n",
        "x"
      ],
      "execution_count": null,
      "outputs": [
        {
          "output_type": "execute_result",
          "data": {
            "text/plain": [
              "tensor([10., 20.])"
            ]
          },
          "metadata": {
            "tags": []
          },
          "execution_count": 105
        }
      ]
    },
    {
      "cell_type": "code",
      "metadata": {
        "colab": {
          "base_uri": "https://localhost:8080/"
        },
        "id": "SialxwGJe2NB",
        "outputId": "ac2e2290-b674-49ca-b20d-8461902e59b5"
      },
      "source": [
        "# to create a tensor on gpt, explicitly specify cuda device parameter\n",
        "# it by default uses the cuda device at index 0, change the device as  needed\n",
        "x_default = torch.tensor([10.0,20.0], device = cuda)\n",
        "x_default"
      ],
      "execution_count": null,
      "outputs": [
        {
          "output_type": "execute_result",
          "data": {
            "text/plain": [
              "tensor([10., 20.], device='cuda:0')"
            ]
          },
          "metadata": {
            "tags": []
          },
          "execution_count": 106
        }
      ]
    },
    {
      "cell_type": "code",
      "metadata": {
        "id": "jaMr53Z7e2Wh"
      },
      "source": [
        "# creating a tensor on non existing cuda device throws an error"
      ],
      "execution_count": null,
      "outputs": []
    },
    {
      "cell_type": "code",
      "metadata": {
        "colab": {
          "base_uri": "https://localhost:8080/"
        },
        "id": "wvXpUBcFe2g3",
        "outputId": "57b7fb77-4895-4f9f-b95c-19df36c5671f"
      },
      "source": [
        "# to create a copy of the tensor in cuda memory\n",
        "y = x.cuda() # x variable is on cpu and not on gpu\n",
        "y # created on cuda0"
      ],
      "execution_count": null,
      "outputs": [
        {
          "output_type": "execute_result",
          "data": {
            "text/plain": [
              "tensor([10., 20.], device='cuda:0')"
            ]
          },
          "metadata": {
            "tags": []
          },
          "execution_count": 108
        }
      ]
    },
    {
      "cell_type": "code",
      "metadata": {
        "id": "hCbsll7-hD7U"
      },
      "source": [
        "# if the tensor is already in cuda memory and on correct device , \n",
        "# no copy is performed"
      ],
      "execution_count": null,
      "outputs": []
    },
    {
      "cell_type": "code",
      "metadata": {
        "colab": {
          "base_uri": "https://localhost:8080/"
        },
        "id": "_FemiMLchOwH",
        "outputId": "f7e12827-4f2b-4b11-bcda-5390782ad7a9"
      },
      "source": [
        "# to change the default device for pytorch using context manager\n",
        "print('outside with context' , torch.cuda.current_device())\n",
        "with torch.cuda.device(0):\n",
        "  print('inside with context ', torch.cuda.current_device())\n",
        "print('outside with context again', torch.cuda.current_device())"
      ],
      "execution_count": null,
      "outputs": [
        {
          "output_type": "stream",
          "text": [
            "outside with context 0\n",
            "inside with context  0\n",
            "outside with context again 0\n"
          ],
          "name": "stdout"
        }
      ]
    },
    {
      "cell_type": "code",
      "metadata": {
        "id": "XmzueaoIiLp8"
      },
      "source": [
        "with torch.cuda.device(0):\n",
        "  a = torch.tensor([10.0, 20.0]) #created on cpu\n",
        "  a0 = torch.tensor([10.0, 20.0], device = cuda0) #on cuda0\n",
        "  a1 = torch.tensor([10.0,20.0], device=cuda) #on cuda1 default device in the context\n"
      ],
      "execution_count": null,
      "outputs": []
    },
    {
      "cell_type": "code",
      "metadata": {
        "id": "tDKYRIhliL18"
      },
      "source": [
        "# # cross gpu operations are not supported in pytorch by default\n",
        "# # to expiclitly move a tensor from 1 gpu to another we need to perform copy\n",
        "# x.cuda #1 type\n",
        "# torch.Tensor.to() #2 type\n",
        "# # used to perform tensor dtype or device conversion\n",
        "\n",
        "# # a0 is on cuda0\n",
        "# # b1 has been created on cuda1\n",
        "# b1 = a0.to(device='cuda1')\n",
        "\n",
        "# # a copy has been made using to func\n",
        "\n",
        "# # try to perform operation on tensor from to diff devices\n",
        "# # a on cpu , a0 on cuda0\n",
        "# sum_a = a + a0\n",
        "# # error"
      ],
      "execution_count": null,
      "outputs": []
    },
    {
      "cell_type": "code",
      "metadata": {
        "colab": {
          "base_uri": "https://localhost:8080/"
        },
        "id": "jP5EIA4FlF6J",
        "outputId": "269fd75a-8772-496d-de82-70559d33f57d"
      },
      "source": [
        "# chk memory allocated\n",
        "torch.cuda.memory_allocated()\n"
      ],
      "execution_count": null,
      "outputs": [
        {
          "output_type": "execute_result",
          "data": {
            "text/plain": [
              "2048"
            ]
          },
          "metadata": {
            "tags": []
          },
          "execution_count": 117
        }
      ]
    },
    {
      "cell_type": "code",
      "metadata": {
        "colab": {
          "base_uri": "https://localhost:8080/"
        },
        "id": "Lb5NhUmbhO53",
        "outputId": "e099f3ab-acde-478b-c855-4a3886912f06"
      },
      "source": [
        "torch.cuda.memory_cached()"
      ],
      "execution_count": null,
      "outputs": [
        {
          "output_type": "stream",
          "text": [
            "/usr/local/lib/python3.7/dist-packages/torch/cuda/memory.py:375: FutureWarning: torch.cuda.memory_cached has been renamed to torch.cuda.memory_reserved\n",
            "  FutureWarning)\n"
          ],
          "name": "stderr"
        },
        {
          "output_type": "execute_result",
          "data": {
            "text/plain": [
              "2097152"
            ]
          },
          "metadata": {
            "tags": []
          },
          "execution_count": 118
        }
      ]
    },
    {
      "cell_type": "code",
      "metadata": {
        "id": "9ozSn47whPA_"
      },
      "source": [
        "# free up unused cache memory within caching allocator\n",
        "torch.cuda.empty_cache()"
      ],
      "execution_count": null,
      "outputs": []
    },
    {
      "cell_type": "code",
      "metadata": {
        "colab": {
          "base_uri": "https://localhost:8080/"
        },
        "id": "Wjgm3mmBe2_j",
        "outputId": "0864f8d4-fa44-4d8d-de5c-f9c5d1a238ca"
      },
      "source": [
        "torch.cuda.memory_cached()\n",
        "# result is same coz we donot have any unused memory in our cache"
      ],
      "execution_count": null,
      "outputs": [
        {
          "output_type": "stream",
          "text": [
            "/usr/local/lib/python3.7/dist-packages/torch/cuda/memory.py:375: FutureWarning: torch.cuda.memory_cached has been renamed to torch.cuda.memory_reserved\n",
            "  FutureWarning)\n"
          ],
          "name": "stderr"
        },
        {
          "output_type": "execute_result",
          "data": {
            "text/plain": [
              "2097152"
            ]
          },
          "metadata": {
            "tags": []
          },
          "execution_count": 120
        }
      ]
    },
    {
      "cell_type": "code",
      "metadata": {
        "colab": {
          "base_uri": "https://localhost:8080/"
        },
        "id": "jUybrZ5ye3Jc",
        "outputId": "f21525fb-9a7c-4114-a5d0-2430665b08e4"
      },
      "source": [
        "# to create new tensor on same device , \n",
        "# use pytorch operations prefixed with, new_\n",
        "# it creates tensor with same datatype as the original on same device\n",
        "preserve_context = x.new_full([2,2], fill_value = 1.1)\n",
        "preserve_context"
      ],
      "execution_count": null,
      "outputs": [
        {
          "output_type": "execute_result",
          "data": {
            "text/plain": [
              "tensor([[1.1000, 1.1000],\n",
              "        [1.1000, 1.1000]])"
            ]
          },
          "metadata": {
            "tags": []
          },
          "execution_count": 121
        }
      ]
    },
    {
      "cell_type": "code",
      "metadata": {
        "id": "RzzYKixne3Ta",
        "colab": {
          "base_uri": "https://localhost:8080/"
        },
        "outputId": "fcdbd730-3f37-4948-f92d-6f7e69312f10"
      },
      "source": [
        "preserve_context0 = x.new_full([2,2], fill_value = 1.1)\n",
        "preserve_context0"
      ],
      "execution_count": null,
      "outputs": [
        {
          "output_type": "execute_result",
          "data": {
            "text/plain": [
              "tensor([[1.1000, 1.1000],\n",
              "        [1.1000, 1.1000]])"
            ]
          },
          "metadata": {
            "tags": []
          },
          "execution_count": 123
        }
      ]
    },
    {
      "cell_type": "markdown",
      "metadata": {
        "id": "V1eQ6o_BncKa"
      },
      "source": [
        "#working with gradients using Autograd library"
      ]
    },
    {
      "cell_type": "code",
      "metadata": {
        "id": "x9AL-KcgW51j"
      },
      "source": [
        "# calculation of gradients in pytorch using automatic differentiation is  done by autograd\n",
        "# back propagation is implemented using a technique called\n",
        "# reverse auto differentiation"
      ],
      "execution_count": null,
      "outputs": []
    },
    {
      "cell_type": "code",
      "metadata": {
        "id": "tN5xpAPIe3ep"
      },
      "source": [
        "import torch"
      ],
      "execution_count": null,
      "outputs": []
    },
    {
      "cell_type": "code",
      "metadata": {
        "colab": {
          "base_uri": "https://localhost:8080/"
        },
        "id": "F7shvgsm7iCe",
        "outputId": "dd031f27-546b-4a01-dc8e-0330c11d40de"
      },
      "source": [
        "tensor1 = torch.Tensor([[1,2,3], [4,5,6]])\n",
        "tensor1\n"
      ],
      "execution_count": null,
      "outputs": [
        {
          "output_type": "execute_result",
          "data": {
            "text/plain": [
              "tensor([[1., 2., 3.],\n",
              "        [4., 5., 6.]])"
            ]
          },
          "metadata": {
            "tags": []
          },
          "execution_count": 127
        }
      ]
    },
    {
      "cell_type": "code",
      "metadata": {
        "colab": {
          "base_uri": "https://localhost:8080/"
        },
        "id": "N7sj7vNn7xP-",
        "outputId": "af09c81d-ddca-49c8-cebe-b66c350007c5"
      },
      "source": [
        "tensor2 = torch.Tensor([[7,8,9],[10,11,12]])\n",
        "tensor2"
      ],
      "execution_count": null,
      "outputs": [
        {
          "output_type": "execute_result",
          "data": {
            "text/plain": [
              "tensor([[ 7.,  8.,  9.],\n",
              "        [10., 11., 12.]])"
            ]
          },
          "metadata": {
            "tags": []
          },
          "execution_count": 128
        }
      ]
    },
    {
      "cell_type": "code",
      "metadata": {
        "colab": {
          "base_uri": "https://localhost:8080/"
        },
        "id": "48iKAQZ37yLF",
        "outputId": "c25cc30e-d86b-4421-917f-31f80fe005c1"
      },
      "source": [
        "# every tensor created in pytorch has requires_grad property\n",
        "# when True this tracks computations for a tensor in the forwaed phase and \n",
        "# will calc gradients for this tensor in the backward phase\n",
        "# gradients are calc wrt scalr value Loss\n",
        "tensor1.requires_grad # default value is set to false"
      ],
      "execution_count": null,
      "outputs": [
        {
          "output_type": "execute_result",
          "data": {
            "text/plain": [
              "False"
            ]
          },
          "metadata": {
            "tags": []
          },
          "execution_count": 129
        }
      ]
    },
    {
      "cell_type": "code",
      "metadata": {
        "colab": {
          "base_uri": "https://localhost:8080/"
        },
        "id": "-iOhQk-98jUn",
        "outputId": "4546214b-0d2e-4860-bbc9-67e4aa7dbba8"
      },
      "source": [
        "tensor2.requires_grad"
      ],
      "execution_count": null,
      "outputs": [
        {
          "output_type": "execute_result",
          "data": {
            "text/plain": [
              "False"
            ]
          },
          "metadata": {
            "tags": []
          },
          "execution_count": 130
        }
      ]
    },
    {
      "cell_type": "code",
      "metadata": {
        "colab": {
          "base_uri": "https://localhost:8080/"
        },
        "id": "2gWcuoj78sG1",
        "outputId": "e827f091-b729-49ac-ea77-ebc89c41a015"
      },
      "source": [
        "# to enable tracking history on the tensor\n",
        "tensor1.requires_grad_() # updates the requires_grad property in place\n"
      ],
      "execution_count": null,
      "outputs": [
        {
          "output_type": "execute_result",
          "data": {
            "text/plain": [
              "tensor([[1., 2., 3.],\n",
              "        [4., 5., 6.]], requires_grad=True)"
            ]
          },
          "metadata": {
            "tags": []
          },
          "execution_count": 131
        }
      ]
    },
    {
      "cell_type": "code",
      "metadata": {
        "colab": {
          "base_uri": "https://localhost:8080/"
        },
        "id": "3ehrJIij8sS6",
        "outputId": "97bb4085-4fda-49ff-e918-9edc74639171"
      },
      "source": [
        "tensor1.requires_grad"
      ],
      "execution_count": null,
      "outputs": [
        {
          "output_type": "execute_result",
          "data": {
            "text/plain": [
              "True"
            ]
          },
          "metadata": {
            "tags": []
          },
          "execution_count": 132
        }
      ]
    },
    {
      "cell_type": "code",
      "metadata": {
        "colab": {
          "base_uri": "https://localhost:8080/"
        },
        "id": "VNcdd1MQ8sbR",
        "outputId": "0d352963-a5ce-471a-ea9a-d3047e145a86"
      },
      "source": [
        "tensor2.requires_grad\n"
      ],
      "execution_count": null,
      "outputs": [
        {
          "output_type": "execute_result",
          "data": {
            "text/plain": [
              "False"
            ]
          },
          "metadata": {
            "tags": []
          },
          "execution_count": 133
        }
      ]
    },
    {
      "cell_type": "code",
      "metadata": {
        "colab": {
          "base_uri": "https://localhost:8080/"
        },
        "id": "BvLG8Wra9R5K",
        "outputId": "dc27cc0b-1a16-4a07-b312-670db80a2a8a"
      },
      "source": [
        "# gradients calc by Autodiff wrt any tensor is present in grad matrix\n",
        "print(tensor1.grad) # no grad are available yet as we dint use \n",
        "# this tensor in computation graph, dint perform FP or BP\n"
      ],
      "execution_count": null,
      "outputs": [
        {
          "output_type": "stream",
          "text": [
            "None\n"
          ],
          "name": "stdout"
        }
      ]
    },
    {
      "cell_type": "code",
      "metadata": {
        "id": "_pElqbzA-Aml"
      },
      "source": [
        "# computation graph in pytorch is made up of tensors and functions\n",
        "# directed acyclic comp graph : with tensors as nodes and functions as transformations performed along the edges\n",
        "# every func has a grad func used to create that function"
      ],
      "execution_count": null,
      "outputs": []
    },
    {
      "cell_type": "code",
      "metadata": {
        "id": "QDWNTGP9-AtZ"
      },
      "source": [
        "# performing operations on tensor1 to set up comp graph\n",
        "output_tensor = tensor1  * tensor2\n",
        "# creating a new tensor using an operation , the requires_grad property \n",
        "# for the resulting tensor is based on the input tensors used to create it\n",
        "\n"
      ],
      "execution_count": null,
      "outputs": []
    },
    {
      "cell_type": "code",
      "metadata": {
        "colab": {
          "base_uri": "https://localhost:8080/"
        },
        "id": "7WoQj-05-Ayq",
        "outputId": "4e40ae3b-f65a-4a73-b8b9-3e68d8e1d130"
      },
      "source": [
        "output_tensor.requires_grad \n",
        "# its true as input tensor1 had requires_grad as true\n"
      ],
      "execution_count": null,
      "outputs": [
        {
          "output_type": "execute_result",
          "data": {
            "text/plain": [
              "True"
            ]
          },
          "metadata": {
            "tags": []
          },
          "execution_count": 137
        }
      ]
    },
    {
      "cell_type": "code",
      "metadata": {
        "colab": {
          "base_uri": "https://localhost:8080/"
        },
        "id": "3dBkNff0AjRD",
        "outputId": "3b8d1d64-55a8-4a82-e593-5434f5630c8d"
      },
      "source": [
        "print(output_tensor.grad\n",
        "      )\n",
        "# it also has grad property use to store gradients\n",
        "# there r no grads as v havnt made any backward pass"
      ],
      "execution_count": null,
      "outputs": [
        {
          "output_type": "stream",
          "text": [
            "None\n"
          ],
          "name": "stdout"
        },
        {
          "output_type": "stream",
          "text": [
            "/usr/local/lib/python3.7/dist-packages/ipykernel_launcher.py:1: UserWarning: The .grad attribute of a Tensor that is not a leaf Tensor is being accessed. Its .grad attribute won't be populated during autograd.backward(). If you indeed want the gradient for a non-leaf Tensor, use .retain_grad() on the non-leaf Tensor. If you access the non-leaf Tensor by mistake, make sure you access the leaf Tensor instead. See github.com/pytorch/pytorch/pull/30531 for more information.\n",
            "  \"\"\"Entry point for launching an IPython kernel.\n"
          ],
          "name": "stderr"
        }
      ]
    },
    {
      "cell_type": "code",
      "metadata": {
        "colab": {
          "base_uri": "https://localhost:8080/"
        },
        "id": "YdBb6pAuAjWN",
        "outputId": "d752bc5d-e3d8-469e-eec4-1ec83ebe416e"
      },
      "source": [
        "# this soutput tensor will have a grad function\n",
        "# coz we used a specific multiplicaton operation to create this output tensor\n",
        "\n",
        "print(output_tensor.grad_fn)\n",
        "# MulBackward0 is the grad func associated with this output tensor\n",
        "# user created tensor such as tensor1 and tensor2 have no grad func associated"
      ],
      "execution_count": null,
      "outputs": [
        {
          "output_type": "stream",
          "text": [
            "<MulBackward0 object at 0x7f86e00a2250>\n"
          ],
          "name": "stdout"
        }
      ]
    },
    {
      "cell_type": "code",
      "metadata": {
        "colab": {
          "base_uri": "https://localhost:8080/"
        },
        "id": "QHe_UDoQAjZ5",
        "outputId": "57342081-21a4-479d-b53c-630e976e15d8"
      },
      "source": [
        "# creating another outout func\n",
        "output_tensor = (tensor1 * tensor2).mean()\n",
        "print(output_tensor.grad_fn)\n",
        "# the grad func reference the last function ued to create that tensor,\n",
        "# here MeanBackward0, when many operations are performed"
      ],
      "execution_count": null,
      "outputs": [
        {
          "output_type": "stream",
          "text": [
            "<MeanBackward0 object at 0x7f86e00a2b90>\n"
          ],
          "name": "stdout"
        }
      ]
    },
    {
      "cell_type": "code",
      "metadata": {
        "colab": {
          "base_uri": "https://localhost:8080/"
        },
        "id": "-9OCp7bJAjej",
        "outputId": "b4ecebce-e37d-42b1-d1ba-6c034ab221f6"
      },
      "source": [
        "# tesnor1 has been part of multiple computation graphs,\n",
        "# but no grad is associated with it, coz v havent performed backward pass\n",
        "print(tensor1.grad)"
      ],
      "execution_count": null,
      "outputs": [
        {
          "output_type": "stream",
          "text": [
            "None\n"
          ],
          "name": "stdout"
        }
      ]
    },
    {
      "cell_type": "code",
      "metadata": {
        "id": "klTBkj_fGc6g"
      },
      "source": [
        "# to begin backward pass through our computation graph\n",
        "output_tensor.backward()\n",
        "# gradient calc ie our vector of partial derivatives will be calc only \n",
        "# when we call\n",
        "# backward function on an output\n"
      ],
      "execution_count": null,
      "outputs": []
    },
    {
      "cell_type": "code",
      "metadata": {
        "colab": {
          "base_uri": "https://localhost:8080/"
        },
        "id": "FW9tgK1cGdFO",
        "outputId": "485a4a85-4dfe-4414-9876-98bf1b90d107"
      },
      "source": [
        "# now we will have gradients for tensor1\n",
        "print(tensor1.grad)\n",
        "# these gradients are partial derivatives for parameters in tensor1 calc wrt output tensor\n"
      ],
      "execution_count": null,
      "outputs": [
        {
          "output_type": "stream",
          "text": [
            "tensor([[1.1667, 1.3333, 1.5000],\n",
            "        [1.6667, 1.8333, 2.0000]])\n"
          ],
          "name": "stdout"
        }
      ]
    },
    {
      "cell_type": "code",
      "metadata": {
        "colab": {
          "base_uri": "https://localhost:8080/"
        },
        "id": "ydqDlL3XAjo5",
        "outputId": "81c8fc75-12e4-431a-87a6-41906e020c0a"
      },
      "source": [
        "# since gradients are partial derivts wrt every value within tensor1,\n",
        "# the shape of the gradient will exactly match the shape of the tensor itself\n",
        "tensor1.grad.shape , tensor1.shape\n"
      ],
      "execution_count": null,
      "outputs": [
        {
          "output_type": "execute_result",
          "data": {
            "text/plain": [
              "(torch.Size([2, 3]), torch.Size([2, 3]))"
            ]
          },
          "metadata": {
            "tags": []
          },
          "execution_count": 144
        }
      ]
    },
    {
      "cell_type": "code",
      "metadata": {
        "colab": {
          "base_uri": "https://localhost:8080/"
        },
        "id": "8VIU1IAk-A3e",
        "outputId": "71822bce-ca32-407d-8733-2d8fd6ada8f8"
      },
      "source": [
        "print(tensor2.grad) # as requires_grad was not set to True"
      ],
      "execution_count": null,
      "outputs": [
        {
          "output_type": "stream",
          "text": [
            "None\n"
          ],
          "name": "stdout"
        }
      ]
    },
    {
      "cell_type": "code",
      "metadata": {
        "colab": {
          "base_uri": "https://localhost:8080/"
        },
        "id": "yUu_sa3j-A8k",
        "outputId": "db990dc2-7ea2-4030-cc3b-9bb122453ec0"
      },
      "source": [
        "print(output_tensor.grad)\n",
        "# no grad associated with output tensor as its the tensor wrt to which we calculated\n",
        "# partial derivatives to get gradients"
      ],
      "execution_count": null,
      "outputs": [
        {
          "output_type": "stream",
          "text": [
            "None\n"
          ],
          "name": "stdout"
        },
        {
          "output_type": "stream",
          "text": [
            "/usr/local/lib/python3.7/dist-packages/ipykernel_launcher.py:1: UserWarning: The .grad attribute of a Tensor that is not a leaf Tensor is being accessed. Its .grad attribute won't be populated during autograd.backward(). If you indeed want the gradient for a non-leaf Tensor, use .retain_grad() on the non-leaf Tensor. If you access the non-leaf Tensor by mistake, make sure you access the leaf Tensor instead. See github.com/pytorch/pytorch/pull/30531 for more information.\n",
            "  \"\"\"Entry point for launching an IPython kernel.\n"
          ],
          "name": "stderr"
        }
      ]
    },
    {
      "cell_type": "code",
      "metadata": {
        "colab": {
          "base_uri": "https://localhost:8080/"
        },
        "id": "8eYYt_RL-BCw",
        "outputId": "432875f2-bba0-4748-bcce-e354fb1eb898"
      },
      "source": [
        "# the requires_grad property is propagated from input tensors to the result tensors\n",
        "new_tensor = tensor1 * 3\n",
        "print(new_tensor.requires_grad)\n"
      ],
      "execution_count": null,
      "outputs": [
        {
          "output_type": "stream",
          "text": [
            "True\n"
          ],
          "name": "stdout"
        }
      ]
    },
    {
      "cell_type": "code",
      "metadata": {
        "colab": {
          "base_uri": "https://localhost:8080/"
        },
        "id": "KPAaR4_1-BIX",
        "outputId": "b7d716b9-e000-4cc9-dd35-9bb254ec657f"
      },
      "source": [
        "new_tensor"
      ],
      "execution_count": null,
      "outputs": [
        {
          "output_type": "execute_result",
          "data": {
            "text/plain": [
              "tensor([[ 3.,  6.,  9.],\n",
              "        [12., 15., 18.]], grad_fn=<MulBackward0>)"
            ]
          },
          "metadata": {
            "tags": []
          },
          "execution_count": 148
        }
      ]
    },
    {
      "cell_type": "code",
      "metadata": {
        "colab": {
          "base_uri": "https://localhost:8080/"
        },
        "id": "qozXmKyQ9SGb",
        "outputId": "d2f23cd5-8808-45ab-8547-f83786c22c87"
      },
      "source": [
        "# if requires_grad is True , tracking history is enabled\n",
        "# to disable autograd from tracking history on tensors with requires_grad = True\n",
        "# use torch.no_grad() to achieve that\n",
        "# any computation performed or tensor created under with block will have tracking histroy turned off\n",
        "# n requires_grad set to False\n",
        "with torch.no_grad():\n",
        "  new_tensor = tensor1 * 3\n",
        "  print('new_tensor =', new_tensor)\n",
        "  print('requires_grad for tensor1 = ', tensor1.requires_grad)\n",
        "  print('requires_grad for tensor2 = ', tensor2.requires_grad)\n",
        "  print('requires_grad for new_tensor = ', new_tensor.requires_grad)\n",
        "\n",
        "\n",
        "\n"
      ],
      "execution_count": null,
      "outputs": [
        {
          "output_type": "stream",
          "text": [
            "new_tensor = tensor([[ 3.,  6.,  9.],\n",
            "        [12., 15., 18.]])\n",
            "requires_grad for tensor1 =  True\n",
            "requires_grad for tensor2 =  False\n",
            "requires_grad for new_tensor =  False\n"
          ],
          "name": "stdout"
        }
      ]
    },
    {
      "cell_type": "markdown",
      "metadata": {
        "id": "D4KlKBthx9mD"
      },
      "source": [
        "# python functions and decorator for enabling and disabling gradients "
      ]
    },
    {
      "cell_type": "code",
      "metadata": {
        "id": "uor5ZEDBx-Fv"
      },
      "source": [
        "def calculate(t):\n",
        "  return t * 2"
      ],
      "execution_count": null,
      "outputs": []
    },
    {
      "cell_type": "code",
      "metadata": {
        "id": "bW3DCVTVx-Jl"
      },
      "source": [
        "# with @torch.no_grad() decorator , gradients will not be enabled and\n",
        "# history tracking will be turned off, even if the requires_grad property is set to True\n",
        "\n",
        "@torch.no_grad()\n",
        "def calculate_with_no_grad(t):\n",
        "  return t * 2\n",
        "  "
      ],
      "execution_count": null,
      "outputs": []
    },
    {
      "cell_type": "code",
      "metadata": {
        "colab": {
          "base_uri": "https://localhost:8080/"
        },
        "id": "VcmvVCMDx-NV",
        "outputId": "6a61a9cb-b302-4000-c2ad-566d65947846"
      },
      "source": [
        "# invoking func 1\n",
        "result_tensor = calculate(tensor1)\n",
        "result_tensor"
      ],
      "execution_count": null,
      "outputs": [
        {
          "output_type": "execute_result",
          "data": {
            "text/plain": [
              "tensor([[ 2.,  4.,  6.],\n",
              "        [ 8., 10., 12.]], grad_fn=<MulBackward0>)"
            ]
          },
          "metadata": {
            "tags": []
          },
          "execution_count": 152
        }
      ]
    },
    {
      "cell_type": "code",
      "metadata": {
        "colab": {
          "base_uri": "https://localhost:8080/"
        },
        "id": "9PxmQHjd0poK",
        "outputId": "ecfa3129-6124-4d4d-b9b3-909a2511d6f5"
      },
      "source": [
        "result_tensor.requires_grad"
      ],
      "execution_count": null,
      "outputs": [
        {
          "output_type": "execute_result",
          "data": {
            "text/plain": [
              "True"
            ]
          },
          "metadata": {
            "tags": []
          },
          "execution_count": 153
        }
      ]
    },
    {
      "cell_type": "code",
      "metadata": {
        "colab": {
          "base_uri": "https://localhost:8080/"
        },
        "id": "dCM-VOgfx-Qq",
        "outputId": "a27843f0-fed5-4802-f5a8-5d0c3bd43ff3"
      },
      "source": [
        "# invoking func2\n",
        "result_tensor_no_grad = calculate_with_no_grad(tensor1)\n",
        "result_tensor_no_grad"
      ],
      "execution_count": null,
      "outputs": [
        {
          "output_type": "execute_result",
          "data": {
            "text/plain": [
              "tensor([[ 2.,  4.,  6.],\n",
              "        [ 8., 10., 12.]])"
            ]
          },
          "metadata": {
            "tags": []
          },
          "execution_count": 154
        }
      ]
    },
    {
      "cell_type": "code",
      "metadata": {
        "colab": {
          "base_uri": "https://localhost:8080/"
        },
        "id": "nPTn4M-5x-Ux",
        "outputId": "8ca0b1e9-b4ed-4e9f-fba5-4743d7b9f861"
      },
      "source": [
        "result_tensor_no_grad.requires_grad\n",
        "# even though the input tensor has requires_grad set to True"
      ],
      "execution_count": null,
      "outputs": [
        {
          "output_type": "execute_result",
          "data": {
            "text/plain": [
              "False"
            ]
          },
          "metadata": {
            "tags": []
          },
          "execution_count": 155
        }
      ]
    },
    {
      "cell_type": "code",
      "metadata": {
        "colab": {
          "base_uri": "https://localhost:8080/"
        },
        "id": "0z64_fOrx-YS",
        "outputId": "3f7a76e1-abe4-4b17-f66f-4ae2998a50c1"
      },
      "source": [
        "# and also we can enable explicit history tracking within a torch.no_grad block\n",
        "with torch.no_grad():\n",
        "  new_tensor_no_grad = tensor1 * 3\n",
        "  print('new_tensor_no_grad = ', new_tensor_no_grad)\n",
        "  with torch.enable_grad():\n",
        "    new_tensor_grad = tensor1 *3\n",
        "    print('new_tensor_grad = ', new_tensor_grad)\n",
        "    "
      ],
      "execution_count": null,
      "outputs": [
        {
          "output_type": "stream",
          "text": [
            "new_tensor_no_grad =  tensor([[ 3.,  6.,  9.],\n",
            "        [12., 15., 18.]])\n",
            "new_tensor_grad =  tensor([[ 3.,  6.,  9.],\n",
            "        [12., 15., 18.]], grad_fn=<MulBackward0>)\n"
          ],
          "name": "stdout"
        }
      ]
    },
    {
      "cell_type": "code",
      "metadata": {
        "colab": {
          "base_uri": "https://localhost:8080/"
        },
        "id": "Jvw7D1AHx-b2",
        "outputId": "0ac5ce83-3205-412d-faa9-133a0ac799a8"
      },
      "source": [
        "tensor_one = torch.tensor([[1.0,2.0],[3.0,4.0]],\n",
        "                          requires_grad = True)\n",
        "tensor_one"
      ],
      "execution_count": null,
      "outputs": [
        {
          "output_type": "execute_result",
          "data": {
            "text/plain": [
              "tensor([[1., 2.],\n",
              "        [3., 4.]], requires_grad=True)"
            ]
          },
          "metadata": {
            "tags": []
          },
          "execution_count": 157
        }
      ]
    },
    {
      "cell_type": "code",
      "metadata": {
        "colab": {
          "base_uri": "https://localhost:8080/"
        },
        "id": "w8tJG9edxjZw",
        "outputId": "75e695a2-6aa9-4c16-b52c-dd9722df73ef"
      },
      "source": [
        "tensor_two = torch.Tensor([[5.0,6.0], [7.0,8.0]])\n",
        "tensor_two"
      ],
      "execution_count": null,
      "outputs": [
        {
          "output_type": "execute_result",
          "data": {
            "text/plain": [
              "tensor([[5., 6.],\n",
              "        [7., 8.]])"
            ]
          },
          "metadata": {
            "tags": []
          },
          "execution_count": 158
        }
      ]
    },
    {
      "cell_type": "code",
      "metadata": {
        "colab": {
          "base_uri": "https://localhost:8080/"
        },
        "id": "uaiWSQoKxjjz",
        "outputId": "89bb401f-1603-4a08-c677-f1e914e68486"
      },
      "source": [
        "tensor_two.requires_grad_() #turns requires_grad to True\n"
      ],
      "execution_count": null,
      "outputs": [
        {
          "output_type": "execute_result",
          "data": {
            "text/plain": [
              "tensor([[5., 6.],\n",
              "        [7., 8.]], requires_grad=True)"
            ]
          },
          "metadata": {
            "tags": []
          },
          "execution_count": 159
        }
      ]
    },
    {
      "cell_type": "code",
      "metadata": {
        "colab": {
          "base_uri": "https://localhost:8080/"
        },
        "id": "nCUdnKTDxjrs",
        "outputId": "21b2975b-4325-4d4a-e307-bbc3ce0fecc7"
      },
      "source": [
        "# setting forward pass\n",
        "final_tensor = (tensor_one * tensor_two).mean()\n",
        "final_tensor"
      ],
      "execution_count": null,
      "outputs": [
        {
          "output_type": "execute_result",
          "data": {
            "text/plain": [
              "tensor(17.5000, grad_fn=<MeanBackward0>)"
            ]
          },
          "metadata": {
            "tags": []
          },
          "execution_count": 160
        }
      ]
    },
    {
      "cell_type": "code",
      "metadata": {
        "colab": {
          "base_uri": "https://localhost:8080/"
        },
        "id": "wmz7ggmrxjyY",
        "outputId": "fddca5ef-d0f2-4f77-e30a-5fbd698a7312"
      },
      "source": [
        "final_tensor.requires_grad"
      ],
      "execution_count": null,
      "outputs": [
        {
          "output_type": "execute_result",
          "data": {
            "text/plain": [
              "True"
            ]
          },
          "metadata": {
            "tags": []
          },
          "execution_count": 161
        }
      ]
    },
    {
      "cell_type": "code",
      "metadata": {
        "id": "vPAy9Mez9SOL"
      },
      "source": [
        "# we have only performed forward pass on our comp graps,\n",
        "# there are no gradients associated with tensor_one or tensor_two yet\n",
        "# histroy tracking is enabled\n"
      ],
      "execution_count": null,
      "outputs": []
    },
    {
      "cell_type": "code",
      "metadata": {
        "id": "1OgCIfph9SYi"
      },
      "source": [
        "# backward pass where gradients are calculated\n",
        "final_tensor.backward()"
      ],
      "execution_count": null,
      "outputs": []
    },
    {
      "cell_type": "code",
      "metadata": {
        "colab": {
          "base_uri": "https://localhost:8080/"
        },
        "id": "3524SyPU9Sm3",
        "outputId": "846f44c0-7b88-4be6-b668-ab05ecb1ebb5"
      },
      "source": [
        "print(tensor_one.grad)"
      ],
      "execution_count": null,
      "outputs": [
        {
          "output_type": "stream",
          "text": [
            "tensor([[1.2500, 1.5000],\n",
            "        [1.7500, 2.0000]])\n"
          ],
          "name": "stdout"
        }
      ]
    },
    {
      "cell_type": "code",
      "metadata": {
        "colab": {
          "base_uri": "https://localhost:8080/"
        },
        "id": "bj2tAjq59S6X",
        "outputId": "31bd4cba-8941-4fdd-f6e2-e470eaba9101"
      },
      "source": [
        "print(tensor_two.grad)\n",
        "# gradients are calc wrt to final_tensor"
      ],
      "execution_count": null,
      "outputs": [
        {
          "output_type": "stream",
          "text": [
            "tensor([[0.2500, 0.5000],\n",
            "        [0.7500, 1.0000]])\n"
          ],
          "name": "stdout"
        }
      ]
    },
    {
      "cell_type": "code",
      "metadata": {
        "colab": {
          "base_uri": "https://localhost:8080/"
        },
        "id": "ZxMVe71I8siZ",
        "outputId": "f39632b1-bdef-416a-b1b1-019186412f6d"
      },
      "source": [
        "# to detach a tensor from the computation graph \n",
        "detached_tensor = tensor_one.detach()\n",
        "detached_tensor # detached tensor will always have requires_grad set to False\n"
      ],
      "execution_count": null,
      "outputs": [
        {
          "output_type": "execute_result",
          "data": {
            "text/plain": [
              "tensor([[1., 2.],\n",
              "        [3., 4.]])"
            ]
          },
          "metadata": {
            "tags": []
          },
          "execution_count": 166
        }
      ]
    },
    {
      "cell_type": "code",
      "metadata": {
        "colab": {
          "base_uri": "https://localhost:8080/"
        },
        "id": "fvItXCxE8jlN",
        "outputId": "176bbd7c-848b-413d-e05a-35b4d6ee31a9"
      },
      "source": [
        "tensor_one "
      ],
      "execution_count": null,
      "outputs": [
        {
          "output_type": "execute_result",
          "data": {
            "text/plain": [
              "tensor([[1., 2.],\n",
              "        [3., 4.]], requires_grad=True)"
            ]
          },
          "metadata": {
            "tags": []
          },
          "execution_count": 167
        }
      ]
    },
    {
      "cell_type": "code",
      "metadata": {
        "id": "ARwLHT4n7yTp"
      },
      "source": [
        "# using original tensor tensor_one and detached tensor in a computation\n",
        "mean_tensor = (tensor_one + detached_tensor).mean()\n",
        "mean_tensor.backward()"
      ],
      "execution_count": null,
      "outputs": []
    },
    {
      "cell_type": "code",
      "metadata": {
        "colab": {
          "base_uri": "https://localhost:8080/"
        },
        "id": "yGf1Tjm07yao",
        "outputId": "1e0f7bb6-60ce-432b-ea70-95c03732faaa"
      },
      "source": [
        "tensor_one.grad # gradients have been calculated"
      ],
      "execution_count": null,
      "outputs": [
        {
          "output_type": "execute_result",
          "data": {
            "text/plain": [
              "tensor([[1.5000, 1.7500],\n",
              "        [2.0000, 2.2500]])"
            ]
          },
          "metadata": {
            "tags": []
          },
          "execution_count": 169
        }
      ]
    },
    {
      "cell_type": "code",
      "metadata": {
        "colab": {
          "base_uri": "https://localhost:8080/"
        },
        "id": "hzercBgB7yfH",
        "outputId": "4a68756c-4892-4a3d-9eb7-1b22fb288a97"
      },
      "source": [
        "print(detached_tensor.grad)"
      ],
      "execution_count": null,
      "outputs": [
        {
          "output_type": "stream",
          "text": [
            "None\n"
          ],
          "name": "stdout"
        }
      ]
    },
    {
      "cell_type": "markdown",
      "metadata": {
        "id": "j5JablUO5LVv"
      },
      "source": [
        "#autograd with variables"
      ]
    },
    {
      "cell_type": "code",
      "metadata": {
        "id": "1EHi02OY7yll"
      },
      "source": [
        ""
      ],
      "execution_count": null,
      "outputs": []
    },
    {
      "cell_type": "markdown",
      "metadata": {
        "id": "W8W49jiC54Xb"
      },
      "source": [
        "#building a linear model with autograd"
      ]
    },
    {
      "cell_type": "code",
      "metadata": {
        "id": "zGbwnP0I7iQa"
      },
      "source": [
        "# simple NN with single neuron and no activation func\n",
        "# performing linear regression\n",
        "\n",
        "import numpy as np \n",
        "import matplotlib.pyplot as plt\n"
      ],
      "execution_count": null,
      "outputs": []
    },
    {
      "cell_type": "code",
      "metadata": {
        "id": "ZWKeLsP07iXM"
      },
      "source": [
        "X_train = np.array ([[4.7], [2.4], [7.5], [7.1], [4.3], [7.816], \n",
        "                     [8.9], [5.2], [8.59], [2.1], [8] , \n",
        "                     [10], [4.5], [6], [4]],\n",
        "                    dtype = np.float32)\n",
        "\n",
        "Y_train = np.array ([[2.6], [1.6], [3.09], [2.4], [2.4], [3.357], \n",
        "                     [2.6], [1.96], [3.53], [1.76], [3.2] , \n",
        "                     [3.5], [1.6], [2.5], [2.2]], \n",
        "                    dtype = np.float32)"
      ],
      "execution_count": null,
      "outputs": []
    },
    {
      "cell_type": "code",
      "metadata": {
        "colab": {
          "base_uri": "https://localhost:8080/",
          "height": 483
        },
        "id": "yRqFvk_e7ieX",
        "outputId": "80f34462-32ae-4277-e30f-ebda71a79ca5"
      },
      "source": [
        "plt.figure(figsize=(12,8))\n",
        "plt.scatter(X_train, Y_train, label='Original data', s=250, c='g')\n",
        "plt.legend()\n",
        "plt.show()"
      ],
      "execution_count": null,
      "outputs": [
        {
          "output_type": "display_data",
          "data": {
            "image/png": "[encoded data removed]",
            "text/plain": [
              "<Figure size 864x576 with 1 Axes>"
            ]
          },
          "metadata": {
            "tags": [],
            "needs_background": "light"
          }
        }
      ]
    },
    {
      "cell_type": "code",
      "metadata": {
        "id": "7I5MkUFF7ilQ"
      },
      "source": [
        "import torch"
      ],
      "execution_count": null,
      "outputs": []
    },
    {
      "cell_type": "code",
      "metadata": {
        "id": "k3h6uLQW7aR2"
      },
      "source": [
        "X_train = X_train.astype(np.float32)\n",
        "Y_train = Y_train.astype(np.float32)"
      ],
      "execution_count": null,
      "outputs": []
    },
    {
      "cell_type": "code",
      "metadata": {
        "colab": {
          "base_uri": "https://localhost:8080/"
        },
        "id": "vJwY_EYf7iqE",
        "outputId": "d8cdae23-1a8d-4269-cbc7-46a8e434bbf4"
      },
      "source": [
        "# getting tensors from numpy arrays\n",
        "x_train = torch.from_numpy(X_train)\n",
        "y_train = torch.from_numpy(Y_train)\n",
        "print('requires_grad for x_train :', x_train.requires_grad)\n",
        "print('requires_grad for y_train \"', y_train.requires_grad)\n"
      ],
      "execution_count": null,
      "outputs": [
        {
          "output_type": "stream",
          "text": [
            "requires_grad for x_train : False\n",
            "requires_grad for y_train \" False\n"
          ],
          "name": "stdout"
        }
      ]
    },
    {
      "cell_type": "code",
      "metadata": {
        "colab": {
          "base_uri": "https://localhost:8080/"
        },
        "id": "TUGMZs7PEJX6",
        "outputId": "780f73fb-2c59-4b90-ad00-2bf140e8373b"
      },
      "source": [
        ""
      ],
      "execution_count": null,
      "outputs": [
        {
          "output_type": "execute_result",
          "data": {
            "text/plain": [
              "torch.Tensor"
            ]
          },
          "metadata": {
            "tags": []
          },
          "execution_count": 216
        }
      ]
    },
    {
      "cell_type": "code",
      "metadata": {
        "id": "Xlgrqx_kYMJw"
      },
      "source": [
        "# set up variables for 1 neuron\n",
        "input_size =1\n",
        "hidden_size = 1\n",
        "output_size = 1\n"
      ],
      "execution_count": null,
      "outputs": []
    },
    {
      "cell_type": "code",
      "metadata": {
        "colab": {
          "base_uri": "https://localhost:8080/"
        },
        "id": "WMUPBKeZYMSP",
        "outputId": "bdac3a00-8730-48b5-a66f-662a599a814c"
      },
      "source": [
        "# not using pytorch build in layers , instead constructing one manually\n",
        "w1 = torch.rand(input_size,\n",
        "                hidden_size,\n",
        "                dtype = torch.float32,\n",
        "                requires_grad = True)\n",
        "w1.shape"
      ],
      "execution_count": null,
      "outputs": [
        {
          "output_type": "execute_result",
          "data": {
            "text/plain": [
              "torch.Size([1, 1])"
            ]
          },
          "metadata": {
            "tags": []
          },
          "execution_count": 218
        }
      ]
    },
    {
      "cell_type": "code",
      "metadata": {
        "colab": {
          "base_uri": "https://localhost:8080/"
        },
        "id": "plWv8AEJYMZb",
        "outputId": "cdf15454-beb3-4b3e-d581-227567382d59"
      },
      "source": [
        "w2 = torch.rand(hidden_size,\n",
        "                output_size,\n",
        "                dtype = torch.float32,\n",
        "                requires_grad = True)\n",
        "w2.shape"
      ],
      "execution_count": null,
      "outputs": [
        {
          "output_type": "execute_result",
          "data": {
            "text/plain": [
              "torch.Size([1, 1])"
            ]
          },
          "metadata": {
            "tags": []
          },
          "execution_count": 219
        }
      ]
    },
    {
      "cell_type": "code",
      "metadata": {
        "id": "A6tMXX1PYMg-"
      },
      "source": [
        "learning_rate = 1e-6"
      ],
      "execution_count": null,
      "outputs": []
    },
    {
      "cell_type": "code",
      "metadata": {
        "id": "8Csh07rt7W1c"
      },
      "source": [
        ""
      ],
      "execution_count": null,
      "outputs": []
    },
    {
      "cell_type": "code",
      "metadata": {
        "colab": {
          "base_uri": "https://localhost:8080/"
        },
        "id": "ndqS1Yfq7iv7",
        "outputId": "1af140c9-7147-4dba-bc42-8a071d5ac1d5"
      },
      "source": [
        "for iter in range(1,3000):\n",
        "  # forward pass\n",
        "  y_pred = x_train.mm(w1).mm(w2)\n",
        "  loss = (y_pred - y_train).pow(2).sum()\n",
        "\n",
        "  if iter % 50 == 0:\n",
        "    print(iter, loss.item())\n",
        "  # backward pass\n",
        "  loss.backward()\n",
        "  # gradient update\n",
        "  # gradients calc for w1 and w2 wrt to mse loss, are stored in w1.grad and w2.grad\n",
        "  with torch.no_grad():\n",
        "    w1 -= learning_rate * w1.grad\n",
        "    w2 -= learning_rate * w2.grad\n",
        "    # we zero out the existing gradients on both weight tensors\n",
        "    # and calc the gradients afresh in the next backward pass\n",
        "    w1.grad.zero_()\n",
        "    w2.grad.zero_()\n"
      ],
      "execution_count": null,
      "outputs": [
        {
          "output_type": "stream",
          "text": [
            "50 15.831515312194824\n",
            "100 15.039362907409668\n",
            "150 14.289177894592285\n",
            "200 13.57991886138916\n",
            "250 12.910418510437012\n",
            "300 12.279455184936523\n",
            "350 11.68574333190918\n",
            "400 11.127936363220215\n",
            "450 10.604633331298828\n",
            "500 10.114412307739258\n",
            "550 9.655832290649414\n",
            "600 9.227441787719727\n",
            "650 8.827800750732422\n",
            "700 8.45547103881836\n",
            "750 8.109017372131348\n",
            "800 7.787041664123535\n",
            "850 7.488166332244873\n",
            "900 7.211065769195557\n",
            "950 6.954441547393799\n",
            "1000 6.717036247253418\n",
            "1050 6.497638702392578\n",
            "1100 6.295088291168213\n",
            "1150 6.108273983001709\n",
            "1200 5.936145782470703\n",
            "1250 5.777677059173584\n",
            "1300 5.631927490234375\n",
            "1350 5.497975826263428\n",
            "1400 5.374971866607666\n",
            "1450 5.262109279632568\n",
            "1500 5.158631801605225\n",
            "1550 5.063830375671387\n",
            "1600 4.9770283699035645\n",
            "1650 4.897607803344727\n",
            "1700 4.824985027313232\n",
            "1750 4.758620738983154\n",
            "1800 4.698014259338379\n",
            "1850 4.642690181732178\n",
            "1900 4.592220783233643\n",
            "1950 4.546199798583984\n",
            "2000 4.5042572021484375\n",
            "2050 4.466052532196045\n",
            "2100 4.431265830993652\n",
            "2150 4.399606227874756\n",
            "2200 4.370800971984863\n",
            "2250 4.344604969024658\n",
            "2300 4.320789337158203\n",
            "2350 4.299148082733154\n",
            "2400 4.2794880867004395\n",
            "2450 4.26163387298584\n",
            "2500 4.245426177978516\n",
            "2550 4.230715274810791\n",
            "2600 4.217366695404053\n",
            "2650 4.205259323120117\n",
            "2700 4.194278240203857\n",
            "2750 4.184323787689209\n",
            "2800 4.175300598144531\n",
            "2850 4.167122840881348\n",
            "2900 4.159713268280029\n",
            "2950 4.153001308441162\n"
          ],
          "name": "stdout"
        }
      ]
    },
    {
      "cell_type": "code",
      "metadata": {
        "colab": {
          "base_uri": "https://localhost:8080/"
        },
        "id": "nYBATZZlUP7F",
        "outputId": "42134587-11c9-42d1-e67b-f46609fb0182"
      },
      "source": [
        "print('w1: ', w1)\n",
        "print('w2: ', w2)"
      ],
      "execution_count": null,
      "outputs": [
        {
          "output_type": "stream",
          "text": [
            "w1:  tensor([[0.6898]], dtype=torch.float32, requires_grad=True)\n",
            "w2:  tensor([[0.5612]], dtype=torch.float32, requires_grad=True)\n"
          ],
          "name": "stdout"
        }
      ]
    },
    {
      "cell_type": "code",
      "metadata": {
        "colab": {
          "base_uri": "https://localhost:8080/"
        },
        "id": "LMS9N6BkUQEy",
        "outputId": "62a93b61-fd4d-4f44-8758-564a85dc9587"
      },
      "source": [
        "# perform prediction with the model weights\n",
        "x_train_tensor = torch.from_numpy(X_train)\n",
        "x_train_tensor"
      ],
      "execution_count": null,
      "outputs": [
        {
          "output_type": "execute_result",
          "data": {
            "text/plain": [
              "tensor([[ 4.7000],\n",
              "        [ 2.4000],\n",
              "        [ 7.5000],\n",
              "        [ 7.1000],\n",
              "        [ 4.3000],\n",
              "        [ 7.8160],\n",
              "        [ 8.9000],\n",
              "        [ 5.2000],\n",
              "        [ 8.5900],\n",
              "        [ 2.1000],\n",
              "        [ 8.0000],\n",
              "        [10.0000],\n",
              "        [ 4.5000],\n",
              "        [ 6.0000],\n",
              "        [ 4.0000]], dtype=torch.float32)"
            ]
          },
          "metadata": {
            "tags": []
          },
          "execution_count": 222
        }
      ]
    },
    {
      "cell_type": "code",
      "metadata": {
        "colab": {
          "base_uri": "https://localhost:8080/"
        },
        "id": "xZMONdQNTgN3",
        "outputId": "8f725709-ed19-4787-a99a-978e5b0df5ef"
      },
      "source": [
        "predicted_in_tensor = x_train_tensor.mm(w1).mm(w2)\n",
        "predicted_in_tensor"
      ],
      "execution_count": null,
      "outputs": [
        {
          "output_type": "execute_result",
          "data": {
            "text/plain": [
              "tensor([[1.8195],\n",
              "        [0.9291],\n",
              "        [2.9034],\n",
              "        [2.7486],\n",
              "        [1.6646],\n",
              "        [3.0257],\n",
              "        [3.4454],\n",
              "        [2.0130],\n",
              "        [3.3254],\n",
              "        [0.8130],\n",
              "        [3.0970],\n",
              "        [3.8712],\n",
              "        [1.7420],\n",
              "        [2.3227],\n",
              "        [1.5485]], dtype=torch.float32, grad_fn=<MmBackward>)"
            ]
          },
          "metadata": {
            "tags": []
          },
          "execution_count": 223
        }
      ]
    },
    {
      "cell_type": "code",
      "metadata": {
        "colab": {
          "base_uri": "https://localhost:8080/"
        },
        "id": "MpcBFhC3TgQb",
        "outputId": "31add142-17b8-4047-a079-3c69ddbddd7f"
      },
      "source": [
        "# converting predicted values from tensor to numpy array for matplotlib visualization\n",
        "# detaching the predicted values from comp graph n callin numpy func\n",
        "predicted = predicted_in_tensor.detach().numpy()\n",
        "predicted"
      ],
      "execution_count": null,
      "outputs": [
        {
          "output_type": "execute_result",
          "data": {
            "text/plain": [
              "array([[1.8194629],\n",
              "       [0.9290875],\n",
              "       [2.9033983],\n",
              "       [2.7485504],\n",
              "       [1.6646152],\n",
              "       [3.0257282],\n",
              "       [3.445366 ],\n",
              "       [2.013023 ],\n",
              "       [3.325359 ],\n",
              "       [0.8129515],\n",
              "       [3.0969582],\n",
              "       [3.871198 ],\n",
              "       [1.742039 ],\n",
              "       [2.3227186],\n",
              "       [1.5484791]], dtype=float32)"
            ]
          },
          "metadata": {
            "tags": []
          },
          "execution_count": 224
        }
      ]
    },
    {
      "cell_type": "code",
      "metadata": {
        "colab": {
          "base_uri": "https://localhost:8080/",
          "height": 484
        },
        "id": "7LMGP-2HTgXY",
        "outputId": "51f6ef5a-28a8-4ab7-f5a2-b117021d6d63"
      },
      "source": [
        "plt.figure(figsize=(12, 8))\n",
        "\n",
        "plt.scatter(x_train, y_train, label = 'Original data', s=250, c='g') \n",
        "\n",
        "plt.plot(x_train, predicted, label = 'Fitted line ')\n",
        "\n",
        "plt.legend() \n",
        "\n",
        "plt.show()"
      ],
      "execution_count": null,
      "outputs": [
        {
          "output_type": "display_data",
          "data": {
            "image/png": "[encoded data removed]",
            "text/plain": [
              "<Figure size 864x576 with 1 Axes>"
            ]
          },
          "metadata": {
            "tags": [],
            "needs_background": "light"
          }
        }
      ]
    },
    {
      "cell_type": "code",
      "metadata": {
        "id": "2moaBgu31Y89"
      },
      "source": [
        ""
      ],
      "execution_count": null,
      "outputs": []
    },
    {
      "cell_type": "markdown",
      "metadata": {
        "id": "LsEGZxBLfAUs"
      },
      "source": [
        "#building dynamiz computation graphs"
      ]
    },
    {
      "cell_type": "code",
      "metadata": {
        "id": "xEmM0h7zTgbt"
      },
      "source": [
        "import torch"
      ],
      "execution_count": null,
      "outputs": []
    },
    {
      "cell_type": "code",
      "metadata": {
        "id": "xcDOI2dgfTRx"
      },
      "source": [
        "x = torch.randn(1,10)\n",
        "h = torch.randn(1,20)"
      ],
      "execution_count": null,
      "outputs": []
    },
    {
      "cell_type": "code",
      "metadata": {
        "id": "ba_rJb15Qttg"
      },
      "source": [
        "w_h = torch.randn(20,20)\n",
        "w_x = torch.randn(20,10)"
      ],
      "execution_count": null,
      "outputs": []
    },
    {
      "cell_type": "code",
      "metadata": {
        "id": "KrkXs89FQuNe"
      },
      "source": [
        "h_prod = torch.mm(w_h, h.t())\n",
        "x_prod = torch.mm(w_x, x.t())"
      ],
      "execution_count": null,
      "outputs": []
    },
    {
      "cell_type": "code",
      "metadata": {
        "id": "plesMDtoQukI"
      },
      "source": [
        "next_h = (h_prod + x_prod).tanh()"
      ],
      "execution_count": null,
      "outputs": []
    },
    {
      "cell_type": "code",
      "metadata": {
        "id": "fegHli-6Quq0"
      },
      "source": [
        "loss = next_h.sum()"
      ],
      "execution_count": null,
      "outputs": []
    },
    {
      "cell_type": "code",
      "metadata": {
        "id": "qOu6qfMOQu4S"
      },
      "source": [
        "# loss.backward()"
      ],
      "execution_count": null,
      "outputs": []
    },
    {
      "cell_type": "code",
      "metadata": {
        "id": "kpaSQvI3QvCg"
      },
      "source": [
        "import graphviz"
      ],
      "execution_count": null,
      "outputs": []
    },
    {
      "cell_type": "code",
      "metadata": {
        "colab": {
          "base_uri": "https://localhost:8080/"
        },
        "id": "7-dYmm9ZeJfU",
        "outputId": "d78b2c4d-8d85-4d6a-c1f5-1831ee229c4d"
      },
      "source": [
        "!pip install hiddenlayer\n",
        "import hiddenlayer"
      ],
      "execution_count": null,
      "outputs": [
        {
          "output_type": "stream",
          "text": [
            "Collecting hiddenlayer\n",
            "  Downloading hiddenlayer-0.3-py3-none-any.whl (19 kB)\n",
            "Installing collected packages: hiddenlayer\n",
            "Successfully installed hiddenlayer-0.3\n"
          ],
          "name": "stdout"
        }
      ]
    },
    {
      "cell_type": "code",
      "metadata": {
        "id": "QDzQd-IpeK2Q"
      },
      "source": [
        "import numpy as np\n",
        "import torch\n",
        "import torch.nn as nn\n"
      ],
      "execution_count": null,
      "outputs": []
    },
    {
      "cell_type": "code",
      "metadata": {
        "id": "tPoMmYrfeLA7"
      },
      "source": [
        "w = torch.randn(6)\n",
        "x = torch.tensor([10.0,10.0,10.0,10.0,10.0, 10.0])\n",
        "b = torch.tensor(3)\n"
      ],
      "execution_count": null,
      "outputs": []
    },
    {
      "cell_type": "code",
      "metadata": {
        "colab": {
          "base_uri": "https://localhost:8080/"
        },
        "id": "xgOO9taHeLcn",
        "outputId": "7d680e51-f3cd-4914-b512-9defb64f7448"
      },
      "source": [
        "w"
      ],
      "execution_count": null,
      "outputs": [
        {
          "output_type": "execute_result",
          "data": {
            "text/plain": [
              "tensor([ 0.3888,  0.2749, -1.1279, -0.4060,  1.3909, -0.9594])"
            ]
          },
          "metadata": {
            "tags": []
          },
          "execution_count": 237
        }
      ]
    },
    {
      "cell_type": "code",
      "metadata": {
        "id": "xLbUVZoedVud"
      },
      "source": [
        "y = (w * x) + b"
      ],
      "execution_count": null,
      "outputs": []
    },
    {
      "cell_type": "code",
      "metadata": {
        "colab": {
          "base_uri": "https://localhost:8080/"
        },
        "id": "WqWq6BaodV0z",
        "outputId": "c27676d8-920e-4eee-e807-bf81c2731668"
      },
      "source": [
        "y"
      ],
      "execution_count": null,
      "outputs": [
        {
          "output_type": "execute_result",
          "data": {
            "text/plain": [
              "tensor([ 6.8884,  5.7491, -8.2788, -1.0596, 16.9091, -6.5943])"
            ]
          },
          "metadata": {
            "tags": []
          },
          "execution_count": 239
        }
      ]
    },
    {
      "cell_type": "code",
      "metadata": {
        "colab": {
          "base_uri": "https://localhost:8080/"
        },
        "id": "F1wE_3L6dV-E",
        "outputId": "43a72f7d-3016-4e26-84bf-012357cc2376"
      },
      "source": [
        "w * x"
      ],
      "execution_count": null,
      "outputs": [
        {
          "output_type": "execute_result",
          "data": {
            "text/plain": [
              "tensor([  3.8884,   2.7491, -11.2788,  -4.0596,  13.9091,  -9.5943])"
            ]
          },
          "metadata": {
            "tags": []
          },
          "execution_count": 240
        }
      ]
    },
    {
      "cell_type": "code",
      "metadata": {
        "id": "Xmb80fRudWWM"
      },
      "source": [
        "import hiddenlayer as hl"
      ],
      "execution_count": null,
      "outputs": []
    },
    {
      "cell_type": "code",
      "metadata": {
        "colab": {
          "base_uri": "https://localhost:8080/"
        },
        "id": "rhEcy_f-dWnv",
        "outputId": "ab25750e-fc8b-4bb8-8914-b09ca793b982"
      },
      "source": [
        "x_train.shape"
      ],
      "execution_count": null,
      "outputs": [
        {
          "output_type": "execute_result",
          "data": {
            "text/plain": [
              "torch.Size([15, 1])"
            ]
          },
          "metadata": {
            "tags": []
          },
          "execution_count": 242
        }
      ]
    },
    {
      "cell_type": "code",
      "metadata": {
        "id": "SFjuEQgEdE0q"
      },
      "source": [
        "input = 1\n",
        "output = 1\n",
        "hidden = 100\n"
      ],
      "execution_count": null,
      "outputs": []
    },
    {
      "cell_type": "code",
      "metadata": {
        "id": "cQ3KMvH-dE8e"
      },
      "source": [
        "model = torch.nn.Sequential(torch.nn.Linear(input, hidden), \n",
        "                            torch.nn.Linear(hidden, output))"
      ],
      "execution_count": null,
      "outputs": []
    },
    {
      "cell_type": "code",
      "metadata": {
        "colab": {
          "base_uri": "https://localhost:8080/",
          "height": 176
        },
        "id": "2-wTo2kCdFDe",
        "outputId": "02b6eacc-0e4c-4300-fe87-7dc990b73180"
      },
      "source": [
        "hl.build_graph(model, torch.zeros([10,1]))"
      ],
      "execution_count": null,
      "outputs": [
        {
          "output_type": "execute_result",
          "data": {
            "text/plain": [
              "<hiddenlayer.graph.Graph at 0x7f86d1684950>"
            ],
            "image/svg+xml": "<?xml version=\"1.0\" encoding=\"UTF-8\" standalone=\"no\"?>\n<!DOCTYPE svg PUBLIC \"-//W3C//DTD SVG 1.1//EN\"\n \"http://www.w3.org/Graphics/SVG/1.1/DTD/svg11.dtd\">\n<!-- Generated by graphviz version 2.40.1 (20161225.0304)\n -->\n<!-- Title: %3 Pages: 1 -->\n<svg width=\"198pt\" height=\"116pt\"\n viewBox=\"0.00 0.00 198.00 116.00\" xmlns=\"http://www.w3.org/2000/svg\" xmlns:xlink=\"http://www.w3.org/1999/xlink\">\n<g id=\"graph0\" class=\"graph\" transform=\"scale(1 1) rotate(0) translate(72 80)\">\n<title>%3</title>\n<polygon fill=\"#ffffff\" stroke=\"transparent\" points=\"-72,36 -72,-80 126,-80 126,36 -72,36\"/>\n<!-- 15214475055181698943 -->\n<g id=\"node1\" class=\"node\">\n<title>15214475055181698943</title>\n<polygon fill=\"#e8e8e8\" stroke=\"#000000\" points=\"54,-44 0,-44 0,0 54,0 54,-44\"/>\n<text text-anchor=\"start\" x=\"14\" y=\"-28\" font-family=\"Times\" font-size=\"10.00\" fill=\"#000000\">Linear</text>\n<text text-anchor=\"start\" x=\"34\" y=\"-7\" font-family=\"Times\" font-size=\"10.00\" fill=\"#000000\">x2</text>\n</g>\n</g>\n</svg>\n"
          },
          "metadata": {
            "tags": []
          },
          "execution_count": 245
        }
      ]
    },
    {
      "cell_type": "code",
      "metadata": {
        "colab": {
          "base_uri": "https://localhost:8080/",
          "height": 237
        },
        "id": "Fhpp2HAYcUgP",
        "outputId": "64208ad7-d375-419b-8a1d-33bbc77d059d"
      },
      "source": [
        "hl.build_graph(model, torch.zeros([1]))"
      ],
      "execution_count": null,
      "outputs": [
        {
          "output_type": "execute_result",
          "data": {
            "text/plain": [
              "<hiddenlayer.graph.Graph at 0x7f86d1694d50>"
            ],
            "image/svg+xml": "<?xml version=\"1.0\" encoding=\"UTF-8\" standalone=\"no\"?>\n<!DOCTYPE svg PUBLIC \"-//W3C//DTD SVG 1.1//EN\"\n \"http://www.w3.org/Graphics/SVG/1.1/DTD/svg11.dtd\">\n<!-- Generated by graphviz version 2.40.1 (20161225.0304)\n -->\n<!-- Title: %3 Pages: 1 -->\n<svg width=\"566pt\" height=\"162pt\"\n viewBox=\"0.00 0.00 566.00 162.00\" xmlns=\"http://www.w3.org/2000/svg\" xmlns:xlink=\"http://www.w3.org/1999/xlink\">\n<g id=\"graph0\" class=\"graph\" transform=\"scale(1 1) rotate(0) translate(72 126)\">\n<title>%3</title>\n<polygon fill=\"#ffffff\" stroke=\"transparent\" points=\"-72,36 -72,-126 494,-126 494,36 -72,36\"/>\n<!-- /outputs/5 -->\n<g id=\"node1\" class=\"node\">\n<title>/outputs/5</title>\n<polygon fill=\"#e8e8e8\" stroke=\"#000000\" points=\"58,-90 0,-90 0,-54 58,-54 58,-90\"/>\n<text text-anchor=\"start\" x=\"8\" y=\"-69\" font-family=\"Times\" font-size=\"10.00\" fill=\"#000000\">Transpose</text>\n</g>\n<!-- /outputs/6 -->\n<g id=\"node2\" class=\"node\">\n<title>/outputs/6</title>\n<polygon fill=\"#e8e8e8\" stroke=\"#000000\" points=\"148,-90 94,-90 94,-54 148,-54 148,-90\"/>\n<text text-anchor=\"start\" x=\"104\" y=\"-69\" font-family=\"Times\" font-size=\"10.00\" fill=\"#000000\">MatMul</text>\n</g>\n<!-- /outputs/5&#45;&gt;/outputs/6 -->\n<g id=\"edge1\" class=\"edge\">\n<title>/outputs/5&#45;&gt;/outputs/6</title>\n<path fill=\"none\" stroke=\"#000000\" d=\"M58.1094,-72C66.2682,-72 75.2502,-72 83.8095,-72\"/>\n<polygon fill=\"#000000\" stroke=\"#000000\" points=\"83.9566,-75.5001 93.9566,-72 83.9566,-68.5001 83.9566,-75.5001\"/>\n</g>\n<!-- /outputs/7 -->\n<g id=\"node3\" class=\"node\">\n<title>/outputs/7</title>\n<polygon fill=\"#e8e8e8\" stroke=\"#000000\" points=\"240,-90 186,-90 186,-54 240,-54 240,-90\"/>\n<text text-anchor=\"start\" x=\"204\" y=\"-69\" font-family=\"Times\" font-size=\"10.00\" fill=\"#000000\">Add</text>\n</g>\n<!-- /outputs/6&#45;&gt;/outputs/7 -->\n<g id=\"edge2\" class=\"edge\">\n<title>/outputs/6&#45;&gt;/outputs/7</title>\n<path fill=\"none\" stroke=\"#000000\" d=\"M148.1054,-72C156.7317,-72 166.431,-72 175.6495,-72\"/>\n<polygon fill=\"#000000\" stroke=\"#000000\" points=\"175.7704,-75.5001 185.7704,-72 175.7703,-68.5001 175.7704,-75.5001\"/>\n</g>\n<!-- /outputs/9 -->\n<g id=\"node5\" class=\"node\">\n<title>/outputs/9</title>\n<polygon fill=\"#e8e8e8\" stroke=\"#000000\" points=\"332,-63 278,-63 278,-27 332,-27 332,-63\"/>\n<text text-anchor=\"start\" x=\"288\" y=\"-42\" font-family=\"Times\" font-size=\"10.00\" fill=\"#000000\">MatMul</text>\n</g>\n<!-- /outputs/7&#45;&gt;/outputs/9 -->\n<g id=\"edge3\" class=\"edge\">\n<title>/outputs/7&#45;&gt;/outputs/9</title>\n<path fill=\"none\" stroke=\"#000000\" d=\"M240.1054,-64.0451C248.8245,-61.4863 258.6397,-58.6057 267.9467,-55.8743\"/>\n<polygon fill=\"#000000\" stroke=\"#000000\" points=\"269.1607,-59.1657 277.7704,-52.9913 267.1894,-52.449 269.1607,-59.1657\"/>\n</g>\n<!-- /outputs/8 -->\n<g id=\"node4\" class=\"node\">\n<title>/outputs/8</title>\n<polygon fill=\"#e8e8e8\" stroke=\"#000000\" points=\"242,-36 184,-36 184,0 242,0 242,-36\"/>\n<text text-anchor=\"start\" x=\"192\" y=\"-15\" font-family=\"Times\" font-size=\"10.00\" fill=\"#000000\">Transpose</text>\n</g>\n<!-- /outputs/8&#45;&gt;/outputs/9 -->\n<g id=\"edge4\" class=\"edge\">\n<title>/outputs/8&#45;&gt;/outputs/9</title>\n<path fill=\"none\" stroke=\"#000000\" d=\"M242.1094,-26.543C250.3578,-28.9637 259.4477,-31.6314 268.0916,-34.1682\"/>\n<polygon fill=\"#000000\" stroke=\"#000000\" points=\"267.3756,-37.6056 277.9566,-37.0633 269.3469,-30.8889 267.3756,-37.6056\"/>\n</g>\n<!-- /outputs/10 -->\n<g id=\"node6\" class=\"node\">\n<title>/outputs/10</title>\n<polygon fill=\"#e8e8e8\" stroke=\"#000000\" points=\"422,-63 368,-63 368,-27 422,-27 422,-63\"/>\n<text text-anchor=\"start\" x=\"386\" y=\"-42\" font-family=\"Times\" font-size=\"10.00\" fill=\"#000000\">Add</text>\n</g>\n<!-- /outputs/9&#45;&gt;/outputs/10 -->\n<g id=\"edge5\" class=\"edge\">\n<title>/outputs/9&#45;&gt;/outputs/10</title>\n<path fill=\"none\" stroke=\"#000000\" d=\"M332.003,-45C340.0277,-45 348.9665,-45 357.5309,-45\"/>\n<polygon fill=\"#000000\" stroke=\"#000000\" points=\"357.7051,-48.5001 367.705,-45 357.705,-41.5001 357.7051,-48.5001\"/>\n</g>\n</g>\n</svg>\n"
          },
          "metadata": {
            "tags": []
          },
          "execution_count": 246
        }
      ]
    },
    {
      "cell_type": "code",
      "metadata": {
        "id": "9fSJ34vEcUtA"
      },
      "source": [
        "model2 =torch.nn.Sequential(torch.nn.Linear(input,hidden),\n",
        "                            torch.nn.Linear(hidden, hidden),\n",
        "                            torch.nn.Sigmoid(),\n",
        "                            torch.nn.Linear(hidden, output))"
      ],
      "execution_count": null,
      "outputs": []
    },
    {
      "cell_type": "code",
      "metadata": {
        "colab": {
          "base_uri": "https://localhost:8080/",
          "height": 176
        },
        "id": "mF2zIfEtcWoE",
        "outputId": "8899457b-4434-47b7-93eb-a0abb9ba64e7"
      },
      "source": [
        "hl.build_graph(model2, torch.zeros([10,1]))"
      ],
      "execution_count": null,
      "outputs": [
        {
          "output_type": "execute_result",
          "data": {
            "text/plain": [
              "<hiddenlayer.graph.Graph at 0x7f86d17936d0>"
            ],
            "image/svg+xml": "<?xml version=\"1.0\" encoding=\"UTF-8\" standalone=\"no\"?>\n<!DOCTYPE svg PUBLIC \"-//W3C//DTD SVG 1.1//EN\"\n \"http://www.w3.org/Graphics/SVG/1.1/DTD/svg11.dtd\">\n<!-- Generated by graphviz version 2.40.1 (20161225.0304)\n -->\n<!-- Title: %3 Pages: 1 -->\n<svg width=\"378pt\" height=\"116pt\"\n viewBox=\"0.00 0.00 378.00 116.00\" xmlns=\"http://www.w3.org/2000/svg\" xmlns:xlink=\"http://www.w3.org/1999/xlink\">\n<g id=\"graph0\" class=\"graph\" transform=\"scale(1 1) rotate(0) translate(72 80)\">\n<title>%3</title>\n<polygon fill=\"#ffffff\" stroke=\"transparent\" points=\"-72,36 -72,-80 306,-80 306,36 -72,36\"/>\n<!-- /outputs/9 -->\n<g id=\"node1\" class=\"node\">\n<title>/outputs/9</title>\n<polygon fill=\"#e8e8e8\" stroke=\"#000000\" points=\"144,-40 90,-40 90,-4 144,-4 144,-40\"/>\n<text text-anchor=\"start\" x=\"100\" y=\"-19\" font-family=\"Times\" font-size=\"10.00\" fill=\"#000000\">Sigmoid</text>\n</g>\n<!-- /outputs/10 -->\n<g id=\"node2\" class=\"node\">\n<title>/outputs/10</title>\n<polygon fill=\"#e8e8e8\" stroke=\"#000000\" points=\"234,-40 180,-40 180,-4 234,-4 234,-40\"/>\n<text text-anchor=\"start\" x=\"194\" y=\"-19\" font-family=\"Times\" font-size=\"10.00\" fill=\"#000000\">Linear</text>\n</g>\n<!-- /outputs/9&#45;&gt;/outputs/10 -->\n<g id=\"edge1\" class=\"edge\">\n<title>/outputs/9&#45;&gt;/outputs/10</title>\n<path fill=\"none\" stroke=\"#000000\" d=\"M144.003,-22C152.0277,-22 160.9665,-22 169.5309,-22\"/>\n<polygon fill=\"#000000\" stroke=\"#000000\" points=\"169.7051,-25.5001 179.705,-22 169.705,-18.5001 169.7051,-25.5001\"/>\n</g>\n<!-- 14946332117981307025 -->\n<g id=\"node3\" class=\"node\">\n<title>14946332117981307025</title>\n<polygon fill=\"#e8e8e8\" stroke=\"#000000\" points=\"54,-44 0,-44 0,0 54,0 54,-44\"/>\n<text text-anchor=\"start\" x=\"14\" y=\"-28\" font-family=\"Times\" font-size=\"10.00\" fill=\"#000000\">Linear</text>\n<text text-anchor=\"start\" x=\"34\" y=\"-7\" font-family=\"Times\" font-size=\"10.00\" fill=\"#000000\">x2</text>\n</g>\n<!-- 14946332117981307025&#45;&gt;/outputs/9 -->\n<g id=\"edge2\" class=\"edge\">\n<title>14946332117981307025&#45;&gt;/outputs/9</title>\n<path fill=\"none\" stroke=\"#000000\" d=\"M54.003,-22C62.0277,-22 70.9665,-22 79.5309,-22\"/>\n<polygon fill=\"#000000\" stroke=\"#000000\" points=\"79.7051,-25.5001 89.705,-22 79.705,-18.5001 79.7051,-25.5001\"/>\n</g>\n</g>\n</svg>\n"
          },
          "metadata": {
            "tags": []
          },
          "execution_count": 248
        }
      ]
    },
    {
      "cell_type": "code",
      "metadata": {
        "id": "bbPmYXJtcW02",
        "colab": {
          "base_uri": "https://localhost:8080/",
          "height": 86
        },
        "outputId": "d33b0067-dd8d-4891-c8af-85caa74416ab"
      },
      "source": [
        "jovian.commit(project = 'pytorch_fundamentals_new') "
      ],
      "execution_count": null,
      "outputs": [
        {
          "output_type": "stream",
          "text": [
            "[jovian] Detected Colab notebook...\u001b[0m\n",
            "[jovian] Uploading colab notebook to Jovian...\u001b[0m\n",
            "Committed successfully! https://jovian.ai/amtulyasmin/pytorch-fundamentals-new\n"
          ],
          "name": "stdout"
        },
        {
          "output_type": "execute_result",
          "data": {
            "application/vnd.google.colaboratory.intrinsic+json": {
              "type": "string"
            },
            "text/plain": [
              "'https://jovian.ai/amtulyasmin/pytorch-fundamentals-new'"
            ]
          },
          "metadata": {
            "tags": []
          },
          "execution_count": 252
        }
      ]
    },
    {
      "cell_type": "code",
      "metadata": {
        "id": "GsyA_C1mbtkt"
      },
      "source": [
        ""
      ],
      "execution_count": null,
      "outputs": []
    },
    {
      "cell_type": "code",
      "metadata": {
        "id": "xI7hYi8ibtsc"
      },
      "source": [
        ""
      ],
      "execution_count": null,
      "outputs": []
    },
    {
      "cell_type": "code",
      "metadata": {
        "id": "YG8wI2xobt0I"
      },
      "source": [
        ""
      ],
      "execution_count": null,
      "outputs": []
    },
    {
      "cell_type": "code",
      "metadata": {
        "id": "LmRJqyXabt7i"
      },
      "source": [
        ""
      ],
      "execution_count": null,
      "outputs": []
    },
    {
      "cell_type": "code",
      "metadata": {
        "id": "KlBxFPgcbuEG"
      },
      "source": [
        ""
      ],
      "execution_count": null,
      "outputs": []
    },
    {
      "cell_type": "code",
      "metadata": {
        "id": "ge9YuroUbuSg"
      },
      "source": [
        ""
      ],
      "execution_count": null,
      "outputs": []
    },
    {
      "cell_type": "code",
      "metadata": {
        "id": "07n9dy7Za0ug"
      },
      "source": [
        ""
      ],
      "execution_count": null,
      "outputs": []
    },
    {
      "cell_type": "code",
      "metadata": {
        "id": "4PDDH7w5aS9p"
      },
      "source": [
        ""
      ],
      "execution_count": null,
      "outputs": []
    },
    {
      "cell_type": "code",
      "metadata": {
        "id": "guTabGaYaVDE"
      },
      "source": [
        ""
      ],
      "execution_count": null,
      "outputs": []
    },
    {
      "cell_type": "code",
      "metadata": {
        "id": "0voUW381aVRs"
      },
      "source": [
        ""
      ],
      "execution_count": null,
      "outputs": []
    },
    {
      "cell_type": "code",
      "metadata": {
        "id": "Yzh7EdugaBCq"
      },
      "source": [
        ""
      ],
      "execution_count": null,
      "outputs": []
    },
    {
      "cell_type": "code",
      "metadata": {
        "id": "dQ-_hRzbaBM0"
      },
      "source": [
        ""
      ],
      "execution_count": null,
      "outputs": []
    },
    {
      "cell_type": "code",
      "metadata": {
        "id": "E7z__r5UiTCH"
      },
      "source": [
        ""
      ],
      "execution_count": null,
      "outputs": []
    },
    {
      "cell_type": "code",
      "metadata": {
        "id": "66cUhe_8iTH8"
      },
      "source": [
        ""
      ],
      "execution_count": null,
      "outputs": []
    },
    {
      "cell_type": "code",
      "metadata": {
        "id": "7sIaJ9R9hqJ8"
      },
      "source": [
        ""
      ],
      "execution_count": null,
      "outputs": []
    },
    {
      "cell_type": "code",
      "metadata": {
        "id": "Zv6u7kq4iQJW"
      },
      "source": [
        ""
      ],
      "execution_count": null,
      "outputs": []
    },
    {
      "cell_type": "code",
      "metadata": {
        "id": "rhgH7e7hiQNe"
      },
      "source": [
        ""
      ],
      "execution_count": null,
      "outputs": []
    },
    {
      "cell_type": "code",
      "metadata": {
        "id": "du8BTj6qiQS8"
      },
      "source": [
        ""
      ],
      "execution_count": null,
      "outputs": []
    },
    {
      "cell_type": "code",
      "metadata": {
        "id": "BWr_bKd9fwXV"
      },
      "source": [
        ""
      ],
      "execution_count": null,
      "outputs": []
    },
    {
      "cell_type": "code",
      "metadata": {
        "id": "0rLiW6Ajfwb8"
      },
      "source": [
        ""
      ],
      "execution_count": null,
      "outputs": []
    },
    {
      "cell_type": "code",
      "metadata": {
        "id": "p62pdBQgfkI_"
      },
      "source": [
        ""
      ],
      "execution_count": null,
      "outputs": []
    },
    {
      "cell_type": "code",
      "metadata": {
        "id": "paL--a0RfkVT"
      },
      "source": [
        ""
      ],
      "execution_count": null,
      "outputs": []
    },
    {
      "cell_type": "code",
      "metadata": {
        "id": "weE55u9Hfkf8"
      },
      "source": [
        ""
      ],
      "execution_count": null,
      "outputs": []
    },
    {
      "cell_type": "code",
      "metadata": {
        "id": "rTgxKGxifknF"
      },
      "source": [
        ""
      ],
      "execution_count": null,
      "outputs": []
    },
    {
      "cell_type": "code",
      "metadata": {
        "id": "KH-0oOYyfk9l"
      },
      "source": [
        ""
      ],
      "execution_count": null,
      "outputs": []
    },
    {
      "cell_type": "code",
      "metadata": {
        "id": "_JpHHZ2DfFYN"
      },
      "source": [
        ""
      ],
      "execution_count": null,
      "outputs": []
    },
    {
      "cell_type": "code",
      "metadata": {
        "id": "SryPDCCFfFf-"
      },
      "source": [
        ""
      ],
      "execution_count": null,
      "outputs": []
    },
    {
      "cell_type": "code",
      "metadata": {
        "id": "I96TLLdhfFk_"
      },
      "source": [
        ""
      ],
      "execution_count": null,
      "outputs": []
    },
    {
      "cell_type": "code",
      "metadata": {
        "id": "LblQUfOnfFs3"
      },
      "source": [
        ""
      ],
      "execution_count": null,
      "outputs": []
    },
    {
      "cell_type": "code",
      "metadata": {
        "id": "0cToify3fF2l"
      },
      "source": [
        ""
      ],
      "execution_count": null,
      "outputs": []
    },
    {
      "cell_type": "code",
      "metadata": {
        "id": "r_m0e0P-et-u"
      },
      "source": [
        ""
      ],
      "execution_count": null,
      "outputs": []
    },
    {
      "cell_type": "code",
      "metadata": {
        "id": "X1ZsLFa2euE_"
      },
      "source": [
        ""
      ],
      "execution_count": null,
      "outputs": []
    },
    {
      "cell_type": "code",
      "metadata": {
        "id": "WcWyfqqCeuLL"
      },
      "source": [
        ""
      ],
      "execution_count": null,
      "outputs": []
    },
    {
      "cell_type": "code",
      "metadata": {
        "id": "djEojMQueuOX"
      },
      "source": [
        ""
      ],
      "execution_count": null,
      "outputs": []
    },
    {
      "cell_type": "code",
      "metadata": {
        "id": "pZAUsdb6eNBz"
      },
      "source": [
        ""
      ],
      "execution_count": null,
      "outputs": []
    },
    {
      "cell_type": "code",
      "metadata": {
        "id": "15ChYZOaeNEq"
      },
      "source": [
        ""
      ],
      "execution_count": null,
      "outputs": []
    },
    {
      "cell_type": "code",
      "metadata": {
        "id": "8uDN7_ImZpfC"
      },
      "source": [
        ""
      ],
      "execution_count": null,
      "outputs": []
    },
    {
      "cell_type": "code",
      "metadata": {
        "id": "e0P7H5iXZpit"
      },
      "source": [
        ""
      ],
      "execution_count": null,
      "outputs": []
    }
  ]
}