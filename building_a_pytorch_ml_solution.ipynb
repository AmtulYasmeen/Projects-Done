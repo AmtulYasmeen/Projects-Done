{
  "nbformat": 4,
  "nbformat_minor": 0,
  "metadata": {
    "colab": {
      "name": "building a pytorch ml solution",
      "provenance": [],
      "collapsed_sections": [],
      "authorship_tag": "ABX9TyNSeR+QOHFDzfRe87uPm5fa",
      "include_colab_link": true
    },
    "kernelspec": {
      "name": "python3",
      "display_name": "Python 3"
    },
    "language_info": {
      "name": "python"
    },
    "accelerator": "GPU"
  },
  "cells": [
    {
      "cell_type": "markdown",
      "metadata": {
        "id": "view-in-github",
        "colab_type": "text"
      },
      "source": [
        "<a href=\"https://colab.research.google.com/github/AmtulYasmeen/Projects-Done/blob/Pytorch/building_a_pytorch_ml_solution.ipynb\" target=\"_parent\"><img src=\"https://colab.research.google.com/assets/colab-badge.svg\" alt=\"Open In Colab\"/></a>"
      ]
    },
    {
      "cell_type": "code",
      "metadata": {
        "id": "riFJg78dW745"
      },
      "source": [
        "import torch"
      ],
      "execution_count": null,
      "outputs": []
    },
    {
      "cell_type": "code",
      "metadata": {
        "id": "L-3LjiIiXGpW"
      },
      "source": [
        "'''\n",
        "pytorch organises all of cuda operations as \n",
        "a linear sequence of operations called stream, \n",
        "queued for execution on a single device...\n",
        "each device has its own stream..\n",
        "opetation are serialized in deterministic order..\n",
        "order of executaion across streams is not deterministic(dont know which opearation will complete first)\n",
        "'''"
      ],
      "execution_count": null,
      "outputs": []
    },
    {
      "cell_type": "code",
      "metadata": {
        "id": "i8dnlbzoXGy6"
      },
      "source": [
        "# device agnoistic code to be written, handling both gpu as well as cpu code\n",
        "# chk for presence of gpu to use or else use cpu\n",
        "# commonly argparse, a python lib is used to read user arguments and telling if gpu is enabled\n",
        "# pass run time flags indicating a gpu is available\n",
        "# "
      ],
      "execution_count": null,
      "outputs": []
    },
    {
      "cell_type": "markdown",
      "metadata": {
        "id": "3TvIBvg5KcHz"
      },
      "source": [
        "# using linear regression for prediction"
      ]
    },
    {
      "cell_type": "code",
      "metadata": {
        "id": "Xp0vjrE7M5u1"
      },
      "source": [
        "# simple regression using weight biases ad autograd"
      ],
      "execution_count": null,
      "outputs": []
    },
    {
      "cell_type": "code",
      "metadata": {
        "id": "XDnTkxzFXG8M"
      },
      "source": [
        "import torch , torchvision\n",
        "import matplotlib.pyplot as plt\n",
        "import numpy as np"
      ],
      "execution_count": null,
      "outputs": []
    },
    {
      "cell_type": "code",
      "metadata": {
        "id": "p3EILe7fXHBR"
      },
      "source": [
        "x_train = np.array ([[4.7], [2.4], [7.5], [7.1], [4.3], [7.816], \n",
        "                     [8.9], [5.2], [8.59], [2.1], [8] , \n",
        "                     [10], [4.5], [6], [4]],\n",
        "                    dtype = np.float32)\n",
        "\n",
        "y_train = np.array ([[2.6], [1.6], [3.09], [2.4], [2.4], [3.357], \n",
        "                     [2.6], [1.96], [3.53], [1.76], [3.2] , \n",
        "                     [3.5], [1.6], [2.5], [2.2]], \n",
        "                    dtype = np.float32)"
      ],
      "execution_count": null,
      "outputs": []
    },
    {
      "cell_type": "code",
      "metadata": {
        "colab": {
          "base_uri": "https://localhost:8080/",
          "height": 428
        },
        "id": "TBpd9nzWNG7S",
        "outputId": "a86654b3-1a7c-429a-e77b-29fbd1aec123"
      },
      "source": [
        "plt.figure(figsize=(12, 8))\n",
        "\n",
        "plt.scatter(x_train, y_train, label='Original data', s=250, c='g')\n",
        "\n",
        "plt.legend()\n",
        "plt.show()"
      ],
      "execution_count": null,
      "outputs": [
        {
          "output_type": "display_data",
          "data": {
            "image/png": "[encoded data removed]",
            "text/plain": [
              "<Figure size 864x576 with 1 Axes>"
            ]
          },
          "metadata": {
            "tags": [],
            "needs_background": "light"
          }
        }
      ]
    },
    {
      "cell_type": "code",
      "metadata": {
        "colab": {
          "base_uri": "https://localhost:8080/"
        },
        "id": "asXw4_c2GxFD",
        "outputId": "cdca11fc-74b3-438d-ddca-a71e76d53da3"
      },
      "source": [
        "# these are not the learnalble parameters of our model\n",
        "# therefore requires_grad is False\n",
        "X_train = torch.from_numpy(x_train)\n",
        "Y_train = torch.from_numpy(y_train)\n",
        "print('requires_grad for X_train: ', X_train.requires_grad)\n",
        "print('requires_grad for Y_train: ', Y_train.requires_grad)"
      ],
      "execution_count": null,
      "outputs": [
        {
          "output_type": "stream",
          "text": [
            "requires_grad for X_train:  False\n",
            "requires_grad for Y_train:  False\n"
          ],
          "name": "stdout"
        }
      ]
    },
    {
      "cell_type": "code",
      "metadata": {
        "id": "_tSe0TRbGxJA"
      },
      "source": [
        "input_size = 1 \n",
        "hidden_size = 1\n",
        "output_size = 1\n",
        "learning_rate = 0.001"
      ],
      "execution_count": null,
      "outputs": []
    },
    {
      "cell_type": "code",
      "metadata": {
        "colab": {
          "base_uri": "https://localhost:8080/"
        },
        "id": "6LStl5sXGxMa",
        "outputId": "311ffdac-ab51-4cc1-96fe-7866a8e2eb96"
      },
      "source": [
        "# learnable parameters\n",
        "# requires_grad is set to True\n",
        "w1 = torch.rand(input_size, \n",
        "                hidden_size, \n",
        "                \n",
        "                requires_grad=True)\n",
        "w1.shape"
      ],
      "execution_count": null,
      "outputs": [
        {
          "output_type": "execute_result",
          "data": {
            "text/plain": [
              "torch.Size([1, 1])"
            ]
          },
          "metadata": {
            "tags": []
          },
          "execution_count": 6
        }
      ]
    },
    {
      "cell_type": "code",
      "metadata": {
        "colab": {
          "base_uri": "https://localhost:8080/"
        },
        "id": "FaG4t8DxGxO7",
        "outputId": "6700201e-c2ea-443a-f923-6fa86aad22a0"
      },
      "source": [
        "b1 = torch.rand(hidden_size, \n",
        "                output_size, \n",
        "                \n",
        "                requires_grad=True)\n",
        "b1.shape"
      ],
      "execution_count": null,
      "outputs": [
        {
          "output_type": "execute_result",
          "data": {
            "text/plain": [
              "torch.Size([1, 1])"
            ]
          },
          "metadata": {
            "tags": []
          },
          "execution_count": 7
        }
      ]
    },
    {
      "cell_type": "code",
      "metadata": {
        "colab": {
          "base_uri": "https://localhost:8080/"
        },
        "id": "EDcbxK2KGxSK",
        "outputId": "8b4821c5-2063-4f3c-f879-62b020b02fda"
      },
      "source": [
        "w1"
      ],
      "execution_count": null,
      "outputs": [
        {
          "output_type": "execute_result",
          "data": {
            "text/plain": [
              "tensor([[0.7275]], requires_grad=True)"
            ]
          },
          "metadata": {
            "tags": []
          },
          "execution_count": 8
        }
      ]
    },
    {
      "cell_type": "code",
      "metadata": {
        "colab": {
          "base_uri": "https://localhost:8080/"
        },
        "id": "h-OvS_9UGxVO",
        "outputId": "0056deae-228e-4f71-f1f6-9869a02e4b7d"
      },
      "source": [
        "b1"
      ],
      "execution_count": null,
      "outputs": [
        {
          "output_type": "execute_result",
          "data": {
            "text/plain": [
              "tensor([[0.9289]], requires_grad=True)"
            ]
          },
          "metadata": {
            "tags": []
          },
          "execution_count": 9
        }
      ]
    },
    {
      "cell_type": "code",
      "metadata": {
        "colab": {
          "base_uri": "https://localhost:8080/"
        },
        "id": "yCZx4tKdGxaL",
        "outputId": "292503a9-3ca6-4b85-c088-016dd98bd0f1"
      },
      "source": [
        "# for loop for num of epochs\n",
        "\n",
        "for iter in range(1,4000):\n",
        "  # clamp func simulate relu func , which clamp any negative value to 0\n",
        "  y_pred = X_train.mm(w1).clamp(min=0).add(b1)\n",
        "  loss = (y_pred - Y_train).pow(2).sum()\n",
        "  if iter % 100 == 0 :\n",
        "    print(iter, loss.item())\n",
        "  loss.backward()\n",
        "  with torch.no_grad():\n",
        "    w1 -= learning_rate * w1.grad\n",
        "    b1 -= learning_rate * b1.grad\n",
        "    w1.grad.zero_()\n",
        "    b1.grad.zero_()\n"
      ],
      "execution_count": null,
      "outputs": [
        {
          "output_type": "stream",
          "text": [
            "100 1.867870569229126\n",
            "200 1.759618878364563\n",
            "300 1.7087682485580444\n",
            "400 1.684881329536438\n",
            "500 1.673660397529602\n",
            "600 1.6683894395828247\n",
            "700 1.6659139394760132\n",
            "800 1.664750099182129\n",
            "900 1.6642038822174072\n",
            "1000 1.6639474630355835\n",
            "1100 1.6638269424438477\n",
            "1200 1.6637704372406006\n",
            "1300 1.6637437343597412\n",
            "1400 1.663731336593628\n",
            "1500 1.66372549533844\n",
            "1600 1.6637221574783325\n",
            "1700 1.6637212038040161\n",
            "1800 1.663720965385437\n",
            "1900 1.6637203693389893\n",
            "2000 1.663719892501831\n",
            "2100 1.663719654083252\n",
            "2200 1.6637202501296997\n",
            "2300 1.6637203693389893\n",
            "2400 1.6637201309204102\n",
            "2500 1.6637202501296997\n",
            "2600 1.6637203693389893\n",
            "2700 1.6637203693389893\n",
            "2800 1.663719654083252\n",
            "2900 1.663719654083252\n",
            "3000 1.663719654083252\n",
            "3100 1.663719654083252\n",
            "3200 1.663719654083252\n",
            "3300 1.663719654083252\n",
            "3400 1.663719654083252\n",
            "3500 1.663719654083252\n",
            "3600 1.663719654083252\n",
            "3700 1.663719654083252\n",
            "3800 1.663719654083252\n",
            "3900 1.663719654083252\n"
          ],
          "name": "stdout"
        }
      ]
    },
    {
      "cell_type": "code",
      "metadata": {
        "colab": {
          "base_uri": "https://localhost:8080/"
        },
        "id": "aYQip5_TGxfU",
        "outputId": "9109a0e2-72fb-4e12-f8f1-50b8414a7532"
      },
      "source": [
        "print('w1:', w1)\n",
        "print('b1:', b1)"
      ],
      "execution_count": null,
      "outputs": [
        {
          "output_type": "stream",
          "text": [
            "w1: tensor([[0.2355]], requires_grad=True)\n",
            "b1: tensor([[1.1227]], requires_grad=True)\n"
          ],
          "name": "stdout"
        }
      ]
    },
    {
      "cell_type": "code",
      "metadata": {
        "colab": {
          "base_uri": "https://localhost:8080/"
        },
        "id": "G4Ik7VNwGxhq",
        "outputId": "56742c01-4e49-435e-8aa4-429a63b93ab2"
      },
      "source": [
        "x_train_tensor = torch.from_numpy(x_train)\n",
        "x_train_tensor"
      ],
      "execution_count": null,
      "outputs": [
        {
          "output_type": "execute_result",
          "data": {
            "text/plain": [
              "tensor([[ 4.7000],\n",
              "        [ 2.4000],\n",
              "        [ 7.5000],\n",
              "        [ 7.1000],\n",
              "        [ 4.3000],\n",
              "        [ 7.8160],\n",
              "        [ 8.9000],\n",
              "        [ 5.2000],\n",
              "        [ 8.5900],\n",
              "        [ 2.1000],\n",
              "        [ 8.0000],\n",
              "        [10.0000],\n",
              "        [ 4.5000],\n",
              "        [ 6.0000],\n",
              "        [ 4.0000]])"
            ]
          },
          "metadata": {
            "tags": []
          },
          "execution_count": 21
        }
      ]
    },
    {
      "cell_type": "code",
      "metadata": {
        "colab": {
          "base_uri": "https://localhost:8080/"
        },
        "id": "EpZceSe1Gxj1",
        "outputId": "c4b35381-d55c-470e-e2cb-cfc8a43af27b"
      },
      "source": [
        "predicted_in_tensor = x_train_tensor.mm(w1).clamp(min=0).add(b1)\n",
        "predicted_in_tensor"
      ],
      "execution_count": null,
      "outputs": [
        {
          "output_type": "execute_result",
          "data": {
            "text/plain": [
              "tensor([[2.2296],\n",
              "        [1.6879],\n",
              "        [2.8890],\n",
              "        [2.7948],\n",
              "        [2.1354],\n",
              "        [2.9634],\n",
              "        [3.2187],\n",
              "        [2.3474],\n",
              "        [3.1457],\n",
              "        [1.6173],\n",
              "        [3.0068],\n",
              "        [3.4778],\n",
              "        [2.1825],\n",
              "        [2.5358],\n",
              "        [2.0648]], grad_fn=<AddBackward0>)"
            ]
          },
          "metadata": {
            "tags": []
          },
          "execution_count": 22
        }
      ]
    },
    {
      "cell_type": "code",
      "metadata": {
        "id": "Eq38_aAvR54g"
      },
      "source": [
        "predicted = predicted_in_tensor.detach().numpy()"
      ],
      "execution_count": null,
      "outputs": []
    },
    {
      "cell_type": "code",
      "metadata": {
        "colab": {
          "base_uri": "https://localhost:8080/",
          "height": 483
        },
        "id": "ixSluG82Gxmn",
        "outputId": "f8312a9f-d54f-4839-f36f-27fa5ced0e69"
      },
      "source": [
        "plt.figure(figsize=(8,8))\n",
        "plt.scatter(x_train, y_train, c='green', label='Original data')\n",
        "plt.plot(x_train, predicted, label='Fitted line')\n",
        "plt.legend()\n",
        "plt.show()"
      ],
      "execution_count": null,
      "outputs": [
        {
          "output_type": "display_data",
          "data": {
            "image/png": "[encoded data removed]",
            "text/plain": [
              "<Figure size 576x576 with 1 Axes>"
            ]
          },
          "metadata": {
            "tags": [],
            "needs_background": "light"
          }
        }
      ]
    },
    {
      "cell_type": "code",
      "metadata": {
        "id": "ssukk0uyGxpf"
      },
      "source": [
        "# linear regression estimator in sklearn\n",
        "\n",
        "import sklearn\n",
        "from sklearn.linear_model import LinearRegression\n"
      ],
      "execution_count": null,
      "outputs": []
    },
    {
      "cell_type": "code",
      "metadata": {
        "colab": {
          "base_uri": "https://localhost:8080/"
        },
        "id": "GOahJZPeGxsX",
        "outputId": "3bd7631e-34f7-4008-b83d-5eef27e48fcb"
      },
      "source": [
        "reg = LinearRegression().fit(x_train, y_train)\n",
        "print('w1 with sklearn is : ', reg.coef_)"
      ],
      "execution_count": null,
      "outputs": [
        {
          "output_type": "stream",
          "text": [
            "w1 with sklearn is :  [[0.23550543]]\n"
          ],
          "name": "stdout"
        }
      ]
    },
    {
      "cell_type": "code",
      "metadata": {
        "colab": {
          "base_uri": "https://localhost:8080/"
        },
        "id": "8YrbA4LCGxu7",
        "outputId": "fd22b54f-917b-4b5b-9ff6-17c3e6f3599b"
      },
      "source": [
        "print('b1 with sklearn is : ', reg.intercept_)"
      ],
      "execution_count": null,
      "outputs": [
        {
          "output_type": "stream",
          "text": [
            "b1 with sklearn is :  [1.1227363]\n"
          ],
          "name": "stdout"
        }
      ]
    },
    {
      "cell_type": "code",
      "metadata": {
        "colab": {
          "base_uri": "https://localhost:8080/"
        },
        "id": "2T_D88ZQGxxl",
        "outputId": "9dd49c89-ef72-4a91-87af-3713cdc11573"
      },
      "source": [
        "predicted = reg.predict(x_train)\n",
        "predicted"
      ],
      "execution_count": null,
      "outputs": [
        {
          "output_type": "execute_result",
          "data": {
            "text/plain": [
              "array([[2.2296119],\n",
              "       [1.6879494],\n",
              "       [2.889027 ],\n",
              "       [2.7948248],\n",
              "       [2.1354098],\n",
              "       [2.9634466],\n",
              "       [3.2187347],\n",
              "       [2.3473644],\n",
              "       [3.145728 ],\n",
              "       [1.6172976],\n",
              "       [3.0067797],\n",
              "       [3.4777908],\n",
              "       [2.1825109],\n",
              "       [2.535769 ],\n",
              "       [2.064758 ]], dtype=float32)"
            ]
          },
          "metadata": {
            "tags": []
          },
          "execution_count": 30
        }
      ]
    },
    {
      "cell_type": "code",
      "metadata": {
        "colab": {
          "base_uri": "https://localhost:8080/",
          "height": 483
        },
        "id": "DRv3PneFGx1L",
        "outputId": "91e1e69f-ca69-4d5f-e947-39e64dc56783"
      },
      "source": [
        "plt.figure(figsize=(8,8))\n",
        "plt.scatter(x_train, y_train, c='green', label='Original data')\n",
        "plt.plot(x_train, predicted, label='Fitted line')\n",
        "plt.legend()\n",
        "plt.show()"
      ],
      "execution_count": null,
      "outputs": [
        {
          "output_type": "display_data",
          "data": {
            "image/png": "[encoded data removed]",
            "text/plain": [
              "<Figure size 576x576 with 1 Axes>"
            ]
          },
          "metadata": {
            "tags": [],
            "needs_background": "light"
          }
        }
      ]
    },
    {
      "cell_type": "markdown",
      "metadata": {
        "id": "a3KblA9bTqSI"
      },
      "source": [
        "#overfitting"
      ]
    },
    {
      "cell_type": "code",
      "metadata": {
        "id": "yx6Als_eGx3n"
      },
      "source": [
        "# regularization\n"
      ],
      "execution_count": null,
      "outputs": []
    },
    {
      "cell_type": "code",
      "metadata": {
        "id": "oaj5JA3Vezwl"
      },
      "source": [
        "alpha = 0.8"
      ],
      "execution_count": null,
      "outputs": []
    },
    {
      "cell_type": "code",
      "metadata": {
        "colab": {
          "base_uri": "https://localhost:8080/"
        },
        "id": "PTKH9kxTez9N",
        "outputId": "3a16a08f-a850-4975-b073-1f1b9a6b9c6c"
      },
      "source": [
        "# for loop for num of epochs\n",
        "\n",
        "for iter in range(1,4000):\n",
        "  # clamp func simulate relu func , which clamp any negative value to 0\n",
        "  y_pred = X_train.mm(w1).add(b1)\n",
        "  ridge_regularization_penalty = (w1*w1)\n",
        "  loss = ((y_pred - Y_train).pow(2).sum()) + (alpha + ridge_regularization_penalty)\n",
        "  if iter % 100 == 0 :\n",
        "    print(iter, loss.item())\n",
        "  loss.backward()\n",
        "  with torch.no_grad():\n",
        "    w1 -= learning_rate * w1.grad\n",
        "    b1 -= learning_rate * b1.grad\n",
        "    w1.grad.zero_()\n",
        "    b1.grad.zero_()\n"
      ],
      "execution_count": null,
      "outputs": [
        {
          "output_type": "stream",
          "text": [
            "100 2.5883803367614746\n",
            "200 2.551064968109131\n",
            "300 2.5336785316467285\n",
            "400 2.5255775451660156\n",
            "500 2.5218029022216797\n",
            "600 2.5200443267822266\n",
            "700 2.5192246437072754\n",
            "800 2.518843173980713\n",
            "900 2.518665313720703\n",
            "1000 2.518582582473755\n",
            "1100 2.5185437202453613\n",
            "1200 2.5185258388519287\n",
            "1300 2.51851749420166\n",
            "1400 2.5185129642486572\n",
            "1500 2.518512010574341\n",
            "1600 2.5185112953186035\n",
            "1700 2.518510341644287\n",
            "1800 2.518510341644287\n",
            "1900 2.518510341644287\n",
            "2000 2.518510103225708\n",
            "2100 2.518510580062866\n",
            "2200 2.518510580062866\n",
            "2300 2.518510103225708\n",
            "2400 2.518510103225708\n",
            "2500 2.518510341644287\n",
            "2600 2.518510103225708\n",
            "2700 2.518510103225708\n",
            "2800 2.518510103225708\n",
            "2900 2.518510103225708\n",
            "3000 2.518510103225708\n",
            "3100 2.518510103225708\n",
            "3200 2.518510103225708\n",
            "3300 2.518510103225708\n",
            "3400 2.518510103225708\n",
            "3500 2.518510103225708\n",
            "3600 2.518510103225708\n",
            "3700 2.518510103225708\n",
            "3800 2.518510103225708\n",
            "3900 2.518510103225708\n"
          ],
          "name": "stdout"
        }
      ]
    },
    {
      "cell_type": "code",
      "metadata": {
        "id": "ke4nsymHe0Ee"
      },
      "source": [
        ""
      ],
      "execution_count": null,
      "outputs": []
    },
    {
      "cell_type": "code",
      "metadata": {
        "colab": {
          "base_uri": "https://localhost:8080/"
        },
        "id": "RPpntcvxhFCJ",
        "outputId": "26d328d4-b615-4219-f658-11b632491fac"
      },
      "source": [
        "print('w1:', w1)\n",
        "print('b1:', b1)"
      ],
      "execution_count": null,
      "outputs": [
        {
          "output_type": "stream",
          "text": [
            "w1: tensor([[0.2327]], requires_grad=True)\n",
            "b1: tensor([[1.1401]], requires_grad=True)\n"
          ],
          "name": "stdout"
        }
      ]
    },
    {
      "cell_type": "code",
      "metadata": {
        "colab": {
          "base_uri": "https://localhost:8080/"
        },
        "id": "YgciEKwAhFCo",
        "outputId": "a4ad9cc4-ad50-4c93-fa50-0f00c3929553"
      },
      "source": [
        "x_train_tensor = torch.from_numpy(x_train)\n",
        "x_train_tensor"
      ],
      "execution_count": null,
      "outputs": [
        {
          "output_type": "execute_result",
          "data": {
            "text/plain": [
              "tensor([[ 4.7000],\n",
              "        [ 2.4000],\n",
              "        [ 7.5000],\n",
              "        [ 7.1000],\n",
              "        [ 4.3000],\n",
              "        [ 7.8160],\n",
              "        [ 8.9000],\n",
              "        [ 5.2000],\n",
              "        [ 8.5900],\n",
              "        [ 2.1000],\n",
              "        [ 8.0000],\n",
              "        [10.0000],\n",
              "        [ 4.5000],\n",
              "        [ 6.0000],\n",
              "        [ 4.0000]])"
            ]
          },
          "metadata": {
            "tags": []
          },
          "execution_count": 13
        }
      ]
    },
    {
      "cell_type": "code",
      "metadata": {
        "colab": {
          "base_uri": "https://localhost:8080/"
        },
        "id": "mp6D4ugqhFCp",
        "outputId": "9befda37-c8ea-4874-f083-eb64a1fcc058"
      },
      "source": [
        "predicted_in_tensor = x_train_tensor.mm(w1).clamp(min=0).add(b1)\n",
        "predicted_in_tensor"
      ],
      "execution_count": null,
      "outputs": [
        {
          "output_type": "execute_result",
          "data": {
            "text/plain": [
              "tensor([[2.2335],\n",
              "        [1.6984],\n",
              "        [2.8850],\n",
              "        [2.7919],\n",
              "        [2.1405],\n",
              "        [2.9585],\n",
              "        [3.2107],\n",
              "        [2.3499],\n",
              "        [3.1385],\n",
              "        [1.6286],\n",
              "        [3.0013],\n",
              "        [3.4666],\n",
              "        [2.1870],\n",
              "        [2.5360],\n",
              "        [2.0707]], grad_fn=<AddBackward0>)"
            ]
          },
          "metadata": {
            "tags": []
          },
          "execution_count": 14
        }
      ]
    },
    {
      "cell_type": "code",
      "metadata": {
        "id": "G4z7qB6zhFCp"
      },
      "source": [
        "predicted = predicted_in_tensor.detach().numpy()"
      ],
      "execution_count": null,
      "outputs": []
    },
    {
      "cell_type": "code",
      "metadata": {
        "colab": {
          "base_uri": "https://localhost:8080/",
          "height": 483
        },
        "id": "gWpzCTkBhFCq",
        "outputId": "1814c8f4-200a-4669-8346-fdd2e03c982e"
      },
      "source": [
        "plt.figure(figsize=(8,8))\n",
        "plt.scatter(x_train, y_train, c='green', label='Original data')\n",
        "plt.plot(x_train, predicted, label='Fitted line')\n",
        "plt.legend()\n",
        "plt.show()"
      ],
      "execution_count": null,
      "outputs": [
        {
          "output_type": "display_data",
          "data": {
            "image/png": "[encoded data removed]",
            "text/plain": [
              "<Figure size 576x576 with 1 Axes>"
            ]
          },
          "metadata": {
            "tags": [],
            "needs_background": "light"
          }
        }
      ]
    },
    {
      "cell_type": "code",
      "metadata": {
        "id": "9qXVgV0Ae0J_"
      },
      "source": [
        "# ridge regression performed using sklearn\n",
        "\n",
        "from sklearn.linear_model import Ridge\n",
        "ridge_model = Ridge()"
      ],
      "execution_count": null,
      "outputs": []
    },
    {
      "cell_type": "code",
      "metadata": {
        "colab": {
          "base_uri": "https://localhost:8080/"
        },
        "id": "m9I8Gki8e0PV",
        "outputId": "fdfb594b-ba3c-4a94-f72d-c47d2a147aaa"
      },
      "source": [
        "ridge_model.fit(X_train, Y_train)\n",
        "print('w1 with sklearn is : ', ridge_model.coef_)"
      ],
      "execution_count": null,
      "outputs": [
        {
          "output_type": "stream",
          "text": [
            "w1 with sklearn is :  [[0.23264857]]\n"
          ],
          "name": "stdout"
        }
      ]
    },
    {
      "cell_type": "code",
      "metadata": {
        "colab": {
          "base_uri": "https://localhost:8080/"
        },
        "id": "SrXorDf-e0Tv",
        "outputId": "9662c649-c2e6-43fa-cb4b-b4fb3acb0a8c"
      },
      "source": [
        "print('b1 with sklearn is: ', ridge_model.intercept_)"
      ],
      "execution_count": null,
      "outputs": [
        {
          "output_type": "stream",
          "text": [
            "b1 with sklearn is:  [1.14008799]\n"
          ],
          "name": "stdout"
        }
      ]
    },
    {
      "cell_type": "code",
      "metadata": {
        "id": "bgoF895Ke0W6"
      },
      "source": [
        ""
      ],
      "execution_count": null,
      "outputs": []
    },
    {
      "cell_type": "markdown",
      "metadata": {
        "id": "ozDBaYveiA1j"
      },
      "source": [
        "# Regression model using pytorch"
      ]
    },
    {
      "cell_type": "code",
      "metadata": {
        "id": "_j1cbD-Je0fA"
      },
      "source": [
        "'''# pytorch oprtimizers\n",
        "# to calculate gradients and update model parameters\n",
        "# 1st construct an optimizer object and pass iterable of all paramneterss\n",
        "# which shld be learnable tensors\n",
        "\n",
        "# can specify options per paramter basis, but its an advance option\n",
        "# therfore we pass in an iterable of dict objects, each key is a parameter,\n",
        "#  which defines the paramter group\n",
        "\n",
        "# then make forward pass, compare predicted and actual values, \n",
        "# calc loss, n call .backward() on loss, which invoke autograd lib,\n",
        "#  which gives gradients for all model parameters\n",
        "\n",
        "# invoke optimizer.step() , optimizer will use calc. gradients  to update weights\n",
        "\n",
        "\n",
        "# host of optimizers\n",
        "torch.optim.Optimizer\n",
        "torch.optim.Adadelta\n",
        "torch.optim.Adagrad\n",
        "torch.optim.Adam\n",
        "etc\n",
        "\n",
        "# basic sgd optimizer : moves gradients in the direction of reducing gradients\n",
        "# momentum based vector\n",
        "\n",
        "\n",
        "'''\n"
      ],
      "execution_count": null,
      "outputs": []
    },
    {
      "cell_type": "code",
      "metadata": {
        "id": "AwFNeKSqnQ-U"
      },
      "source": [
        ""
      ],
      "execution_count": null,
      "outputs": []
    },
    {
      "cell_type": "code",
      "metadata": {
        "id": "qa5fkqiwnq4o"
      },
      "source": [
        "import torch , torchvision\n",
        "import matplotlib.pyplot as plt\n",
        "import numpy as np"
      ],
      "execution_count": null,
      "outputs": []
    },
    {
      "cell_type": "code",
      "metadata": {
        "id": "LmfZv5Vknq4p"
      },
      "source": [
        "x_train = np.array ([[4.7], [2.4], [7.5], [7.1], [4.3], [7.816], \n",
        "                     [8.9], [5.2], [8.59], [2.1], [8] , \n",
        "                     [10], [4.5], [6], [4]],\n",
        "                    dtype = np.float32)\n",
        "\n",
        "y_train = np.array ([[2.6], [1.6], [3.09], [2.4], [2.4], [3.357], \n",
        "                     [2.6], [1.96], [3.53], [1.76], [3.2] , \n",
        "                     [3.5], [1.6], [2.5], [2.2]], \n",
        "                    dtype = np.float32)"
      ],
      "execution_count": null,
      "outputs": []
    },
    {
      "cell_type": "code",
      "metadata": {
        "colab": {
          "base_uri": "https://localhost:8080/",
          "height": 428
        },
        "id": "zObytFZenq4q",
        "outputId": "e2a58b2d-ede3-43bb-ca37-917f5454cc63"
      },
      "source": [
        "plt.figure(figsize=(12, 8))\n",
        "\n",
        "plt.scatter(x_train, y_train, label='Original data', s=250, c='g')\n",
        "\n",
        "plt.legend()\n",
        "plt.show()"
      ],
      "execution_count": null,
      "outputs": [
        {
          "output_type": "display_data",
          "data": {
            "image/png": "[encoded data removed]",
            "text/plain": [
              "<Figure size 864x576 with 1 Axes>"
            ]
          },
          "metadata": {
            "tags": [],
            "needs_background": "light"
          }
        }
      ]
    },
    {
      "cell_type": "code",
      "metadata": {
        "colab": {
          "base_uri": "https://localhost:8080/"
        },
        "id": "vOAIwQ1Mnq4u",
        "outputId": "8295b5e1-176a-413b-9e87-d35f0a97426c"
      },
      "source": [
        "# these are not the learnalble parameters of our model\n",
        "# therefore requires_grad is False\n",
        "X_train = torch.from_numpy(x_train)\n",
        "Y_train = torch.from_numpy(y_train)\n",
        "print('requires_grad for X_train: ', X_train.requires_grad)\n",
        "print('requires_grad for Y_train: ', Y_train.requires_grad)"
      ],
      "execution_count": null,
      "outputs": [
        {
          "output_type": "stream",
          "text": [
            "requires_grad for X_train:  False\n",
            "requires_grad for Y_train:  False\n"
          ],
          "name": "stdout"
        }
      ]
    },
    {
      "cell_type": "code",
      "metadata": {
        "colab": {
          "base_uri": "https://localhost:8080/"
        },
        "id": "7S2UsOzsnq4w",
        "outputId": "6e35eee3-63c6-46a9-f75b-ac8eb049c175"
      },
      "source": [
        "# learnable parameters\n",
        "# requires_grad is set to True\n",
        "w1 = torch.rand(input_size, \n",
        "                hidden_size, \n",
        "                \n",
        "                requires_grad=True)\n",
        "w1.shape"
      ],
      "execution_count": null,
      "outputs": [
        {
          "output_type": "execute_result",
          "data": {
            "text/plain": [
              "torch.Size([1, 1])"
            ]
          },
          "metadata": {
            "tags": []
          },
          "execution_count": 7
        }
      ]
    },
    {
      "cell_type": "code",
      "metadata": {
        "colab": {
          "base_uri": "https://localhost:8080/"
        },
        "id": "n3Hects7nq4w",
        "outputId": "ca599a0c-5c00-4b6b-e0f3-a5f01878bb72"
      },
      "source": [
        "b1 = torch.rand(hidden_size, \n",
        "                output_size, \n",
        "                \n",
        "                requires_grad=True)\n",
        "b1.shape"
      ],
      "execution_count": null,
      "outputs": [
        {
          "output_type": "execute_result",
          "data": {
            "text/plain": [
              "torch.Size([1, 1])"
            ]
          },
          "metadata": {
            "tags": []
          },
          "execution_count": 8
        }
      ]
    },
    {
      "cell_type": "code",
      "metadata": {
        "id": "NYZCzt6wnq4v"
      },
      "source": [
        "input = 1 \n",
        "hidden = 5\n",
        "output = 1\n",
        "# learning_rate = 0.001"
      ],
      "execution_count": null,
      "outputs": []
    },
    {
      "cell_type": "code",
      "metadata": {
        "id": "8xCjTbLhnRKM"
      },
      "source": [
        "model = torch.nn.Sequential(\n",
        "    torch.nn.Linear(input, hidden),\n",
        "    torch.nn.ReLU(),\n",
        "    torch.nn.Linear(hidden, output)\n",
        "\n",
        ")"
      ],
      "execution_count": null,
      "outputs": []
    },
    {
      "cell_type": "code",
      "metadata": {
        "id": "ZBguNOOtGx6L"
      },
      "source": [
        "loss_func = torch.nn.MSELoss(reduction= 'sum')"
      ],
      "execution_count": null,
      "outputs": []
    },
    {
      "cell_type": "code",
      "metadata": {
        "colab": {
          "base_uri": "https://localhost:8080/"
        },
        "id": "3NrwOEqGqW-r",
        "outputId": "13825971-91d9-4576-b6d0-21193dbe2ce0"
      },
      "source": [
        "X_train.size()"
      ],
      "execution_count": null,
      "outputs": [
        {
          "output_type": "execute_result",
          "data": {
            "text/plain": [
              "torch.Size([15, 1])"
            ]
          },
          "metadata": {
            "tags": []
          },
          "execution_count": 18
        }
      ]
    },
    {
      "cell_type": "code",
      "metadata": {
        "colab": {
          "base_uri": "https://localhost:8080/"
        },
        "id": "570BFY9rGx9F",
        "outputId": "ee558f49-93af-41c3-baec-90df8e213d58"
      },
      "source": [
        "# setting up training\n",
        "learning_rate = 1e-4\n",
        "for i in range(500):\n",
        "  # invoking model and passing data x\n",
        "  y_pred = model(X_train)\n",
        "  # loss calc\n",
        "  loss = loss_func(y_pred, Y_train)\n",
        "  print(i , loss.item())\n",
        "  # zeroout the gradients to calc fresh grads\n",
        "  model.zero_grad()\n",
        "  # invoke .backward to calc fresh grads wrt loss\n",
        "  loss.backward()\n",
        "  # turn off grad calc n update paramters\n",
        "  with torch.no_grad():\n",
        "    for param in model.parameters():\n",
        "      param -= learning_rate * param.grad\n",
        "\n"
      ],
      "execution_count": null,
      "outputs": [
        {
          "output_type": "stream",
          "text": [
            "0 96.55181884765625\n",
            "1 88.8846435546875\n",
            "2 81.89847564697266\n",
            "3 75.4895248413086\n",
            "4 69.56874084472656\n",
            "5 64.05728912353516\n",
            "6 58.904415130615234\n",
            "7 54.07339859008789\n",
            "8 49.5452995300293\n",
            "9 45.290000915527344\n",
            "10 41.29397201538086\n",
            "11 37.54774475097656\n",
            "12 34.04591751098633\n",
            "13 30.787691116333008\n",
            "14 27.761783599853516\n",
            "15 24.963863372802734\n",
            "16 22.389564514160156\n",
            "17 20.033117294311523\n",
            "18 17.886703491210938\n",
            "19 15.942268371582031\n",
            "20 14.19055461883545\n",
            "21 12.621551513671875\n",
            "22 11.225086212158203\n",
            "23 9.987675666809082\n",
            "24 8.897067070007324\n",
            "25 7.940834045410156\n",
            "26 7.106634616851807\n",
            "27 6.382397651672363\n",
            "28 5.756520748138428\n",
            "29 5.2180023193359375\n",
            "30 4.756565093994141\n",
            "31 4.362709045410156\n",
            "32 4.027759075164795\n",
            "33 3.7438626289367676\n",
            "34 3.5039937496185303\n",
            "35 3.301910161972046\n",
            "36 3.132108688354492\n",
            "37 2.989774465560913\n",
            "38 2.8707234859466553\n",
            "39 2.7713398933410645\n",
            "40 2.688514471054077\n",
            "41 2.619590997695923\n",
            "42 2.5623042583465576\n",
            "43 2.5147368907928467\n",
            "44 2.475269079208374\n",
            "45 2.4425435066223145\n",
            "46 2.4156064987182617\n",
            "47 2.39329195022583\n",
            "48 2.374799966812134\n",
            "49 2.3594677448272705\n",
            "50 2.3467421531677246\n",
            "51 2.336165189743042\n",
            "52 2.3273568153381348\n",
            "53 2.3200016021728516\n",
            "54 2.3138442039489746\n",
            "55 2.308666706085205\n",
            "56 2.30429744720459\n",
            "57 2.3005871772766113\n",
            "58 2.297419548034668\n",
            "59 2.2946953773498535\n",
            "60 2.292335271835327\n",
            "61 2.290273666381836\n",
            "62 2.2884552478790283\n",
            "63 2.2868359088897705\n",
            "64 2.2853808403015137\n",
            "65 2.2840590476989746\n",
            "66 2.2828469276428223\n",
            "67 2.281723976135254\n",
            "68 2.2806735038757324\n",
            "69 2.279683828353882\n",
            "70 2.2787439823150635\n",
            "71 2.2778444290161133\n",
            "72 2.2769765853881836\n",
            "73 2.276137590408325\n",
            "74 2.2753188610076904\n",
            "75 2.2745206356048584\n",
            "76 2.2737367153167725\n",
            "77 2.2729649543762207\n",
            "78 2.272204637527466\n",
            "79 2.2714521884918213\n",
            "80 2.270707368850708\n",
            "81 2.269968271255493\n",
            "82 2.2692346572875977\n",
            "83 2.268505334854126\n",
            "84 2.2677793502807617\n",
            "85 2.2670562267303467\n",
            "86 2.2663369178771973\n",
            "87 2.2656195163726807\n",
            "88 2.2649037837982178\n",
            "89 2.264191150665283\n",
            "90 2.263479232788086\n",
            "91 2.2627692222595215\n",
            "92 2.2620599269866943\n",
            "93 2.261352777481079\n",
            "94 2.2606472969055176\n",
            "95 2.259941816329956\n",
            "96 2.2592387199401855\n",
            "97 2.258535623550415\n",
            "98 2.257833957672119\n",
            "99 2.2571332454681396\n",
            "100 2.256434440612793\n",
            "101 2.255735158920288\n",
            "102 2.255037546157837\n",
            "103 2.2543411254882812\n",
            "104 2.253645181655884\n",
            "105 2.2529497146606445\n",
            "106 2.252256393432617\n",
            "107 2.25156307220459\n",
            "108 2.250870704650879\n",
            "109 2.250178813934326\n",
            "110 2.2494890689849854\n",
            "111 2.2487988471984863\n",
            "112 2.2481110095977783\n",
            "113 2.247422456741333\n",
            "114 2.2467362880706787\n",
            "115 2.246049642562866\n",
            "116 2.2453649044036865\n",
            "117 2.244680166244507\n",
            "118 2.2439963817596436\n",
            "119 2.243314504623413\n",
            "120 2.2426321506500244\n",
            "121 2.2419514656066895\n",
            "122 2.2412712574005127\n",
            "123 2.2405920028686523\n",
            "124 2.23991322517395\n",
            "125 2.2392356395721436\n",
            "126 2.2385590076446533\n",
            "127 2.2378830909729004\n",
            "128 2.237208127975464\n",
            "129 2.2365336418151855\n",
            "130 2.2358601093292236\n",
            "131 2.2351877689361572\n",
            "132 2.2345166206359863\n",
            "133 2.233846664428711\n",
            "134 2.2331759929656982\n",
            "135 2.232506513595581\n",
            "136 2.2318389415740967\n",
            "137 2.231171131134033\n",
            "138 2.2305049896240234\n",
            "139 2.2298390865325928\n",
            "140 2.2291736602783203\n",
            "141 2.2285096645355225\n",
            "142 2.227846145629883\n",
            "143 2.227184772491455\n",
            "144 2.22652268409729\n",
            "145 2.2258620262145996\n",
            "146 2.22520112991333\n",
            "147 2.2245421409606934\n",
            "148 2.223883867263794\n",
            "149 2.223226308822632\n",
            "150 2.222569465637207\n",
            "151 2.2219135761260986\n",
            "152 2.2212584018707275\n",
            "153 2.2206039428710938\n",
            "154 2.2199506759643555\n",
            "155 2.2192978858947754\n",
            "156 2.2186455726623535\n",
            "157 2.2179946899414062\n",
            "158 2.2173449993133545\n",
            "159 2.2166950702667236\n",
            "160 2.2160472869873047\n",
            "161 2.2153995037078857\n",
            "162 2.2147514820098877\n",
            "163 2.2141053676605225\n",
            "164 2.213460683822632\n",
            "165 2.2128164768218994\n",
            "166 2.212172031402588\n",
            "167 2.211528778076172\n",
            "168 2.2108869552612305\n",
            "169 2.2102460861206055\n",
            "170 2.209604501724243\n",
            "171 2.2089650630950928\n",
            "172 2.2083258628845215\n",
            "173 2.2076878547668457\n",
            "174 2.207050323486328\n",
            "175 2.206413745880127\n",
            "176 2.205777645111084\n",
            "177 2.2051427364349365\n",
            "178 2.2045087814331055\n",
            "179 2.2038753032684326\n",
            "180 2.203242540359497\n",
            "181 2.2026100158691406\n",
            "182 2.201979160308838\n",
            "183 2.2013485431671143\n",
            "184 2.2007193565368652\n",
            "185 2.2000908851623535\n",
            "186 2.1994616985321045\n",
            "187 2.198835611343384\n",
            "188 2.1982085704803467\n",
            "189 2.1975831985473633\n",
            "190 2.196958065032959\n",
            "191 2.196333408355713\n",
            "192 2.1957099437713623\n",
            "193 2.1950879096984863\n",
            "194 2.1944661140441895\n",
            "195 2.1938445568084717\n",
            "196 2.1932244300842285\n",
            "197 2.1926050186157227\n",
            "198 2.191985845565796\n",
            "199 2.191368341445923\n",
            "200 2.19075083732605\n",
            "201 2.190134048461914\n",
            "202 2.1895179748535156\n",
            "203 2.1889030933380127\n",
            "204 2.1882896423339844\n",
            "205 2.187675952911377\n",
            "206 2.187062978744507\n",
            "207 2.186450719833374\n",
            "208 2.185840129852295\n",
            "209 2.185229778289795\n",
            "210 2.184619426727295\n",
            "211 2.184011220932007\n",
            "212 2.1834022998809814\n",
            "213 2.1827948093414307\n",
            "214 2.1821885108947754\n",
            "215 2.1815829277038574\n",
            "216 2.1809771060943604\n",
            "217 2.180372953414917\n",
            "218 2.17976975440979\n",
            "219 2.179166316986084\n",
            "220 2.1785640716552734\n",
            "221 2.177962064743042\n",
            "222 2.1773617267608643\n",
            "223 2.1767611503601074\n",
            "224 2.1761624813079834\n",
            "225 2.1755638122558594\n",
            "226 2.1749656200408936\n",
            "227 2.1743690967559814\n",
            "228 2.1737725734710693\n",
            "229 2.1731772422790527\n",
            "230 2.172581672668457\n",
            "231 2.1719882488250732\n",
            "232 2.1713943481445312\n",
            "233 2.170802354812622\n",
            "234 2.1702096462249756\n",
            "235 2.169618844985962\n",
            "236 2.1690280437469482\n",
            "237 2.168438673019409\n",
            "238 2.16784930229187\n",
            "239 2.1672606468200684\n",
            "240 2.166672945022583\n",
            "241 2.166086196899414\n",
            "242 2.1655004024505615\n",
            "243 2.164914608001709\n",
            "244 2.164330244064331\n",
            "245 2.163745641708374\n",
            "246 2.1631624698638916\n",
            "247 2.1625797748565674\n",
            "248 2.1619977951049805\n",
            "249 2.1614162921905518\n",
            "250 2.160836696624756\n",
            "251 2.160256862640381\n",
            "252 2.159677028656006\n",
            "253 2.1590988636016846\n",
            "254 2.1585214138031006\n",
            "255 2.157944679260254\n",
            "256 2.1573681831359863\n",
            "257 2.156792640686035\n",
            "258 2.1562187671661377\n",
            "259 2.155643939971924\n",
            "260 2.1550703048706055\n",
            "261 2.1544981002807617\n",
            "262 2.1539251804351807\n",
            "263 2.1533546447753906\n",
            "264 2.1527841091156006\n",
            "265 2.1522135734558105\n",
            "266 2.151644706726074\n",
            "267 2.151076316833496\n",
            "268 2.150508403778076\n",
            "269 2.1499416828155518\n",
            "270 2.149374485015869\n",
            "271 2.1488091945648193\n",
            "272 2.1482434272766113\n",
            "273 2.1476798057556152\n",
            "274 2.147115707397461\n",
            "275 2.146552324295044\n",
            "276 2.1459901332855225\n",
            "277 2.145428419113159\n",
            "278 2.144867420196533\n",
            "279 2.1443071365356445\n",
            "280 2.143747568130493\n",
            "281 2.1431884765625\n",
            "282 2.1426310539245605\n",
            "283 2.142073631286621\n",
            "284 2.1415157318115234\n",
            "285 2.140960931777954\n",
            "286 2.140404462814331\n",
            "287 2.1398496627807617\n",
            "288 2.1392955780029297\n",
            "289 2.138741970062256\n",
            "290 2.1381893157958984\n",
            "291 2.137637138366699\n",
            "292 2.137085437774658\n",
            "293 2.1365349292755127\n",
            "294 2.135984182357788\n",
            "295 2.135434865951538\n",
            "296 2.1348860263824463\n",
            "297 2.134338140487671\n",
            "298 2.1337904930114746\n",
            "299 2.1332437992095947\n",
            "300 2.132697343826294\n",
            "301 2.132152557373047\n",
            "302 2.1316072940826416\n",
            "303 2.131063222885132\n",
            "304 2.1305196285247803\n",
            "305 2.129976749420166\n",
            "306 2.129434823989868\n",
            "307 2.1288928985595703\n",
            "308 2.128352642059326\n",
            "309 2.127812385559082\n",
            "310 2.127272605895996\n",
            "311 2.1267337799072266\n",
            "312 2.1261956691741943\n",
            "313 2.125657796859741\n",
            "314 2.1251206398010254\n",
            "315 2.1245839595794678\n",
            "316 2.1240487098693848\n",
            "317 2.123513698577881\n",
            "318 2.122978925704956\n",
            "319 2.122446298599243\n",
            "320 2.1219124794006348\n",
            "321 2.1213808059692383\n",
            "322 2.1208484172821045\n",
            "323 2.1203174591064453\n",
            "324 2.1197867393493652\n",
            "325 2.1192572116851807\n",
            "326 2.1187283992767334\n",
            "327 2.118199348449707\n",
            "328 2.117671012878418\n",
            "329 2.1171438694000244\n",
            "330 2.116617202758789\n",
            "331 2.116091728210449\n",
            "332 2.1155660152435303\n",
            "333 2.1150407791137695\n",
            "334 2.1145172119140625\n",
            "335 2.1139938831329346\n",
            "336 2.1134705543518066\n",
            "337 2.1129488945007324\n",
            "338 2.112427234649658\n",
            "339 2.1119062900543213\n",
            "340 2.1113858222961426\n",
            "341 2.110866069793701\n",
            "342 2.1103475093841553\n",
            "343 2.109828472137451\n",
            "344 2.109311103820801\n",
            "345 2.1087934970855713\n",
            "346 2.1082773208618164\n",
            "347 2.1077611446380615\n",
            "348 2.107245683670044\n",
            "349 2.1067309379577637\n",
            "350 2.1062166690826416\n",
            "351 2.105703115463257\n",
            "352 2.1051907539367676\n",
            "353 2.104678153991699\n",
            "354 2.1041672229766846\n",
            "355 2.10365629196167\n",
            "356 2.1031460762023926\n",
            "357 2.1026363372802734\n",
            "358 2.1021265983581543\n",
            "359 2.1016180515289307\n",
            "360 2.1011104583740234\n",
            "361 2.100602865219116\n",
            "362 2.1000964641571045\n",
            "363 2.0995895862579346\n",
            "364 2.0990846157073975\n",
            "365 2.0985798835754395\n",
            "366 2.0980753898620605\n",
            "367 2.097571849822998\n",
            "368 2.0970687866210938\n",
            "369 2.096566677093506\n",
            "370 2.096064567565918\n",
            "371 2.0955634117126465\n",
            "372 2.0950629711151123\n",
            "373 2.094562530517578\n",
            "374 2.0940639972686768\n",
            "375 2.093564510345459\n",
            "376 2.0930659770965576\n",
            "377 2.092568874359131\n",
            "378 2.092071294784546\n",
            "379 2.0915746688842773\n",
            "380 2.0910792350769043\n",
            "381 2.090583324432373\n",
            "382 2.0900890827178955\n",
            "383 2.089594841003418\n",
            "384 2.089102268218994\n",
            "385 2.088609457015991\n",
            "386 2.0881166458129883\n",
            "387 2.087625503540039\n",
            "388 2.087134599685669\n",
            "389 2.086643695831299\n",
            "390 2.086153507232666\n",
            "391 2.085664749145508\n",
            "392 2.0851755142211914\n",
            "393 2.0846874713897705\n",
            "394 2.084200143814087\n",
            "395 2.083712339401245\n",
            "396 2.0832266807556152\n",
            "397 2.082740545272827\n",
            "398 2.0822548866271973\n",
            "399 2.081770181655884\n",
            "400 2.0812861919403076\n",
            "401 2.0808026790618896\n",
            "402 2.080320358276367\n",
            "403 2.0798377990722656\n",
            "404 2.0793564319610596\n",
            "405 2.0788745880126953\n",
            "406 2.0783936977386475\n",
            "407 2.077913761138916\n",
            "408 2.07743501663208\n",
            "409 2.076956033706665\n",
            "410 2.076477527618408\n",
            "411 2.0759997367858887\n",
            "412 2.0755228996276855\n",
            "413 2.0750460624694824\n",
            "414 2.0745699405670166\n",
            "415 2.074094295501709\n",
            "416 2.073620080947876\n",
            "417 2.073145627975464\n",
            "418 2.0726711750030518\n",
            "419 2.072197914123535\n",
            "420 2.071725606918335\n",
            "421 2.071253776550293\n",
            "422 2.0707826614379883\n",
            "423 2.0703115463256836\n",
            "424 2.069840908050537\n",
            "425 2.069371223449707\n",
            "426 2.068901777267456\n",
            "427 2.0684332847595215\n",
            "428 2.067965269088745\n",
            "429 2.0674972534179688\n",
            "430 2.0670299530029297\n",
            "431 2.066563844680786\n",
            "432 2.066098213195801\n",
            "433 2.0656323432922363\n",
            "434 2.0651676654815674\n",
            "435 2.064703941345215\n",
            "436 2.064239740371704\n",
            "437 2.063777208328247\n",
            "438 2.0633139610290527\n",
            "439 2.062852382659912\n",
            "440 2.0623908042907715\n",
            "441 2.06192946434021\n",
            "442 2.061469554901123\n",
            "443 2.061009645462036\n",
            "444 2.0605502128601074\n",
            "445 2.060091018676758\n",
            "446 2.0596327781677246\n",
            "447 2.0591752529144287\n",
            "448 2.058718681335449\n",
            "449 2.058262348175049\n",
            "450 2.0578057765960693\n",
            "451 2.0573508739471436\n",
            "452 2.0568954944610596\n",
            "453 2.056441307067871\n",
            "454 2.055987596511841\n",
            "455 2.0555338859558105\n",
            "456 2.0550811290740967\n",
            "457 2.054629325866699\n",
            "458 2.0541770458221436\n",
            "459 2.0537266731262207\n",
            "460 2.0532753467559814\n",
            "461 2.052825927734375\n",
            "462 2.052375555038452\n",
            "463 2.051927089691162\n",
            "464 2.0514779090881348\n",
            "465 2.0510308742523193\n",
            "466 2.050583839416504\n",
            "467 2.0501365661621094\n",
            "468 2.049690008163452\n",
            "469 2.049243927001953\n",
            "470 2.048799514770508\n",
            "471 2.048354148864746\n",
            "472 2.047909736633301\n",
            "473 2.0474660396575928\n",
            "474 2.047023057937622\n",
            "475 2.0465800762176514\n",
            "476 2.046138286590576\n",
            "477 2.045696973800659\n",
            "478 2.045255661010742\n",
            "479 2.0448153018951416\n",
            "480 2.0443756580352783\n",
            "481 2.043935775756836\n",
            "482 2.043497085571289\n",
            "483 2.043057918548584\n",
            "484 2.0426201820373535\n",
            "485 2.0421831607818604\n",
            "486 2.041745901107788\n",
            "487 2.0413098335266113\n",
            "488 2.0408740043640137\n",
            "489 2.040438413619995\n",
            "490 2.040003776550293\n",
            "491 2.03956937789917\n",
            "492 2.039134979248047\n",
            "493 2.0387024879455566\n",
            "494 2.03826904296875\n",
            "495 2.037837266921997\n",
            "496 2.037405490875244\n",
            "497 2.036973714828491\n",
            "498 2.036543369293213\n",
            "499 2.0361125469207764\n"
          ],
          "name": "stdout"
        }
      ]
    },
    {
      "cell_type": "code",
      "metadata": {
        "colab": {
          "base_uri": "https://localhost:8080/"
        },
        "id": "_aggVAyUGyAC",
        "outputId": "5d366386-dde8-40f5-def1-90578c9804e0"
      },
      "source": [
        "predicted_in_tensor = model(X_train)\n",
        "predicted_in_tensor"
      ],
      "execution_count": null,
      "outputs": [
        {
          "output_type": "execute_result",
          "data": {
            "text/plain": [
              "tensor([[2.0950],\n",
              "        [1.4005],\n",
              "        [2.9293],\n",
              "        [2.8101],\n",
              "        [1.9758],\n",
              "        [3.0235],\n",
              "        [3.3465],\n",
              "        [2.2440],\n",
              "        [3.2541],\n",
              "        [1.3037],\n",
              "        [3.0783],\n",
              "        [3.6743],\n",
              "        [2.0354],\n",
              "        [2.4824],\n",
              "        [1.8864]], grad_fn=<AddmmBackward>)"
            ]
          },
          "metadata": {
            "tags": []
          },
          "execution_count": 22
        }
      ]
    },
    {
      "cell_type": "code",
      "metadata": {
        "id": "ntAg16IJsdH_"
      },
      "source": [
        "# detach tensor from comp graph and convert it into a numpy array\n",
        "predicted = predicted_in_tensor.detach().numpy()"
      ],
      "execution_count": null,
      "outputs": []
    },
    {
      "cell_type": "code",
      "metadata": {
        "id": "E6wMQxefs314"
      },
      "source": [
        ""
      ],
      "execution_count": null,
      "outputs": []
    },
    {
      "cell_type": "code",
      "metadata": {
        "colab": {
          "base_uri": "https://localhost:8080/",
          "height": 483
        },
        "id": "-5YyDkKbrtcD",
        "outputId": "501b4343-6baa-466f-dd9e-642b159da047"
      },
      "source": [
        "plt.figure(figsize=(8, 8))\n",
        "\n",
        "plt.scatter(x_train, y_train, label='Original data', s=250, c='g')\n",
        "plt.plot(x_train, predicted, label='Fitted line')\n",
        "plt.legend()\n",
        "plt.show()"
      ],
      "execution_count": null,
      "outputs": [
        {
          "output_type": "display_data",
          "data": {
            "image/png": "[encoded data removed]",
            "text/plain": [
              "<Figure size 576x576 with 1 Axes>"
            ]
          },
          "metadata": {
            "tags": [],
            "needs_background": "light"
          }
        }
      ]
    },
    {
      "cell_type": "code",
      "metadata": {
        "id": "USP8yvXGGyCw"
      },
      "source": [
        "# the weight updation is repetative process and pytorch does \n",
        "# automate it using optimizers\n",
        "\n",
        "model = torch.nn.Sequential(\n",
        "    torch.nn.Linear(input, hidden),\n",
        "    torch.nn.ReLU(),\n",
        "    torch.nn.Linear(hidden, output)\n",
        ")\n",
        "loss_fn = torch.nn.MSELoss(reduction = 'sum')\n"
      ],
      "execution_count": null,
      "outputs": []
    },
    {
      "cell_type": "code",
      "metadata": {
        "colab": {
          "base_uri": "https://localhost:8080/"
        },
        "id": "1uhozxixs4EL",
        "outputId": "edccf607-740b-4246-f1b3-fdc7f7cacf44"
      },
      "source": [
        "# training\n",
        "optimizer = torch.optim.SGD(model.parameters(), lr = learning_rate)\n",
        "for i in range(500):\n",
        "  # forward pass\n",
        "  y_pred = model(X_train)\n",
        "  # calc loss\n",
        "  loss = loss_fn(y_pred, Y_train)\n",
        "  print(i, loss.item())\n",
        "  # zero out the gradients\n",
        "  optimizer.zero_grad()\n",
        "  # calc fresh grads\n",
        "  loss.backward()\n",
        "  # update weights using fresh grads\n",
        "  optimizer.step()"
      ],
      "execution_count": null,
      "outputs": [
        {
          "output_type": "stream",
          "text": [
            "0 230.25387573242188\n",
            "1 188.706787109375\n",
            "2 157.23670959472656\n",
            "3 132.47683715820312\n",
            "4 112.42581176757812\n",
            "5 95.83102416992188\n",
            "6 81.87542724609375\n",
            "7 70.0068588256836\n",
            "8 59.83946228027344\n",
            "9 51.094337463378906\n",
            "10 43.56222915649414\n",
            "11 37.07988357543945\n",
            "12 31.514638900756836\n",
            "13 26.754541397094727\n",
            "14 22.702129364013672\n",
            "15 19.270557403564453\n",
            "16 16.381412506103516\n",
            "17 13.963458061218262\n",
            "18 11.952034950256348\n",
            "19 10.288750648498535\n",
            "20 8.921313285827637\n",
            "21 7.80332088470459\n",
            "22 6.894052982330322\n",
            "23 6.158159255981445\n",
            "24 5.565266132354736\n",
            "25 5.089560031890869\n",
            "26 4.709293365478516\n",
            "27 4.4063262939453125\n",
            "28 4.165638446807861\n",
            "29 3.9748973846435547\n",
            "30 3.8240408897399902\n",
            "31 3.7049100399017334\n",
            "32 3.6109302043914795\n",
            "33 3.5368242263793945\n",
            "34 3.4783823490142822\n",
            "35 3.4322516918182373\n",
            "36 3.395779609680176\n",
            "37 3.3668665885925293\n",
            "38 3.343862295150757\n",
            "39 3.325467586517334\n",
            "40 3.3106656074523926\n",
            "41 3.2986598014831543\n",
            "42 3.2888283729553223\n",
            "43 3.2806854248046875\n",
            "44 3.2738540172576904\n",
            "45 3.268040180206299\n",
            "46 3.263014554977417\n",
            "47 3.258601188659668\n",
            "48 3.254661798477173\n",
            "49 3.2510900497436523\n",
            "50 3.2478034496307373\n",
            "51 3.2447381019592285\n",
            "52 3.2418437004089355\n",
            "53 3.2390832901000977\n",
            "54 3.236426830291748\n",
            "55 3.2338507175445557\n",
            "56 3.2313385009765625\n",
            "57 3.228874683380127\n",
            "58 3.226450204849243\n",
            "59 3.224057674407959\n",
            "60 3.221688747406006\n",
            "61 3.2193398475646973\n",
            "62 3.2170066833496094\n",
            "63 3.2146875858306885\n",
            "64 3.2123777866363525\n",
            "65 3.2100777626037598\n",
            "66 3.2077856063842773\n",
            "67 3.2055001258850098\n",
            "68 3.203221559524536\n",
            "69 3.2009479999542236\n",
            "70 3.198679208755493\n",
            "71 3.1964147090911865\n",
            "72 3.1941545009613037\n",
            "73 3.1918981075286865\n",
            "74 3.189646005630493\n",
            "75 3.1873981952667236\n",
            "76 3.1851532459259033\n",
            "77 3.1829118728637695\n",
            "78 3.1806747913360596\n",
            "79 3.1784396171569824\n",
            "80 3.176208734512329\n",
            "81 3.173981189727783\n",
            "82 3.1717569828033447\n",
            "83 3.1695361137390137\n",
            "84 3.1673190593719482\n",
            "85 3.1651041507720947\n",
            "86 3.1628940105438232\n",
            "87 3.1606860160827637\n",
            "88 3.1584811210632324\n",
            "89 3.156280040740967\n",
            "90 3.1540818214416504\n",
            "91 3.1518867015838623\n",
            "92 3.149696111679077\n",
            "93 3.1475071907043457\n",
            "94 3.145322799682617\n",
            "95 3.1431400775909424\n",
            "96 3.1409618854522705\n",
            "97 3.1387863159179688\n",
            "98 3.136613368988037\n",
            "99 3.13444447517395\n",
            "100 3.1322784423828125\n",
            "101 3.130115270614624\n",
            "102 3.1279563903808594\n",
            "103 3.125800132751465\n",
            "104 3.1236464977264404\n",
            "105 3.1214966773986816\n",
            "106 3.1193501949310303\n",
            "107 3.117206335067749\n",
            "108 3.115065813064575\n",
            "109 3.1129276752471924\n",
            "110 3.110792875289917\n",
            "111 3.1086621284484863\n",
            "112 3.1065337657928467\n",
            "113 3.1044085025787354\n",
            "114 3.1022868156433105\n",
            "115 3.1001675128936768\n",
            "116 3.0980522632598877\n",
            "117 3.0959391593933105\n",
            "118 3.0938303470611572\n",
            "119 3.091723680496216\n",
            "120 3.0896198749542236\n",
            "121 3.087520122528076\n",
            "122 3.085422992706299\n",
            "123 3.0833280086517334\n",
            "124 3.08123779296875\n",
            "125 3.0791499614715576\n",
            "126 3.0770645141601562\n",
            "127 3.0749824047088623\n",
            "128 3.0729033946990967\n",
            "129 3.0708274841308594\n",
            "130 3.0687546730041504\n",
            "131 3.066685438156128\n",
            "132 3.0646190643310547\n",
            "133 3.0625548362731934\n",
            "134 3.060495138168335\n",
            "135 3.058436155319214\n",
            "136 3.056382894515991\n",
            "137 3.054330348968506\n",
            "138 3.052281141281128\n",
            "139 3.050236463546753\n",
            "140 3.0481927394866943\n",
            "141 3.046154022216797\n",
            "142 3.0441174507141113\n",
            "143 3.0420827865600586\n",
            "144 3.0400521755218506\n",
            "145 3.038024425506592\n",
            "146 3.0359995365142822\n",
            "147 3.033977508544922\n",
            "148 3.0319583415985107\n",
            "149 3.0299429893493652\n",
            "150 3.0279297828674316\n",
            "151 3.0259194374084473\n",
            "152 3.023912191390991\n",
            "153 3.021907091140747\n",
            "154 3.019906520843506\n",
            "155 3.0179085731506348\n",
            "156 3.0159122943878174\n",
            "157 3.0139195919036865\n",
            "158 3.0119309425354004\n",
            "159 3.0099427700042725\n",
            "160 3.0079596042633057\n",
            "161 3.00597882270813\n",
            "162 3.004000186920166\n",
            "163 3.0020253658294678\n",
            "164 3.0000526905059814\n",
            "165 2.9980831146240234\n",
            "166 2.9961163997650146\n",
            "167 2.994152545928955\n",
            "168 2.9921915531158447\n",
            "169 2.990234136581421\n",
            "170 2.98827862739563\n",
            "171 2.986325740814209\n",
            "172 2.984377145767212\n",
            "173 2.982429027557373\n",
            "174 2.9804859161376953\n",
            "175 2.9785451889038086\n",
            "176 2.976607084274292\n",
            "177 2.9746711254119873\n",
            "178 2.9727389812469482\n",
            "179 2.970808982849121\n",
            "180 2.9688820838928223\n",
            "181 2.9669582843780518\n",
            "182 2.965036153793335\n",
            "183 2.963118314743042\n",
            "184 2.9612021446228027\n",
            "185 2.959289312362671\n",
            "186 2.9573802947998047\n",
            "187 2.955471992492676\n",
            "188 2.9535672664642334\n",
            "189 2.951664924621582\n",
            "190 2.9497663974761963\n",
            "191 2.947869300842285\n",
            "192 2.9459760189056396\n",
            "193 2.944084882736206\n",
            "194 2.942197561264038\n",
            "195 2.9403114318847656\n",
            "196 2.9384288787841797\n",
            "197 2.936549425125122\n",
            "198 2.9346723556518555\n",
            "199 2.932797908782959\n",
            "200 2.930926561355591\n",
            "201 2.9290566444396973\n",
            "202 2.9271907806396484\n",
            "203 2.9253268241882324\n",
            "204 2.923466682434082\n",
            "205 2.921607732772827\n",
            "206 2.919752836227417\n",
            "207 2.917900800704956\n",
            "208 2.916050672531128\n",
            "209 2.914203405380249\n",
            "210 2.9123589992523193\n",
            "211 2.9105165004730225\n",
            "212 2.908677101135254\n",
            "213 2.9068403244018555\n",
            "214 2.9050068855285645\n",
            "215 2.903175115585327\n",
            "216 2.9013466835021973\n",
            "217 2.8995201587677\n",
            "218 2.8976974487304688\n",
            "219 2.895876407623291\n",
            "220 2.8940582275390625\n",
            "221 2.892242193222046\n",
            "222 2.890429973602295\n",
            "223 2.888619899749756\n",
            "224 2.886812925338745\n",
            "225 2.8850066661834717\n",
            "226 2.883204698562622\n",
            "227 2.8814051151275635\n",
            "228 2.879607915878296\n",
            "229 2.8778133392333984\n",
            "230 2.8760218620300293\n",
            "231 2.874232530593872\n",
            "232 2.8724448680877686\n",
            "233 2.8706610202789307\n",
            "234 2.868880033493042\n",
            "235 2.8671011924743652\n",
            "236 2.8653242588043213\n",
            "237 2.863550901412964\n",
            "238 2.8617804050445557\n",
            "239 2.860011100769043\n",
            "240 2.8582451343536377\n",
            "241 2.8564817905426025\n",
            "242 2.854720115661621\n",
            "243 2.852962017059326\n",
            "244 2.851205348968506\n",
            "245 2.8494534492492676\n",
            "246 2.847702741622925\n",
            "247 2.8459532260894775\n",
            "248 2.8442070484161377\n",
            "249 2.8424646854400635\n",
            "250 2.8407232761383057\n",
            "251 2.8389861583709717\n",
            "252 2.837249755859375\n",
            "253 2.8355166912078857\n",
            "254 2.8337857723236084\n",
            "255 2.8320581912994385\n",
            "256 2.8303325176239014\n",
            "257 2.828608989715576\n",
            "258 2.8268895149230957\n",
            "259 2.8251707553863525\n",
            "260 2.8234550952911377\n",
            "261 2.8217413425445557\n",
            "262 2.82003116607666\n",
            "263 2.8183231353759766\n",
            "264 2.816617250442505\n",
            "265 2.814913749694824\n",
            "266 2.813213348388672\n",
            "267 2.8115146160125732\n",
            "268 2.809818983078003\n",
            "269 2.8081259727478027\n",
            "270 2.806434154510498\n",
            "271 2.804746389389038\n",
            "272 2.8030591011047363\n",
            "273 2.8013763427734375\n",
            "274 2.799694299697876\n",
            "275 2.798015832901001\n",
            "276 2.796339750289917\n",
            "277 2.794665813446045\n",
            "278 2.7929937839508057\n",
            "279 2.7913248538970947\n",
            "280 2.789658546447754\n",
            "281 2.787994384765625\n",
            "282 2.786332368850708\n",
            "283 2.7846732139587402\n",
            "284 2.783015489578247\n",
            "285 2.7813613414764404\n",
            "286 2.7797091007232666\n",
            "287 2.7780585289001465\n",
            "288 2.7764108180999756\n",
            "289 2.774765968322754\n",
            "290 2.7731235027313232\n",
            "291 2.7714831829071045\n",
            "292 2.769845485687256\n",
            "293 2.76820969581604\n",
            "294 2.7665762901306152\n",
            "295 2.7649450302124023\n",
            "296 2.763317108154297\n",
            "297 2.761690378189087\n",
            "298 2.7600672245025635\n",
            "299 2.7584447860717773\n",
            "300 2.7568254470825195\n",
            "301 2.7552084922790527\n",
            "302 2.7535946369171143\n",
            "303 2.7519819736480713\n",
            "304 2.7503724098205566\n",
            "305 2.748765707015991\n",
            "306 2.747159719467163\n",
            "307 2.7455568313598633\n",
            "308 2.7439565658569336\n",
            "309 2.7423582077026367\n",
            "310 2.7407617568969727\n",
            "311 2.739168643951416\n",
            "312 2.737577199935913\n",
            "313 2.7359883785247803\n",
            "314 2.7344014644622803\n",
            "315 2.7328169345855713\n",
            "316 2.7312347888946533\n",
            "317 2.7296550273895264\n",
            "318 2.7280781269073486\n",
            "319 2.7265026569366455\n",
            "320 2.724928855895996\n",
            "321 2.723358631134033\n",
            "322 2.721789598464966\n",
            "323 2.7202231884002686\n",
            "324 2.7186594009399414\n",
            "325 2.7170979976654053\n",
            "326 2.715538263320923\n",
            "327 2.7139811515808105\n",
            "328 2.71242618560791\n",
            "329 2.710873603820801\n",
            "330 2.709322690963745\n",
            "331 2.7077741622924805\n",
            "332 2.706228256225586\n",
            "333 2.7046847343444824\n",
            "334 2.7031428813934326\n",
            "335 2.701603889465332\n",
            "336 2.700066328048706\n",
            "337 2.6985321044921875\n",
            "338 2.6969995498657227\n",
            "339 2.6954691410064697\n",
            "340 2.6939406394958496\n",
            "341 2.6924142837524414\n",
            "342 2.690890312194824\n",
            "343 2.689368724822998\n",
            "344 2.6878502368927\n",
            "345 2.6863322257995605\n",
            "346 2.684816837310791\n",
            "347 2.6833038330078125\n",
            "348 2.681793212890625\n",
            "349 2.6802845001220703\n",
            "350 2.678778648376465\n",
            "351 2.677273988723755\n",
            "352 2.6757724285125732\n",
            "353 2.6742725372314453\n",
            "354 2.672774314880371\n",
            "355 2.6712794303894043\n",
            "356 2.669785976409912\n",
            "357 2.6682944297790527\n",
            "358 2.6668052673339844\n",
            "359 2.665318489074707\n",
            "360 2.663834571838379\n",
            "361 2.6623520851135254\n",
            "362 2.6608705520629883\n",
            "363 2.6593923568725586\n",
            "364 2.6579158306121826\n",
            "365 2.6564416885375977\n",
            "366 2.6549696922302246\n",
            "367 2.6534996032714844\n",
            "368 2.6520323753356934\n",
            "369 2.650566577911377\n",
            "370 2.6491029262542725\n",
            "371 2.647641658782959\n",
            "372 2.64618182182312\n",
            "373 2.6447255611419678\n",
            "374 2.6432695388793945\n",
            "375 2.641817808151245\n",
            "376 2.640367031097412\n",
            "377 2.6389176845550537\n",
            "378 2.6374707221984863\n",
            "379 2.636025905609131\n",
            "380 2.6345834732055664\n",
            "381 2.633143663406372\n",
            "382 2.6317052841186523\n",
            "383 2.6302688121795654\n",
            "384 2.6288344860076904\n",
            "385 2.627401828765869\n",
            "386 2.625972032546997\n",
            "387 2.6245434284210205\n",
            "388 2.6231179237365723\n",
            "389 2.6216938495635986\n",
            "390 2.620271682739258\n",
            "391 2.618852376937866\n",
            "392 2.6174352169036865\n",
            "393 2.616018056869507\n",
            "394 2.6146059036254883\n",
            "395 2.613193988800049\n",
            "396 2.611783504486084\n",
            "397 2.6103758811950684\n",
            "398 2.608970880508423\n",
            "399 2.6075668334960938\n",
            "400 2.6061654090881348\n",
            "401 2.6047658920288086\n",
            "402 2.6033689975738525\n",
            "403 2.601972818374634\n",
            "404 2.600579261779785\n",
            "405 2.5991880893707275\n",
            "406 2.5977983474731445\n",
            "407 2.5964109897613525\n",
            "408 2.5950255393981934\n",
            "409 2.593642234802246\n",
            "410 2.5922608375549316\n",
            "411 2.590880870819092\n",
            "412 2.5895040035247803\n",
            "413 2.5881288051605225\n",
            "414 2.5867550373077393\n",
            "415 2.5853826999664307\n",
            "416 2.5840132236480713\n",
            "417 2.582646131515503\n",
            "418 2.581279754638672\n",
            "419 2.5799167156219482\n",
            "420 2.578554630279541\n",
            "421 2.5771946907043457\n",
            "422 2.5758368968963623\n",
            "423 2.57448148727417\n",
            "424 2.5731282234191895\n",
            "425 2.571775436401367\n",
            "426 2.570425510406494\n",
            "427 2.569077730178833\n",
            "428 2.5677316188812256\n",
            "429 2.566387414932251\n",
            "430 2.56504487991333\n",
            "431 2.5637047290802\n",
            "432 2.562366008758545\n",
            "433 2.5610296726226807\n",
            "434 2.5596957206726074\n",
            "435 2.5583624839782715\n",
            "436 2.5570318698883057\n",
            "437 2.5557022094726562\n",
            "438 2.5543763637542725\n",
            "439 2.553051710128784\n",
            "440 2.5517287254333496\n",
            "441 2.5504071712493896\n",
            "442 2.5490882396698\n",
            "443 2.5477712154388428\n",
            "444 2.5464556217193604\n",
            "445 2.5451416969299316\n",
            "446 2.543830394744873\n",
            "447 2.54252028465271\n",
            "448 2.5412137508392334\n",
            "449 2.5399065017700195\n",
            "450 2.538602828979492\n",
            "451 2.5373008251190186\n",
            "452 2.5360004901885986\n",
            "453 2.5347025394439697\n",
            "454 2.5334055423736572\n",
            "455 2.5321104526519775\n",
            "456 2.530818223953247\n",
            "457 2.529526948928833\n",
            "458 2.528237819671631\n",
            "459 2.5269505977630615\n",
            "460 2.525665760040283\n",
            "461 2.5243818759918213\n",
            "462 2.5231006145477295\n",
            "463 2.521820306777954\n",
            "464 2.5205423831939697\n",
            "465 2.519266366958618\n",
            "466 2.5179922580718994\n",
            "467 2.516719341278076\n",
            "468 2.515449285507202\n",
            "469 2.5141799449920654\n",
            "470 2.5129129886627197\n",
            "471 2.5116477012634277\n",
            "472 2.5103838443756104\n",
            "473 2.5091230869293213\n",
            "474 2.507863998413086\n",
            "475 2.506605386734009\n",
            "476 2.505349636077881\n",
            "477 2.5040948390960693\n",
            "478 2.5028417110443115\n",
            "479 2.501591920852661\n",
            "480 2.5003421306610107\n",
            "481 2.499095916748047\n",
            "482 2.4978504180908203\n",
            "483 2.4966073036193848\n",
            "484 2.495365619659424\n",
            "485 2.4941246509552\n",
            "486 2.492887020111084\n",
            "487 2.4916512966156006\n",
            "488 2.4904167652130127\n",
            "489 2.4891839027404785\n",
            "490 2.4879534244537354\n",
            "491 2.4867236614227295\n",
            "492 2.485496759414673\n",
            "493 2.4842708110809326\n",
            "494 2.4830472469329834\n",
            "495 2.4818243980407715\n",
            "496 2.480604648590088\n",
            "497 2.4793856143951416\n",
            "498 2.478168249130249\n",
            "499 2.4769537448883057\n"
          ],
          "name": "stdout"
        }
      ]
    },
    {
      "cell_type": "code",
      "metadata": {
        "colab": {
          "base_uri": "https://localhost:8080/"
        },
        "id": "1LC5fdwaGyF1",
        "outputId": "c632b8f7-bdad-4531-e5f0-19ff2e61a08b"
      },
      "source": [
        "predicted_in_tensor = model(X_train)\n",
        "predicted_in_tensor"
      ],
      "execution_count": null,
      "outputs": [
        {
          "output_type": "execute_result",
          "data": {
            "text/plain": [
              "tensor([[2.0178],\n",
              "        [1.2619],\n",
              "        [2.9380],\n",
              "        [2.8065],\n",
              "        [1.8863],\n",
              "        [3.0418],\n",
              "        [3.3981],\n",
              "        [2.1821],\n",
              "        [3.2962],\n",
              "        [1.1633],\n",
              "        [3.1023],\n",
              "        [3.7596],\n",
              "        [1.9520],\n",
              "        [2.4450],\n",
              "        [1.7877]], grad_fn=<AddmmBackward>)"
            ]
          },
          "metadata": {
            "tags": []
          },
          "execution_count": 30
        }
      ]
    },
    {
      "cell_type": "code",
      "metadata": {
        "id": "G6bvJcfmvDIW"
      },
      "source": [
        "predicted = predicted_in_tensor.detach().numpy()"
      ],
      "execution_count": null,
      "outputs": []
    },
    {
      "cell_type": "code",
      "metadata": {
        "colab": {
          "base_uri": "https://localhost:8080/",
          "height": 483
        },
        "id": "HtpQ62DGGyI6",
        "outputId": "307f9dcf-beed-4162-8577-b4366bb496f4"
      },
      "source": [
        "plt.figure(figsize=(8, 8))\n",
        "\n",
        "plt.scatter(x_train, y_train, label='Original data', s=250, c='g')\n",
        "plt.plot(x_train, predicted, label='Fitted line')\n",
        "plt.legend()\n",
        "plt.show()"
      ],
      "execution_count": null,
      "outputs": [
        {
          "output_type": "display_data",
          "data": {
            "image/png": "[encoded data removed]",
            "text/plain": [
              "<Figure size 576x576 with 1 Axes>"
            ]
          },
          "metadata": {
            "tags": [],
            "needs_background": "light"
          }
        }
      ]
    },
    {
      "cell_type": "code",
      "metadata": {
        "id": "_Wo8rC69GyL_"
      },
      "source": [
        "# to reduce overfitting \n",
        "'''\n",
        "regularization - penalise complex models\n",
        "cross-validation - distint training and validation phases\n",
        "dropout - intentionally turn off some neurons during training\n",
        "'''\n",
        "\n",
        "# dropout- in diff training iterations/steps diff neurons are turned off\n",
        "# in effect each training step builds a diff network config\n",
        "# ie comp graph look diff in each training step\n",
        "\n",
        "# dense NN : fully connected nn\n",
        "# dropt out: simpler nn, and active neuron learn significant features \n",
        "# dropout and turning off of neurons is only during the training phase of nn\n",
        "\n",
        "# fcnn is used in testing\n",
        "\n"
      ],
      "execution_count": null,
      "outputs": []
    },
    {
      "cell_type": "code",
      "metadata": {
        "id": "QL5j2aHMEaJJ"
      },
      "source": [
        "'''# gradient descent and batches\n",
        "# huge data and cant be feeded into nn in one go\n",
        "# therefore batches are used to feed data\n",
        "\n",
        "# epoch - one pass through entire training data is one epoch\n",
        "\n",
        "# huge data, cannot feed in data in one epoch\n",
        "# use subset of data in each iteration called batch of training data\n",
        "# to train data for one epoch, need to pass in multiple batches of training data\n",
        "\n",
        "# with each epoch of training , we move closer to the least mse value\n",
        "# ie one step down the slope\n",
        "\n",
        "batch_size - hyperparameter\n",
        "\n",
        "1 data point at a time: SGD\n",
        "few data point at a time : mini batch GD\n",
        "entire data at a time - batch GD, 1 batch = 1 epoch\n",
        "'''\n",
        "\n"
      ],
      "execution_count": null,
      "outputs": []
    },
    {
      "cell_type": "markdown",
      "metadata": {
        "id": "AGLz8ZbMGZq2"
      },
      "source": [
        "#building a regression model for demand prediction"
      ]
    },
    {
      "cell_type": "code",
      "metadata": {
        "colab": {
          "base_uri": "https://localhost:8080/"
        },
        "id": "ZoagK3s9GV_H",
        "outputId": "34b9d9a3-716c-42bf-f6da-4c5371a8eaa4"
      },
      "source": [
        "# regression using fully connected dnn\n",
        "!pip install hiddenlayer"
      ],
      "execution_count": null,
      "outputs": [
        {
          "output_type": "stream",
          "text": [
            "Collecting hiddenlayer\n",
            "  Downloading https://files.pythonhosted.org/packages/64/f8/ea51d02695a4dc397f3b2487fae462cd3f2ce707c54250e0fdfaec2ff92e/hiddenlayer-0.3-py3-none-any.whl\n",
            "Installing collected packages: hiddenlayer\n",
            "Successfully installed hiddenlayer-0.3\n"
          ],
          "name": "stdout"
        }
      ]
    },
    {
      "cell_type": "code",
      "metadata": {
        "id": "QMpxh9msGWKI"
      },
      "source": [
        "import graphviz\n",
        "import torch\n",
        "import hiddenlayer as hl\n",
        "import pandas as pd\n",
        "import numpy as np\n",
        "import seaborn as sns\n",
        "import matplotlib.pyplot as plt\n",
        "import sklearn"
      ],
      "execution_count": null,
      "outputs": []
    },
    {
      "cell_type": "code",
      "metadata": {
        "colab": {
          "base_uri": "https://localhost:8080/"
        },
        "id": "N868z3SvHVWW",
        "outputId": "efe975be-89e7-4a73-cf30-22ff8badec94"
      },
      "source": [
        "# dataset on kaggle.com\n",
        "data = pd.read_csv('./train.csv', index_col=0)\n",
        "data.info()"
      ],
      "execution_count": null,
      "outputs": [
        {
          "output_type": "stream",
          "text": [
            "<class 'pandas.core.frame.DataFrame'>\n",
            "Index: 10886 entries, 2011-01-01 00:00:00 to 2012-12-19 23:00:00\n",
            "Data columns (total 11 columns):\n",
            " #   Column      Non-Null Count  Dtype  \n",
            "---  ------      --------------  -----  \n",
            " 0   season      10886 non-null  int64  \n",
            " 1   holiday     10886 non-null  int64  \n",
            " 2   workingday  10886 non-null  int64  \n",
            " 3   weather     10886 non-null  int64  \n",
            " 4   temp        10886 non-null  float64\n",
            " 5   atemp       10886 non-null  float64\n",
            " 6   humidity    10886 non-null  int64  \n",
            " 7   windspeed   10886 non-null  float64\n",
            " 8   casual      10886 non-null  int64  \n",
            " 9   registered  10886 non-null  int64  \n",
            " 10  count       10886 non-null  int64  \n",
            "dtypes: float64(3), int64(8)\n",
            "memory usage: 1020.6+ KB\n"
          ],
          "name": "stdout"
        }
      ]
    },
    {
      "cell_type": "code",
      "metadata": {
        "colab": {
          "base_uri": "https://localhost:8080/",
          "height": 425
        },
        "id": "yGZXV4zkN_gi",
        "outputId": "56922f1f-b003-4252-fdcc-0b9215fbeba6"
      },
      "source": [
        "data.head()"
      ],
      "execution_count": null,
      "outputs": [
        {
          "output_type": "execute_result",
          "data": {
            "text/html": [
              "<div>\n",
              "<style scoped>\n",
              "    .dataframe tbody tr th:only-of-type {\n",
              "        vertical-align: middle;\n",
              "    }\n",
              "\n",
              "    .dataframe tbody tr th {\n",
              "        vertical-align: top;\n",
              "    }\n",
              "\n",
              "    .dataframe thead th {\n",
              "        text-align: right;\n",
              "    }\n",
              "</style>\n",
              "<table border=\"1\" class=\"dataframe\">\n",
              "  <thead>\n",
              "    <tr style=\"text-align: right;\">\n",
              "      <th></th>\n",
              "      <th>season</th>\n",
              "      <th>holiday</th>\n",
              "      <th>workingday</th>\n",
              "      <th>weather</th>\n",
              "      <th>temp</th>\n",
              "      <th>atemp</th>\n",
              "      <th>humidity</th>\n",
              "      <th>windspeed</th>\n",
              "      <th>casual</th>\n",
              "      <th>registered</th>\n",
              "      <th>count</th>\n",
              "    </tr>\n",
              "    <tr>\n",
              "      <th>datetime</th>\n",
              "      <th></th>\n",
              "      <th></th>\n",
              "      <th></th>\n",
              "      <th></th>\n",
              "      <th></th>\n",
              "      <th></th>\n",
              "      <th></th>\n",
              "      <th></th>\n",
              "      <th></th>\n",
              "      <th></th>\n",
              "      <th></th>\n",
              "    </tr>\n",
              "  </thead>\n",
              "  <tbody>\n",
              "    <tr>\n",
              "      <th>2011-01-01 00:00:00</th>\n",
              "      <td>1</td>\n",
              "      <td>0</td>\n",
              "      <td>0</td>\n",
              "      <td>1</td>\n",
              "      <td>9.84</td>\n",
              "      <td>14.395</td>\n",
              "      <td>81</td>\n",
              "      <td>0.0</td>\n",
              "      <td>3</td>\n",
              "      <td>13</td>\n",
              "      <td>16</td>\n",
              "    </tr>\n",
              "    <tr>\n",
              "      <th>2011-01-01 01:00:00</th>\n",
              "      <td>1</td>\n",
              "      <td>0</td>\n",
              "      <td>0</td>\n",
              "      <td>1</td>\n",
              "      <td>9.02</td>\n",
              "      <td>13.635</td>\n",
              "      <td>80</td>\n",
              "      <td>0.0</td>\n",
              "      <td>8</td>\n",
              "      <td>32</td>\n",
              "      <td>40</td>\n",
              "    </tr>\n",
              "    <tr>\n",
              "      <th>2011-01-01 02:00:00</th>\n",
              "      <td>1</td>\n",
              "      <td>0</td>\n",
              "      <td>0</td>\n",
              "      <td>1</td>\n",
              "      <td>9.02</td>\n",
              "      <td>13.635</td>\n",
              "      <td>80</td>\n",
              "      <td>0.0</td>\n",
              "      <td>5</td>\n",
              "      <td>27</td>\n",
              "      <td>32</td>\n",
              "    </tr>\n",
              "    <tr>\n",
              "      <th>2011-01-01 03:00:00</th>\n",
              "      <td>1</td>\n",
              "      <td>0</td>\n",
              "      <td>0</td>\n",
              "      <td>1</td>\n",
              "      <td>9.84</td>\n",
              "      <td>14.395</td>\n",
              "      <td>75</td>\n",
              "      <td>0.0</td>\n",
              "      <td>3</td>\n",
              "      <td>10</td>\n",
              "      <td>13</td>\n",
              "    </tr>\n",
              "    <tr>\n",
              "      <th>2011-01-01 04:00:00</th>\n",
              "      <td>1</td>\n",
              "      <td>0</td>\n",
              "      <td>0</td>\n",
              "      <td>1</td>\n",
              "      <td>9.84</td>\n",
              "      <td>14.395</td>\n",
              "      <td>75</td>\n",
              "      <td>0.0</td>\n",
              "      <td>0</td>\n",
              "      <td>1</td>\n",
              "      <td>1</td>\n",
              "    </tr>\n",
              "  </tbody>\n",
              "</table>\n",
              "</div>"
            ],
            "text/plain": [
              "                     season  holiday  workingday  ...  casual  registered  count\n",
              "datetime                                          ...                           \n",
              "2011-01-01 00:00:00       1        0           0  ...       3          13     16\n",
              "2011-01-01 01:00:00       1        0           0  ...       8          32     40\n",
              "2011-01-01 02:00:00       1        0           0  ...       5          27     32\n",
              "2011-01-01 03:00:00       1        0           0  ...       3          10     13\n",
              "2011-01-01 04:00:00       1        0           0  ...       0           1      1\n",
              "\n",
              "[5 rows x 11 columns]"
            ]
          },
          "metadata": {
            "tags": []
          },
          "execution_count": 5
        }
      ]
    },
    {
      "cell_type": "code",
      "metadata": {
        "id": "N_OyRJNOKhv6"
      },
      "source": [
        "def my_graph():\n",
        "\n",
        "  plt.figure(figsize=(8, 6))\n",
        "\n",
        "  sns.barplot('workingday', 'count', hue = 'season', data = data, ci=None)\n",
        "\n",
        "  plt.legend(loc = 'upper right', bbox_to_anchor=(1.2,0.5))\n",
        "\n",
        "  plt.xlabel('working day')\n",
        "  plt.ylabel('Total number of bikes rented on working day')\n",
        "\n",
        "  plt.title('Number of bikes rented per season')"
      ],
      "execution_count": null,
      "outputs": []
    },
    {
      "cell_type": "code",
      "metadata": {
        "colab": {
          "base_uri": "https://localhost:8080/",
          "height": 458
        },
        "id": "bDqIghAoKiBI",
        "outputId": "c70965ed-14ac-4408-868c-bf4ef499ee70"
      },
      "source": [
        "my_graph()"
      ],
      "execution_count": null,
      "outputs": [
        {
          "output_type": "stream",
          "text": [
            "/usr/local/lib/python3.7/dist-packages/seaborn/_decorators.py:43: FutureWarning: Pass the following variables as keyword args: x, y. From version 0.12, the only valid positional argument will be `data`, and passing other arguments without an explicit keyword will result in an error or misinterpretation.\n",
            "  FutureWarning\n"
          ],
          "name": "stderr"
        },
        {
          "output_type": "display_data",
          "data": {
            "image/png": "[encoded data removed]",
            "text/plain": [
              "<Figure size 576x432 with 1 Axes>"
            ]
          },
          "metadata": {
            "tags": [],
            "needs_background": "light"
          }
        }
      ]
    },
    {
      "cell_type": "code",
      "metadata": {
        "colab": {
          "base_uri": "https://localhost:8080/",
          "height": 514
        },
        "id": "K2D5RVuKHVf_",
        "outputId": "6bda8189-d5a6-444b-f448-200e678c1552"
      },
      "source": [
        "plt.figure(figsize=(8, 8))\n",
        "\n",
        "fig = sns.scatterplot(x = 'temp', y = 'count', data = data)\n",
        "\n",
        "plt.xlabel('Temperature')\n",
        "plt.ylabel('Total number of bikes rented')"
      ],
      "execution_count": null,
      "outputs": [
        {
          "output_type": "execute_result",
          "data": {
            "text/plain": [
              "Text(0, 0.5, 'Total number of bikes rented')"
            ]
          },
          "metadata": {
            "tags": []
          },
          "execution_count": 11
        },
        {
          "output_type": "display_data",
          "data": {
            "image/png": "[encoded data removed]",
            "text/plain": [
              "<Figure size 576x576 with 1 Axes>"
            ]
          },
          "metadata": {
            "tags": [],
            "needs_background": "light"
          }
        }
      ]
    },
    {
      "cell_type": "code",
      "metadata": {
        "colab": {
          "base_uri": "https://localhost:8080/",
          "height": 425
        },
        "id": "XFC7obtzx6Fe",
        "outputId": "e9aee5c1-422b-4f34-d9d4-4e3c27965040"
      },
      "source": [
        "# categorical data to numeric: ohe\n",
        "data = pd.get_dummies(data, columns=['season'])\n",
        "data.sample(5)"
      ],
      "execution_count": null,
      "outputs": [
        {
          "output_type": "execute_result",
          "data": {
            "text/html": [
              "<div>\n",
              "<style scoped>\n",
              "    .dataframe tbody tr th:only-of-type {\n",
              "        vertical-align: middle;\n",
              "    }\n",
              "\n",
              "    .dataframe tbody tr th {\n",
              "        vertical-align: top;\n",
              "    }\n",
              "\n",
              "    .dataframe thead th {\n",
              "        text-align: right;\n",
              "    }\n",
              "</style>\n",
              "<table border=\"1\" class=\"dataframe\">\n",
              "  <thead>\n",
              "    <tr style=\"text-align: right;\">\n",
              "      <th></th>\n",
              "      <th>holiday</th>\n",
              "      <th>workingday</th>\n",
              "      <th>weather</th>\n",
              "      <th>temp</th>\n",
              "      <th>atemp</th>\n",
              "      <th>humidity</th>\n",
              "      <th>windspeed</th>\n",
              "      <th>casual</th>\n",
              "      <th>registered</th>\n",
              "      <th>count</th>\n",
              "      <th>season_1</th>\n",
              "      <th>season_2</th>\n",
              "      <th>season_3</th>\n",
              "      <th>season_4</th>\n",
              "    </tr>\n",
              "    <tr>\n",
              "      <th>datetime</th>\n",
              "      <th></th>\n",
              "      <th></th>\n",
              "      <th></th>\n",
              "      <th></th>\n",
              "      <th></th>\n",
              "      <th></th>\n",
              "      <th></th>\n",
              "      <th></th>\n",
              "      <th></th>\n",
              "      <th></th>\n",
              "      <th></th>\n",
              "      <th></th>\n",
              "      <th></th>\n",
              "      <th></th>\n",
              "    </tr>\n",
              "  </thead>\n",
              "  <tbody>\n",
              "    <tr>\n",
              "      <th>2012-08-11 18:00:00</th>\n",
              "      <td>0</td>\n",
              "      <td>0</td>\n",
              "      <td>2</td>\n",
              "      <td>28.70</td>\n",
              "      <td>33.335</td>\n",
              "      <td>74</td>\n",
              "      <td>19.9995</td>\n",
              "      <td>107</td>\n",
              "      <td>193</td>\n",
              "      <td>300</td>\n",
              "      <td>0</td>\n",
              "      <td>0</td>\n",
              "      <td>1</td>\n",
              "      <td>0</td>\n",
              "    </tr>\n",
              "    <tr>\n",
              "      <th>2012-02-11 20:00:00</th>\n",
              "      <td>0</td>\n",
              "      <td>0</td>\n",
              "      <td>2</td>\n",
              "      <td>6.56</td>\n",
              "      <td>6.060</td>\n",
              "      <td>43</td>\n",
              "      <td>36.9974</td>\n",
              "      <td>1</td>\n",
              "      <td>62</td>\n",
              "      <td>63</td>\n",
              "      <td>1</td>\n",
              "      <td>0</td>\n",
              "      <td>0</td>\n",
              "      <td>0</td>\n",
              "    </tr>\n",
              "    <tr>\n",
              "      <th>2011-11-07 09:00:00</th>\n",
              "      <td>0</td>\n",
              "      <td>1</td>\n",
              "      <td>2</td>\n",
              "      <td>13.94</td>\n",
              "      <td>16.665</td>\n",
              "      <td>100</td>\n",
              "      <td>8.9981</td>\n",
              "      <td>18</td>\n",
              "      <td>156</td>\n",
              "      <td>174</td>\n",
              "      <td>0</td>\n",
              "      <td>0</td>\n",
              "      <td>0</td>\n",
              "      <td>1</td>\n",
              "    </tr>\n",
              "    <tr>\n",
              "      <th>2011-06-17 23:00:00</th>\n",
              "      <td>0</td>\n",
              "      <td>1</td>\n",
              "      <td>1</td>\n",
              "      <td>25.42</td>\n",
              "      <td>28.790</td>\n",
              "      <td>83</td>\n",
              "      <td>8.9981</td>\n",
              "      <td>37</td>\n",
              "      <td>141</td>\n",
              "      <td>178</td>\n",
              "      <td>0</td>\n",
              "      <td>1</td>\n",
              "      <td>0</td>\n",
              "      <td>0</td>\n",
              "    </tr>\n",
              "    <tr>\n",
              "      <th>2011-06-11 21:00:00</th>\n",
              "      <td>0</td>\n",
              "      <td>0</td>\n",
              "      <td>1</td>\n",
              "      <td>27.06</td>\n",
              "      <td>31.060</td>\n",
              "      <td>74</td>\n",
              "      <td>15.0013</td>\n",
              "      <td>76</td>\n",
              "      <td>144</td>\n",
              "      <td>220</td>\n",
              "      <td>0</td>\n",
              "      <td>1</td>\n",
              "      <td>0</td>\n",
              "      <td>0</td>\n",
              "    </tr>\n",
              "  </tbody>\n",
              "</table>\n",
              "</div>"
            ],
            "text/plain": [
              "                     holiday  workingday  weather  ...  season_2  season_3  season_4\n",
              "datetime                                           ...                              \n",
              "2012-08-11 18:00:00        0           0        2  ...         0         1         0\n",
              "2012-02-11 20:00:00        0           0        2  ...         0         0         0\n",
              "2011-11-07 09:00:00        0           1        2  ...         0         0         1\n",
              "2011-06-17 23:00:00        0           1        1  ...         1         0         0\n",
              "2011-06-11 21:00:00        0           0        1  ...         1         0         0\n",
              "\n",
              "[5 rows x 14 columns]"
            ]
          },
          "metadata": {
            "tags": []
          },
          "execution_count": 11
        }
      ]
    },
    {
      "cell_type": "code",
      "metadata": {
        "id": "qXW0SUQsyL-y"
      },
      "source": [
        "columns = ['registered', 'workingday', \n",
        "           'weather', 'temp', 'atemp',\n",
        "           'season_1', 'season_2', \n",
        "           'season_3', 'season_4']\n",
        "\n",
        "\n",
        "features = data[columns]"
      ],
      "execution_count": null,
      "outputs": []
    },
    {
      "cell_type": "code",
      "metadata": {
        "id": "YVi7PDp5zA2D"
      },
      "source": [
        "target = data['count']"
      ],
      "execution_count": null,
      "outputs": []
    },
    {
      "cell_type": "code",
      "metadata": {
        "id": "9HZiSOIvzBfO"
      },
      "source": [
        "from sklearn.model_selection import train_test_split"
      ],
      "execution_count": null,
      "outputs": []
    },
    {
      "cell_type": "code",
      "metadata": {
        "id": "qV4bXU2DzBpF"
      },
      "source": [
        "X_train, x_test, Y_train, y_test = train_test_split(features,\n",
        "                                                    target,\n",
        "                                                    test_size=0.2)"
      ],
      "execution_count": null,
      "outputs": []
    },
    {
      "cell_type": "code",
      "metadata": {
        "id": "B_MWNYBgzCG7"
      },
      "source": [
        "X_train_tensor = torch.tensor(X_train.values, dtype = torch.float)\n",
        "x_test_tensor = torch.tensor(x_test.values, dtype = torch.float)\n",
        "\n",
        "Y_train_tensor = torch.tensor(Y_train.values, dtype = torch.float)\n",
        "y_test_tensor = torch.tensor(y_test.values, dtype = torch.float)"
      ],
      "execution_count": null,
      "outputs": []
    },
    {
      "cell_type": "code",
      "metadata": {
        "colab": {
          "base_uri": "https://localhost:8080/"
        },
        "id": "av5YcBiozCYJ",
        "outputId": "e52d37e1-d18a-4918-fb70-ea4897e9841a"
      },
      "source": [
        "X_train_tensor.shape"
      ],
      "execution_count": null,
      "outputs": [
        {
          "output_type": "execute_result",
          "data": {
            "text/plain": [
              "torch.Size([8708, 9])"
            ]
          },
          "metadata": {
            "tags": []
          },
          "execution_count": 17
        }
      ]
    },
    {
      "cell_type": "code",
      "metadata": {
        "colab": {
          "base_uri": "https://localhost:8080/"
        },
        "id": "VSXWYaAvyMTQ",
        "outputId": "2920c9d7-a3b5-4ebc-b859-e45c42e00165"
      },
      "source": [
        "Y_train_tensor.shape"
      ],
      "execution_count": null,
      "outputs": [
        {
          "output_type": "execute_result",
          "data": {
            "text/plain": [
              "torch.Size([8708])"
            ]
          },
          "metadata": {
            "tags": []
          },
          "execution_count": 18
        }
      ]
    },
    {
      "cell_type": "code",
      "metadata": {
        "id": "fK8ZDhQ6yMgm"
      },
      "source": [
        "# batch your data using data.utils\n",
        "import torch.utils.data as data_utils "
      ],
      "execution_count": null,
      "outputs": []
    },
    {
      "cell_type": "code",
      "metadata": {
        "id": "uo-umSluyMst"
      },
      "source": [
        "# represent your data as a dataset \n",
        "# no. of kinds of datasets pytorch supports, \n",
        "# TensorDataset is used along with data loaders , which can load multiple samples in parallel\n",
        "\n",
        "train_data = data_utils.TensorDataset(X_train_tensor, Y_train_tensor)"
      ],
      "execution_count": null,
      "outputs": []
    },
    {
      "cell_type": "code",
      "metadata": {
        "id": "LzSE-Z2TyM5Q"
      },
      "source": [
        "train_loader = data_utils.DataLoader(train_data, batch_size=1000, shuffle=True)"
      ],
      "execution_count": null,
      "outputs": []
    },
    {
      "cell_type": "code",
      "metadata": {
        "colab": {
          "base_uri": "https://localhost:8080/"
        },
        "id": "ajaW9mdUyNGe",
        "outputId": "bdbe8d81-8b97-4cf5-fe47-561bab3d01ab"
      },
      "source": [
        "# no of batches dataset is divided into\n",
        "len(train_loader)"
      ],
      "execution_count": null,
      "outputs": [
        {
          "output_type": "execute_result",
          "data": {
            "text/plain": [
              "9"
            ]
          },
          "metadata": {
            "tags": []
          },
          "execution_count": 22
        }
      ]
    },
    {
      "cell_type": "code",
      "metadata": {
        "id": "Mv1ZWOi8yNOW"
      },
      "source": [
        "# use python iterator to iterate through the betches\n",
        "features_batch , target_batch = iter(train_loader).next()"
      ],
      "execution_count": null,
      "outputs": []
    },
    {
      "cell_type": "code",
      "metadata": {
        "colab": {
          "base_uri": "https://localhost:8080/"
        },
        "id": "USEy2uKR18Xz",
        "outputId": "1b173da3-c4ec-4f38-9245-f845858407e5"
      },
      "source": [
        "features_batch.shape"
      ],
      "execution_count": null,
      "outputs": [
        {
          "output_type": "execute_result",
          "data": {
            "text/plain": [
              "torch.Size([1000, 9])"
            ]
          },
          "metadata": {
            "tags": []
          },
          "execution_count": 24
        }
      ]
    },
    {
      "cell_type": "code",
      "metadata": {
        "colab": {
          "base_uri": "https://localhost:8080/"
        },
        "id": "HT9RWFCF18gS",
        "outputId": "3574b81c-0437-42fa-b38e-e1cb05f815c7"
      },
      "source": [
        "target_batch.shape"
      ],
      "execution_count": null,
      "outputs": [
        {
          "output_type": "execute_result",
          "data": {
            "text/plain": [
              "torch.Size([1000])"
            ]
          },
          "metadata": {
            "tags": []
          },
          "execution_count": 25
        }
      ]
    },
    {
      "cell_type": "code",
      "metadata": {
        "id": "zrqwGpJH18mL"
      },
      "source": [
        "inp = X_train_tensor.shape[1]\n",
        "out = 1\n",
        "hid = 10\n",
        "lose_fn = torch.nn.MSELoss()"
      ],
      "execution_count": null,
      "outputs": []
    },
    {
      "cell_type": "code",
      "metadata": {
        "id": "poLPKThY18ul"
      },
      "source": [
        "# model 1\n",
        "model = torch.nn.Sequential(torch.nn.Linear(inp, hid),\n",
        "                            torch.nn.Linear(hid, out))\n",
        "# using hiddenlayer to viz this nn\n",
        "hl.build_graph(model, torch.zeros([10,inp]))"
      ],
      "execution_count": null,
      "outputs": []
    },
    {
      "cell_type": "code",
      "metadata": {
        "colab": {
          "base_uri": "https://localhost:8080/",
          "height": 176
        },
        "id": "cn76nulM18zR",
        "outputId": "4e44f25b-128d-4a1d-fc30-158c583fff7c"
      },
      "source": [
        "# using hiddenlayer to viz this nn\n",
        "hl.build_graph(model, torch.zeros([10,inp]))"
      ],
      "execution_count": null,
      "outputs": [
        {
          "output_type": "execute_result",
          "data": {
            "text/plain": [
              "<hiddenlayer.graph.Graph at 0x7f500b6b52d0>"
            ],
            "image/svg+xml": "<?xml version=\"1.0\" encoding=\"UTF-8\" standalone=\"no\"?>\n<!DOCTYPE svg PUBLIC \"-//W3C//DTD SVG 1.1//EN\"\n \"http://www.w3.org/Graphics/SVG/1.1/DTD/svg11.dtd\">\n<!-- Generated by graphviz version 2.40.1 (20161225.0304)\n -->\n<!-- Title: %3 Pages: 1 -->\n<svg width=\"198pt\" height=\"116pt\"\n viewBox=\"0.00 0.00 198.00 116.00\" xmlns=\"http://www.w3.org/2000/svg\" xmlns:xlink=\"http://www.w3.org/1999/xlink\">\n<g id=\"graph0\" class=\"graph\" transform=\"scale(1 1) rotate(0) translate(72 80)\">\n<title>%3</title>\n<polygon fill=\"#ffffff\" stroke=\"transparent\" points=\"-72,36 -72,-80 126,-80 126,36 -72,36\"/>\n<!-- 4936375788859518784 -->\n<g id=\"node1\" class=\"node\">\n<title>4936375788859518784</title>\n<polygon fill=\"#e8e8e8\" stroke=\"#000000\" points=\"54,-44 0,-44 0,0 54,0 54,-44\"/>\n<text text-anchor=\"start\" x=\"14\" y=\"-28\" font-family=\"Times\" font-size=\"10.00\" fill=\"#000000\">Linear</text>\n<text text-anchor=\"start\" x=\"34\" y=\"-7\" font-family=\"Times\" font-size=\"10.00\" fill=\"#000000\">x2</text>\n</g>\n</g>\n</svg>\n"
          },
          "metadata": {
            "tags": []
          },
          "execution_count": 38
        }
      ]
    },
    {
      "cell_type": "code",
      "metadata": {
        "colab": {
          "base_uri": "https://localhost:8080/",
          "height": 165
        },
        "id": "iNq6hYLHc3by",
        "outputId": "412b9657-e4d4-458e-80ae-253cdba8cb97"
      },
      "source": [
        "#  model 2\n",
        "model = torch.nn.Sequential(torch.nn.Linear(inp, hid),\n",
        "                            torch.nn.ReLU(),\n",
        "                            torch.nn.Linear(hid, out))\n",
        "# using hiddenlayer to viz this nn\n",
        "hl.build_graph(model, torch.zeros([10,inp]))"
      ],
      "execution_count": null,
      "outputs": [
        {
          "output_type": "execute_result",
          "data": {
            "text/plain": [
              "<hiddenlayer.graph.Graph at 0x7f757ac41490>"
            ],
            "image/svg+xml": "<?xml version=\"1.0\" encoding=\"UTF-8\" standalone=\"no\"?>\n<!DOCTYPE svg PUBLIC \"-//W3C//DTD SVG 1.1//EN\"\n \"http://www.w3.org/Graphics/SVG/1.1/DTD/svg11.dtd\">\n<!-- Generated by graphviz version 2.40.1 (20161225.0304)\n -->\n<!-- Title: %3 Pages: 1 -->\n<svg width=\"306pt\" height=\"108pt\"\n viewBox=\"0.00 0.00 306.00 108.00\" xmlns=\"http://www.w3.org/2000/svg\" xmlns:xlink=\"http://www.w3.org/1999/xlink\">\n<g id=\"graph0\" class=\"graph\" transform=\"scale(1 1) rotate(0) translate(72 72)\">\n<title>%3</title>\n<polygon fill=\"#ffffff\" stroke=\"transparent\" points=\"-72,36 -72,-72 234,-72 234,36 -72,36\"/>\n<!-- /outputs/7 -->\n<g id=\"node1\" class=\"node\">\n<title>/outputs/7</title>\n<polygon fill=\"#e8e8e8\" stroke=\"#000000\" points=\"162,-36 108,-36 108,0 162,0 162,-36\"/>\n<text text-anchor=\"start\" x=\"122\" y=\"-15\" font-family=\"Times\" font-size=\"10.00\" fill=\"#000000\">Linear</text>\n</g>\n<!-- 14220928080331442999 -->\n<g id=\"node2\" class=\"node\">\n<title>14220928080331442999</title>\n<polygon fill=\"#e8e8e8\" stroke=\"#000000\" points=\"72,-36 0,-36 0,0 72,0 72,-36\"/>\n<text text-anchor=\"start\" x=\"8\" y=\"-15\" font-family=\"Times\" font-size=\"10.00\" fill=\"#000000\">Linear &gt; Relu</text>\n</g>\n<!-- 14220928080331442999&#45;&gt;/outputs/7 -->\n<g id=\"edge1\" class=\"edge\">\n<title>14220928080331442999&#45;&gt;/outputs/7</title>\n<path fill=\"none\" stroke=\"#000000\" d=\"M72.0213,-18C80.3402,-18 89.2088,-18 97.5856,-18\"/>\n<polygon fill=\"#000000\" stroke=\"#000000\" points=\"97.8548,-21.5001 107.8547,-18 97.8547,-14.5001 97.8548,-21.5001\"/>\n</g>\n</g>\n</svg>\n"
          },
          "metadata": {
            "tags": []
          },
          "execution_count": 27
        }
      ]
    },
    {
      "cell_type": "code",
      "metadata": {
        "id": "_Dj-IswQdde-"
      },
      "source": [
        "# model 3\n",
        "model = torch.nn.Sequential(torch.nn.Linear(inp, hid),\n",
        "                            torch.nn.ReLU(),\n",
        "                            torch.nn.Dropout(p=0.2),\n",
        "                            torch.nn.Linear(hid, out))\n"
      ],
      "execution_count": null,
      "outputs": []
    },
    {
      "cell_type": "code",
      "metadata": {
        "colab": {
          "base_uri": "https://localhost:8080/",
          "height": 219
        },
        "id": "wv17OC7peKIx",
        "outputId": "1a3298cb-549c-4e5a-c1e5-6ca3e9dd63d1"
      },
      "source": [
        "# using hiddenlayer to viz this nn\n",
        "hl.build_graph(model, torch.zeros([10,inp]))"
      ],
      "execution_count": null,
      "outputs": [
        {
          "output_type": "stream",
          "text": [
            "/usr/local/lib/python3.7/dist-packages/torch/onnx/symbolic_helper.py:680: UserWarning: ONNX export mode is set to inference mode, but operator dropout is set to training  mode. The model will be exported in inference, as specified by the export mode.\n",
            "  training_mode + \", as specified by the export mode.\")\n"
          ],
          "name": "stderr"
        },
        {
          "output_type": "execute_result",
          "data": {
            "text/plain": [
              "<hiddenlayer.graph.Graph at 0x7f7571c8de10>"
            ],
            "image/svg+xml": "<?xml version=\"1.0\" encoding=\"UTF-8\" standalone=\"no\"?>\n<!DOCTYPE svg PUBLIC \"-//W3C//DTD SVG 1.1//EN\"\n \"http://www.w3.org/Graphics/SVG/1.1/DTD/svg11.dtd\">\n<!-- Generated by graphviz version 2.40.1 (20161225.0304)\n -->\n<!-- Title: %3 Pages: 1 -->\n<svg width=\"306pt\" height=\"108pt\"\n viewBox=\"0.00 0.00 306.00 108.00\" xmlns=\"http://www.w3.org/2000/svg\" xmlns:xlink=\"http://www.w3.org/1999/xlink\">\n<g id=\"graph0\" class=\"graph\" transform=\"scale(1 1) rotate(0) translate(72 72)\">\n<title>%3</title>\n<polygon fill=\"#ffffff\" stroke=\"transparent\" points=\"-72,36 -72,-72 234,-72 234,36 -72,36\"/>\n<!-- /outputs/7 -->\n<g id=\"node1\" class=\"node\">\n<title>/outputs/7</title>\n<polygon fill=\"#e8e8e8\" stroke=\"#000000\" points=\"162,-36 108,-36 108,0 162,0 162,-36\"/>\n<text text-anchor=\"start\" x=\"122\" y=\"-15\" font-family=\"Times\" font-size=\"10.00\" fill=\"#000000\">Linear</text>\n</g>\n<!-- 15104502560123006546 -->\n<g id=\"node2\" class=\"node\">\n<title>15104502560123006546</title>\n<polygon fill=\"#e8e8e8\" stroke=\"#000000\" points=\"72,-36 0,-36 0,0 72,0 72,-36\"/>\n<text text-anchor=\"start\" x=\"8\" y=\"-15\" font-family=\"Times\" font-size=\"10.00\" fill=\"#000000\">Linear &gt; Relu</text>\n</g>\n<!-- 15104502560123006546&#45;&gt;/outputs/7 -->\n<g id=\"edge1\" class=\"edge\">\n<title>15104502560123006546&#45;&gt;/outputs/7</title>\n<path fill=\"none\" stroke=\"#000000\" d=\"M72.0213,-18C80.3402,-18 89.2088,-18 97.5856,-18\"/>\n<polygon fill=\"#000000\" stroke=\"#000000\" points=\"97.8548,-21.5001 107.8547,-18 97.8547,-14.5001 97.8548,-21.5001\"/>\n</g>\n</g>\n</svg>\n"
          },
          "metadata": {
            "tags": []
          },
          "execution_count": 65
        }
      ]
    },
    {
      "cell_type": "code",
      "metadata": {
        "colab": {
          "base_uri": "https://localhost:8080/",
          "height": 165
        },
        "id": "Ac0ugc96ewj_",
        "outputId": "39102441-844a-44e8-fd85-3b019a78acd2"
      },
      "source": [
        "#  model 4\n",
        "model = torch.nn.Sequential(torch.nn.Linear(inp, hid),\n",
        "                            torch.nn.Sigmoid(),\n",
        "                            torch.nn.Linear(hid, out))\n",
        "# using hiddenlayer to viz this nn\n",
        "hl.build_graph(model, torch.zeros([10,inp]))"
      ],
      "execution_count": null,
      "outputs": [
        {
          "output_type": "execute_result",
          "data": {
            "text/plain": [
              "<hiddenlayer.graph.Graph at 0x7f7571c4b650>"
            ],
            "image/svg+xml": "<?xml version=\"1.0\" encoding=\"UTF-8\" standalone=\"no\"?>\n<!DOCTYPE svg PUBLIC \"-//W3C//DTD SVG 1.1//EN\"\n \"http://www.w3.org/Graphics/SVG/1.1/DTD/svg11.dtd\">\n<!-- Generated by graphviz version 2.40.1 (20161225.0304)\n -->\n<!-- Title: %3 Pages: 1 -->\n<svg width=\"378pt\" height=\"108pt\"\n viewBox=\"0.00 0.00 378.00 108.00\" xmlns=\"http://www.w3.org/2000/svg\" xmlns:xlink=\"http://www.w3.org/1999/xlink\">\n<g id=\"graph0\" class=\"graph\" transform=\"scale(1 1) rotate(0) translate(72 72)\">\n<title>%3</title>\n<polygon fill=\"#ffffff\" stroke=\"transparent\" points=\"-72,36 -72,-72 306,-72 306,36 -72,36\"/>\n<!-- /outputs/5 -->\n<g id=\"node1\" class=\"node\">\n<title>/outputs/5</title>\n<polygon fill=\"#e8e8e8\" stroke=\"#000000\" points=\"54,-36 0,-36 0,0 54,0 54,-36\"/>\n<text text-anchor=\"start\" x=\"14\" y=\"-15\" font-family=\"Times\" font-size=\"10.00\" fill=\"#000000\">Linear</text>\n</g>\n<!-- /outputs/6 -->\n<g id=\"node2\" class=\"node\">\n<title>/outputs/6</title>\n<polygon fill=\"#e8e8e8\" stroke=\"#000000\" points=\"144,-36 90,-36 90,0 144,0 144,-36\"/>\n<text text-anchor=\"start\" x=\"100\" y=\"-15\" font-family=\"Times\" font-size=\"10.00\" fill=\"#000000\">Sigmoid</text>\n</g>\n<!-- /outputs/5&#45;&gt;/outputs/6 -->\n<g id=\"edge1\" class=\"edge\">\n<title>/outputs/5&#45;&gt;/outputs/6</title>\n<path fill=\"none\" stroke=\"#000000\" d=\"M54.003,-18C62.0277,-18 70.9665,-18 79.5309,-18\"/>\n<polygon fill=\"#000000\" stroke=\"#000000\" points=\"79.7051,-21.5001 89.705,-18 79.705,-14.5001 79.7051,-21.5001\"/>\n</g>\n<!-- /outputs/7 -->\n<g id=\"node3\" class=\"node\">\n<title>/outputs/7</title>\n<polygon fill=\"#e8e8e8\" stroke=\"#000000\" points=\"234,-36 180,-36 180,0 234,0 234,-36\"/>\n<text text-anchor=\"start\" x=\"194\" y=\"-15\" font-family=\"Times\" font-size=\"10.00\" fill=\"#000000\">Linear</text>\n</g>\n<!-- /outputs/6&#45;&gt;/outputs/7 -->\n<g id=\"edge2\" class=\"edge\">\n<title>/outputs/6&#45;&gt;/outputs/7</title>\n<path fill=\"none\" stroke=\"#000000\" d=\"M144.003,-18C152.0277,-18 160.9665,-18 169.5309,-18\"/>\n<polygon fill=\"#000000\" stroke=\"#000000\" points=\"169.7051,-21.5001 179.705,-18 169.705,-14.5001 169.7051,-21.5001\"/>\n</g>\n</g>\n</svg>\n"
          },
          "metadata": {
            "tags": []
          },
          "execution_count": 66
        }
      ]
    },
    {
      "cell_type": "code",
      "metadata": {
        "id": "CfkJl0ta3i7m"
      },
      "source": [
        "optimizer = torch.optim.Adam(model.parameters(), lr = 0.001)"
      ],
      "execution_count": null,
      "outputs": []
    },
    {
      "cell_type": "code",
      "metadata": {
        "id": "NLmQO_ej5UKN"
      },
      "source": [
        "loss_fn = torch.nn.MSELoss()"
      ],
      "execution_count": null,
      "outputs": []
    },
    {
      "cell_type": "code",
      "metadata": {
        "colab": {
          "base_uri": "https://localhost:8080/"
        },
        "id": "8s83S1nc3jJI",
        "outputId": "40652a33-d062-4852-d2dd-d34c9d9277ad"
      },
      "source": [
        "total_step = len(train_loader)\n",
        "\n",
        "num_epochs = 100\n",
        "\n",
        "for epoch in range(num_epochs + 1):\n",
        "    for i, (features, target) in enumerate(train_loader):\n",
        "        \n",
        "        output = model(features)\n",
        "        loss = loss_fn(output, target)\n",
        "        \n",
        "        optimizer.zero_grad()\n",
        "        \n",
        "        loss.backward()\n",
        "        \n",
        "        optimizer.step()\n",
        "        \n",
        "        if epoch % 20 == 0:\n",
        "            print ('Epoch [{}/{}], Step [{}/{}], Loss: {:.4f}' \n",
        "                   .format(epoch+1, num_epochs, i+1, total_step, loss.item()))"
      ],
      "execution_count": null,
      "outputs": [
        {
          "output_type": "stream",
          "text": [
            "/usr/local/lib/python3.7/dist-packages/torch/nn/modules/loss.py:528: UserWarning: Using a target size (torch.Size([1000])) that is different to the input size (torch.Size([1000, 1])). This will likely lead to incorrect results due to broadcasting. Please ensure they have the same size.\n",
            "  return F.mse_loss(input, target, reduction=self.reduction)\n",
            "/usr/local/lib/python3.7/dist-packages/torch/nn/modules/loss.py:528: UserWarning: Using a target size (torch.Size([708])) that is different to the input size (torch.Size([708, 1])). This will likely lead to incorrect results due to broadcasting. Please ensure they have the same size.\n",
            "  return F.mse_loss(input, target, reduction=self.reduction)\n"
          ],
          "name": "stderr"
        },
        {
          "output_type": "stream",
          "text": [
            "Epoch [1/100], Step [1/9], Loss: 69273.4531\n",
            "Epoch [1/100], Step [2/9], Loss: 71347.0781\n",
            "Epoch [1/100], Step [3/9], Loss: 70308.3281\n",
            "Epoch [1/100], Step [4/9], Loss: 66351.8047\n",
            "Epoch [1/100], Step [5/9], Loss: 67058.8672\n",
            "Epoch [1/100], Step [6/9], Loss: 76929.1797\n",
            "Epoch [1/100], Step [7/9], Loss: 73395.0781\n",
            "Epoch [1/100], Step [8/9], Loss: 65560.4609\n",
            "Epoch [1/100], Step [9/9], Loss: 64276.8438\n",
            "Epoch [21/100], Step [1/9], Loss: 79110.4688\n",
            "Epoch [21/100], Step [2/9], Loss: 62961.7461\n",
            "Epoch [21/100], Step [3/9], Loss: 66017.4062\n",
            "Epoch [21/100], Step [4/9], Loss: 65152.8359\n",
            "Epoch [21/100], Step [5/9], Loss: 70934.4844\n",
            "Epoch [21/100], Step [6/9], Loss: 65737.3828\n",
            "Epoch [21/100], Step [7/9], Loss: 68339.1484\n",
            "Epoch [21/100], Step [8/9], Loss: 66486.1016\n",
            "Epoch [21/100], Step [9/9], Loss: 77232.5156\n",
            "Epoch [41/100], Step [1/9], Loss: 70510.2891\n",
            "Epoch [41/100], Step [2/9], Loss: 66432.8516\n",
            "Epoch [41/100], Step [3/9], Loss: 66969.7031\n",
            "Epoch [41/100], Step [4/9], Loss: 68934.4688\n",
            "Epoch [41/100], Step [5/9], Loss: 69822.4688\n",
            "Epoch [41/100], Step [6/9], Loss: 71663.4375\n",
            "Epoch [41/100], Step [7/9], Loss: 66204.3438\n",
            "Epoch [41/100], Step [8/9], Loss: 64412.8359\n",
            "Epoch [41/100], Step [9/9], Loss: 69186.7734\n",
            "Epoch [61/100], Step [1/9], Loss: 64828.2344\n",
            "Epoch [61/100], Step [2/9], Loss: 70289.0469\n",
            "Epoch [61/100], Step [3/9], Loss: 70464.0938\n",
            "Epoch [61/100], Step [4/9], Loss: 62164.8750\n",
            "Epoch [61/100], Step [5/9], Loss: 70412.1250\n",
            "Epoch [61/100], Step [6/9], Loss: 74959.9062\n",
            "Epoch [61/100], Step [7/9], Loss: 67783.0391\n",
            "Epoch [61/100], Step [8/9], Loss: 63269.7266\n",
            "Epoch [61/100], Step [9/9], Loss: 63946.1523\n",
            "Epoch [81/100], Step [1/9], Loss: 64628.7773\n",
            "Epoch [81/100], Step [2/9], Loss: 66550.2344\n",
            "Epoch [81/100], Step [3/9], Loss: 65126.3750\n",
            "Epoch [81/100], Step [4/9], Loss: 63387.0820\n",
            "Epoch [81/100], Step [5/9], Loss: 70781.7109\n",
            "Epoch [81/100], Step [6/9], Loss: 70491.2422\n",
            "Epoch [81/100], Step [7/9], Loss: 66327.3047\n",
            "Epoch [81/100], Step [8/9], Loss: 67040.3359\n",
            "Epoch [81/100], Step [9/9], Loss: 71833.7344\n",
            "Epoch [101/100], Step [1/9], Loss: 68569.5078\n",
            "Epoch [101/100], Step [2/9], Loss: 65232.6953\n",
            "Epoch [101/100], Step [3/9], Loss: 69928.4141\n",
            "Epoch [101/100], Step [4/9], Loss: 68505.4375\n",
            "Epoch [101/100], Step [5/9], Loss: 66367.7422\n",
            "Epoch [101/100], Step [6/9], Loss: 60065.0039\n",
            "Epoch [101/100], Step [7/9], Loss: 71383.0234\n",
            "Epoch [101/100], Step [8/9], Loss: 65238.5625\n",
            "Epoch [101/100], Step [9/9], Loss: 64636.8359\n"
          ],
          "name": "stdout"
        }
      ]
    },
    {
      "cell_type": "code",
      "metadata": {
        "id": "sGgVeImo3jP6"
      },
      "source": [
        "# before using nn for prediction,\n",
        "# switch to eval mode\n",
        "# coz dropout n batch normalization layers have different modes for training and evaluation \n",
        "model.eval()\n",
        "with torch.no_grad():\n",
        "  y_pred = model(x_test_tensor)"
      ],
      "execution_count": null,
      "outputs": []
    },
    {
      "cell_type": "code",
      "metadata": {
        "colab": {
          "base_uri": "https://localhost:8080/"
        },
        "id": "0XLjnJ1E79BM",
        "outputId": "52b4948e-065b-4dac-bbcb-cfa77ddb050f"
      },
      "source": [
        "# randomly chosen sample from dataset\n",
        "sample = x_test.iloc[45]\n",
        "sample"
      ],
      "execution_count": null,
      "outputs": [
        {
          "output_type": "execute_result",
          "data": {
            "text/plain": [
              "registered    127.00\n",
              "workingday      1.00\n",
              "weather         1.00\n",
              "temp           25.42\n",
              "atemp          28.03\n",
              "season_1        0.00\n",
              "season_2        1.00\n",
              "season_3        0.00\n",
              "season_4        0.00\n",
              "Name: 2011-06-17 22:00:00, dtype: float64"
            ]
          },
          "metadata": {
            "tags": []
          },
          "execution_count": 71
        }
      ]
    },
    {
      "cell_type": "code",
      "metadata": {
        "colab": {
          "base_uri": "https://localhost:8080/"
        },
        "id": "ZakWFx-Q8JK2",
        "outputId": "064c60f8-b72a-4f9e-c24d-6e60ccb1f5a0"
      },
      "source": [
        "# convert the numpy array sample to tensor\n",
        "sample_tensor = torch.tensor(sample.values, \n",
        "                             dtype = torch.float)\n",
        "sample_tensor"
      ],
      "execution_count": null,
      "outputs": [
        {
          "output_type": "execute_result",
          "data": {
            "text/plain": [
              "tensor([127.0000,   1.0000,   1.0000,  25.4200,  28.0300,   0.0000,   1.0000,\n",
              "          0.0000,   0.0000])"
            ]
          },
          "metadata": {
            "tags": []
          },
          "execution_count": 72
        }
      ]
    },
    {
      "cell_type": "code",
      "metadata": {
        "colab": {
          "base_uri": "https://localhost:8080/"
        },
        "id": "m-e_KACE8dt2",
        "outputId": "92ba85ea-a181-468b-a48a-033f70642a50"
      },
      "source": [
        "# prediction for this day\n",
        "with torch.no_grad():\n",
        "    y_pred = model(sample_tensor)\n",
        "\n",
        "print(\"Predicted count : \", (y_pred.item()))\n",
        "print(\"Actual count : \", (y_test.iloc[45]))"
      ],
      "execution_count": null,
      "outputs": [
        {
          "output_type": "stream",
          "text": [
            "Predicted count :  7.689108371734619\n",
            "Actual count :  175\n"
          ],
          "name": "stdout"
        }
      ]
    },
    {
      "cell_type": "code",
      "metadata": {
        "id": "5gT-z-GD8d0k"
      },
      "source": [
        "# prediction for whole test data\n",
        "y_pred_tensor = model(x_test_tensor)"
      ],
      "execution_count": null,
      "outputs": []
    },
    {
      "cell_type": "code",
      "metadata": {
        "colab": {
          "base_uri": "https://localhost:8080/"
        },
        "id": "gqueSPLD8d7O",
        "outputId": "daa4903b-a1c9-4c41-8304-abb76099bfdc"
      },
      "source": [
        "y_pred = y_pred_tensor.detach().numpy()\n",
        "y_pred.shape"
      ],
      "execution_count": null,
      "outputs": [
        {
          "output_type": "execute_result",
          "data": {
            "text/plain": [
              "(2178, 1)"
            ]
          },
          "metadata": {
            "tags": []
          },
          "execution_count": 75
        }
      ]
    },
    {
      "cell_type": "code",
      "metadata": {
        "colab": {
          "base_uri": "https://localhost:8080/"
        },
        "id": "PcCBKRne8eA-",
        "outputId": "7827a561-5245-4f76-c21b-3ee4c78e3c7b"
      },
      "source": [
        "y_test.values.shape"
      ],
      "execution_count": null,
      "outputs": [
        {
          "output_type": "execute_result",
          "data": {
            "text/plain": [
              "(2178,)"
            ]
          },
          "metadata": {
            "tags": []
          },
          "execution_count": 76
        }
      ]
    },
    {
      "cell_type": "code",
      "metadata": {
        "colab": {
          "base_uri": "https://localhost:8080/",
          "height": 359
        },
        "id": "kd244T6K8JVp",
        "outputId": "96d1f980-786b-4e49-db27-6d7aab84eb89"
      },
      "source": [
        "# comparing side by side\n",
        "compare_df = pd.DataFrame({'actual': np.squeeze(y_test.values),\n",
        "                          'predicted': np.squeeze(y_pred)})\n",
        "compare_df.sample(10)"
      ],
      "execution_count": null,
      "outputs": [
        {
          "output_type": "execute_result",
          "data": {
            "text/html": [
              "<div>\n",
              "<style scoped>\n",
              "    .dataframe tbody tr th:only-of-type {\n",
              "        vertical-align: middle;\n",
              "    }\n",
              "\n",
              "    .dataframe tbody tr th {\n",
              "        vertical-align: top;\n",
              "    }\n",
              "\n",
              "    .dataframe thead th {\n",
              "        text-align: right;\n",
              "    }\n",
              "</style>\n",
              "<table border=\"1\" class=\"dataframe\">\n",
              "  <thead>\n",
              "    <tr style=\"text-align: right;\">\n",
              "      <th></th>\n",
              "      <th>actual</th>\n",
              "      <th>predicted</th>\n",
              "    </tr>\n",
              "  </thead>\n",
              "  <tbody>\n",
              "    <tr>\n",
              "      <th>1565</th>\n",
              "      <td>150</td>\n",
              "      <td>7.689025</td>\n",
              "    </tr>\n",
              "    <tr>\n",
              "      <th>506</th>\n",
              "      <td>96</td>\n",
              "      <td>7.689106</td>\n",
              "    </tr>\n",
              "    <tr>\n",
              "      <th>594</th>\n",
              "      <td>64</td>\n",
              "      <td>7.689047</td>\n",
              "    </tr>\n",
              "    <tr>\n",
              "      <th>2038</th>\n",
              "      <td>300</td>\n",
              "      <td>7.689108</td>\n",
              "    </tr>\n",
              "    <tr>\n",
              "      <th>1192</th>\n",
              "      <td>302</td>\n",
              "      <td>7.689108</td>\n",
              "    </tr>\n",
              "    <tr>\n",
              "      <th>1955</th>\n",
              "      <td>34</td>\n",
              "      <td>7.688955</td>\n",
              "    </tr>\n",
              "    <tr>\n",
              "      <th>1397</th>\n",
              "      <td>173</td>\n",
              "      <td>7.689106</td>\n",
              "    </tr>\n",
              "    <tr>\n",
              "      <th>659</th>\n",
              "      <td>23</td>\n",
              "      <td>7.687671</td>\n",
              "    </tr>\n",
              "    <tr>\n",
              "      <th>987</th>\n",
              "      <td>3</td>\n",
              "      <td>7.688546</td>\n",
              "    </tr>\n",
              "    <tr>\n",
              "      <th>1739</th>\n",
              "      <td>3</td>\n",
              "      <td>7.668892</td>\n",
              "    </tr>\n",
              "  </tbody>\n",
              "</table>\n",
              "</div>"
            ],
            "text/plain": [
              "      actual  predicted\n",
              "1565     150   7.689025\n",
              "506       96   7.689106\n",
              "594       64   7.689047\n",
              "2038     300   7.689108\n",
              "1192     302   7.689108\n",
              "1955      34   7.688955\n",
              "1397     173   7.689106\n",
              "659       23   7.687671\n",
              "987        3   7.688546\n",
              "1739       3   7.668892"
            ]
          },
          "metadata": {
            "tags": []
          },
          "execution_count": 77
        }
      ]
    },
    {
      "cell_type": "code",
      "metadata": {
        "colab": {
          "base_uri": "https://localhost:8080/"
        },
        "id": "XMMRGPfi_WCJ",
        "outputId": "f2d16b25-5861-4ed9-f7a8-4efc25d1ddf6"
      },
      "source": [
        "# evaluating regression model using r2 score\n",
        "\n",
        "# how much of the variance in the underlying data is captured by the regression model\n",
        "# higher r2 better the model\n",
        "sklearn.metrics.r2_score(y_test, y_pred)\n",
        "\n"
      ],
      "execution_count": null,
      "outputs": [
        {
          "output_type": "execute_result",
          "data": {
            "text/plain": [
              "-1.0566176376476033"
            ]
          },
          "metadata": {
            "tags": []
          },
          "execution_count": 78
        }
      ]
    },
    {
      "cell_type": "code",
      "metadata": {
        "colab": {
          "base_uri": "https://localhost:8080/",
          "height": 497
        },
        "id": "eUpwVAOy_WQu",
        "outputId": "6e34969e-f000-4dac-c4a7-ebaa0867513a"
      },
      "source": [
        "plt.figure(figsize=(8, 8))\n",
        "\n",
        "plt.scatter(y_pred, y_test.values, s=250)\n",
        "\n",
        "plt.xlabel(\"Actual count\")\n",
        "plt.ylabel(\"Predicted count\")\n",
        "\n",
        "plt.show()"
      ],
      "execution_count": null,
      "outputs": [
        {
          "output_type": "display_data",
          "data": {
            "image/png": "[encoded data removed]",
            "text/plain": [
              "<Figure size 576x576 with 1 Axes>"
            ]
          },
          "metadata": {
            "tags": [],
            "needs_background": "light"
          }
        }
      ]
    },
    {
      "cell_type": "code",
      "metadata": {
        "id": "42pd2pNLbsb3"
      },
      "source": [
        ""
      ],
      "execution_count": null,
      "outputs": []
    },
    {
      "cell_type": "markdown",
      "metadata": {
        "id": "5lR2K0Zbfc0Q"
      },
      "source": [
        "#classification model using pytorch"
      ]
    },
    {
      "cell_type": "code",
      "metadata": {
        "id": "9wHtvO5zbsiw"
      },
      "source": [
        "# descrete categorical values\n",
        "# final output layer: sofmax layer\n",
        "#  objective func : cross entropy loss\n",
        "# alternative to softmax ... LogSoftmax nad negative log likelihood loss\n",
        "# which have certain advantages\n",
        "\n"
      ],
      "execution_count": null,
      "outputs": []
    },
    {
      "cell_type": "code",
      "metadata": {
        "id": "XzD8aBegr5m-"
      },
      "source": [
        ""
      ],
      "execution_count": null,
      "outputs": []
    },
    {
      "cell_type": "code",
      "metadata": {
        "id": "NoT3OJGkr5ul"
      },
      "source": [
        "# softmax : output are probability scores\n",
        "# n category classification\n",
        "# loss fun or objective fn\n",
        "# cross entropy loss :measure of how diff 2 probability distributions are\n",
        "loss cross entropy means thee labels of two series, y actual n y pred are in sync\n"
      ],
      "execution_count": null,
      "outputs": []
    },
    {
      "cell_type": "code",
      "metadata": {
        "id": "rbPSnmWdr55E"
      },
      "source": [
        "# linear classification as optimization problem\n",
        "# obfn is min cross entropy btw y actual n y pred\n",
        "# express relationship as exponential one\n",
        "# find best values of w\n",
        "'''\n",
        "choices of output layer in pytorch\n",
        "  softmax                              log softmax\n",
        "slightly less stable                  slightly more stable, has nicer properties\n",
        "cross entropy  loss fn                negative log likelihood  as lossfn\n",
        "   both have to min cross entropy\n",
        "1 output layer                          might need additional ouputlayer to calc log\n",
        "                                           but in pytorch just use LogSoftMax\n",
        "                                        tend to perform better  in real life in training\n",
        "\n",
        "both are equivalent"
      ],
      "execution_count": null,
      "outputs": []
    },
    {
      "cell_type": "code",
      "metadata": {
        "id": "wtj_clCmCAkY"
      },
      "source": [
        "'''classification models are evaluated using \n",
        "accuracy precision recall\n",
        "confusion matrix to understand them\n",
        "\n",
        "precision: accuracy when classifier flags cancer\n",
        "recall : accuracy when cancer actually present\n"
      ],
      "execution_count": null,
      "outputs": []
    },
    {
      "cell_type": "code",
      "metadata": {
        "id": "9PaeFzqODPgW"
      },
      "source": [
        "# classification using custom nn model\n",
        "\n"
      ],
      "execution_count": null,
      "outputs": []
    },
    {
      "cell_type": "code",
      "metadata": {
        "id": "X_2SE5s4DPpO"
      },
      "source": [
        "import torch\n",
        "\n",
        "import pandas as pd\n",
        "import numpy as np\n",
        "\n",
        "import seaborn as sns\n",
        "import matplotlib.pyplot as plt"
      ],
      "execution_count": null,
      "outputs": []
    },
    {
      "cell_type": "code",
      "metadata": {
        "colab": {
          "base_uri": "https://localhost:8080/",
          "height": 221
        },
        "id": "5CLXs43yDPwa",
        "outputId": "b86e4cc4-c928-4c7e-9a78-86f21974bce7"
      },
      "source": [
        "data = pd.read_csv('./Admission_Predict.csv')\n",
        "data.head()"
      ],
      "execution_count": null,
      "outputs": [
        {
          "output_type": "execute_result",
          "data": {
            "text/html": [
              "<div>\n",
              "<style scoped>\n",
              "    .dataframe tbody tr th:only-of-type {\n",
              "        vertical-align: middle;\n",
              "    }\n",
              "\n",
              "    .dataframe tbody tr th {\n",
              "        vertical-align: top;\n",
              "    }\n",
              "\n",
              "    .dataframe thead th {\n",
              "        text-align: right;\n",
              "    }\n",
              "</style>\n",
              "<table border=\"1\" class=\"dataframe\">\n",
              "  <thead>\n",
              "    <tr style=\"text-align: right;\">\n",
              "      <th></th>\n",
              "      <th>Serial No.</th>\n",
              "      <th>GRE Score</th>\n",
              "      <th>TOEFL Score</th>\n",
              "      <th>University Rating</th>\n",
              "      <th>SOP</th>\n",
              "      <th>LOR</th>\n",
              "      <th>CGPA</th>\n",
              "      <th>Research</th>\n",
              "      <th>Chance of Admit</th>\n",
              "    </tr>\n",
              "  </thead>\n",
              "  <tbody>\n",
              "    <tr>\n",
              "      <th>0</th>\n",
              "      <td>1</td>\n",
              "      <td>337</td>\n",
              "      <td>118</td>\n",
              "      <td>4</td>\n",
              "      <td>4.5</td>\n",
              "      <td>4.5</td>\n",
              "      <td>9.65</td>\n",
              "      <td>1</td>\n",
              "      <td>0.92</td>\n",
              "    </tr>\n",
              "    <tr>\n",
              "      <th>1</th>\n",
              "      <td>2</td>\n",
              "      <td>324</td>\n",
              "      <td>107</td>\n",
              "      <td>4</td>\n",
              "      <td>4.0</td>\n",
              "      <td>4.5</td>\n",
              "      <td>8.87</td>\n",
              "      <td>1</td>\n",
              "      <td>0.76</td>\n",
              "    </tr>\n",
              "    <tr>\n",
              "      <th>2</th>\n",
              "      <td>3</td>\n",
              "      <td>316</td>\n",
              "      <td>104</td>\n",
              "      <td>3</td>\n",
              "      <td>3.0</td>\n",
              "      <td>3.5</td>\n",
              "      <td>8.00</td>\n",
              "      <td>1</td>\n",
              "      <td>0.72</td>\n",
              "    </tr>\n",
              "    <tr>\n",
              "      <th>3</th>\n",
              "      <td>4</td>\n",
              "      <td>322</td>\n",
              "      <td>110</td>\n",
              "      <td>3</td>\n",
              "      <td>3.5</td>\n",
              "      <td>2.5</td>\n",
              "      <td>8.67</td>\n",
              "      <td>1</td>\n",
              "      <td>0.80</td>\n",
              "    </tr>\n",
              "    <tr>\n",
              "      <th>4</th>\n",
              "      <td>5</td>\n",
              "      <td>314</td>\n",
              "      <td>103</td>\n",
              "      <td>2</td>\n",
              "      <td>2.0</td>\n",
              "      <td>3.0</td>\n",
              "      <td>8.21</td>\n",
              "      <td>0</td>\n",
              "      <td>0.65</td>\n",
              "    </tr>\n",
              "  </tbody>\n",
              "</table>\n",
              "</div>"
            ],
            "text/plain": [
              "   Serial No.  GRE Score  TOEFL Score  ...  CGPA  Research  Chance of Admit \n",
              "0           1        337          118  ...  9.65         1              0.92\n",
              "1           2        324          107  ...  8.87         1              0.76\n",
              "2           3        316          104  ...  8.00         1              0.72\n",
              "3           4        322          110  ...  8.67         1              0.80\n",
              "4           5        314          103  ...  8.21         0              0.65\n",
              "\n",
              "[5 rows x 9 columns]"
            ]
          },
          "metadata": {
            "tags": []
          },
          "execution_count": 3
        }
      ]
    },
    {
      "cell_type": "code",
      "metadata": {
        "colab": {
          "base_uri": "https://localhost:8080/"
        },
        "id": "p1OiM10OEjDU",
        "outputId": "54939359-6f3c-44e2-ef7f-fdd0cf909b9f"
      },
      "source": [
        "# the chance of admit is numeric value, we will convert it into buckets , low medium or high\n",
        "data.shape"
      ],
      "execution_count": null,
      "outputs": [
        {
          "output_type": "execute_result",
          "data": {
            "text/plain": [
              "(400, 9)"
            ]
          },
          "metadata": {
            "tags": []
          },
          "execution_count": 4
        }
      ]
    },
    {
      "cell_type": "code",
      "metadata": {
        "colab": {
          "base_uri": "https://localhost:8080/",
          "height": 334
        },
        "id": "Anc9keFlE9R4",
        "outputId": "055d307b-70c9-48d8-d1ca-2ec5ede1d3b3"
      },
      "source": [
        "data.describe()"
      ],
      "execution_count": null,
      "outputs": [
        {
          "output_type": "execute_result",
          "data": {
            "text/html": [
              "<div>\n",
              "<style scoped>\n",
              "    .dataframe tbody tr th:only-of-type {\n",
              "        vertical-align: middle;\n",
              "    }\n",
              "\n",
              "    .dataframe tbody tr th {\n",
              "        vertical-align: top;\n",
              "    }\n",
              "\n",
              "    .dataframe thead th {\n",
              "        text-align: right;\n",
              "    }\n",
              "</style>\n",
              "<table border=\"1\" class=\"dataframe\">\n",
              "  <thead>\n",
              "    <tr style=\"text-align: right;\">\n",
              "      <th></th>\n",
              "      <th>Serial No.</th>\n",
              "      <th>GRE Score</th>\n",
              "      <th>TOEFL Score</th>\n",
              "      <th>University Rating</th>\n",
              "      <th>SOP</th>\n",
              "      <th>LOR</th>\n",
              "      <th>CGPA</th>\n",
              "      <th>Research</th>\n",
              "      <th>Chance of Admit</th>\n",
              "    </tr>\n",
              "  </thead>\n",
              "  <tbody>\n",
              "    <tr>\n",
              "      <th>count</th>\n",
              "      <td>400.000000</td>\n",
              "      <td>400.000000</td>\n",
              "      <td>400.000000</td>\n",
              "      <td>400.000000</td>\n",
              "      <td>400.000000</td>\n",
              "      <td>400.000000</td>\n",
              "      <td>400.000000</td>\n",
              "      <td>400.000000</td>\n",
              "      <td>400.000000</td>\n",
              "    </tr>\n",
              "    <tr>\n",
              "      <th>mean</th>\n",
              "      <td>200.500000</td>\n",
              "      <td>316.807500</td>\n",
              "      <td>107.410000</td>\n",
              "      <td>3.087500</td>\n",
              "      <td>3.400000</td>\n",
              "      <td>3.452500</td>\n",
              "      <td>8.598925</td>\n",
              "      <td>0.547500</td>\n",
              "      <td>0.724350</td>\n",
              "    </tr>\n",
              "    <tr>\n",
              "      <th>std</th>\n",
              "      <td>115.614301</td>\n",
              "      <td>11.473646</td>\n",
              "      <td>6.069514</td>\n",
              "      <td>1.143728</td>\n",
              "      <td>1.006869</td>\n",
              "      <td>0.898478</td>\n",
              "      <td>0.596317</td>\n",
              "      <td>0.498362</td>\n",
              "      <td>0.142609</td>\n",
              "    </tr>\n",
              "    <tr>\n",
              "      <th>min</th>\n",
              "      <td>1.000000</td>\n",
              "      <td>290.000000</td>\n",
              "      <td>92.000000</td>\n",
              "      <td>1.000000</td>\n",
              "      <td>1.000000</td>\n",
              "      <td>1.000000</td>\n",
              "      <td>6.800000</td>\n",
              "      <td>0.000000</td>\n",
              "      <td>0.340000</td>\n",
              "    </tr>\n",
              "    <tr>\n",
              "      <th>25%</th>\n",
              "      <td>100.750000</td>\n",
              "      <td>308.000000</td>\n",
              "      <td>103.000000</td>\n",
              "      <td>2.000000</td>\n",
              "      <td>2.500000</td>\n",
              "      <td>3.000000</td>\n",
              "      <td>8.170000</td>\n",
              "      <td>0.000000</td>\n",
              "      <td>0.640000</td>\n",
              "    </tr>\n",
              "    <tr>\n",
              "      <th>50%</th>\n",
              "      <td>200.500000</td>\n",
              "      <td>317.000000</td>\n",
              "      <td>107.000000</td>\n",
              "      <td>3.000000</td>\n",
              "      <td>3.500000</td>\n",
              "      <td>3.500000</td>\n",
              "      <td>8.610000</td>\n",
              "      <td>1.000000</td>\n",
              "      <td>0.730000</td>\n",
              "    </tr>\n",
              "    <tr>\n",
              "      <th>75%</th>\n",
              "      <td>300.250000</td>\n",
              "      <td>325.000000</td>\n",
              "      <td>112.000000</td>\n",
              "      <td>4.000000</td>\n",
              "      <td>4.000000</td>\n",
              "      <td>4.000000</td>\n",
              "      <td>9.062500</td>\n",
              "      <td>1.000000</td>\n",
              "      <td>0.830000</td>\n",
              "    </tr>\n",
              "    <tr>\n",
              "      <th>max</th>\n",
              "      <td>400.000000</td>\n",
              "      <td>340.000000</td>\n",
              "      <td>120.000000</td>\n",
              "      <td>5.000000</td>\n",
              "      <td>5.000000</td>\n",
              "      <td>5.000000</td>\n",
              "      <td>9.920000</td>\n",
              "      <td>1.000000</td>\n",
              "      <td>0.970000</td>\n",
              "    </tr>\n",
              "  </tbody>\n",
              "</table>\n",
              "</div>"
            ],
            "text/plain": [
              "       Serial No.   GRE Score  ...    Research  Chance of Admit \n",
              "count  400.000000  400.000000  ...  400.000000        400.000000\n",
              "mean   200.500000  316.807500  ...    0.547500          0.724350\n",
              "std    115.614301   11.473646  ...    0.498362          0.142609\n",
              "min      1.000000  290.000000  ...    0.000000          0.340000\n",
              "25%    100.750000  308.000000  ...    0.000000          0.640000\n",
              "50%    200.500000  317.000000  ...    1.000000          0.730000\n",
              "75%    300.250000  325.000000  ...    1.000000          0.830000\n",
              "max    400.000000  340.000000  ...    1.000000          0.970000\n",
              "\n",
              "[8 rows x 9 columns]"
            ]
          },
          "metadata": {
            "tags": []
          },
          "execution_count": 5
        }
      ]
    },
    {
      "cell_type": "code",
      "metadata": {
        "id": "PjhAxZM8FAaj"
      },
      "source": [
        "data = data.rename(index=str, columns={'Chance of Admit ': 'Admit_Probability'})\n",
        "\n",
        "data = data[['GRE Score', 'TOEFL Score', \n",
        "             'University Rating', 'SOP', \n",
        "             'LOR ', 'CGPA', 'Research', \n",
        "             'Admit_Probability']]"
      ],
      "execution_count": null,
      "outputs": []
    },
    {
      "cell_type": "code",
      "metadata": {
        "colab": {
          "base_uri": "https://localhost:8080/",
          "height": 513
        },
        "id": "ym1zdkPGFL6R",
        "outputId": "252ee7c4-d2bc-49f5-b0c2-4d48af03e209"
      },
      "source": [
        "plt.figure(figsize=(8, 8))\n",
        "# scatter plot with reg line\n",
        "fig = sns.regplot( x =\"GRE Score\", y = \"TOEFL Score\", data = data)\n",
        "plt.title(\"GRE Score vs TOEFL Score\")\n",
        "\n",
        "plt.show()"
      ],
      "execution_count": null,
      "outputs": [
        {
          "output_type": "display_data",
          "data": {
            "image/png": "[encoded data removed]",
            "text/plain": [
              "<Figure size 576x576 with 1 Axes>"
            ]
          },
          "metadata": {
            "tags": [],
            "needs_background": "light"
          }
        }
      ]
    },
    {
      "cell_type": "code",
      "metadata": {
        "colab": {
          "base_uri": "https://localhost:8080/",
          "height": 513
        },
        "id": "fYqwXb-VFMCt",
        "outputId": "bb49cfcb-39dc-4372-cca6-d6767de861f3"
      },
      "source": [
        "plt.figure(figsize=(8, 8))\n",
        "\n",
        "fig = sns.regplot(x = 'GRE Score', y = 'CGPA', data = data)\n",
        "plt.title(\"GRE Score vs CGPA\")\n",
        "\n",
        "plt.show()"
      ],
      "execution_count": null,
      "outputs": [
        {
          "output_type": "display_data",
          "data": {
            "image/png": "[encoded data removed]",
            "text/plain": [
              "<Figure size 576x576 with 1 Axes>"
            ]
          },
          "metadata": {
            "tags": [],
            "needs_background": "light"
          }
        }
      ]
    },
    {
      "cell_type": "code",
      "metadata": {
        "colab": {
          "base_uri": "https://localhost:8080/",
          "height": 531
        },
        "id": "DtVMeB6LFMIr",
        "outputId": "74755f36-52dc-43fe-f5d9-e4e302683d62"
      },
      "source": [
        "plt.figure(figsize=(8, 8))\n",
        "\n",
        "fig = sns.scatterplot(x = 'Admit_Probability', y = 'CGPA', data = data, hue = 'Research')\n",
        "\n",
        "plt.title(\"CGPA vs Admit Probability\")\n",
        "\n",
        "plt.xlabel('Admit_Probability')\n",
        "plt.ylabel('CGPA')"
      ],
      "execution_count": null,
      "outputs": [
        {
          "output_type": "execute_result",
          "data": {
            "text/plain": [
              "Text(0, 0.5, 'CGPA')"
            ]
          },
          "metadata": {
            "tags": []
          },
          "execution_count": 9
        },
        {
          "output_type": "display_data",
          "data": {
            "image/png": "[encoded data removed]",
            "text/plain": [
              "<Figure size 576x576 with 1 Axes>"
            ]
          },
          "metadata": {
            "tags": [],
            "needs_background": "light"
          }
        }
      ]
    },
    {
      "cell_type": "code",
      "metadata": {
        "colab": {
          "base_uri": "https://localhost:8080/",
          "height": 669
        },
        "id": "uck4XJ7XFMRT",
        "outputId": "b22c6317-518a-417d-f543-b6074878919a"
      },
      "source": [
        "# correlations btw each pair of variable\n",
        "plt.figure(figsize=(10, 10))\n",
        "\n",
        "sns.heatmap(data.corr(), annot=True, linewidths=0.05, fmt= '.2f')\n",
        "\n",
        "plt.show()"
      ],
      "execution_count": null,
      "outputs": [
        {
          "output_type": "display_data",
          "data": {
            "image/png": "[encoded data removed]",
            "text/plain": [
              "<Figure size 720x720 with 2 Axes>"
            ]
          },
          "metadata": {
            "tags": [],
            "needs_background": "light"
          }
        }
      ]
    },
    {
      "cell_type": "code",
      "metadata": {
        "id": "bJmCnxCCGBEw"
      },
      "source": [
        "# preprocessing\n",
        "from sklearn import preprocessing"
      ],
      "execution_count": null,
      "outputs": []
    },
    {
      "cell_type": "code",
      "metadata": {
        "id": "K7wcKhC7JNhG"
      },
      "source": [
        "# standardizing the numeric data to have zero mean and unit variance\n",
        "# its performed using scale fun , ehich subtracts the mean and divide by std \n",
        "data[['GRE Score', 'TOEFL Score', 'SOP', 'LOR ', 'CGPA' ]] = \\\n",
        "                preprocessing.scale(data[['GRE Score', 'TOEFL Score','SOP', 'LOR ', 'CGPA']])"
      ],
      "execution_count": null,
      "outputs": []
    },
    {
      "cell_type": "code",
      "metadata": {
        "colab": {
          "base_uri": "https://localhost:8080/",
          "height": 396
        },
        "id": "XhBeug9mJNsV",
        "outputId": "23e9d7fe-2bd1-4ef7-d547-1e19432ed73c"
      },
      "source": [
        "data.sample(10)"
      ],
      "execution_count": null,
      "outputs": [
        {
          "output_type": "execute_result",
          "data": {
            "text/html": [
              "<div>\n",
              "<style scoped>\n",
              "    .dataframe tbody tr th:only-of-type {\n",
              "        vertical-align: middle;\n",
              "    }\n",
              "\n",
              "    .dataframe tbody tr th {\n",
              "        vertical-align: top;\n",
              "    }\n",
              "\n",
              "    .dataframe thead th {\n",
              "        text-align: right;\n",
              "    }\n",
              "</style>\n",
              "<table border=\"1\" class=\"dataframe\">\n",
              "  <thead>\n",
              "    <tr style=\"text-align: right;\">\n",
              "      <th></th>\n",
              "      <th>GRE Score</th>\n",
              "      <th>TOEFL Score</th>\n",
              "      <th>University Rating</th>\n",
              "      <th>SOP</th>\n",
              "      <th>LOR</th>\n",
              "      <th>CGPA</th>\n",
              "      <th>Research</th>\n",
              "      <th>Admit_Probability</th>\n",
              "    </tr>\n",
              "  </thead>\n",
              "  <tbody>\n",
              "    <tr>\n",
              "      <th>360</th>\n",
              "      <td>0.453126</td>\n",
              "      <td>0.427257</td>\n",
              "      <td>3</td>\n",
              "      <td>0.596653</td>\n",
              "      <td>1.724515</td>\n",
              "      <td>0.068967</td>\n",
              "      <td>1</td>\n",
              "      <td>0.85</td>\n",
              "    </tr>\n",
              "    <tr>\n",
              "      <th>288</th>\n",
              "      <td>-0.244998</td>\n",
              "      <td>-0.562528</td>\n",
              "      <td>4</td>\n",
              "      <td>1.591075</td>\n",
              "      <td>1.724515</td>\n",
              "      <td>0.707010</td>\n",
              "      <td>0</td>\n",
              "      <td>0.82</td>\n",
              "    </tr>\n",
              "    <tr>\n",
              "      <th>189</th>\n",
              "      <td>0.627656</td>\n",
              "      <td>0.757186</td>\n",
              "      <td>5</td>\n",
              "      <td>1.591075</td>\n",
              "      <td>1.724515</td>\n",
              "      <td>0.807754</td>\n",
              "      <td>1</td>\n",
              "      <td>0.88</td>\n",
              "    </tr>\n",
              "    <tr>\n",
              "      <th>71</th>\n",
              "      <td>1.674841</td>\n",
              "      <td>0.757186</td>\n",
              "      <td>5</td>\n",
              "      <td>1.591075</td>\n",
              "      <td>1.724515</td>\n",
              "      <td>1.949515</td>\n",
              "      <td>1</td>\n",
              "      <td>0.96</td>\n",
              "    </tr>\n",
              "    <tr>\n",
              "      <th>399</th>\n",
              "      <td>1.413045</td>\n",
              "      <td>1.582006</td>\n",
              "      <td>4</td>\n",
              "      <td>1.591075</td>\n",
              "      <td>0.610127</td>\n",
              "      <td>1.781609</td>\n",
              "      <td>1</td>\n",
              "      <td>0.95</td>\n",
              "    </tr>\n",
              "    <tr>\n",
              "      <th>1</th>\n",
              "      <td>0.627656</td>\n",
              "      <td>-0.067635</td>\n",
              "      <td>4</td>\n",
              "      <td>0.596653</td>\n",
              "      <td>1.167321</td>\n",
              "      <td>0.455151</td>\n",
              "      <td>1</td>\n",
              "      <td>0.76</td>\n",
              "    </tr>\n",
              "    <tr>\n",
              "      <th>63</th>\n",
              "      <td>-0.157732</td>\n",
              "      <td>-0.067635</td>\n",
              "      <td>2</td>\n",
              "      <td>0.596653</td>\n",
              "      <td>-0.504260</td>\n",
              "      <td>-0.166101</td>\n",
              "      <td>1</td>\n",
              "      <td>0.56</td>\n",
              "    </tr>\n",
              "    <tr>\n",
              "      <th>227</th>\n",
              "      <td>-0.419528</td>\n",
              "      <td>0.427257</td>\n",
              "      <td>2</td>\n",
              "      <td>0.099442</td>\n",
              "      <td>-0.504260</td>\n",
              "      <td>-0.115729</td>\n",
              "      <td>0</td>\n",
              "      <td>0.64</td>\n",
              "    </tr>\n",
              "    <tr>\n",
              "      <th>343</th>\n",
              "      <td>-1.030386</td>\n",
              "      <td>-0.727492</td>\n",
              "      <td>2</td>\n",
              "      <td>-0.894980</td>\n",
              "      <td>0.052933</td>\n",
              "      <td>-0.787353</td>\n",
              "      <td>0</td>\n",
              "      <td>0.59</td>\n",
              "    </tr>\n",
              "    <tr>\n",
              "      <th>357</th>\n",
              "      <td>-1.379448</td>\n",
              "      <td>-0.562528</td>\n",
              "      <td>2</td>\n",
              "      <td>0.099442</td>\n",
              "      <td>0.052933</td>\n",
              "      <td>-1.190328</td>\n",
              "      <td>1</td>\n",
              "      <td>0.68</td>\n",
              "    </tr>\n",
              "  </tbody>\n",
              "</table>\n",
              "</div>"
            ],
            "text/plain": [
              "     GRE Score  TOEFL Score  ...  Research  Admit_Probability\n",
              "360   0.453126     0.427257  ...         1               0.85\n",
              "288  -0.244998    -0.562528  ...         0               0.82\n",
              "189   0.627656     0.757186  ...         1               0.88\n",
              "71    1.674841     0.757186  ...         1               0.96\n",
              "399   1.413045     1.582006  ...         1               0.95\n",
              "1     0.627656    -0.067635  ...         1               0.76\n",
              "63   -0.157732    -0.067635  ...         1               0.56\n",
              "227  -0.419528     0.427257  ...         0               0.64\n",
              "343  -1.030386    -0.727492  ...         0               0.59\n",
              "357  -1.379448    -0.562528  ...         1               0.68\n",
              "\n",
              "[10 rows x 8 columns]"
            ]
          },
          "metadata": {
            "tags": []
          },
          "execution_count": 13
        }
      ]
    },
    {
      "cell_type": "code",
      "metadata": {
        "id": "KvwG3tP-JN1_"
      },
      "source": [
        "col = ['GRE Score','TOEFL Score', 'SOP', 'LOR ', 'CGPA']\n",
        "\n",
        "features = data[col]"
      ],
      "execution_count": null,
      "outputs": []
    },
    {
      "cell_type": "code",
      "metadata": {
        "colab": {
          "base_uri": "https://localhost:8080/",
          "height": 204
        },
        "id": "mqgwRV3FJN9M",
        "outputId": "4deb201c-1869-4d6a-a2e0-4599497e41ac"
      },
      "source": [
        "features.head()"
      ],
      "execution_count": null,
      "outputs": [
        {
          "output_type": "execute_result",
          "data": {
            "text/html": [
              "<div>\n",
              "<style scoped>\n",
              "    .dataframe tbody tr th:only-of-type {\n",
              "        vertical-align: middle;\n",
              "    }\n",
              "\n",
              "    .dataframe tbody tr th {\n",
              "        vertical-align: top;\n",
              "    }\n",
              "\n",
              "    .dataframe thead th {\n",
              "        text-align: right;\n",
              "    }\n",
              "</style>\n",
              "<table border=\"1\" class=\"dataframe\">\n",
              "  <thead>\n",
              "    <tr style=\"text-align: right;\">\n",
              "      <th></th>\n",
              "      <th>GRE Score</th>\n",
              "      <th>TOEFL Score</th>\n",
              "      <th>SOP</th>\n",
              "      <th>LOR</th>\n",
              "      <th>CGPA</th>\n",
              "    </tr>\n",
              "  </thead>\n",
              "  <tbody>\n",
              "    <tr>\n",
              "      <th>0</th>\n",
              "      <td>1.762107</td>\n",
              "      <td>1.746971</td>\n",
              "      <td>1.093864</td>\n",
              "      <td>1.167321</td>\n",
              "      <td>1.764818</td>\n",
              "    </tr>\n",
              "    <tr>\n",
              "      <th>1</th>\n",
              "      <td>0.627656</td>\n",
              "      <td>-0.067635</td>\n",
              "      <td>0.596653</td>\n",
              "      <td>1.167321</td>\n",
              "      <td>0.455151</td>\n",
              "    </tr>\n",
              "    <tr>\n",
              "      <th>2</th>\n",
              "      <td>-0.070467</td>\n",
              "      <td>-0.562528</td>\n",
              "      <td>-0.397769</td>\n",
              "      <td>0.052933</td>\n",
              "      <td>-1.005631</td>\n",
              "    </tr>\n",
              "    <tr>\n",
              "      <th>3</th>\n",
              "      <td>0.453126</td>\n",
              "      <td>0.427257</td>\n",
              "      <td>0.099442</td>\n",
              "      <td>-1.061454</td>\n",
              "      <td>0.119339</td>\n",
              "    </tr>\n",
              "    <tr>\n",
              "      <th>4</th>\n",
              "      <td>-0.244998</td>\n",
              "      <td>-0.727492</td>\n",
              "      <td>-1.392191</td>\n",
              "      <td>-0.504260</td>\n",
              "      <td>-0.653029</td>\n",
              "    </tr>\n",
              "  </tbody>\n",
              "</table>\n",
              "</div>"
            ],
            "text/plain": [
              "   GRE Score  TOEFL Score       SOP      LOR       CGPA\n",
              "0   1.762107     1.746971  1.093864  1.167321  1.764818\n",
              "1   0.627656    -0.067635  0.596653  1.167321  0.455151\n",
              "2  -0.070467    -0.562528 -0.397769  0.052933 -1.005631\n",
              "3   0.453126     0.427257  0.099442 -1.061454  0.119339\n",
              "4  -0.244998    -0.727492 -1.392191 -0.504260 -0.653029"
            ]
          },
          "metadata": {
            "tags": []
          },
          "execution_count": 15
        }
      ]
    },
    {
      "cell_type": "code",
      "metadata": {
        "id": "U7z4QuwUJOGi"
      },
      "source": [
        "target = data[['Admit_Probability']]"
      ],
      "execution_count": null,
      "outputs": []
    },
    {
      "cell_type": "code",
      "metadata": {
        "colab": {
          "base_uri": "https://localhost:8080/",
          "height": 204
        },
        "id": "LTjmXwJcGBbV",
        "outputId": "8f15ae7d-4a2e-4d60-fe88-fce9602e8eb0"
      },
      "source": [
        "target.head()\n",
        "# its continuous numeric data \n",
        "# therefore need to bucketize it to make it categorical"
      ],
      "execution_count": null,
      "outputs": [
        {
          "output_type": "execute_result",
          "data": {
            "text/html": [
              "<div>\n",
              "<style scoped>\n",
              "    .dataframe tbody tr th:only-of-type {\n",
              "        vertical-align: middle;\n",
              "    }\n",
              "\n",
              "    .dataframe tbody tr th {\n",
              "        vertical-align: top;\n",
              "    }\n",
              "\n",
              "    .dataframe thead th {\n",
              "        text-align: right;\n",
              "    }\n",
              "</style>\n",
              "<table border=\"1\" class=\"dataframe\">\n",
              "  <thead>\n",
              "    <tr style=\"text-align: right;\">\n",
              "      <th></th>\n",
              "      <th>Admit_Probability</th>\n",
              "    </tr>\n",
              "  </thead>\n",
              "  <tbody>\n",
              "    <tr>\n",
              "      <th>0</th>\n",
              "      <td>0.92</td>\n",
              "    </tr>\n",
              "    <tr>\n",
              "      <th>1</th>\n",
              "      <td>0.76</td>\n",
              "    </tr>\n",
              "    <tr>\n",
              "      <th>2</th>\n",
              "      <td>0.72</td>\n",
              "    </tr>\n",
              "    <tr>\n",
              "      <th>3</th>\n",
              "      <td>0.80</td>\n",
              "    </tr>\n",
              "    <tr>\n",
              "      <th>4</th>\n",
              "      <td>0.65</td>\n",
              "    </tr>\n",
              "  </tbody>\n",
              "</table>\n",
              "</div>"
            ],
            "text/plain": [
              "   Admit_Probability\n",
              "0               0.92\n",
              "1               0.76\n",
              "2               0.72\n",
              "3               0.80\n",
              "4               0.65"
            ]
          },
          "metadata": {
            "tags": []
          },
          "execution_count": 17
        }
      ]
    },
    {
      "cell_type": "code",
      "metadata": {
        "id": "Q7Z5CK5RFMZY"
      },
      "source": [
        "# make a copy\n",
        "y = target.copy()"
      ],
      "execution_count": null,
      "outputs": []
    },
    {
      "cell_type": "code",
      "metadata": {
        "colab": {
          "base_uri": "https://localhost:8080/",
          "height": 204
        },
        "id": "HfrouSvbLTE8",
        "outputId": "cbd0a19d-cbaa-4116-a1a0-a05dfa47182f"
      },
      "source": [
        "y.head()"
      ],
      "execution_count": null,
      "outputs": [
        {
          "output_type": "execute_result",
          "data": {
            "text/html": [
              "<div>\n",
              "<style scoped>\n",
              "    .dataframe tbody tr th:only-of-type {\n",
              "        vertical-align: middle;\n",
              "    }\n",
              "\n",
              "    .dataframe tbody tr th {\n",
              "        vertical-align: top;\n",
              "    }\n",
              "\n",
              "    .dataframe thead th {\n",
              "        text-align: right;\n",
              "    }\n",
              "</style>\n",
              "<table border=\"1\" class=\"dataframe\">\n",
              "  <thead>\n",
              "    <tr style=\"text-align: right;\">\n",
              "      <th></th>\n",
              "      <th>Admit_Probability</th>\n",
              "    </tr>\n",
              "  </thead>\n",
              "  <tbody>\n",
              "    <tr>\n",
              "      <th>0</th>\n",
              "      <td>0.92</td>\n",
              "    </tr>\n",
              "    <tr>\n",
              "      <th>1</th>\n",
              "      <td>0.76</td>\n",
              "    </tr>\n",
              "    <tr>\n",
              "      <th>2</th>\n",
              "      <td>0.72</td>\n",
              "    </tr>\n",
              "    <tr>\n",
              "      <th>3</th>\n",
              "      <td>0.80</td>\n",
              "    </tr>\n",
              "    <tr>\n",
              "      <th>4</th>\n",
              "      <td>0.65</td>\n",
              "    </tr>\n",
              "  </tbody>\n",
              "</table>\n",
              "</div>"
            ],
            "text/plain": [
              "   Admit_Probability\n",
              "0               0.92\n",
              "1               0.76\n",
              "2               0.72\n",
              "3               0.80\n",
              "4               0.65"
            ]
          },
          "metadata": {
            "tags": []
          },
          "execution_count": 19
        }
      ]
    },
    {
      "cell_type": "code",
      "metadata": {
        "id": "4alE2JFAFAw6"
      },
      "source": [
        "# y.replace(to_replace = target[target >= 0.80], value= int(2), inplace=True)\n",
        "# y.replace(to_replace = target[target >= 0.60], value = int(1), inplace=True)\n",
        "# y.replace(to_replace = target[target < 0.60], value = int(0), inplace=True)"
      ],
      "execution_count": null,
      "outputs": []
    },
    {
      "cell_type": "code",
      "metadata": {
        "id": "bWiT8OSpE9bp"
      },
      "source": [
        "# df.loc[df.my_channel > 20000, 'my_channel'] = 0\n",
        "# df[(df['closing_price'] >= 99) & (df['closing_price'] <= 101)]\n",
        "# y[(y['Admit_Probability'] >= 0.6) & (y['Admit_Probability'] < 0.8)] = 1"
      ],
      "execution_count": null,
      "outputs": []
    },
    {
      "cell_type": "code",
      "metadata": {
        "id": "6mr_GsbQE9jt"
      },
      "source": [
        "y.Admit_Probability[y['Admit_Probability'] >= 0.80] = 2\n",
        "y.Admit_Probability[y['Admit_Probability'] < 0.60] = 0\n",
        "y.Admit_Probability[(y['Admit_Probability'] >= 0.6) & (y['Admit_Probability'] < 0.8)] = 1\n"
      ],
      "execution_count": null,
      "outputs": []
    },
    {
      "cell_type": "code",
      "metadata": {
        "colab": {
          "base_uri": "https://localhost:8080/",
          "height": 204
        },
        "id": "QYXJ_Ht4MSM2",
        "outputId": "276e3282-679d-406c-bd05-2c5b226a368f"
      },
      "source": [
        "y.head()"
      ],
      "execution_count": null,
      "outputs": [
        {
          "output_type": "execute_result",
          "data": {
            "text/html": [
              "<div>\n",
              "<style scoped>\n",
              "    .dataframe tbody tr th:only-of-type {\n",
              "        vertical-align: middle;\n",
              "    }\n",
              "\n",
              "    .dataframe tbody tr th {\n",
              "        vertical-align: top;\n",
              "    }\n",
              "\n",
              "    .dataframe thead th {\n",
              "        text-align: right;\n",
              "    }\n",
              "</style>\n",
              "<table border=\"1\" class=\"dataframe\">\n",
              "  <thead>\n",
              "    <tr style=\"text-align: right;\">\n",
              "      <th></th>\n",
              "      <th>Admit_Probability</th>\n",
              "    </tr>\n",
              "  </thead>\n",
              "  <tbody>\n",
              "    <tr>\n",
              "      <th>0</th>\n",
              "      <td>2.0</td>\n",
              "    </tr>\n",
              "    <tr>\n",
              "      <th>1</th>\n",
              "      <td>1.0</td>\n",
              "    </tr>\n",
              "    <tr>\n",
              "      <th>2</th>\n",
              "      <td>1.0</td>\n",
              "    </tr>\n",
              "    <tr>\n",
              "      <th>3</th>\n",
              "      <td>2.0</td>\n",
              "    </tr>\n",
              "    <tr>\n",
              "      <th>4</th>\n",
              "      <td>1.0</td>\n",
              "    </tr>\n",
              "  </tbody>\n",
              "</table>\n",
              "</div>"
            ],
            "text/plain": [
              "   Admit_Probability\n",
              "0                2.0\n",
              "1                1.0\n",
              "2                1.0\n",
              "3                2.0\n",
              "4                1.0"
            ]
          },
          "metadata": {
            "tags": []
          },
          "execution_count": 23
        }
      ]
    },
    {
      "cell_type": "code",
      "metadata": {
        "colab": {
          "base_uri": "https://localhost:8080/"
        },
        "id": "jwokjvjWE9rw",
        "outputId": "285ade5f-f664-4280-a314-89181722e172"
      },
      "source": [
        "y['Admit_Probability'].unique()"
      ],
      "execution_count": null,
      "outputs": [
        {
          "output_type": "execute_result",
          "data": {
            "text/plain": [
              "array([2., 1., 0.])"
            ]
          },
          "metadata": {
            "tags": []
          },
          "execution_count": 24
        }
      ]
    },
    {
      "cell_type": "code",
      "metadata": {
        "id": "he1KLUkEDP1m"
      },
      "source": [
        "target = y"
      ],
      "execution_count": null,
      "outputs": []
    },
    {
      "cell_type": "code",
      "metadata": {
        "colab": {
          "base_uri": "https://localhost:8080/"
        },
        "id": "qAIXmzgRDP8X",
        "outputId": "74d7a66d-feec-47da-e53f-f9901d697682"
      },
      "source": [
        "target['Admit_Probability'].unique()"
      ],
      "execution_count": null,
      "outputs": [
        {
          "output_type": "execute_result",
          "data": {
            "text/plain": [
              "array([2., 1., 0.])"
            ]
          },
          "metadata": {
            "tags": []
          },
          "execution_count": 26
        }
      ]
    },
    {
      "cell_type": "code",
      "metadata": {
        "id": "Kgp9cBLb6Zpf"
      },
      "source": [
        "from sklearn.model_selection import train_test_split"
      ],
      "execution_count": null,
      "outputs": []
    },
    {
      "cell_type": "code",
      "metadata": {
        "id": "pF4hIsrQ6LFu"
      },
      "source": [
        "# split the preprocessed data\n",
        "X_train, x_test, Y_train, y_test = train_test_split(features,\n",
        "                                                    target,\n",
        "                                                    test_size=0.2)"
      ],
      "execution_count": null,
      "outputs": []
    },
    {
      "cell_type": "code",
      "metadata": {
        "colab": {
          "base_uri": "https://localhost:8080/"
        },
        "id": "GByZ-2mE6LL7",
        "outputId": "6a106451-affa-4814-d068-e00dba2643b5"
      },
      "source": [
        "Xtrain = torch.from_numpy(X_train.values).float()\n",
        "Xtest = torch.from_numpy(x_test.values).float()\n",
        "Xtrain.shape"
      ],
      "execution_count": null,
      "outputs": [
        {
          "output_type": "execute_result",
          "data": {
            "text/plain": [
              "torch.Size([320, 5])"
            ]
          },
          "metadata": {
            "tags": []
          },
          "execution_count": 29
        }
      ]
    },
    {
      "cell_type": "code",
      "metadata": {
        "colab": {
          "base_uri": "https://localhost:8080/"
        },
        "id": "8hZm9zUh61sY",
        "outputId": "0746a2c3-e1e3-4cac-d146-b34f3452d5fa"
      },
      "source": [
        "Y_train.shape\n",
        "# 2d arrays with inner dim 1, these can b converted into 1 dim"
      ],
      "execution_count": null,
      "outputs": [
        {
          "output_type": "execute_result",
          "data": {
            "text/plain": [
              "(320, 1)"
            ]
          },
          "metadata": {
            "tags": []
          },
          "execution_count": 30
        }
      ]
    },
    {
      "cell_type": "code",
      "metadata": {
        "id": "_2lrnI9161xW"
      },
      "source": [
        "# convert thm to 1d while making them tensors\n",
        "Ytrain = torch.from_numpy(Y_train.values).view(1,-1)[0].long()\n",
        "Ytest = torch.from_numpy(y_test.values).view(1,-1)[0].long()"
      ],
      "execution_count": null,
      "outputs": []
    },
    {
      "cell_type": "code",
      "metadata": {
        "colab": {
          "base_uri": "https://localhost:8080/"
        },
        "id": "ZNAJmoWZ73hA",
        "outputId": "06108848-e36f-45a6-80fa-c12dd260d7dd"
      },
      "source": [
        "Ytrain.shape"
      ],
      "execution_count": null,
      "outputs": [
        {
          "output_type": "execute_result",
          "data": {
            "text/plain": [
              "torch.Size([320])"
            ]
          },
          "metadata": {
            "tags": []
          },
          "execution_count": 32
        }
      ]
    },
    {
      "cell_type": "code",
      "metadata": {
        "id": "3H8GKE7k73rh"
      },
      "source": [
        "# design nn\n",
        "import torch.nn as nn \n",
        "import torch.nn.functional as F\n",
        "# instead of sequential container and builtin layers of pytorch framework\n",
        "# which is used when we have straight forward model.\n",
        "# we will design our own custom nn layers using torch.nn.functional API\n",
        "# this gives us more granular control over layer design\n"
      ],
      "execution_count": null,
      "outputs": []
    },
    {
      "cell_type": "code",
      "metadata": {
        "id": "_PrRyjjg-TaF"
      },
      "source": [
        "# input size is no of features in training data\n",
        "input_size = Xtrain.shape[1]\n",
        "output_size = len(target['Admit_Probability'].unique())\n"
      ],
      "execution_count": null,
      "outputs": []
    },
    {
      "cell_type": "code",
      "metadata": {
        "id": "C2094ymE-29M"
      },
      "source": [
        "# building custom nn\n",
        "# we will create a class called Net, which will inherit from nn.Module class\n",
        "# all of the nn in pytorch inherits from this nn.Module base class\n",
        "class Net(nn.Module):\n",
        "  def __init__(self, hidden_size, activation_fn = 'relu', apply_dropout = False):\n",
        "    super(Net, self).__init__()\n",
        "    # full connceted linear layers, will be applied to input one by one\n",
        "    # after passing through an activation func, will be input to another layer\n",
        "    self.fc1 = nn.Linear(input_size, hidden_size)\n",
        "    self.fc2 = nn.Linear(hidden_size, hidden_size)\n",
        "    self.fc3 = nn.Linear(hidden_size, output_size)\n",
        "\n",
        "    # initilize hidden layer size and activation func to member variable sof the class\n",
        "\n",
        "    self.hidden_size = hidden_size\n",
        "    self.activation_fn = activation_fn\n",
        "\n",
        "    # setting dropout to none, makes dropout as false by default\n",
        "    self.dropout = None\n",
        "    # if dropout is true , set it to class variable\n",
        "    if apply_dropout:\n",
        "      self.dropout = nn.Dropout(0.2)\n",
        "\n",
        "      # functional api allows us to specify in a very granular manner\n",
        "      # how we want the layers of our nn to apply to our input in the forward pass\n",
        "  # we can define exact connection btw the layers in forward func of nn\n",
        "\n",
        "  # input to forward fn is x input, which is passed as parameter\n",
        "  def forward(self, x):\n",
        "    activation_fn = None\n",
        "\n",
        "    # kind of activation fn we want to apply to linear layers\n",
        "    if self.activation_fn == 'sigmoid':\n",
        "      activation_fn = F.torch.sigmoid\n",
        "    elif self.activation_fn == 'tanh':\n",
        "      activation_fn = F.torch.tanh\n",
        "    elif self.activation_fn == 'relu':\n",
        "      activation_fn = F.torch.relu\n",
        "\n",
        "    # passing the input x to fc linear layer and apply activation fn \n",
        "    # thn pass it further to next linear layer\n",
        "    x = activation_fn(self.fc1(x))\n",
        "    x = activation_fn(self.fc2(x))\n",
        "\n",
        "    # applying dropout if specified, its applied to the output of last linear layer\n",
        "\n",
        "    if self.dropout != None:\n",
        "      x = self.dropout(x)\n",
        "    # x then will be passed into another linear layer thats self.fc3\n",
        "\n",
        "    x = self.fc3(x)\n",
        "\n",
        "    # its output is passed into log_softmax func\n",
        "    # calc log(SoftMAx()) - used in combination with NLLLoss() func\n",
        "\n",
        "    return F.log_softmax(x, dim = -1)\n"
      ],
      "execution_count": null,
      "outputs": []
    },
    {
      "cell_type": "code",
      "metadata": {
        "id": "9mtB8LLC-3Dr"
      },
      "source": [
        "import torch.optim as optim"
      ],
      "execution_count": null,
      "outputs": []
    },
    {
      "cell_type": "code",
      "metadata": {
        "id": "LMQ4VAZz-3OG"
      },
      "source": [
        "# lets setup a little func called train_and_eval_model\n",
        "# helper fun to train n eval our model\n",
        "# input arg for the fun are model itself and lr \n",
        "def train_and_eval_model(model, learn_rate = 0.001):\n",
        "  epoch_data = []\n",
        "  epochs = 1001\n",
        "  optimizer = optim.Adam(model.parameters(), lr = learn_rate)\n",
        "\n",
        "  loss_fn = nn.NLLLoss()\n",
        "  test_Accuracy = 0.0\n",
        "  for epoch in range(1,epochs):\n",
        "    optimizer.zero_grad()\n",
        "\n",
        "    model.train()\n",
        "    Ypred = model(Xtrain)\n",
        "    loss = loss_fn(Ypred, Ytrain)\n",
        "    loss.backward()\n",
        "    optimizer.step()\n",
        "\n",
        "    model.eval()\n",
        "    Ypred_test = model(Xtest)\n",
        "    loss_test = loss_fn(Ypred_test, Ytest)\n",
        "    # finding which probability score is max\n",
        "    _, pred = Ypred_test.data.max(1)\n",
        "    # how many of the prediction were equal to actual y values\n",
        "    # sum all correct predictions and divide by total predicted values\n",
        "    test_accuracy = pred.eq( Ytest.data).sum().item()/y_test.values.size\n",
        "\n",
        "    epoch_data.append([epoch, loss.data.item(), loss_test.data.item(), test_accuracy])\n",
        "    if epoch % 100 == 0:\n",
        "      print ('epoch - %d (%d%%) train loss - %.2f test loss - %.2f Test accuracy - %.4f'\\\n",
        "                   % (epoch, epoch/150 * 10 , loss.data.item(), loss_test.data.item(), test_accuracy))\n",
        "            \n",
        "\n",
        "  return {'model' : model,\n",
        "            'epoch_data' : epoch_data, \n",
        "            'num_epochs' : epochs, \n",
        "            'optimizer' : optimizer, \n",
        "            'loss_fn' : loss_fn,\n",
        "            'test_accuracy' : test_accuracy,\n",
        "            '_, pred' : Ypred_test.data.max(1),\n",
        "            'actual_test_label' : Ytest,\n",
        "            }\n",
        "\n"
      ],
      "execution_count": null,
      "outputs": []
    },
    {
      "cell_type": "code",
      "metadata": {
        "colab": {
          "base_uri": "https://localhost:8080/"
        },
        "id": "Z3zXQVz4-3TN",
        "outputId": "05ebbd88-e02b-4eae-8d41-8c5d837012ff"
      },
      "source": [
        "# building different nn architectures and evalueate them on test data\n",
        "\n",
        "# invoking Net class to build nn architecture\n",
        "net = Net(hidden_size=3, activation_fn='sigmoid', apply_dropout=False)\n",
        "net"
      ],
      "execution_count": null,
      "outputs": [
        {
          "output_type": "execute_result",
          "data": {
            "text/plain": [
              "Net(\n",
              "  (fc1): Linear(in_features=5, out_features=3, bias=True)\n",
              "  (fc2): Linear(in_features=3, out_features=3, bias=True)\n",
              "  (fc3): Linear(in_features=3, out_features=3, bias=True)\n",
              ")"
            ]
          },
          "metadata": {
            "tags": []
          },
          "execution_count": 44
        }
      ]
    },
    {
      "cell_type": "code",
      "metadata": {
        "colab": {
          "base_uri": "https://localhost:8080/"
        },
        "id": "0Wy4OAg4-3Zz",
        "outputId": "9863c601-3f36-4131-96a5-aaf474e2445a"
      },
      "source": [
        "# invoking train_and_eval_model and store result in result_3_sig\n",
        "result_3_sig = train_and_eval_model(net)"
      ],
      "execution_count": null,
      "outputs": [
        {
          "output_type": "stream",
          "text": [
            "epoch - 100 (6%) train loss - 1.04 test loss - 1.03 Test accuracy - 0.5125\n",
            "epoch - 200 (13%) train loss - 1.02 test loss - 1.03 Test accuracy - 0.5125\n",
            "epoch - 300 (20%) train loss - 1.00 test loss - 1.02 Test accuracy - 0.5125\n",
            "epoch - 400 (26%) train loss - 0.98 test loss - 1.01 Test accuracy - 0.5125\n",
            "epoch - 500 (33%) train loss - 0.95 test loss - 0.98 Test accuracy - 0.5125\n",
            "epoch - 600 (40%) train loss - 0.89 test loss - 0.93 Test accuracy - 0.6625\n",
            "epoch - 700 (46%) train loss - 0.83 test loss - 0.88 Test accuracy - 0.6625\n",
            "epoch - 800 (53%) train loss - 0.77 test loss - 0.83 Test accuracy - 0.6875\n",
            "epoch - 900 (60%) train loss - 0.72 test loss - 0.78 Test accuracy - 0.7000\n",
            "epoch - 1000 (66%) train loss - 0.68 test loss - 0.74 Test accuracy - 0.6875\n"
          ],
          "name": "stdout"
        }
      ]
    },
    {
      "cell_type": "code",
      "metadata": {
        "colab": {
          "base_uri": "https://localhost:8080/"
        },
        "id": "ZtsTVGjw-3mF",
        "outputId": "97ec56a7-68b5-4e67-bdee-9e6fd0c14702"
      },
      "source": [
        "# model2\n",
        "net = Net(3, 'sigmoid', True)\n",
        "net "
      ],
      "execution_count": null,
      "outputs": [
        {
          "output_type": "execute_result",
          "data": {
            "text/plain": [
              "Net(\n",
              "  (fc1): Linear(in_features=5, out_features=3, bias=True)\n",
              "  (fc2): Linear(in_features=3, out_features=3, bias=True)\n",
              "  (fc3): Linear(in_features=3, out_features=3, bias=True)\n",
              "  (dropout): Dropout(p=0.2, inplace=False)\n",
              ")"
            ]
          },
          "metadata": {
            "tags": []
          },
          "execution_count": 46
        }
      ]
    },
    {
      "cell_type": "code",
      "metadata": {
        "colab": {
          "base_uri": "https://localhost:8080/"
        },
        "id": "qLxYdl7j-TfO",
        "outputId": "9c7ce75d-5365-40a8-8f68-0edbb77f0525"
      },
      "source": [
        "result_3_sig_d = train_and_eval_model(net)"
      ],
      "execution_count": null,
      "outputs": [
        {
          "output_type": "stream",
          "text": [
            "epoch - 100 (6%) train loss - 1.08 test loss - 1.05 Test accuracy - 0.5125\n",
            "epoch - 200 (13%) train loss - 1.03 test loss - 1.02 Test accuracy - 0.5125\n",
            "epoch - 300 (20%) train loss - 1.01 test loss - 1.01 Test accuracy - 0.5125\n",
            "epoch - 400 (26%) train loss - 0.97 test loss - 0.99 Test accuracy - 0.5125\n",
            "epoch - 500 (33%) train loss - 0.96 test loss - 0.97 Test accuracy - 0.5125\n",
            "epoch - 600 (40%) train loss - 0.94 test loss - 0.94 Test accuracy - 0.6375\n",
            "epoch - 700 (46%) train loss - 0.87 test loss - 0.90 Test accuracy - 0.6750\n",
            "epoch - 800 (53%) train loss - 0.84 test loss - 0.86 Test accuracy - 0.6750\n",
            "epoch - 900 (60%) train loss - 0.81 test loss - 0.82 Test accuracy - 0.6875\n",
            "epoch - 1000 (66%) train loss - 0.76 test loss - 0.79 Test accuracy - 0.7000\n"
          ],
          "name": "stdout"
        }
      ]
    },
    {
      "cell_type": "code",
      "metadata": {
        "colab": {
          "base_uri": "https://localhost:8080/"
        },
        "id": "iQ3NB_0u-Tne",
        "outputId": "41af1706-a7d5-4f37-ab60-b3b387366445"
      },
      "source": [
        "# model 3\n",
        "\n",
        "net = Net(50, 'tanh')\n",
        "net"
      ],
      "execution_count": null,
      "outputs": [
        {
          "output_type": "execute_result",
          "data": {
            "text/plain": [
              "Net(\n",
              "  (fc1): Linear(in_features=5, out_features=50, bias=True)\n",
              "  (fc2): Linear(in_features=50, out_features=50, bias=True)\n",
              "  (fc3): Linear(in_features=50, out_features=3, bias=True)\n",
              ")"
            ]
          },
          "metadata": {
            "tags": []
          },
          "execution_count": 48
        }
      ]
    },
    {
      "cell_type": "code",
      "metadata": {
        "colab": {
          "base_uri": "https://localhost:8080/"
        },
        "id": "Qn6l7_XH-TvD",
        "outputId": "6d8ed076-1fc1-4b7b-8e47-0bb231ce749d"
      },
      "source": [
        "result_50_tanh = train_and_eval_model(net)"
      ],
      "execution_count": null,
      "outputs": [
        {
          "output_type": "stream",
          "text": [
            "epoch - 100 (6%) train loss - 0.42 test loss - 0.55 Test accuracy - 0.7750\n",
            "epoch - 200 (13%) train loss - 0.40 test loss - 0.55 Test accuracy - 0.8000\n",
            "epoch - 300 (20%) train loss - 0.38 test loss - 0.54 Test accuracy - 0.8000\n",
            "epoch - 400 (26%) train loss - 0.37 test loss - 0.53 Test accuracy - 0.8000\n",
            "epoch - 500 (33%) train loss - 0.36 test loss - 0.52 Test accuracy - 0.8000\n",
            "epoch - 600 (40%) train loss - 0.34 test loss - 0.51 Test accuracy - 0.8000\n",
            "epoch - 700 (46%) train loss - 0.32 test loss - 0.51 Test accuracy - 0.8125\n",
            "epoch - 800 (53%) train loss - 0.29 test loss - 0.53 Test accuracy - 0.8125\n",
            "epoch - 900 (60%) train loss - 0.25 test loss - 0.56 Test accuracy - 0.8125\n",
            "epoch - 1000 (66%) train loss - 0.22 test loss - 0.59 Test accuracy - 0.8125\n"
          ],
          "name": "stdout"
        }
      ]
    },
    {
      "cell_type": "code",
      "metadata": {
        "colab": {
          "base_uri": "https://localhost:8080/"
        },
        "id": "jCOgeQ3I-T3D",
        "outputId": "b50a7ab6-fca4-471b-86c6-041305679f1b"
      },
      "source": [
        "# model 4\n",
        "net = Net(1000, 'tanh')\n",
        "net"
      ],
      "execution_count": null,
      "outputs": [
        {
          "output_type": "execute_result",
          "data": {
            "text/plain": [
              "Net(\n",
              "  (fc1): Linear(in_features=5, out_features=1000, bias=True)\n",
              "  (fc2): Linear(in_features=1000, out_features=1000, bias=True)\n",
              "  (fc3): Linear(in_features=1000, out_features=3, bias=True)\n",
              ")"
            ]
          },
          "metadata": {
            "tags": []
          },
          "execution_count": 50
        }
      ]
    },
    {
      "cell_type": "code",
      "metadata": {
        "colab": {
          "base_uri": "https://localhost:8080/"
        },
        "id": "ov5oTSQZ73wT",
        "outputId": "6b43c81b-fda1-4fe7-b80c-93dd7de14307"
      },
      "source": [
        "result_1000_tanh = train_and_eval_model(net)"
      ],
      "execution_count": null,
      "outputs": [
        {
          "output_type": "stream",
          "text": [
            "epoch - 100 (6%) train loss - 0.33 test loss - 0.51 Test accuracy - 0.8125\n",
            "epoch - 200 (13%) train loss - 0.13 test loss - 0.66 Test accuracy - 0.8000\n",
            "epoch - 300 (20%) train loss - 0.04 test loss - 0.86 Test accuracy - 0.8000\n",
            "epoch - 400 (26%) train loss - 0.01 test loss - 1.03 Test accuracy - 0.8000\n",
            "epoch - 500 (33%) train loss - 0.01 test loss - 1.14 Test accuracy - 0.8000\n",
            "epoch - 600 (40%) train loss - 0.00 test loss - 1.23 Test accuracy - 0.8125\n",
            "epoch - 700 (46%) train loss - 0.00 test loss - 1.29 Test accuracy - 0.8125\n",
            "epoch - 800 (53%) train loss - 0.00 test loss - 1.35 Test accuracy - 0.8125\n",
            "epoch - 900 (60%) train loss - 0.00 test loss - 1.39 Test accuracy - 0.8125\n",
            "epoch - 1000 (66%) train loss - 0.00 test loss - 1.43 Test accuracy - 0.8125\n"
          ],
          "name": "stdout"
        }
      ]
    },
    {
      "cell_type": "code",
      "metadata": {
        "colab": {
          "base_uri": "https://localhost:8080/"
        },
        "id": "eL2unsht731C",
        "outputId": "8fa1ee72-f0c5-467d-da07-595212397da0"
      },
      "source": [
        "# model 5\n",
        "net = Net(1000, 'tanh', True)\n",
        "net"
      ],
      "execution_count": null,
      "outputs": [
        {
          "output_type": "execute_result",
          "data": {
            "text/plain": [
              "Net(\n",
              "  (fc1): Linear(in_features=5, out_features=1000, bias=True)\n",
              "  (fc2): Linear(in_features=1000, out_features=1000, bias=True)\n",
              "  (fc3): Linear(in_features=1000, out_features=3, bias=True)\n",
              "  (dropout): Dropout(p=0.2, inplace=False)\n",
              ")"
            ]
          },
          "metadata": {
            "tags": []
          },
          "execution_count": 52
        }
      ]
    },
    {
      "cell_type": "code",
      "metadata": {
        "colab": {
          "base_uri": "https://localhost:8080/"
        },
        "id": "ZXbKt5c-737q",
        "outputId": "706cacef-df73-49d4-8e4c-01ca02ea75be"
      },
      "source": [
        "result_1000_tanh_d = train_and_eval_model(net)"
      ],
      "execution_count": null,
      "outputs": [
        {
          "output_type": "stream",
          "text": [
            "epoch - 100 (6%) train loss - 0.34 test loss - 0.52 Test accuracy - 0.8000\n",
            "epoch - 200 (13%) train loss - 0.19 test loss - 0.65 Test accuracy - 0.8125\n",
            "epoch - 300 (20%) train loss - 0.09 test loss - 0.85 Test accuracy - 0.7875\n",
            "epoch - 400 (26%) train loss - 0.04 test loss - 0.96 Test accuracy - 0.8000\n",
            "epoch - 500 (33%) train loss - 0.02 test loss - 1.15 Test accuracy - 0.8000\n",
            "epoch - 600 (40%) train loss - 0.01 test loss - 1.25 Test accuracy - 0.7875\n",
            "epoch - 700 (46%) train loss - 0.01 test loss - 1.32 Test accuracy - 0.8000\n",
            "epoch - 800 (53%) train loss - 0.01 test loss - 1.39 Test accuracy - 0.7875\n",
            "epoch - 900 (60%) train loss - 0.00 test loss - 1.45 Test accuracy - 0.8000\n",
            "epoch - 1000 (66%) train loss - 0.00 test loss - 1.48 Test accuracy - 0.8000\n"
          ],
          "name": "stdout"
        }
      ]
    },
    {
      "cell_type": "code",
      "metadata": {
        "colab": {
          "base_uri": "https://localhost:8080/"
        },
        "id": "XiB8XjNc615s",
        "outputId": "601ae692-6a3d-48ca-b838-94582ff712c9"
      },
      "source": [
        "# model 6\n",
        "net =Net(100, 'sigmoid')\n",
        "net"
      ],
      "execution_count": null,
      "outputs": [
        {
          "output_type": "execute_result",
          "data": {
            "text/plain": [
              "Net(\n",
              "  (fc1): Linear(in_features=5, out_features=100, bias=True)\n",
              "  (fc2): Linear(in_features=100, out_features=100, bias=True)\n",
              "  (fc3): Linear(in_features=100, out_features=3, bias=True)\n",
              ")"
            ]
          },
          "metadata": {
            "tags": []
          },
          "execution_count": 54
        }
      ]
    },
    {
      "cell_type": "code",
      "metadata": {
        "colab": {
          "base_uri": "https://localhost:8080/"
        },
        "id": "DukS9k6Jh7UJ",
        "outputId": "3ee81878-3e6e-4990-bfaf-92d14a87d44f"
      },
      "source": [
        "result_100_sig = train_and_eval_model(net)"
      ],
      "execution_count": null,
      "outputs": [
        {
          "output_type": "stream",
          "text": [
            "epoch - 100 (6%) train loss - 0.49 test loss - 0.56 Test accuracy - 0.7750\n",
            "epoch - 200 (13%) train loss - 0.43 test loss - 0.55 Test accuracy - 0.7750\n",
            "epoch - 300 (20%) train loss - 0.41 test loss - 0.54 Test accuracy - 0.7625\n",
            "epoch - 400 (26%) train loss - 0.40 test loss - 0.54 Test accuracy - 0.8000\n",
            "epoch - 500 (33%) train loss - 0.39 test loss - 0.54 Test accuracy - 0.8000\n",
            "epoch - 600 (40%) train loss - 0.39 test loss - 0.54 Test accuracy - 0.8000\n",
            "epoch - 700 (46%) train loss - 0.38 test loss - 0.55 Test accuracy - 0.7875\n",
            "epoch - 800 (53%) train loss - 0.38 test loss - 0.55 Test accuracy - 0.7875\n",
            "epoch - 900 (60%) train loss - 0.38 test loss - 0.56 Test accuracy - 0.7875\n",
            "epoch - 1000 (66%) train loss - 0.37 test loss - 0.56 Test accuracy - 0.7875\n"
          ],
          "name": "stdout"
        }
      ]
    },
    {
      "cell_type": "code",
      "metadata": {
        "colab": {
          "base_uri": "https://localhost:8080/"
        },
        "id": "RKooTv0gh7aS",
        "outputId": "3d1fb681-1123-470c-d18a-7af5a16c155b"
      },
      "source": [
        "# model 7\n",
        "net = Net(100, 'relu')\n",
        "net"
      ],
      "execution_count": null,
      "outputs": [
        {
          "output_type": "execute_result",
          "data": {
            "text/plain": [
              "Net(\n",
              "  (fc1): Linear(in_features=5, out_features=100, bias=True)\n",
              "  (fc2): Linear(in_features=100, out_features=100, bias=True)\n",
              "  (fc3): Linear(in_features=100, out_features=3, bias=True)\n",
              ")"
            ]
          },
          "metadata": {
            "tags": []
          },
          "execution_count": 56
        }
      ]
    },
    {
      "cell_type": "code",
      "metadata": {
        "colab": {
          "base_uri": "https://localhost:8080/"
        },
        "id": "2zUBdOCzh7jb",
        "outputId": "fdca89d6-3c20-412c-889c-b52486a9dc3d"
      },
      "source": [
        "result_100_relu = train_and_eval_model(net)"
      ],
      "execution_count": null,
      "outputs": [
        {
          "output_type": "stream",
          "text": [
            "epoch - 100 (6%) train loss - 0.36 test loss - 0.52 Test accuracy - 0.8000\n",
            "epoch - 200 (13%) train loss - 0.30 test loss - 0.51 Test accuracy - 0.8125\n",
            "epoch - 300 (20%) train loss - 0.22 test loss - 0.55 Test accuracy - 0.7875\n",
            "epoch - 400 (26%) train loss - 0.13 test loss - 0.69 Test accuracy - 0.7500\n",
            "epoch - 500 (33%) train loss - 0.08 test loss - 0.89 Test accuracy - 0.7625\n",
            "epoch - 600 (40%) train loss - 0.04 test loss - 1.08 Test accuracy - 0.7500\n",
            "epoch - 700 (46%) train loss - 0.03 test loss - 1.24 Test accuracy - 0.7500\n",
            "epoch - 800 (53%) train loss - 0.02 test loss - 1.37 Test accuracy - 0.7500\n",
            "epoch - 900 (60%) train loss - 0.01 test loss - 1.47 Test accuracy - 0.7500\n",
            "epoch - 1000 (66%) train loss - 0.01 test loss - 1.58 Test accuracy - 0.7625\n"
          ],
          "name": "stdout"
        }
      ]
    },
    {
      "cell_type": "code",
      "metadata": {
        "colab": {
          "base_uri": "https://localhost:8080/"
        },
        "id": "Jt_g3ocAh7so",
        "outputId": "47845547-ca16-4ede-9acb-3afa674a0853"
      },
      "source": [
        "# model 8 \n",
        "net = Net(50, 'relu', True)\n",
        "net"
      ],
      "execution_count": null,
      "outputs": [
        {
          "output_type": "execute_result",
          "data": {
            "text/plain": [
              "Net(\n",
              "  (fc1): Linear(in_features=5, out_features=50, bias=True)\n",
              "  (fc2): Linear(in_features=50, out_features=50, bias=True)\n",
              "  (fc3): Linear(in_features=50, out_features=3, bias=True)\n",
              "  (dropout): Dropout(p=0.2, inplace=False)\n",
              ")"
            ]
          },
          "metadata": {
            "tags": []
          },
          "execution_count": 58
        }
      ]
    },
    {
      "cell_type": "code",
      "metadata": {
        "colab": {
          "base_uri": "https://localhost:8080/"
        },
        "id": "sdhiEs0DifQT",
        "outputId": "6327c39c-4703-4f6c-c4e0-ef3453f923ad"
      },
      "source": [
        "result_50_relu_d = train_and_eval_model(net)"
      ],
      "execution_count": null,
      "outputs": [
        {
          "output_type": "stream",
          "text": [
            "epoch - 100 (6%) train loss - 0.44 test loss - 0.51 Test accuracy - 0.7625\n",
            "epoch - 200 (13%) train loss - 0.39 test loss - 0.52 Test accuracy - 0.7875\n",
            "epoch - 300 (20%) train loss - 0.36 test loss - 0.53 Test accuracy - 0.7875\n",
            "epoch - 400 (26%) train loss - 0.33 test loss - 0.53 Test accuracy - 0.7875\n",
            "epoch - 500 (33%) train loss - 0.29 test loss - 0.54 Test accuracy - 0.7750\n",
            "epoch - 600 (40%) train loss - 0.28 test loss - 0.55 Test accuracy - 0.7875\n",
            "epoch - 700 (46%) train loss - 0.24 test loss - 0.55 Test accuracy - 0.7750\n",
            "epoch - 800 (53%) train loss - 0.23 test loss - 0.58 Test accuracy - 0.7750\n",
            "epoch - 900 (60%) train loss - 0.20 test loss - 0.59 Test accuracy - 0.7750\n",
            "epoch - 1000 (66%) train loss - 0.18 test loss - 0.62 Test accuracy - 0.7750\n"
          ],
          "name": "stdout"
        }
      ]
    },
    {
      "cell_type": "code",
      "metadata": {
        "id": "f95LefQBifem"
      },
      "source": [
        "# create a pd dataframe with the info we had recorded in the epoch data list\n",
        "result_model = result_50_tanh"
      ],
      "execution_count": null,
      "outputs": []
    },
    {
      "cell_type": "code",
      "metadata": {
        "id": "ee0ZWAhWiflW"
      },
      "source": [
        "df_epochs_data = pd.DataFrame(result_model['epoch_data'], \n",
        "                              columns=[\"epoch\", \"train_loss\", \"test_loss\", \"accuracy\"])"
      ],
      "execution_count": null,
      "outputs": []
    },
    {
      "cell_type": "code",
      "metadata": {
        "id": "XPzrqs2DifsU"
      },
      "source": [
        "import matplotlib.pyplot as plt"
      ],
      "execution_count": null,
      "outputs": []
    },
    {
      "cell_type": "code",
      "metadata": {
        "colab": {
          "base_uri": "https://localhost:8080/",
          "height": 432
        },
        "id": "TsRZtJ0D62B_",
        "outputId": "f3c1c89f-09fe-4274-ce1d-34a4b8c1a718"
      },
      "source": [
        "f, (ax1, ax2) = plt.subplots(1, 2, figsize=(12, 8))\n",
        "\n",
        "df_epochs_data[[\"train_loss\", \"test_loss\"]].plot(ax=ax1)\n",
        "df_epochs_data[[\"accuracy\"]].plot(ax=ax2)\n",
        "\n",
        "plt.ylim(bottom = 0.5)\n",
        "\n",
        "plt.show()"
      ],
      "execution_count": null,
      "outputs": [
        {
          "output_type": "display_data",
          "data": {
            "image/png": "[encoded data removed]",
            "text/plain": [
              "<Figure size 864x576 with 2 Axes>"
            ]
          },
          "metadata": {
            "tags": [],
            "needs_background": "light"
          }
        }
      ]
    },
    {
      "cell_type": "code",
      "metadata": {
        "id": "JDd4Lxhh62Y5"
      },
      "source": [
        ""
      ],
      "execution_count": null,
      "outputs": []
    },
    {
      "cell_type": "code",
      "metadata": {
        "id": "WkPoC46n6LSk"
      },
      "source": [
        ""
      ],
      "execution_count": null,
      "outputs": []
    },
    {
      "cell_type": "code",
      "metadata": {
        "id": "q7R1dsTP6LX2"
      },
      "source": [
        ""
      ],
      "execution_count": null,
      "outputs": []
    },
    {
      "cell_type": "code",
      "metadata": {
        "id": "Wvb9ov_36Lib"
      },
      "source": [
        ""
      ],
      "execution_count": null,
      "outputs": []
    },
    {
      "cell_type": "code",
      "metadata": {
        "id": "NL4U1o8z6LoB"
      },
      "source": [
        ""
      ],
      "execution_count": null,
      "outputs": []
    },
    {
      "cell_type": "code",
      "metadata": {
        "id": "0RNhWqjP6Lsx"
      },
      "source": [
        ""
      ],
      "execution_count": null,
      "outputs": []
    },
    {
      "cell_type": "code",
      "metadata": {
        "id": "iYiIBLwDDQA1"
      },
      "source": [
        ""
      ],
      "execution_count": null,
      "outputs": []
    },
    {
      "cell_type": "code",
      "metadata": {
        "id": "nGFwXs_PDQKZ"
      },
      "source": [
        ""
      ],
      "execution_count": null,
      "outputs": []
    },
    {
      "cell_type": "code",
      "metadata": {
        "id": "2jwPH846CAqn"
      },
      "source": [
        ""
      ],
      "execution_count": null,
      "outputs": []
    },
    {
      "cell_type": "code",
      "metadata": {
        "id": "SOCDRkA6CAxs"
      },
      "source": [
        ""
      ],
      "execution_count": null,
      "outputs": []
    },
    {
      "cell_type": "code",
      "metadata": {
        "id": "CiyfPQdPCA8X"
      },
      "source": [
        ""
      ],
      "execution_count": null,
      "outputs": []
    },
    {
      "cell_type": "code",
      "metadata": {
        "id": "u6g_McciCBE2"
      },
      "source": [
        ""
      ],
      "execution_count": null,
      "outputs": []
    },
    {
      "cell_type": "code",
      "metadata": {
        "id": "MF0G9Nt3r6CP"
      },
      "source": [
        ""
      ],
      "execution_count": null,
      "outputs": []
    },
    {
      "cell_type": "code",
      "metadata": {
        "id": "8vIbPceEr6IV"
      },
      "source": [
        ""
      ],
      "execution_count": null,
      "outputs": []
    },
    {
      "cell_type": "code",
      "metadata": {
        "id": "Tiu2qc3Tr6Qm"
      },
      "source": [
        ""
      ],
      "execution_count": null,
      "outputs": []
    },
    {
      "cell_type": "code",
      "metadata": {
        "id": "SlahrVo4r6XI"
      },
      "source": [
        ""
      ],
      "execution_count": null,
      "outputs": []
    },
    {
      "cell_type": "code",
      "metadata": {
        "id": "J5Xwvnwzr6i2"
      },
      "source": [
        ""
      ],
      "execution_count": null,
      "outputs": []
    },
    {
      "cell_type": "code",
      "metadata": {
        "id": "3_lWGMKvr6pk"
      },
      "source": [
        ""
      ],
      "execution_count": null,
      "outputs": []
    },
    {
      "cell_type": "code",
      "metadata": {
        "id": "S0piXdror6vS"
      },
      "source": [
        ""
      ],
      "execution_count": null,
      "outputs": []
    },
    {
      "cell_type": "code",
      "metadata": {
        "id": "2qQFqhhybsuX"
      },
      "source": [
        ""
      ],
      "execution_count": null,
      "outputs": []
    },
    {
      "cell_type": "code",
      "metadata": {
        "id": "HID5as9f9mzK"
      },
      "source": [
        ""
      ],
      "execution_count": null,
      "outputs": []
    },
    {
      "cell_type": "code",
      "metadata": {
        "id": "_S4Cwvla8JbI"
      },
      "source": [
        ""
      ],
      "execution_count": null,
      "outputs": []
    },
    {
      "cell_type": "code",
      "metadata": {
        "id": "nUTvEoUi79TI"
      },
      "source": [
        ""
      ],
      "execution_count": null,
      "outputs": []
    },
    {
      "cell_type": "code",
      "metadata": {
        "id": "yVB7Mqyy3jY7"
      },
      "source": [
        ""
      ],
      "execution_count": null,
      "outputs": []
    },
    {
      "cell_type": "code",
      "metadata": {
        "id": "CidMvEoy3jrH"
      },
      "source": [
        ""
      ],
      "execution_count": null,
      "outputs": []
    },
    {
      "cell_type": "code",
      "metadata": {
        "id": "J9wEuoDJ3kCk"
      },
      "source": [
        ""
      ],
      "execution_count": null,
      "outputs": []
    },
    {
      "cell_type": "code",
      "metadata": {
        "id": "wqdLok8A186r"
      },
      "source": [
        ""
      ],
      "execution_count": null,
      "outputs": []
    },
    {
      "cell_type": "code",
      "metadata": {
        "id": "Z5baBdrzyNZ0"
      },
      "source": [
        ""
      ],
      "execution_count": null,
      "outputs": []
    },
    {
      "cell_type": "code",
      "metadata": {
        "id": "GC4_D1f6x6Pm"
      },
      "source": [
        ""
      ],
      "execution_count": null,
      "outputs": []
    },
    {
      "cell_type": "code",
      "metadata": {
        "id": "MxW5GOHAx6aO"
      },
      "source": [
        ""
      ],
      "execution_count": null,
      "outputs": []
    },
    {
      "cell_type": "code",
      "metadata": {
        "id": "YlS7D6Kex6ht"
      },
      "source": [
        ""
      ],
      "execution_count": null,
      "outputs": []
    },
    {
      "cell_type": "code",
      "metadata": {
        "id": "EI9zv5Imx6s0"
      },
      "source": [
        ""
      ],
      "execution_count": null,
      "outputs": []
    },
    {
      "cell_type": "code",
      "metadata": {
        "id": "ZPqlOdC1HVju"
      },
      "source": [
        ""
      ],
      "execution_count": null,
      "outputs": []
    },
    {
      "cell_type": "code",
      "metadata": {
        "id": "6EzBqGkGHVo0"
      },
      "source": [
        ""
      ],
      "execution_count": null,
      "outputs": []
    },
    {
      "cell_type": "code",
      "metadata": {
        "id": "3B_vRgcnHVuB"
      },
      "source": [
        ""
      ],
      "execution_count": null,
      "outputs": []
    },
    {
      "cell_type": "code",
      "metadata": {
        "id": "EP4uILlKHV1S"
      },
      "source": [
        ""
      ],
      "execution_count": null,
      "outputs": []
    },
    {
      "cell_type": "code",
      "metadata": {
        "id": "W2ZkJVaMHV_K"
      },
      "source": [
        ""
      ],
      "execution_count": null,
      "outputs": []
    },
    {
      "cell_type": "code",
      "metadata": {
        "id": "58-KtABmGWRn"
      },
      "source": [
        ""
      ],
      "execution_count": null,
      "outputs": []
    },
    {
      "cell_type": "code",
      "metadata": {
        "id": "sKlv7dcrGWYb"
      },
      "source": [
        ""
      ],
      "execution_count": null,
      "outputs": []
    },
    {
      "cell_type": "code",
      "metadata": {
        "id": "nG_Nfxg4GWhv"
      },
      "source": [
        ""
      ],
      "execution_count": null,
      "outputs": []
    },
    {
      "cell_type": "code",
      "metadata": {
        "id": "fgzbxu6fGWoj"
      },
      "source": [
        ""
      ],
      "execution_count": null,
      "outputs": []
    },
    {
      "cell_type": "code",
      "metadata": {
        "id": "LzrIqbGdEaSG"
      },
      "source": [
        ""
      ],
      "execution_count": null,
      "outputs": []
    },
    {
      "cell_type": "code",
      "metadata": {
        "id": "8aFU2sYTEaei"
      },
      "source": [
        ""
      ],
      "execution_count": null,
      "outputs": []
    },
    {
      "cell_type": "code",
      "metadata": {
        "id": "X53PpVPREamN"
      },
      "source": [
        ""
      ],
      "execution_count": null,
      "outputs": []
    },
    {
      "cell_type": "code",
      "metadata": {
        "id": "jyYHJbbzEauj"
      },
      "source": [
        ""
      ],
      "execution_count": null,
      "outputs": []
    },
    {
      "cell_type": "code",
      "metadata": {
        "id": "m3EOOzzcGyOr"
      },
      "source": [
        ""
      ],
      "execution_count": null,
      "outputs": []
    },
    {
      "cell_type": "code",
      "metadata": {
        "id": "YoXCeeT9GySB"
      },
      "source": [
        ""
      ],
      "execution_count": null,
      "outputs": []
    },
    {
      "cell_type": "code",
      "metadata": {
        "id": "F0HATHSEGyU0"
      },
      "source": [
        ""
      ],
      "execution_count": null,
      "outputs": []
    },
    {
      "cell_type": "code",
      "metadata": {
        "id": "hxcwSe8MGyXe"
      },
      "source": [
        ""
      ],
      "execution_count": null,
      "outputs": []
    },
    {
      "cell_type": "code",
      "metadata": {
        "id": "B5rtZQyWGybg"
      },
      "source": [
        ""
      ],
      "execution_count": null,
      "outputs": []
    },
    {
      "cell_type": "code",
      "metadata": {
        "id": "M2ca9xlIXHGR"
      },
      "source": [
        ""
      ],
      "execution_count": null,
      "outputs": []
    }
  ]
}